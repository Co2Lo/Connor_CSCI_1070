{
 "cells": [
  {
   "cell_type": "markdown",
   "metadata": {},
   "source": [
    "# Object-Oriented Programming\n",
    "1.) Encapsulation = Bundling attributes and methods into a class (the class encapsulates, or hides all of it, when you call it)\n",
    "\n",
    "2.) Abstraction = When you have class that defines lotta instances and wanna give broadly applicable method, that's abstraction"
   ]
  },
  {
   "cell_type": "code",
   "execution_count": null,
   "metadata": {},
   "outputs": [],
   "source": [
    "from abc import ABC, abstractmethod\n",
    "\n",
    "class Shape(ABC):\n",
    "    @abstractmethod\n",
    "    def area(self):\n",
    "        pass\n",
    "\n",
    "class Circle(Shape):\n",
    "    def __init__(self, radius):\n",
    "        self.radius = radius\n",
    "\n",
    "    def area(self):\n",
    "        return 3.14 * self.radius ** 2"
   ]
  },
  {
   "cell_type": "markdown",
   "metadata": {},
   "source": [
    "3.) Inheritance = Class borrowing traits from other class"
   ]
  },
  {
   "cell_type": "code",
   "execution_count": null,
   "metadata": {},
   "outputs": [],
   "source": [
    "class Animal:\n",
    "    def speak(self):\n",
    "        print(\"Animal speaks\")\n",
    "\n",
    "class Dog(Animal):\n",
    "    def bark(self):\n",
    "        print(\"Dog barks\") # Dog borrows speak() from Animal"
   ]
  },
  {
   "cell_type": "markdown",
   "metadata": {},
   "source": [
    "4.) Polymorphism = Treating different objects in same way (if have same methods)"
   ]
  },
  {
   "cell_type": "code",
   "execution_count": null,
   "metadata": {},
   "outputs": [],
   "source": [
    "class Animal:\n",
    "    def speak(self):\n",
    "        pass\n",
    "\n",
    "class Dog(Animal):\n",
    "    def speak(self):\n",
    "        print(\"Dog barks\")\n",
    "\n",
    "class Cat(Animal):\n",
    "    def speak(self):\n",
    "        print(\"Cat meows\")\n",
    "\n",
    "def make_animal_speak(animal):\n",
    "    animal.speak()\n",
    "\n",
    "dog = Dog()\n",
    "cat = Cat()\n",
    "\n",
    "make_animal_speak(dog)  # Output: Dog barks\n",
    "make_animal_speak(cat)  # Output: Cat meows"
   ]
  },
  {
   "cell_type": "markdown",
   "metadata": {},
   "source": [
    "# .gitignore\n",
    "Your repo ignores all things specified inside file (ex; .exe files, anything in \"/vendor files)"
   ]
  },
  {
   "cell_type": "markdown",
   "metadata": {},
   "source": [
    "# Interpreter\n",
    "Thing that takes all your code, translates into computer language, tells computer to run, and raises errors if your code is wack"
   ]
  },
  {
   "cell_type": "markdown",
   "metadata": {},
   "source": [
    "# Scope\n",
    "- Avoid name collisions\n",
    "- (L)ocal = Only available to code in its nest\n",
    "- (E)nclosing = Nesting functions, code from outer nests available to inner.\n",
    "- (G)lobal = Available to all your code\n",
    "- (B)uilt-in = All code inherent to Python"
   ]
  },
  {
   "cell_type": "code",
   "execution_count": null,
   "metadata": {},
   "outputs": [],
   "source": [
    "# Global:\n",
    "global_var = \"I am global\"\n",
    "\n",
    "def my_function():\n",
    "    # Local:\n",
    "    local_var = \"I am local\"\n",
    "    print(local_var)  # Accessing local\n",
    "\n",
    "        # An inner function here could access local... enclosing.\n",
    "\n",
    "    # Accessing global\n",
    "    print(global_var)\n",
    "\n",
    "    # Accessing built-in\n",
    "    print(len(\"Hello\"))  # 'len' is built-in\n",
    "\n",
    "# Accessing built-in function\n",
    "print(max(3, 5))  # 'max' is a built-in function"
   ]
  },
  {
   "cell_type": "markdown",
   "metadata": {},
   "source": [
    "# Python List\n",
    "- my_list = [1, a, 3.2]\n",
    "- Add / remove / slice stuff\n",
    "- Store different types\n",
    "- Slower computation, especially when big\n",
    "\n",
    "# NumPy Array\n",
    "- np.array([1, 2, 3, 4, 5])\n",
    "- FIXED size\n",
    "- Same data type\n",
    "- Fast computation"
   ]
  },
  {
   "cell_type": "markdown",
   "metadata": {},
   "source": [
    "# Data Types:\n",
    "int = Whole numbers (e.g., 5, -3)\n",
    "\n",
    "float = Decimals (3.14, -0.5)\n",
    "\n",
    "bool = True/False\n",
    "\n",
    "str = Test (\"hello\", 'python')\n",
    "\n",
    "list = Ordered collection ([1, 2, 2])\n",
    "\n",
    "tuple = IMMUTABLE list ((1, 2, 2))\n",
    "\n",
    "dict = Collection of key-value pairs ({'name': 'John', 'age': 30})\n",
    "\n",
    "set = unordered, list ALL UNIQUE items ({'apple', 'banana'})\n",
    "\n",
    "none = NaN"
   ]
  },
  {
   "cell_type": "markdown",
   "metadata": {},
   "source": [
    "# Class:"
   ]
  },
  {
   "cell_type": "code",
   "execution_count": null,
   "metadata": {},
   "outputs": [],
   "source": [
    "# Declaration\n",
    "class Dog:\n",
    "    pass\n",
    "\n",
    "# Attribute = var defining entire class\n",
    "class Dog:\n",
    "    species = \"Canine\"\n",
    "\n",
    "# Method = func entire class can do\n",
    "class Dog:\n",
    "    def bark(self):\n",
    "        return \"Woof!\"\n",
    "    \n",
    "# Instance = custom version of class\n",
    "my_dog = Dog()\n",
    "print(my_dog.species)  # Output: Canine\n",
    "print(my_dog.bark())  # Output: Woof!\n",
    "\n",
    "# Initialization = Class expects inputs for each instance, to further define it\n",
    "class Dog:\n",
    "    def __init__(self, name, age):\n",
    "        self.name = name\n",
    "        self.age = age\n",
    "\n",
    "my_dog = Dog(\"Buddy\", 3)\n",
    "print(my_dog.name)  # Output: Buddy\n",
    "print(my_dog.age)   # Output: 3"
   ]
  },
  {
   "cell_type": "markdown",
   "metadata": {},
   "source": [
    "# Truthiness\n",
    "1. Falsy = Bool evaluates as \"False\" (ex; False, None, [], {}, \"\", set(), 0, 0.0)\n",
    "2. Truthy = Bool evaluates as \"True\" (ex; everything else)"
   ]
  },
  {
   "cell_type": "code",
   "execution_count": null,
   "metadata": {},
   "outputs": [],
   "source": [
    "if 1:\n",
    "    print(\"1 is truthy\")  # Output: 1 is truthy\n",
    "\n",
    "if \"hello\":\n",
    "    print(\"hello is truthy\")  # Output: hello is truthy\n",
    "\n",
    "if 0:\n",
    "    print(\"0 is truthy\")\n",
    "else:\n",
    "    print(\"0 is falsy\")  # Output: 0 is falsy\n",
    "\n",
    "if []:\n",
    "    print(\"Empty list is truthy\")\n",
    "else:\n",
    "    print(\"Empty list is falsy\")  # Output: Empty list is falsy"
   ]
  },
  {
   "cell_type": "markdown",
   "metadata": {},
   "source": [
    "# Central Tendency\n",
    "- Mean \n",
    "- Median (less affected by outliers)\n",
    "- Mode (also)\n",
    "- Quartiles = data split 4 parts, 1.5*Q3 = outlier cutoff\n",
    "- Standard deviation\n",
    "\n",
    "\n",
    "Symmetrical = Mean / Median / Mode (on top of one another)\n",
    "\n",
    "Positive skew = Mode --> Median --> Mean (dragged right)\n",
    "\n",
    "Negative skew = Mean --> Median --> Mode (dragged left)\n",
    "- Replace null values with the mean when data is normally distributed    /    with median when data is skewed"
   ]
  },
  {
   "cell_type": "markdown",
   "metadata": {},
   "source": [
    "# Correlation Coeffecient\n",
    "\n",
    "1. Correlation Coefficient = r\n",
    "   - r = 1 = perfect positive\n",
    "   - r = -1 = perfect negative\n",
    "   - r = 0 = NUN\n",
    "\n",
    "2. Coefficient of Determination = r^2\n",
    "   - Amount of variance in predictions from actual\n",
    "   - r^2 = 0 = NONE of variability in dependent explained\n",
    "   - r^2 = 1 = ALL variability in dependent explained"
   ]
  },
  {
   "cell_type": "markdown",
   "metadata": {},
   "source": [
    "# Random Variables\n",
    "Discrete = Variable exact, whole number\n",
    "\n",
    "Continuous = Could keep gettin fractional w it\n",
    "\n",
    "Probability Density Function (PDF) = Probability variable will fall in CONTINUOUS range\n",
    "\n",
    "Cumulative Distribution Function (CDF) = Probability variable less than or equal to certain value\n",
    "\n",
    "Normal Distribution = Bell Curve\n",
    "- Central Limit Theorem = Take buncha diff samples and combine their graphs and it'll eventually ^\n",
    "- Law of Large Nums = Take buncha diff samples and avg their means and it'll be pop mean\n",
    "\n",
    "Random State / Randseed = Computer chooses one of infinite \"random\" generations to calculate with"
   ]
  },
  {
   "cell_type": "markdown",
   "metadata": {},
   "source": [
    "# Scales of Measurement\n",
    "- Nominal = No order no meaning (ex; eye color / diff fruits)\n",
    "- Ordinal = Order meaning (ex; 1, 2, 3, 4 / A, B, C, D, F)\n",
    "- Interval = Order no true 0 (ex; temperatures)\n",
    "- Ratio = Order true 0 (ex; height, weight)"
   ]
  },
  {
   "cell_type": "markdown",
   "metadata": {},
   "source": [
    "# St(andar)din(put) and St(andar)dout(put)\n",
    "1. However computer expects info for program (ex; keyboard, reading files)\n",
    "2. Wherever it runs / displays program (ex; monitor, writing onto files)"
   ]
  },
  {
   "cell_type": "markdown",
   "metadata": {},
   "source": [
    "# Cleaning\n",
    "\n",
    "- Handling Missing Values - ex; df['age'].fillna(df['age'].mean(), inplace=True) fills missing age values with the mean age.\n",
    "- Removing Duplicates - ex; df.drop_duplicates(inplace=True) removes duplicate rows from the DataFrame\n",
    "- Handling Outliers - ex; upper_threshold = df['income'].quantile(0.99) calculates 99th percentile of income as cutoff\n",
    "- Standardizing Data - ex; df['date'] = df['date'].map(lambda x: x.strftime('%Y-%m-%d')) converts dates to the YYYY-MM-DD\n",
    "- Correcting Inconsistent Values - ex; df['gender'].replace({'M': 'Male', 'F': 'Female'}, inplace=True) replaces 'M' with 'Male' and 'F' with 'Female' in ['gender']\n",
    "- Normalization and Scaling - ex; scaler = MinMaxScaler(); df[['age', 'income']] = scaler.fit_transform(df[['age', 'income']]) scales age and income to 0 --> 1 range\n",
    "- Feature Engineering - ex; df['day_of_week'] = df['date'].apply(lambda x: x.day_name()) extracts day of the week from ['date']\n",
    "- Handling Irrelevant Features - ex; df.drop(['unnecessary_column'], axis=1, inplace=True) drops 'unnecessary_column' from DataFrame\n",
    "- Data Transformation - ex; df['log_income'] = df['income'].apply(np.log) computes nat logs of income column\n",
    "- Documenting Changes - ex; separate doc or file detailing data cleaning steps taken / why"
   ]
  },
  {
   "cell_type": "markdown",
   "metadata": {},
   "source": [
    "# Preprocessing\n",
    "\n",
    "1.) pd.read_csv('file')\n",
    "\n",
    "2.) Clean data (above)"
   ]
  },
  {
   "cell_type": "code",
   "execution_count": null,
   "metadata": {},
   "outputs": [],
   "source": [
    "# 3.) Scale data:\n",
    "scaler = StandardScaler()\n",
    "data[['feature1', 'feature2']] = scaler.fit_transform(data[['feature1', 'feature2']])\n",
    "\n",
    "# 4.) Feature encoding\n",
    "label_encoder = LabelEncoder()\n",
    "data['category_encoded'] = label_encoder.fit_transform(data['category'])\n",
    "\n",
    "# 5.) Train-test-split (select features CAREFULLY)\n",
    "X = data.drop('target', axis=1)\n",
    "y = data['target']\n",
    "X_train, X_test, y_train, y_test = train_test_split(X, y, test_size = 0.2, random_state = 42)"
   ]
  },
  {
   "cell_type": "markdown",
   "metadata": {},
   "source": [
    "# Machine Learning\n",
    "Models based on data, to predict similar, unknown data\n",
    "\n",
    "Supervised = Computer given data to test against\n",
    "- Classification (ex; diagnosing, image IDing)\n",
    "- Regression (ex; life expectancy, weather forecasting)\n",
    "\n",
    "Unsupervised = No test, free\n",
    "- Dimensionality Reduction (ex; big data visualization)\n",
    "- Clustering (ex; targeted marketing / customer segmentation)\n",
    "\n",
    "Reinforcement = Testish, real-time rewards\n",
    "- ex; that one F1 racing track vid\n",
    "\n",
    "Cross-Validation = Basically just \"test\" part, could take many forms\n",
    "- One split\n",
    "- \"k\" number of different splits\n",
    "- Each datapoint is its own split ?\n",
    "\n",
    "Feature Selection = Choosing inputs that predict output the best\n",
    "- Use Confusion/Correlation matrix to see r\n",
    "- DON'T take features correlated strongly with e/o (confounding)"
   ]
  },
  {
   "cell_type": "markdown",
   "metadata": {},
   "source": [
    "# Over/underfitting\n",
    "Overfitting = TOO good for one dataset, bad for others\n",
    "- Predicts patterns of OG, not indicators\n",
    "- Too many features, remove them\n",
    "\n",
    "Underfitting = bad, generally\n",
    "- Add features\n",
    "- Train on more data"
   ]
  },
  {
   "cell_type": "markdown",
   "metadata": {},
   "source": [
    "# Complete Separation:\n",
    "One variable perfectly predicts the outcome nm what (eg; under this age will always buy toy)\n",
    "- Indicated by extremes / infinite effect by one var on prediction\n",
    "- Usually w/ small data / rly obvious connection (car type predicting having car at all)\n",
    "- Increase sample size / random forests (lotsa random decision trees w diff splits)"
   ]
  },
  {
   "cell_type": "markdown",
   "metadata": {},
   "source": [
    "# Accuracy, Precision, Recall, ConfusionMatrix\n",
    "True Positive = Had cancer, diagnosed\n",
    "\n",
    "True Negative = No cancer, not diagnosed\n",
    "\n",
    "False Positive = No cancer, diagnosed\n",
    "\n",
    "False Negative = Had cancer, not diagnosed\n",
    "- Accuracy = Correct Predictions / All Predictions = (TP + TN) / (All)\n",
    "- Precision = Correct Yes Predictions / All Yes Predictions = (TP) / (TP + FP)\n",
    "- Recall = Correct Yes Predictions / All Yes Actual = (TP) / (TP + FN)\n",
    "\n",
    "ConfusionMatrix:\n",
    "\n",
    "____Guess No:________Guess Yes:\n",
    "\n",
    "All No: TN________________FP\n",
    "\n",
    "All Yes: FN________________TP"
   ]
  },
  {
   "cell_type": "markdown",
   "metadata": {},
   "source": [
    "# KNN:\n",
    "- Predicts class based on that of nearest neighbors' (classification) OR avg value (regression)\n",
    "- Accuracy (correct predictions / all)\n",
    "\n",
    "# Linear Regression:\n",
    "- Inputs and outputs, y = mx + b, continuous data\n",
    "- R^2, how much is y variance explained by x\n",
    "- Root mean squared error = how far predicted from actual, on avg\n",
    "\n",
    "# Logistic Regression:\n",
    "- Inputs and outputs, BINARY outcomes\n",
    "- Accuracy (bc ^)"
   ]
  },
  {
   "cell_type": "markdown",
   "metadata": {},
   "source": []
  }
 ],
 "metadata": {
  "language_info": {
   "name": "python"
  }
 },
 "nbformat": 4,
 "nbformat_minor": 2
}
