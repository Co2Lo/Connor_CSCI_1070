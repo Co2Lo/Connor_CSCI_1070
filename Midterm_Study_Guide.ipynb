{
 "cells": [
  {
   "cell_type": "markdown",
   "metadata": {},
   "source": [
    "# .gitignore\n",
    "Your repo ignores all things specified inside file (ex; .exe files, anything in \"/vendor files)"
   ]
  },
  {
   "cell_type": "markdown",
   "metadata": {},
   "source": [
    "# Interpreter\n",
    "Thing that takes all your code, translates into computer language, tells computer to run, and raises errors if your code is wack"
   ]
  },
  {
   "cell_type": "markdown",
   "metadata": {},
   "source": [
    "# Scope\n",
    "- Avoid name collisions\n",
    "- (L)ocal = Only available to code in its nest\n",
    "- (E)nclosing = Nesting functions, code from outer nests available to inner.\n",
    "- (G)lobal = Available to all your code\n",
    "- (B)uilt-in = All code inherent to Python"
   ]
  },
  {
   "cell_type": "code",
   "execution_count": null,
   "metadata": {},
   "outputs": [],
   "source": [
    "# Global:\n",
    "global_var = \"I am global\"\n",
    "\n",
    "def my_function():\n",
    "    # Local:\n",
    "    local_var = \"I am local\"\n",
    "    print(local_var)  # Accessing local\n",
    "\n",
    "        # An inner function here could access local... enclosing.\n",
    "\n",
    "    # Accessing global\n",
    "    print(global_var)\n",
    "\n",
    "    # Accessing built-in\n",
    "    print(len(\"Hello\"))  # 'len' is built-in\n",
    "\n",
    "# Accessing built-in function\n",
    "print(max(3, 5))  # 'max' is a built-in function"
   ]
  },
  {
   "cell_type": "markdown",
   "metadata": {},
   "source": [
    "# Python List\n",
    "- my_list = [1, a, 3.2]\n",
    "- Add / remove / slice stuff\n",
    "- Store different types\n",
    "- Slower computation, especially when big\n",
    "\n",
    "# NumPy Array\n",
    "- np.array([1, 2, 3, 4, 5])\n",
    "- FIXED size\n",
    "- Same data type\n",
    "- Fast computation"
   ]
  },
  {
   "cell_type": "markdown",
   "metadata": {},
   "source": [
    "# Data Types:\n",
    "int = Whole numbers (e.g., 5, -3)\n",
    "\n",
    "float = Decimals (3.14, -0.5)\n",
    "\n",
    "bool = True/False\n",
    "\n",
    "str = Test (\"hello\", 'python')\n",
    "\n",
    "list = Ordered collection ([1, 2, 2])\n",
    "\n",
    "tuple = IMMUTABLE list ((1, 2, 2))\n",
    "\n",
    "dict = Collection of key-value pairs ({'name': 'John', 'age': 30})\n",
    "\n",
    "set = unordered, list ALL UNIQUE items ({'apple', 'banana'})\n",
    "\n",
    "none = NaN"
   ]
  },
  {
   "cell_type": "markdown",
   "metadata": {},
   "source": [
    "# Class:"
   ]
  },
  {
   "cell_type": "code",
   "execution_count": null,
   "metadata": {},
   "outputs": [],
   "source": [
    "# Declaration\n",
    "class Dog:\n",
    "    pass\n",
    "\n",
    "# Attribute = var defining entire class\n",
    "class Dog:\n",
    "    species = \"Canine\"\n",
    "\n",
    "# Method = func entire class can do\n",
    "class Dog:\n",
    "    def bark(self):\n",
    "        return \"Woof!\"\n",
    "    \n",
    "# Instance = custom version of class\n",
    "my_dog = Dog()\n",
    "print(my_dog.species)  # Output: Canine\n",
    "print(my_dog.bark())  # Output: Woof!\n",
    "\n",
    "# Initialization = Class expects inputs for each instance, to further define it\n",
    "class Dog:\n",
    "    def __init__(self, name, age):\n",
    "        self.name = name\n",
    "        self.age = age\n",
    "\n",
    "my_dog = Dog(\"Buddy\", 3)\n",
    "print(my_dog.name)  # Output: Buddy\n",
    "print(my_dog.age)   # Output: 3"
   ]
  },
  {
   "cell_type": "markdown",
   "metadata": {},
   "source": [
    "# Truthiness\n",
    "1. Falsy = Bool evaluates as \"False\" (ex; False, None, [], {}, \"\", set(), 0, 0.0)\n",
    "2. Truthy = Bool evaluates as \"True\" (ex; everything else)"
   ]
  },
  {
   "cell_type": "code",
   "execution_count": null,
   "metadata": {},
   "outputs": [],
   "source": [
    "if 1:\n",
    "    print(\"1 is truthy\")  # Output: 1 is truthy\n",
    "\n",
    "if \"hello\":\n",
    "    print(\"hello is truthy\")  # Output: hello is truthy\n",
    "\n",
    "if 0:\n",
    "    print(\"0 is truthy\")\n",
    "else:\n",
    "    print(\"0 is falsy\")  # Output: 0 is falsy\n",
    "\n",
    "if []:\n",
    "    print(\"Empty list is truthy\")\n",
    "else:\n",
    "    print(\"Empty list is falsy\")  # Output: Empty list is falsy"
   ]
  },
  {
   "cell_type": "markdown",
   "metadata": {},
   "source": [
    "# Central Tendency\n",
    "- Mean \n",
    "- Median (less affected by outliers)\n",
    "- Mode (also)\n",
    "- Quartiles = data split 4 parts, 1.5*Q3 = outlier cutoff\n",
    "- Standard deviation\n",
    "\n",
    "\n",
    "Symmetrical = Mean / Median / Mode (on top of one another)\n",
    "\n",
    "Positive skew = Mode --> Median --> Mean (dragged right)\n",
    "\n",
    "Negative skew = Mean --> Median --> Mode (dragged left)\n",
    "- Replace null values with the mean when data is normally distributed    /    with median when data is skewed"
   ]
  },
  {
   "cell_type": "markdown",
   "metadata": {},
   "source": [
    "# Correlation Coeffecient\n",
    "\n",
    "1. Correlation Coefficient = r\n",
    "   - r = 1 = perfect positive\n",
    "   - r = -1 = perfect negative\n",
    "   - r = 0 = NUN\n",
    "\n",
    "2. Coefficient of Determination = r^2\n",
    "   - Amount of variance in predictions from actual\n",
    "   - r^2 = 0 = NONE of variability in dependent explained\n",
    "   - r^2 = 1 = ALL variability in dependent explained"
   ]
  },
  {
   "cell_type": "markdown",
   "metadata": {},
   "source": [
    "# Random Variables\n",
    "Discrete = Variable exact, whole number\n",
    "\n",
    "Continuous = Could keep gettin fractional w it\n",
    "\n",
    "Probability Density Function (PDF) = Probability variable will fall in CONTINUOUS range\n",
    "\n",
    "Cumulative Distribution Function (CDF) = Probability variable less than or equal to certain value\n",
    "\n",
    "Normal Distribution = Bell Curve\n",
    "- Central Limit Theorem = Take buncha diff samples and combine their graphs and it'll eventually ^\n",
    "- Law of Large Nums = Take buncha diff samples and avg their means and it'll be pop mean\n",
    "\n",
    "Random State / Randseed = Computer chooses one of infinite \"random\" generations to calculate with"
   ]
  },
  {
   "cell_type": "markdown",
   "metadata": {},
   "source": [
    "# Scales of Measurement\n",
    "- Nominal = No order no meaning (ex; eye color / diff fruits)\n",
    "- Ordinal = Order meaning (ex; 1, 2, 3, 4 / A, B, C, D, F)\n",
    "- Interval = Order no true 0 (ex; temperatures)\n",
    "- Ratio = Order true 0 (ex; height, weight)"
   ]
  },
  {
   "cell_type": "markdown",
   "metadata": {},
   "source": [
    "# St(andar)din(put) and St(andar)dout(put)\n",
    "1. Computer expected input (ex; keyboard, reading files)\n",
    "2. However you expect to see program results (ex; monitor, writing onto files)"
   ]
  },
  {
   "cell_type": "markdown",
   "metadata": {},
   "source": []
  }
 ],
 "metadata": {
  "language_info": {
   "name": "python"
  }
 },
 "nbformat": 4,
 "nbformat_minor": 2
}
