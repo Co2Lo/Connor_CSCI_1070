{
 "cells": [
  {
   "cell_type": "markdown",
   "metadata": {},
   "source": [
    "# Assignment 4 - Data Cleansing and Visualization "
   ]
  },
  {
   "cell_type": "markdown",
   "metadata": {},
   "source": [
    "1.) Import and clean the attached CSCI_1070_survey_results.csv Download CSCI_1070_survey_results.csv about your classmates using Python (pandas)"
   ]
  },
  {
   "cell_type": "code",
   "execution_count": 2,
   "metadata": {},
   "outputs": [
    {
     "name": "stderr",
     "output_type": "stream",
     "text": [
      "/var/folders/jq/xzwg3k5d0nqb3574ynkvzc740000gn/T/ipykernel_9988/1331066332.py:1: DeprecationWarning: \n",
      "Pyarrow will become a required dependency of pandas in the next major release of pandas (pandas 3.0),\n",
      "(to allow more performant data types, such as the Arrow string type, and better interoperability with other libraries)\n",
      "but was not found to be installed on your system.\n",
      "If this would cause problems for you,\n",
      "please provide us feedback at https://github.com/pandas-dev/pandas/issues/54466\n",
      "        \n",
      "  import pandas as pd\n"
     ]
    }
   ],
   "source": [
    "import pandas as pd\n",
    "import numpy as np\n",
    "\n",
    "survey_df = pd.read_csv('CSCI_1070_survey_results-2.csv')"
   ]
  },
  {
   "cell_type": "markdown",
   "metadata": {},
   "source": [
    "1a.) Standardize the names of places where everyone is from"
   ]
  },
  {
   "cell_type": "code",
   "execution_count": 23,
   "metadata": {},
   "outputs": [
    {
     "data": {
      "text/plain": [
       "0              USA\n",
       "1              USA\n",
       "2              USA\n",
       "3              USA\n",
       "4              USA\n",
       "5              USA\n",
       "6              USA\n",
       "7     Saudi Arabia\n",
       "8              USA\n",
       "9            India\n",
       "10             USA\n",
       "11             USA\n",
       "12             USA\n",
       "13             USA\n",
       "14             USA\n",
       "15             USA\n",
       "16             USA\n",
       "17             USA\n",
       "18           Libya\n",
       "19             USA\n",
       "Name: birth_countries_standardized, dtype: object"
      ]
     },
     "execution_count": 23,
     "metadata": {},
     "output_type": "execute_result"
    }
   ],
   "source": [
    "survey_df['birth_countries_standardized'] = np.where(survey_df['What state/country were you born in?'].str.contains('Libya'), 'Libya',\n",
    "                                            np.where(survey_df['What state/country were you born in?'].str.contains('India'), 'India',\n",
    "                                                     np.where(survey_df['What state/country were you born in?'].str.contains('Saudi Arabia'), 'Saudi Arabia','USA')))\n",
    "survey_df['birth_countries_standardized']"
   ]
  },
  {
   "cell_type": "markdown",
   "metadata": {},
   "source": [
    "1b.) Standardize the pets in some way (this one will be tricky)"
   ]
  },
  {
   "cell_type": "code",
   "execution_count": 22,
   "metadata": {},
   "outputs": [
    {
     "data": {
      "text/plain": [
       "0                 I have two dogs both chihuahua mixes.\n",
       "1                                                     0\n",
       "2     I have two golden retrievers, Ellie and Amber....\n",
       "3                                                     0\n",
       "4                                                     0\n",
       "5                                                     0\n",
       "6                                                     0\n",
       "7                                                     0\n",
       "8                                                     0\n",
       "9                                                     0\n",
       "10                       We have a Husky named Maverick\n",
       "11                                                    0\n",
       "12                            2 miniature daschund dogs\n",
       "13                                                    0\n",
       "14                                           1 Maincoon\n",
       "15                                                    0\n",
       "16                                                    0\n",
       "17                                                    0\n",
       "18                                    2 cats and 1 dog \n",
       "19                                                    0\n",
       "Name: pets_standardized, dtype: object"
      ]
     },
     "execution_count": 22,
     "metadata": {},
     "output_type": "execute_result"
    }
   ],
   "source": [
    "survey_df['pets_standardized'] = np.where(survey_df['How many pets and of which kind do you have?'].str.contains('None'), '0',\n",
    "                                          np.where(survey_df['How many pets and of which kind do you have?'].str.contains('No'), '0',\n",
    "                                                   np.where(survey_df['How many pets and of which kind do you have?'].str.contains('none'), '0',\n",
    "                                                            np.where(survey_df['How many pets and of which kind do you have?'].str.contains('0'), '0',\n",
    "                                                                     np.where(survey_df['How many pets and of which kind do you have?'].str.contains('passed'), '0',\n",
    "                                                                              survey_df['How many pets and of which kind do you have?'])))))\n",
    "survey_df['pets_standardized']"
   ]
  },
  {
   "cell_type": "markdown",
   "metadata": {},
   "source": [
    "1c.) Standardize the favorite food in some way (this one will also be tricky) "
   ]
  },
  {
   "cell_type": "code",
   "execution_count": 29,
   "metadata": {},
   "outputs": [
    {
     "data": {
      "text/plain": [
       "0                                           Pasta\n",
       "1                                       Hot wings\n",
       "2                                        Mexican.\n",
       "3                                      Vietnamese\n",
       "4                                           Pasta\n",
       "5                                          injera\n",
       "6                                           Pasta\n",
       "7                                          Kabsa \n",
       "8                                    Gambian Food\n",
       "9                                         Italian\n",
       "10    some sort of steak, probably a filet mignon\n",
       "11                          Burgers (blue cheese)\n",
       "12                                grilled chicken\n",
       "13                                          Pasta\n",
       "14                                         salmon\n",
       "15                        I don't have a favorite\n",
       "16                                          Pasta\n",
       "17                           mexican/middleastern\n",
       "18                                       Brownies\n",
       "19                                 Pizza or Steak\n",
       "Name: food_standardized, dtype: object"
      ]
     },
     "execution_count": 29,
     "metadata": {},
     "output_type": "execute_result"
    }
   ],
   "source": [
    "survey_df['food_standardized'] = np.where(survey_df['What is your favorite type of food?'] == 'pasta', 'Pasta',\n",
    "                                          np.where(survey_df['What is your favorite type of food?'] == 'PASTAAAAA', 'Pasta',\n",
    "                                                   np.where(survey_df['What is your favorite type of food?'].str.contains('Pasta'), 'Pasta',\n",
    "                                                            survey_df['What is your favorite type of food?'])))\n",
    "survey_df['food_standardized']"
   ]
  },
  {
   "cell_type": "markdown",
   "metadata": {},
   "source": [
    "1d.) Standardize the majors"
   ]
  },
  {
   "cell_type": "code",
   "execution_count": 44,
   "metadata": {},
   "outputs": [
    {
     "data": {
      "text/plain": [
       "0                                          Data Science\n",
       "1                                               Nursing\n",
       "2                                 Economics and Finance\n",
       "3                                          Biochemistry\n",
       "4                                       Health Sciences\n",
       "5                                      Computer Science\n",
       "6                                      Computer Science\n",
       "7     Criminology and Criminal Justice and I am plan...\n",
       "8                                      Computer Science\n",
       "9                                               Finance\n",
       "10                                          Mathematics\n",
       "11                   International Business (Graduated)\n",
       "12                                     Computer Science\n",
       "13                                     Computer Science\n",
       "14                                         Data Science\n",
       "15                                     Forensic Science\n",
       "16                                     Computer Science\n",
       "17                                         Data Science\n",
       "18                                     Computer Science\n",
       "19                                     Computer Science\n",
       "Name: majors_standardized, dtype: object"
      ]
     },
     "execution_count": 44,
     "metadata": {},
     "output_type": "execute_result"
    }
   ],
   "source": [
    "survey_df['majors_standardized'] = np.where(survey_df['What is your major?'].str.contains('omp'), 'Computer Science',\n",
    "                                            np.where(survey_df['What is your major?'] == 'CS', 'Computer Science',\n",
    "                                                     np.where(survey_df['What is your major?'] == 'Data Science ', 'Data Science',\n",
    "                                                              np.where(survey_df['What is your major?'] == 'data science', 'Data Science',\n",
    "                                                                       survey_df['What is your major?'].str.replace('.', '')))))\n",
    "\n",
    "survey_df['majors_standardized']"
   ]
  },
  {
   "cell_type": "markdown",
   "metadata": {},
   "source": [
    "1e.) Standardize the ages"
   ]
  },
  {
   "cell_type": "code",
   "execution_count": 50,
   "metadata": {},
   "outputs": [
    {
     "data": {
      "text/plain": [
       "0     18\n",
       "1     19\n",
       "2     19\n",
       "3     18\n",
       "4     18\n",
       "5     19\n",
       "6     18\n",
       "7     19\n",
       "8     18\n",
       "9     21\n",
       "10    19\n",
       "11    22\n",
       "12    18\n",
       "13    19\n",
       "14    20\n",
       "15    18\n",
       "16    21\n",
       "17    19\n",
       "18    18\n",
       "19    18\n",
       "Name: ages_standardized, dtype: object"
      ]
     },
     "execution_count": 50,
     "metadata": {},
     "output_type": "execute_result"
    }
   ],
   "source": [
    "survey_df['ages_standardized'] = np.where(survey_df['How old are you?'].str.contains('19'), '19',\n",
    "                                          np.where(survey_df['How old are you?'].str.contains('18'), '18', \n",
    "                                                   survey_df['How old are you?']))\n",
    "survey_df['ages_standardized']"
   ]
  },
  {
   "cell_type": "markdown",
   "metadata": {},
   "source": [
    "2.) Create 5 matplotlib or pandas visuals that represent the data. You must use at least 3 different types of visuals (pie chart, scatter plot, histogram, etc) and use proper labeling of axis and data. Write a sentence about what each visual shows about the students in the class."
   ]
  },
  {
   "cell_type": "code",
   "execution_count": 55,
   "metadata": {},
   "outputs": [
    {
     "ename": "AttributeError",
     "evalue": "module 'matplotlib' has no attribute 'scatter'",
     "output_type": "error",
     "traceback": [
      "\u001b[0;31m---------------------------------------------------------------------------\u001b[0m",
      "\u001b[0;31mAttributeError\u001b[0m                            Traceback (most recent call last)",
      "Cell \u001b[0;32mIn[55], line 10\u001b[0m\n\u001b[1;32m      7\u001b[0m     plt\u001b[38;5;241m.\u001b[39mtitle(\u001b[38;5;124m'\u001b[39m\u001b[38;5;124mScatter Plot of Standardized Ages\u001b[39m\u001b[38;5;124m'\u001b[39m)\n\u001b[1;32m      8\u001b[0m     plt\u001b[38;5;241m.\u001b[39mshow(\u001b[38;5;124m'\u001b[39m\u001b[38;5;124mScatter Plot of Standardized Ages\u001b[39m\u001b[38;5;124m'\u001b[39m)\n\u001b[0;32m---> 10\u001b[0m \u001b[43mcreate_scatter_plot\u001b[49m\u001b[43m(\u001b[49m\u001b[38;5;124;43m'\u001b[39;49m\u001b[38;5;124;43mAges\u001b[39;49m\u001b[38;5;124;43m'\u001b[39;49m\u001b[43m)\u001b[49m\n",
      "Cell \u001b[0;32mIn[55], line 4\u001b[0m, in \u001b[0;36mcreate_scatter_plot\u001b[0;34m(survey_df, x_label, y_label)\u001b[0m\n\u001b[1;32m      3\u001b[0m \u001b[38;5;28;01mdef\u001b[39;00m \u001b[38;5;21mcreate_scatter_plot\u001b[39m(survey_df, x_label \u001b[38;5;241m=\u001b[39m \u001b[38;5;124m'\u001b[39m\u001b[38;5;124mStudent Number\u001b[39m\u001b[38;5;124m'\u001b[39m, y_label \u001b[38;5;241m=\u001b[39m \u001b[38;5;124m'\u001b[39m\u001b[38;5;124mAge\u001b[39m\u001b[38;5;124m'\u001b[39m):\n\u001b[0;32m----> 4\u001b[0m     \u001b[43mplt\u001b[49m\u001b[38;5;241;43m.\u001b[39;49m\u001b[43mscatter\u001b[49m(\u001b[38;5;28mrange\u001b[39m(\u001b[38;5;28mlen\u001b[39m(data)), data)\n\u001b[1;32m      5\u001b[0m     plt\u001b[38;5;241m.\u001b[39mxlabel(x_label)\n\u001b[1;32m      6\u001b[0m     plt\u001b[38;5;241m.\u001b[39mylabel(y_label)\n",
      "File \u001b[0;32m~/Library/Python/3.9/lib/python/site-packages/matplotlib/_api/__init__.py:217\u001b[0m, in \u001b[0;36mcaching_module_getattr.<locals>.__getattr__\u001b[0;34m(name)\u001b[0m\n\u001b[1;32m    215\u001b[0m \u001b[38;5;28;01mif\u001b[39;00m name \u001b[38;5;129;01min\u001b[39;00m props:\n\u001b[1;32m    216\u001b[0m     \u001b[38;5;28;01mreturn\u001b[39;00m props[name]\u001b[38;5;241m.\u001b[39m\u001b[38;5;21m__get__\u001b[39m(instance)\n\u001b[0;32m--> 217\u001b[0m \u001b[38;5;28;01mraise\u001b[39;00m \u001b[38;5;167;01mAttributeError\u001b[39;00m(\n\u001b[1;32m    218\u001b[0m     \u001b[38;5;124mf\u001b[39m\u001b[38;5;124m\"\u001b[39m\u001b[38;5;124mmodule \u001b[39m\u001b[38;5;132;01m{\u001b[39;00m\u001b[38;5;28mcls\u001b[39m\u001b[38;5;241m.\u001b[39m\u001b[38;5;18m__module__\u001b[39m\u001b[38;5;132;01m!r}\u001b[39;00m\u001b[38;5;124m has no attribute \u001b[39m\u001b[38;5;132;01m{\u001b[39;00mname\u001b[38;5;132;01m!r}\u001b[39;00m\u001b[38;5;124m\"\u001b[39m)\n",
      "\u001b[0;31mAttributeError\u001b[0m: module 'matplotlib' has no attribute 'scatter'"
     ]
    }
   ],
   "source": [
    "import matplotlib as plt\n",
    "\n",
    "def create_scatter_plot(survey_df, x_label = 'Student Number', y_label = 'Age'):\n",
    "    plt.scatter(range(len(data)), data)\n",
    "    plt.xlabel(x_label)\n",
    "    plt.ylabel(y_label)\n",
    "    plt.title('Scatter Plot of Standardized Ages')\n",
    "    plt.show('Scatter Plot of Standardized Ages')\n",
    "\n",
    "create_scatter_plot('Ages')"
   ]
  },
  {
   "cell_type": "code",
   "execution_count": null,
   "metadata": {},
   "outputs": [],
   "source": []
  }
 ],
 "metadata": {
  "kernelspec": {
   "display_name": "Python 3",
   "language": "python",
   "name": "python3"
  },
  "language_info": {
   "codemirror_mode": {
    "name": "ipython",
    "version": 3
   },
   "file_extension": ".py",
   "mimetype": "text/x-python",
   "name": "python",
   "nbconvert_exporter": "python",
   "pygments_lexer": "ipython3",
   "version": "3.9.6"
  }
 },
 "nbformat": 4,
 "nbformat_minor": 2
}
