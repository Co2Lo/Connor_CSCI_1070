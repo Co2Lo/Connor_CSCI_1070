{
 "cells": [
  {
   "cell_type": "code",
   "execution_count": null,
   "id": "7c7ff0c7-046b-4953-8db1-2e83dce8eb9a",
   "metadata": {},
   "outputs": [],
   "source": [
    "# CHAPTER 1 + 2 TEXTBOOK NOTES"
   ]
  },
  {
   "cell_type": "code",
   "execution_count": null,
   "id": "ef49b709-eaa9-4237-b2d5-4d8f95beab0f",
   "metadata": {},
   "outputs": [],
   "source": [
    "# WHITESPACE FORMATTING:\n",
    "\n",
    "# Python uses identation to start/end code, instead of brackets\n",
    "for i in [1, 2, 3]:\n",
    "    print(i)                  # first line in \"for i\" block\n",
    "    for j in [1, 2, 3]:       \n",
    "        print(j)              # first line in \"for j\" block\n",
    "        print (i+j)           # last line \"for j\" block\n",
    "    print(i)                  # last line \"for i\" block\n",
    "\n",
    "# ...so be VERY careful for code, but inside brackets python ignores it:\n",
    "list = [[1, 2, 3], [4, 5, 6]]\n",
    "easier_to_read_list = [[1, 2, 3],\n",
    "                       [4, 5, 6]]\n",
    "\n",
    "# You can also use backslash to indicate statement continues:\n",
    "hi = 2 + \\\n",
    "     3\n",
    "\n",
    "# Jupyter has a nice \"paste%\" option so pasted-in text formats correctly"
   ]
  },
  {
   "cell_type": "code",
   "execution_count": null,
   "id": "713c65e6-6966-4760-bd0a-ba729c507e1f",
   "metadata": {},
   "outputs": [],
   "source": [
    "# MODULES:\n",
    "\n",
    "# You alr saw most of what you need to know, BUT be sure to <import math as math2>\n",
    "# if you've already used \"math\" in code, or if u just wanna make it easier to type.\n",
    "\n",
    "# Also, NEVER\n",
    "<import ___ *>\n",
    "# ...you'll overwrite previous versions of that code"
   ]
  },
  {
   "cell_type": "code",
   "execution_count": null,
   "id": "7a40c7e6-bf50-4287-976a-c0c2a3977907",
   "metadata": {},
   "outputs": [],
   "source": [
    "# FUNCTIONS:\n",
    "\n",
    "# These are \"first-class\" commands that take an input and produce an ouput.\n",
    "# <def> means define, <return> means \"do that\".\n",
    "def double(x)\n",
    "    \"\"You can explain what the function does here, \n",
    "    eg; this one multiples the input by 2.\"\"\n",
    "    return x * 2\n",
    "\n",
    "def apply_to_one(f)\n",
    "    \"Calls the function f with 1 as its argument.\"\n",
    "    return f(1)\n",
    "\n",
    "my_double = double\n",
    "x = apply_to_one(my_double) # is equal to 2.\n",
    "\n",
    "# You can also make short functions, called \"lambdas\".\n",
    "y = apply_to_one(lambda x: x + 4) # is equal to 5.\n",
    "\n",
    "def my_print(message = \"my default message\")\n",
    "    print(message)\n",
    "\n",
    "my_print(\"hello\") # prints 'hello'.\n",
    "my_print( ) # prints 'my default message'.\n",
    "\n",
    "# Basically, whatever you put in that first <def> <return> will be\n",
    "# a placeholder is nothing else is specified.\n",
    "def full_name(first = \"What's his name\", last = \"Something\")\n",
    "    return first + \" \" + last\n",
    "\n",
    "full_name(\"Joel\", \"Grus\") # \"Joel Grus\". Those quotes are from <return>.\n",
    "full_name(\"Joel\") # \"Joel Something\"."
   ]
  },
  {
   "cell_type": "code",
   "execution_count": null,
   "id": "f83027e9-5b0c-428e-b8e4-49b6dbb001ed",
   "metadata": {},
   "outputs": [],
   "source": [
    "# STRINGS:\n",
    "\n",
    "# These guys can be:\n",
    "single_quoted_string = 'hello'\n",
    "double_quoted_string = \"hello\"\n",
    "\n",
    "# </> is used to encode special characters:\n",
    "tab_string = \"\\t\" # represents tab character.\n",
    "len(tab_string) # is 1.\n",
    "\n",
    "# But if you backslashes to be themselves, use <r\" \"> for raw string.\n",
    "not_tab_string = r\"\\t\" # represents \"/\" and \"t\".\n",
    "len(not_tab_string) # is 2.\n",
    "\n",
    "# If you want to make a multiline string, use \"\"\" \"\"\".\n",
    "\"\"\"First line\n",
    "second line\n",
    "third line.\"\"\"\n",
    "\n",
    "# Use the f-string <f> to combine strings.\n",
    "first_name = \"Joel\"\n",
    "last_name = \"Grus\"\n",
    "full_name = f\"{first_name} {last_name}\""
   ]
  },
  {
   "cell_type": "code",
   "execution_count": null,
   "id": "3a0d5cc4-7174-4708-b851-7cfc48d06f2c",
   "metadata": {},
   "outputs": [],
   "source": [
    "# EXCEPTIONS:\n",
    "\n",
    "# When something goes wrong, Python creates an \"exception\";\n",
    "# unhandled, they'll cause your program to crash, but you can\n",
    "# \"handle\" them by "
   ]
  }
 ],
 "metadata": {
  "kernelspec": {
   "display_name": "Python 3 (ipykernel)",
   "language": "python",
   "name": "python3"
  },
  "language_info": {
   "codemirror_mode": {
    "name": "ipython",
    "version": 3
   },
   "file_extension": ".py",
   "mimetype": "text/x-python",
   "name": "python",
   "nbconvert_exporter": "python",
   "pygments_lexer": "ipython3",
   "version": "3.12.1"
  }
 },
 "nbformat": 4,
 "nbformat_minor": 5
}
