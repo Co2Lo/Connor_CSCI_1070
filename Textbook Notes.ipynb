{
 "cells": [
  {
   "cell_type": "code",
   "execution_count": null,
   "id": "7c7ff0c7-046b-4953-8db1-2e83dce8eb9a",
   "metadata": {},
   "outputs": [],
   "source": [
    "# CHAPTER 1 + 2 TEXTBOOK NOTES\n",
    "\n",
    "# Whitespacing Formatting = Python uses "
   ]
  }
 ],
 "metadata": {
  "kernelspec": {
   "display_name": "Python 3 (ipykernel)",
   "language": "python",
   "name": "python3"
  },
  "language_info": {
   "codemirror_mode": {
    "name": "ipython",
    "version": 3
   },
   "file_extension": ".py",
   "mimetype": "text/x-python",
   "name": "python",
   "nbconvert_exporter": "python",
   "pygments_lexer": "ipython3",
   "version": "3.12.1"
  }
 },
 "nbformat": 4,
 "nbformat_minor": 5
}
