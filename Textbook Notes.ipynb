{
 "cells": [
  {
   "cell_type": "markdown",
   "id": "7ff939ea-7c5d-40fd-b11a-a901f82599ff",
   "metadata": {},
   "source": [
    "# CHAPTERS 1-2:"
   ]
  },
  {
   "cell_type": "markdown",
   "id": "41d2b087-e4b8-40d4-b2a1-b837307af050",
   "metadata": {},
   "source": [
    "# Whitespace Formatting:"
   ]
  },
  {
   "cell_type": "code",
   "execution_count": null,
   "id": "717cc4a2-8939-4197-b96f-90f05692d78b",
   "metadata": {},
   "outputs": [],
   "source": [
    "# Python uses identation to start/end code, instead of brackets\n",
    "for i in [1, 2, 3]:\n",
    "    print(i)                  # first line in \"for i\" block\n",
    "    for j in [1, 2, 3]:       \n",
    "        print(j)              # first line in \"for j\" block\n",
    "        print (i+j)           # last line \"for j\" block\n",
    "    print(i)                  # last line \"for i\" block\n",
    "\n",
    "# ...so be VERY careful for code, but inside brackets python ignores it:\n",
    "list = [[1, 2, 3], [4, 5, 6]]\n",
    "easier_to_read_list = [[1, 2, 3],\n",
    "                       [4, 5, 6]]\n",
    "\n",
    "# You can also use backslash to indicate statement continues:\n",
    "hello = 2 + \\\n",
    "        3\n",
    "\n",
    "# Jupyter has a nice \"paste%\" option so pasted-in text formats correctly"
   ]
  },
  {
   "cell_type": "markdown",
   "id": "5ddb2fb2-2dec-4dd6-bb8b-58e114a34ba4",
   "metadata": {},
   "source": [
    "# Modules:"
   ]
  },
  {
   "cell_type": "code",
   "execution_count": null,
   "id": "713c65e6-6966-4760-bd0a-ba729c507e1f",
   "metadata": {},
   "outputs": [],
   "source": [
    "# You already saw most of what you need to know, BUT be sure to <import math as math2>\n",
    "# if you've already used \"math\" in code, or if u just wanna make it easier to type.\n",
    "\n",
    "# Also, NEVER\n",
    "<import ___ *>\n",
    "# ...you'll overwrite previous versions of that code"
   ]
  },
  {
   "cell_type": "markdown",
   "id": "4e7e35d7-fa1c-40c5-98dc-6a8d726e84fa",
   "metadata": {},
   "source": [
    "# Functions:"
   ]
  },
  {
   "cell_type": "code",
   "execution_count": null,
   "id": "7a40c7e6-bf50-4287-976a-c0c2a3977907",
   "metadata": {},
   "outputs": [],
   "source": [
    "# These are \"first-class\" commands that take an input and produce an ouput.\n",
    "# <def> means define, <return> means \"do that\".\n",
    "def double(x)\n",
    "    \"\"You can explain what the function does here, \n",
    "    eg; this one multiples the input by 2.\"\"\n",
    "    return x * 2\n",
    "\n",
    "def apply_to_one(f)\n",
    "    \"Calls the function f with 1 as its argument.\"\n",
    "    return f(1)\n",
    "\n",
    "my_double = double\n",
    "x = apply_to_one(my_double) # is equal to 2.\n",
    "\n",
    "# You can also make short functions, called \"lambdas\".\n",
    "y = apply_to_one(lambda x: x + 4) # is equal to 5.\n",
    "\n",
    "def my_print(message = \"my default message\")\n",
    "    print(message)\n",
    "\n",
    "my_print(\"hello\") # prints 'hello'.\n",
    "my_print( ) # prints 'my default message'.\n",
    "\n",
    "# Basically, whatever you put in that first <def> <return> will be\n",
    "# a placeholder is nothing else is specified.\n",
    "def full_name(first = \"What's his name\", last = \"Something\")\n",
    "    return first + \" \" + last\n",
    "\n",
    "full_name(\"Joel\", \"Grus\") # \"Joel Grus\". Those quotes are from <return>.\n",
    "full_name(\"Joel\") # \"Joel Something\"."
   ]
  },
  {
   "cell_type": "markdown",
   "id": "2e5bfd63-0e21-43a5-bfa8-a8228d33584c",
   "metadata": {},
   "source": [
    "# Strings:"
   ]
  },
  {
   "cell_type": "code",
   "execution_count": null,
   "id": "f83027e9-5b0c-428e-b8e4-49b6dbb001ed",
   "metadata": {},
   "outputs": [],
   "source": [
    "# These guys can be:\n",
    "single_quoted_string = 'hello'\n",
    "double_quoted_string = \"hello\"\n",
    "\n",
    "# </> is used to encode special characters:\n",
    "tab_string = \"\\t\" # represents tab character.\n",
    "len(tab_string) # is 1.\n",
    "\n",
    "# But if you backslashes to be themselves, use <r\" \"> for raw string.\n",
    "not_tab_string = r\"\\t\" # represents \"/\" and \"t\".\n",
    "len(not_tab_string) # is 2.\n",
    "\n",
    "# If you want to make a multiline string, use \"\"\" \"\"\".\n",
    "\"\"\"First line\n",
    "second line\n",
    "third line.\"\"\"\n",
    "\n",
    "# Use the f-string <f> to combine strings.\n",
    "first_name = \"Joel\"\n",
    "last_name = \"Grus\"\n",
    "full_name = f\"{first_name} {last_name}\""
   ]
  },
  {
   "cell_type": "markdown",
   "id": "9f360270-1b43-4b82-8969-f0713b1350d9",
   "metadata": {},
   "source": [
    "# Exceptions:"
   ]
  },
  {
   "cell_type": "code",
   "execution_count": null,
   "id": "3a0d5cc4-7174-4708-b851-7cfc48d06f2c",
   "metadata": {},
   "outputs": [],
   "source": [
    "# When something goes wrong, Python creates an \"exception\";\n",
    "# unhandled, they'll cause your program to crash, but you can\n",
    "# \"handle\" them with <try> and <except>.\n",
    "\n",
    "try:\n",
    "    print(0 / 0)\n",
    "except: ZeroDivisionError:\n",
    "    print(\"cannot divide by zero\")\n",
    "\n",
    "# Long as you do this, there's no problem in using exceptions!"
   ]
  },
  {
   "cell_type": "markdown",
   "id": "40353855-f643-475b-93d8-7be84d7f1e01",
   "metadata": {},
   "source": [
    "# Lists:"
   ]
  },
  {
   "cell_type": "code",
   "execution_count": null,
   "id": "31c1f282-248b-4e7d-84da-eb999b091115",
   "metadata": {},
   "outputs": [],
   "source": [
    "# An ordered collection, like a buff array.\n",
    "integer_list = [1, 2, 3]\n",
    "heterogenous_list = [\"string\", 0.1, True]\n",
    "list_of_lists = [integer_list, hetergenous_list, []]\n",
    "\n",
    "list_length = len(integer_list) # equals 3.\n",
    "list_sum = sum(integer_list) # equals 6.\n",
    "\n",
    "# You can also get to nth element with brackets.\n",
    "x = [0, 1, 2, 3, 4, 5]\n",
    "zero = x[0] # equals 0, remember 0-indexed.\n",
    "five = x[-1] # equals 5, 'Pythonic' for last element: wraps around.\n",
    "four = x[-2] # equals 4, 'Pythonic'.\n",
    "\n",
    "# Or you can change values in list.\n",
    "x[0] = -1 # now it's [-1, 1, 2, 3, 4, 5]\n",
    "\n",
    "# You can also slice... remember that the end is non-inclusive (-1)!\n",
    "first_three = x[:3] # [-1, 1, 2]\n",
    "three_to_end = x[3:] # [3, 4, 5]\n",
    "two_to_four = x[2:5] # [2, 3, 4]\n",
    "last_three = x[-3:] # [3, 4, 5]\n",
    "without_first_or_last = x[1:-1] # [1, 2, 3, 4]\n",
    "copy_of_x = x[:] # [-1, 1, ..., 5]\n",
    "\n",
    "# You can also step (skip over).\n",
    "every_third = x[::3] # [-1, 3]\n",
    "four_to_one = x[4:1:-] # [4, 3, 2, 1] ... step every \"1\" don't do nothing\n",
    "\n",
    "# You can check for if something's included in a list with <in>.\n",
    "1 in [1, 2, 3] # True\n",
    "0 in [1, 2, 3] # False\n",
    "\n",
    "# Concatenate lists with <.extend>.\n",
    "x = [1, 2, 3]\n",
    "x.extend([4, 5, 6]) # x is now [1, 2, 3, 4, 5, 6]\n",
    "\n",
    "# Or, if you want to keep x itself but still combine:\n",
    "y = x + [4, 5, 6] # x is still [1, 2, 3], y is desired.\n",
    "\n",
    "# Unpack a list sequentially, when you know # elements inside...\n",
    "x, y = [1, 2] # x is 1, y is 2\n",
    "\n",
    "# ...or give one a <_> if you don't care about one element.\n",
    "_, x = [1, 2] # y == 2, other can be thrown away."
   ]
  },
  {
   "cell_type": "markdown",
   "id": "aa51f410-04e0-4876-952b-12acce8b689e",
   "metadata": {},
   "source": [
    "# Tuples:"
   ]
  },
  {
   "cell_type": "code",
   "execution_count": null,
   "id": "4797bf49-d345-4080-8219-d4b8a15d32cf",
   "metadata": {},
   "outputs": [],
   "source": [
    "# Are immutable lists, with a few caveats.\n",
    "# You can use parenthesis, or nothing:\n",
    "tuple = (1, 2)\n",
    "other_tuple = 1, 2\n",
    "\n",
    "# Useful to return multiple values from a function:\n",
    "def sum_and_product(x, y):\n",
    "    return (x + y), (x * y)\n",
    "\n",
    "sp = sum_and_product(5, 6) # sp is (11, 30)\n",
    "s, p = sum_and_product(5, 6) # s is 11, p is 30\n",
    "\n",
    "# Useful for multiple assignments:\n",
    "x, y = 1, 2\n",
    "x, y = y, x # now x is 2, y is 1"
   ]
  },
  {
   "cell_type": "markdown",
   "id": "db66c68f-49e7-49d3-86a2-f0207dc9b47e",
   "metadata": {},
   "source": [
    "# Dictionaries:"
   ]
  },
  {
   "cell_type": "code",
   "execution_count": null,
   "id": "474ca1c1-6d30-4ebc-8709-ddfde9dfb5ad",
   "metadata": {},
   "outputs": [],
   "source": [
    "# Links \"values\" and \"keys\" so you can retrieve each quickly.\n",
    "grades = {\"Joel\": 80, \"Tim\": 98}\n",
    "joels_grade = grades[\"Joel\"] # is 80.\n",
    "\n",
    "# Check for key existence using <in>.\n",
    "joel_has_grade = \"Joel\" in grades # True\n",
    "tina_has_grade = \"Tina\" in grades # False\n",
    "\n",
    "# Using <.get> produces default value (0, here) if no key exists.\n",
    "joels_grade = grades.get(\"Joel\", 0) # is 80.\n",
    "tinas_grade = grades.get(\"Kate\", 0) # is 0. \n",
    "no_ones_grade = grades.get(\"No One\") # None.\n",
    "\n",
    "# You can assign key/value pairs with brackets.\n",
    "grades[\"Tim\"] = 45 # replaces old value.\n",
    "grades[\"Tina\"] = 97 # adds third entry.\n",
    "num_students = len(grades) # equals 3.\n",
    "\n",
    "# You can also comb through all keys.\n",
    "tweet = { }\n",
    "    \"user\" : \"joelgrus\",\n",
    "    \"text\" : \"Hello Bro\",\n",
    "    \"retweet_count\" : 2,\n",
    "    \"hastags : [\"greetingsbro\", \"okay\"]\n",
    "# pretend the pointy bracket is where this line begins...\n",
    "# don't know why it won't work. \n",
    "\n",
    "tweet_keys = tweet.keys() # iterable for all keys.\n",
    "tweet_values = tweet.values() # iterable for all values.\n",
    "tweet_items = tweet.items() # iterbals for (key, value) tuples.\n",
    "\n",
    "\"user\" in tweet_keys # True, not Pythonic of you.\n",
    "\"user\" in tweet # Pythonic way of checking for keys.\n",
    "\"joelgrus\" in tweet_values # True (slow, but only way to check). \n",
    "\n",
    "# You can't use lists as keys, instead use a tuple or string.\n",
    "\n",
    "# defaultdict is like reg dict, but when you look up a nonexistent key,\n",
    "# it'll create it and assign it a default value, as opposed to KeyError.\n",
    "from collections import defaultdict\n",
    "\n",
    "word_counts = defaultdict(int) # int() produces 0.\n",
    "for word in document:\n",
    "    word_counts[word] += 1\n",
    "\n",
    "dd_list = defaultdict(list) # list() produces an empty list.\n",
    "dd_list[2].append(1) # now dd_list contains {2: [1]}\n",
    "\n",
    "dd_dict = defaultdict(dict) # dict() produces an empty dict.\n",
    "dd_dict[\"Joel\"][\"City\"] = \"Seattle\" # {\"Joel\" : {\"City\": Seattle\"}}\n",
    "\n",
    "dd_pair = defaultdict(lambda: [0, 0])\n",
    "dd_pair[2][1] = 1 # now dd_pair contains {2: [0,1]}\n",
    "\n",
    "#...very useful when using dictionaries to collect results by-key,\n",
    "# but don't want to see if key exists every time."
   ]
  },
  {
   "cell_type": "markdown",
   "id": "ec05d812-2c5e-4344-b707-26fdcb227559",
   "metadata": {},
   "source": [
    "# Counters:"
   ]
  },
  {
   "cell_type": "code",
   "execution_count": null,
   "id": "33e4cc8c-9f3a-4853-9463-8c78ce8f7aa8",
   "metadata": {},
   "outputs": [],
   "source": [
    "# Basically a defaultdict which generates the number of times a key\n",
    "# crops up in an element. For example:\n",
    "from collections import Counter\n",
    "c = Counter([0, 1, 2, 0]) # c = {0: 2, 1: 1, 2: 1}\n",
    "\n",
    "# Easiest way to word count:\n",
    "word_counts = Counter(document)\n",
    "\n",
    "# ...or determine most common words, number of times they are.\n",
    "for word, count in word_counts.most_common(10):\n",
    "    print(word, count)"
   ]
  },
  {
   "cell_type": "markdown",
   "id": "66916521-ab52-427e-89a8-4ba728b953dc",
   "metadata": {},
   "source": [
    "# Sets:"
   ]
  },
  {
   "cell_type": "code",
   "execution_count": null,
   "id": "76d18bb6-921e-4cda-9124-9dacb19c61e9",
   "metadata": {},
   "outputs": [],
   "source": [
    "# A set is like a list with no repeating——distinct——elements.\n",
    "primes_below_10 = {2, 3, 5, 7}\n",
    "\n",
    "# You cannot, however, designte {} as an \"empty set\", since that's\n",
    "# the notation for an empty dict. Instead:\n",
    "s = set()\n",
    "s.add(1) # s = {1}\n",
    "s.add(2) # s = {1, 2}\n",
    "s.add(2) # s = {1, 2} (see above)\n",
    "\n",
    "# You use sets because the <in> command is very slow on lists, but not on sets:\n",
    "stopwords_list = [\"a\", \"an\", \"at\"] + lotsa_others + [\"yet\", \"zeebra\"]\n",
    "\"zip\" in stopwords_list # False, but takes forever (checks every element)\n",
    "\n",
    "stopwords_set = set(stopwords_list)\n",
    "\"zip\" in stopwords_set # False, very fast\n",
    "\n",
    "# Another reason is to reduce a list only to its distinct elements:\n",
    "item_list = [1, 2, 3, 2, 2, 3,]\n",
    "item_set = set(item_list) # {1, 2, 3}\n",
    "distinct_item_list = list(item_set)"
   ]
  },
  {
   "cell_type": "markdown",
   "id": "be4d1bd3-2fac-4194-96a6-65519ffafa6b",
   "metadata": {},
   "source": [
    "# Control Flow"
   ]
  },
  {
   "cell_type": "code",
   "execution_count": null,
   "id": "9aad3a86-b211-4fc3-b861-b06498a55f9e",
   "metadata": {},
   "outputs": [],
   "source": [
    "# Reference in-class notes for if, elif, else statements.\n",
    "\n",
    "# You can also write if-then-else on one line (ternary):\n",
    "parity = \"even\" if x % 2 == 0 else \"odd\"\n",
    "\n",
    "# <While> loop:\n",
    "x = 0\n",
    "while x < 10:\n",
    "    print(f\"{x}is less than 10\"}\n",
    "    x += 1 # Would print \"{num} is less than 10\"\n",
    "\n",
    "# <For> and <in>:\n",
    "for x in range(10):\n",
    "    print(f\"{x} is less than 10\") # Would print same as above\n",
    "\n",
    "# <Continue> allows you to add more if statements:\n",
    "for x in range(10):\n",
    "    if x == 3:\n",
    "        continue # Consider next\n",
    "    if x == 5:\n",
    "        break # Quit loop entirely (it'll stop at 5)\n",
    "    print(x) # Will only print 0, 1, 2, 4"
   ]
  },
  {
   "cell_type": "markdown",
   "id": "b7103ed3-ee05-4298-94dc-ef7d45a69917",
   "metadata": {},
   "source": [
    "# Truthiness"
   ]
  },
  {
   "cell_type": "code",
   "execution_count": 2,
   "id": "1e3a1c41-713e-4828-a160-0223bf66d33d",
   "metadata": {},
   "outputs": [],
   "source": [
    "# Booleans work as in most languages, except capitalized here:\n",
    "one_is_less_than_two = 1 < 2 # True\n",
    "true_equals_false = True == False # False\n",
    "\n",
    "# <None> indicates nonexistent value, much like \"null\":\n",
    "x = None\n",
    "assert x == None # Not very Pythonic of you\n",
    "assert x is None # Pythonic of you\n",
    "\n",
    "# Python lets you use any value that it can judge with Bool, \n",
    "# all of the following are \"falsy\":\n",
    "falsies = [False, None, [], {}, \"\", set(), 0, 0.0]\n",
    "\n",
    "# ...everything else is treated as \"True\", meaning you can use\n",
    "# <if> statements on empty lists, strings, dictionaries.\n",
    "s = function_returning_blank_string()\n",
    "if s:\n",
    "    first_character = s[0] # The first character is equal to index 0...\n",
    "else:\n",
    "    first_character = \"\" # ...otherwise it's false.\n",
    "\n",
    "# ...alternatively:\n",
    "first_char = s and s[0]\n",
    "\n",
    "# ...given <and> returns second value when truthy and first when not.\n",
    "# Similarly, if x is either a number or \"none\":\n",
    "safe_x = x or 0 # Number assured\n",
    "safe_x = x if x is not None, else 0 # Same thing\n",
    "\n",
    "# And finally, the <all> function takes an iterable and returns \"True\" when\n",
    "# every element is truthy. An <any> function returns \"True\" when at least one is.\n",
    "all([True, 1, {3}]) # True, all truthy\n",
    "all([True, 1, {}]) # False, {} falsy\n",
    "any([True, 1, {}]) # True, True truthy, as is 1\n",
    "all([]) # True, no falsy elements in list\n",
    "any([]) # False, no truthy elements in list"
   ]
  },
  {
   "cell_type": "markdown",
   "id": "1482dc26-f91a-4913-a66d-ce5df4145edd",
   "metadata": {},
   "source": [
    "# Sorting:"
   ]
  },
  {
   "cell_type": "code",
   "execution_count": 6,
   "id": "94024239-77b2-49ff-8e95-d26c640dc93d",
   "metadata": {},
   "outputs": [],
   "source": [
    "# Simple:\n",
    "x = [4, 1, 2, 3]\n",
    "y = sorted(x) # y is [1, 2, 3, 4], x unchanged\n",
    "x.sort() # now x is [1, 2, 3, 4]\n",
    "\n",
    "# Or, sort by absolute value with <abs>, largest -> smallest with <reverse=True>:\n",
    "x = sorted([-4, 1, -2, 3], key=abs, reverse=True) # [-4, 3, -2, 1]"
   ]
  },
  {
   "cell_type": "markdown",
   "id": "24971618-0238-4a31-99ed-02e3e1bbd499",
   "metadata": {},
   "source": [
    "# List Comprehensions:"
   ]
  },
  {
   "cell_type": "code",
   "execution_count": null,
   "id": "7ac7a049-29fe-4960-96a6-48fb5b743eb5",
   "metadata": {},
   "outputs": [],
   "source": [
    "# Transforming lists——making new lists of only certain elements of others\n",
    "# the Pythonic way (the Pythonic way):\n",
    "even_numbers = [x for x in range(5) if x % 2 == 0] # [0, 2, 4]\n",
    "squares = [x * x for x in range(5)] # [0, 1, 4, 9, 16]\n",
    "even_squares = [x * x for x in even_numbers] # [0, 4, 16]\n",
    "\n",
    "# Dict and set transformations (the Pythonic way):\n",
    "square_dict = {x: x * x for x in range(5)} # {0: 0, 1: 1, 2: 4, 3: 9, 4: 16}\n",
    "square_set = {x * x for x in [1, -1]} # {1} ... note it's transforming a list\n",
    "\n",
    "# <_> if you don't want it to spit out the value:\n",
    "zeros = [0 for _ in even_numbers]\n",
    "\n",
    "# You can also use multiple <fors>:\n",
    "pairs = [(x, y)\n",
    "         for x in range(10)\n",
    "         for y in range(10)] # 100 pairs (0,0) (0,1) ... (9, 8), (9, 9)\n",
    "\n",
    "# ...and <fors> can piggyback off one another:\n",
    "increasing_pairs = [(x, y)                      # x will always < y\n",
    "                    for x in range(10)          # list of nums in range(low, high)\n",
    "                    for y in range(x + 1, 10)]  # equals [lowest, lowest + 1, ...,\n",
    "                                                # highest - 2, highest - 1]."
   ]
  },
  {
   "cell_type": "markdown",
   "id": "2b7cd3d1-f8d0-471c-9802-a0e9e0cac001",
   "metadata": {},
   "source": [
    "# Automated Testing and Assert"
   ]
  },
  {
   "cell_type": "code",
   "execution_count": null,
   "id": "ed657077-26a1-4d94-8500-57d3ad135bc5",
   "metadata": {},
   "outputs": [],
   "source": [
    "# <assert> statements cause your code to raise an \"AssertionError\" if chosen\n",
    "# condition is not truthy:\n",
    "assert 1 + 1 == 2\n",
    "assert 1 + 1 == 2, \"1 + 1 equals 2, didn't here\" # Your message there\n",
    "\n",
    "# Use, use, use <assert> to confirm that functions in your code are correct.\n",
    "def smallest_item(xs):\n",
    "    return min(xs)\n",
    "\n",
    "assert smallest_item([10, 20, 5, 40]) == 5\n",
    "\n",
    "# or, to <assert> about an input to a function:\n",
    "\n",
    "def smallest_item(xs):\n",
    "    assert xs, \"empty list has no smallest item\"\n",
    "    return min(xs)"
   ]
  },
  {
   "cell_type": "markdown",
   "id": "bff87073-905f-4ff3-8318-067dad5880df",
   "metadata": {},
   "source": [
    "# Object-Oriented Programming:"
   ]
  },
  {
   "cell_type": "code",
   "execution_count": null,
   "id": "6d3667ef-a480-45b1-b94e-b60d19b36e7e",
   "metadata": {},
   "outputs": [],
   "source": [
    "# Classes encapsulate data and the functions that operate on them.\n",
    "# Let's explain it with a \"counting clicker\", like the one they use at Grand\n",
    "# while the system is down, to count the number of people swiping in.\n",
    "\n",
    "# Our clicker will maintain a \"count\", can be \"clicked\", you can \"read_count\",\n",
    "# and it can be \"reset\" back to zero.\n",
    "\n",
    "# To define a class (there has to be a capital before every word!!):\n",
    "class CountingClicker:\n",
    "    \"\"\"A class should have a docstring explaining it, like a function.\"\"\"\n",
    "\n",
    "# A class contains \"member\" functions within it, each one takes the first parameter\n",
    "# \"self\", which refers to its instance——existence at a time.\n",
    "\n",
    "# A \"constructor\" <_init_> takes whatever parameters you need to construct these\n",
    "# instances and sets them up. This <_init_> \"method name\" is also called a \"dunder\"\n",
    "# method, featuring special behaviors.\n",
    "\n",
    "def _init_(self, count = 0):\n",
    "    self.count = count         # Now, each count has an instance.\n",
    "\n",
    "# These instances occur naturally whenever you use the class name, eg;\n",
    "clicker1 = CountingClicker() # Intance when initialized to 0\n",
    "clicker2 = CountingClicker(100) # ...when count = 100\n",
    "clicker3 = CountingClicker(count=200) # (same as above, just more explicit)\n",
    "\n",
    "# Another method is <__repr__>, which creates the string representation of an class\n",
    "# instance, as seen below:\n",
    "def __repr__(self):\n",
    "    return f\"CountingClicker(count={self.count})\"\n",
    "\n",
    "# And finally, we need to make the public application progrmaming interface (API):\n",
    "\n",
    "def click(self, num_times = 1):\n",
    "    \"\"\"Click the clicker some number of times.\"\"\"\n",
    "    self.count += num_times\n",
    "\n",
    "def read(self):\n",
    "    return self.count\n",
    "\n",
    "def reset(self):\n",
    "    self.count = 0\n",
    "\n",
    "# He asserts it, I trust him.\n",
    "\n",
    "# You can now create \"subclasses\" that inherit functionality from parent class.\n",
    "# For example, you could create a non-resettable clicker:\n",
    "class NoResetClicker(CountingClicker):\n",
    "    def reset(self):\n",
    "        pass           # Now the reset method does nothing."
   ]
  },
  {
   "cell_type": "markdown",
   "id": "c83be402-c77d-464e-bb02-3e3a8c59806d",
   "metadata": {},
   "source": [
    "# Iterables and Generators:"
   ]
  },
  {
   "cell_type": "code",
   "execution_count": 7,
   "id": "acac0447-3177-40f3-b743-82f3e44cc696",
   "metadata": {},
   "outputs": [],
   "source": [
    "def generate_range(n):\n",
    "    i = 0\n",
    "    while i < n:\n",
    "        yield i  # Every call to yield produces a value of the generator\n",
    "        i += 1"
   ]
  }
 ],
 "metadata": {
  "kernelspec": {
   "display_name": "Python 3 (ipykernel)",
   "language": "python",
   "name": "python3"
  },
  "language_info": {
   "codemirror_mode": {
    "name": "ipython",
    "version": 3
   },
   "file_extension": ".py",
   "mimetype": "text/x-python",
   "name": "python",
   "nbconvert_exporter": "python",
   "pygments_lexer": "ipython3",
   "version": "3.12.1"
  }
 },
 "nbformat": 4,
 "nbformat_minor": 5
}
