{
 "cells": [
  {
   "cell_type": "markdown",
   "id": "a3fd6bb1-1261-4620-9d7e-672c9ae14ca7",
   "metadata": {},
   "source": [
    "# \"If\", \"Elif\", \"Else\" Loops:"
   ]
  },
  {
   "cell_type": "code",
   "execution_count": 8,
   "id": "f33c9ba8-8cc6-4041-a607-c40658fb0bde",
   "metadata": {},
   "outputs": [
    {
     "name": "stdout",
     "output_type": "stream",
     "text": [
      "b is greater\n"
     ]
    }
   ],
   "source": [
    "# Loops are flow control, they change how data moves thru the application.\n",
    "\n",
    "# Three types are <if>, <elif>, <else>\n",
    "# if a = b, return \"they are equal\"\n",
    "# if a > b, return \"a is greater\"\n",
    "# if a < b, return \"b is greater\"\n",
    "a = 4\n",
    "b = 7\n",
    "\n",
    "if a == b:\n",
    "    print(\"they are equal\")\n",
    "elif a > b:\n",
    "    print(\"a is greater\")\n",
    "elif a < b:\n",
    "    print(\"b is greater\")\n",
    "\n",
    "# <else> is a catch-all at the end (not seen here)"
   ]
  },
  {
   "cell_type": "markdown",
   "id": "7002d69b-265c-49a9-8a17-1ce905e0fae2",
   "metadata": {},
   "source": [
    "# \"While\" Loops:"
   ]
  },
  {
   "cell_type": "code",
   "execution_count": 12,
   "id": "eefbb6dc-e3b7-49b7-80fc-b51389fd482e",
   "metadata": {},
   "outputs": [
    {
     "name": "stdout",
     "output_type": "stream",
     "text": [
      "7\n",
      "6\n"
     ]
    }
   ],
   "source": [
    "# continously test expression until stopping condition is met\n",
    "x = 7\n",
    "while x > 5:\n",
    "    print(x) # this will run until your computer crashes, because x is always greater\n",
    "             # so decrement x until it can stop\n",
    "    x-=1     # (x = x - 1)"
   ]
  },
  {
   "cell_type": "code",
   "execution_count": 11,
   "id": "1988b27a-73f8-4b15-b735-cc492c716876",
   "metadata": {},
   "outputs": [
    {
     "name": "stdout",
     "output_type": "stream",
     "text": [
      "3\n",
      "4\n",
      "5\n",
      "6\n",
      "7\n",
      "8\n",
      "9\n"
     ]
    }
   ],
   "source": [
    "# Create a scenario where x starts at 3 and is incremeneted by 1,\n",
    "# print x while x is less than 10.\n",
    "x = 3\n",
    "while x < 10:\n",
    "    print(x)\n",
    "    x+=1"
   ]
  },
  {
   "cell_type": "markdown",
   "id": "4cf1e658-688c-47e1-a3c4-c0b96d83eb78",
   "metadata": {},
   "source": [
    "# \"For\" Loops:"
   ]
  },
  {
   "cell_type": "code",
   "execution_count": 14,
   "id": "26cb71cf-c8f8-4e23-ad52-3243aee33f38",
   "metadata": {},
   "outputs": [
    {
     "name": "stdout",
     "output_type": "stream",
     "text": [
      "['Dexter', 'John', 'Smitty']\n",
      "['Dexter', 'John', 'Smitty']\n",
      "['Dexter', 'John', 'Smitty']\n"
     ]
    }
   ],
   "source": [
    "cats = [\"Dexter\", \"John\", \"Smitty\"]\n",
    "for cat in cats:\n",
    "    print(cats)"
   ]
  },
  {
   "cell_type": "markdown",
   "id": "7912c66b-4c48-49b8-9d32-9af0f5b0d81c",
   "metadata": {},
   "source": [
    "# Range:"
   ]
  },
  {
   "cell_type": "code",
   "execution_count": 21,
   "id": "fcf8ba28-7dea-4100-885c-2d5f45047f4a",
   "metadata": {},
   "outputs": [
    {
     "name": "stdout",
     "output_type": "stream",
     "text": [
      "2\n",
      "4\n",
      "6\n",
      "8\n"
     ]
    }
   ],
   "source": [
    "# range(start,stop[,step]), the [ ] indicates step is an optional part of range\n",
    "for r in range(2,10,2):\n",
    "    print(r)"
   ]
  },
  {
   "cell_type": "markdown",
   "id": "9d762f23-5b08-4665-bf04-3472588de84c",
   "metadata": {},
   "source": [
    "# Functions:"
   ]
  },
  {
   "cell_type": "code",
   "execution_count": 1,
   "id": "23efd4d4-031a-4652-8cf3-6b38a6fe3f1a",
   "metadata": {},
   "outputs": [
    {
     "name": "stdout",
     "output_type": "stream",
     "text": [
      "b is greater\n"
     ]
    }
   ],
   "source": [
    "# Lets us encapsulate chunks of code we want to use again.\n",
    "def comparing(a,b):\n",
    "    if a == b:\n",
    "        print(\"they are equal\")\n",
    "    elif a > b:\n",
    "        print(\"a is greater\")\n",
    "    elif a < b:\n",
    "        print(\"b is greater\")\n",
    "comparing(2,5)"
   ]
  },
  {
   "cell_type": "markdown",
   "id": "8dceebec-c7f3-4e34-9ebc-d933b685b319",
   "metadata": {},
   "source": [
    "# Classes:"
   ]
  },
  {
   "cell_type": "code",
   "execution_count": 2,
   "id": "c65effad-3bcf-4558-a518-9628d9a13431",
   "metadata": {},
   "outputs": [],
   "source": [
    "# Class is like a blueprint, used to determine rules for all users.\n",
    "    # ex; Person \n",
    "\n",
    "# 1. Class methods\n",
    "    # Can modify class state (group)\n",
    "    # Can't mod object state (individual)\n",
    "    # Used for factory functions\n",
    "    # (change rules for group)\n",
    "\n",
    "# 2. Static methods\n",
    "    # Can't access class OR object state \n",
    "    # Used for utility functions\n",
    "    # (basic checks, disconnected from user (ex; over 18?))\n",
    "\n",
    "# 3. Instance methods\n",
    "    # Can modify class AND object state\n",
    "    # (change both group / individual)"
   ]
  },
  {
   "cell_type": "markdown",
   "id": "49114032-d0d4-4610-8a4b-2bf2404d75dc",
   "metadata": {},
   "source": [
    "# Scope:"
   ]
  },
  {
   "cell_type": "code",
   "execution_count": null,
   "id": "b062d27c-4898-468e-86fa-1ab023809cd6",
   "metadata": {},
   "outputs": [],
   "source": [
    "# \"LEGB\"\n",
    "\n",
    "# (L)ocal = Only available to other code in its scope (ex; functions, only have\n",
    "# access which has been put into it).\n",
    "\n",
    "# (E)nclosing = Nesting functions only. Code from outer nests available to inner.\n",
    "\n",
    "# (G)lobal = Available to all your code, modules, classes, etc.\n",
    "\n",
    "# (B)uilt-in = All code created by Python when you run a script.\n",
    "\n",
    "# You should care because of \"name collision\", which occurs when you use the same\n",
    "# variable twice, causing problems."
   ]
  },
  {
   "cell_type": "markdown",
   "id": "ecde14b2-349b-4b97-a7aa-86336e311507",
   "metadata": {},
   "source": [
    "# Constructors:"
   ]
  },
  {
   "cell_type": "code",
   "execution_count": null,
   "id": "650eaebb-d490-4fe1-9e7e-08346fd3e068",
   "metadata": {},
   "outputs": [],
   "source": [
    "# As seen in the textbook, these use <__init__> and SELF (a default variable\n",
    "# that contains the memory address in the current program you're working.\n",
    "\n",
    "class a_sample_class:\n",
    "    def __init__(self):   # A default constructor.\n",
    "        self.var = 0      # This is just a shell...\n",
    "    def print_vars(self): # ...until you imbue it with self.\n",
    "        print(self.var)   # Prints the instance.\n",
    "\n",
    "object = a_sample_class() # Define an instance of the class.\n",
    "\n",
    "object.print_vars() # This is how you reference "
   ]
  },
  {
   "cell_type": "code",
   "execution_count": 2,
   "id": "17908716-42a7-4f56-9461-a648bb891534",
   "metadata": {},
   "outputs": [
    {
     "name": "stdout",
     "output_type": "stream",
     "text": [
      "2\n"
     ]
    }
   ],
   "source": [
    "class a_sample_class:\n",
    "    def __init__(self, one, two): # A parameterized constructor.\n",
    "        self.first = one\n",
    "    def print_vars(self): # Prints the instance.\n",
    "        print(self.first)\n",
    "\n",
    "object = a_sample_class(2, 8)\n",
    "\n",
    "object.print_vars() # We only told it print whatever's in \"one\"."
   ]
  },
  {
   "cell_type": "code",
   "execution_count": 11,
   "id": "ff0ceecc-4be4-42cd-969b-b13754f59fe5",
   "metadata": {},
   "outputs": [
    {
     "name": "stdout",
     "output_type": "stream",
     "text": [
      "17\n",
      "5\n"
     ]
    },
    {
     "ename": "AttributeError",
     "evalue": "type object 'a_sample_class' has no attribute 'first'",
     "output_type": "error",
     "traceback": [
      "\u001b[0;31m---------------------------------------------------------------------------\u001b[0m",
      "\u001b[0;31mAttributeError\u001b[0m                            Traceback (most recent call last)",
      "Cell \u001b[0;32mIn[11], line 10\u001b[0m\n\u001b[1;32m      8\u001b[0m \u001b[38;5;28mprint\u001b[39m(obj\u001b[38;5;241m.\u001b[39mfirst) \u001b[38;5;66;03m# Instance attribute as property of object. Prints value.\u001b[39;00m\n\u001b[1;32m      9\u001b[0m \u001b[38;5;28mprint\u001b[39m(obj\u001b[38;5;241m.\u001b[39mclass_attr) \u001b[38;5;66;03m# Class attribute as property of object. Prints value.\u001b[39;00m\n\u001b[0;32m---> 10\u001b[0m \u001b[38;5;28mprint\u001b[39m(\u001b[43ma_sample_class\u001b[49m\u001b[38;5;241;43m.\u001b[39;49m\u001b[43mfirst\u001b[49m) \u001b[38;5;66;03m# Instance attribute as property of class. Error\u001b[39;00m\n\u001b[1;32m     11\u001b[0m \u001b[38;5;66;03m# because class has no instance (\"first\" is only a property of self.first).\u001b[39;00m\n\u001b[1;32m     12\u001b[0m \u001b[38;5;28mprint\u001b[39m(a_sample_class\u001b[38;5;241m.\u001b[39mclass_attr) \u001b[38;5;66;03m# Class attribute as property of class.\u001b[39;00m\n",
      "\u001b[0;31mAttributeError\u001b[0m: type object 'a_sample_class' has no attribute 'first'"
     ]
    }
   ],
   "source": [
    "class a_sample_class:\n",
    "    class_attr = 5\n",
    "    def __init__(self, one, two):\n",
    "        self.first = one\n",
    "        self.second = two\n",
    "\n",
    "obj = a_sample_class(17,42)\n",
    "print(obj.first) # Instance attribute as property of object. Prints value.\n",
    "print(obj.class_attr) # Class attribute as property of object. Prints value.\n",
    "print(a_sample_class.first) # Instance attribute as property of class. Error\n",
    "# because class has no instance (\"first\" is only a property of self.first).\n",
    "print(a_sample_class.class_attr) # Class attribute as property of class."
   ]
  },
  {
   "cell_type": "markdown",
   "id": "ee8eba15-2e79-4bbc-b4e7-32a651229e2f",
   "metadata": {},
   "source": [
    "# Instance and Class Attributes:"
   ]
  },
  {
   "cell_type": "markdown",
   "id": "7c3ede93-8f03-4125-ac88-d8d72913a205",
   "metadata": {},
   "source": [
    "Instance attrbute = variable that belongs to a specific instance. Defined inside \n",
    "the constructor <__init__>. Can access from the scope of an object (local).\n",
    "\n",
    "Class attribute = type of variable that belongs to the class itself. Defined \n",
    "outside the constructor. Both property of class AND of the object. You can \n",
    "mutate a class attr --> instance attr."
   ]
  },
  {
   "cell_type": "code",
   "execution_count": 18,
   "id": "cc1e011f-e9d8-4ad7-9ec9-9c1e5563901d",
   "metadata": {},
   "outputs": [
    {
     "name": "stdout",
     "output_type": "stream",
     "text": [
      "Help on a_sample_class in module __main__ object:\n",
      "\n",
      "class a_sample_class(builtins.object)\n",
      " |  a_sample_class(one, two)\n",
      " |\n",
      " |  Methods defined here:\n",
      " |\n",
      " |  __init__(self, one, two)\n",
      " |      Initialize self.  See help(type(self)) for accurate signature.\n",
      " |\n",
      " |  ----------------------------------------------------------------------\n",
      " |  Data descriptors defined here:\n",
      " |\n",
      " |  __dict__\n",
      " |      dictionary for instance variables\n",
      " |\n",
      " |  __weakref__\n",
      " |      list of weak references to the object\n",
      " |\n",
      " |  ----------------------------------------------------------------------\n",
      " |  Data and other attributes defined here:\n",
      " |\n",
      " |  class_attr = 5\n",
      "\n"
     ]
    }
   ],
   "source": [
    "# Returns info on given thing.\n",
    "help(obj)"
   ]
  },
  {
   "cell_type": "code",
   "execution_count": 16,
   "id": "44d781a3-4ebb-460c-9713-19433fd8d02c",
   "metadata": {},
   "outputs": [
    {
     "data": {
      "text/plain": [
       "['In',\n",
       " 'Out',\n",
       " '_',\n",
       " '_13',\n",
       " '_14',\n",
       " '_15',\n",
       " '__',\n",
       " '___',\n",
       " '__builtin__',\n",
       " '__builtins__',\n",
       " '__doc__',\n",
       " '__loader__',\n",
       " '__name__',\n",
       " '__package__',\n",
       " '__session__',\n",
       " '__spec__',\n",
       " '_dh',\n",
       " '_i',\n",
       " '_i1',\n",
       " '_i10',\n",
       " '_i11',\n",
       " '_i12',\n",
       " '_i13',\n",
       " '_i14',\n",
       " '_i15',\n",
       " '_i16',\n",
       " '_i2',\n",
       " '_i3',\n",
       " '_i4',\n",
       " '_i5',\n",
       " '_i6',\n",
       " '_i7',\n",
       " '_i8',\n",
       " '_i9',\n",
       " '_ih',\n",
       " '_ii',\n",
       " '_iii',\n",
       " '_oh',\n",
       " 'a_sample_class',\n",
       " 'exit',\n",
       " 'get_ipython',\n",
       " 'obj',\n",
       " 'object',\n",
       " 'open',\n",
       " 'quit']"
      ]
     },
     "execution_count": 16,
     "metadata": {},
     "output_type": "execute_result"
    }
   ],
   "source": [
    "# Basically returns all the names inside a function, if none are named, then\n",
    "# those available to you.\n",
    "dir()"
   ]
  },
  {
   "cell_type": "code",
   "execution_count": 19,
   "id": "2b253ebc-9a2b-4074-84fa-13139b129073",
   "metadata": {},
   "outputs": [
    {
     "data": {
      "text/plain": [
       "{'__name__': '__main__',\n",
       " '__doc__': 'Automatically created module for IPython interactive environment',\n",
       " '__package__': None,\n",
       " '__loader__': None,\n",
       " '__spec__': None,\n",
       " '__builtin__': <module 'builtins' (built-in)>,\n",
       " '__builtins__': <module 'builtins' (built-in)>,\n",
       " '_ih': ['',\n",
       "  'class a_sample_class:\\n    def __init__(self, one, two): # A parameterized constructor.\\n        self.first = one\\n    def print_vars(self): # Prints the instance.\\n        print(self.first)\\n\\nobject = a_sample_class(2, 8)\\n\\nobject.print_vars()',\n",
       "  'class a_sample_class:\\n    def __init__(self, one, two): # A parameterized constructor.\\n        self.first = one\\n    def print_vars(self): # Prints the instance.\\n        print(self.first)\\n\\nobject = a_sample_class(2, 8)\\n\\nobject.print_vars() # We only told it print whatever\\'s in \"one\".',\n",
       "  'class a_sample_class:\\n    class_attr = 5\\n    def __init__(self, one, two):\\n        self.first = one\\n        self.second = two\\n\\nobject = a_sample_class(17, 42)\\nprint(obj.print) # Instance attribute as property of object.\\nprint(obj.class_attr)) # Class attribute as property of object.\\nprint(a_sample_class.first) # Instance attribute as property of class.\\nprint(a_sample_class_attr) # Class attribute as property of class.',\n",
       "  'class a_sample_class:\\n    class_attr = 5\\n    def __init__(self, one, two):\\n        self.first = one\\n        self.second = two\\n\\nobject = a_sample_class(17, 42)\\nprint(obj.print) # Instance attribute as property of object.\\nprint(obj.class_attr) # Class attribute as property of object.\\nprint(a_sample_class.first) # Instance attribute as property of class.\\nprint(a_sample_class_attr) # Class attribute as property of class.',\n",
       "  'class a_sample_class:\\n    class_attr = 5\\n    def __init__(self, one, two):\\n        self.first = one\\n        self.second = two\\n\\nobj = a_sample_class(17, 42)\\nprint(obj.print) # Instance attribute as property of object.\\nprint(obj.class_attr) # Class attribute as property of object.\\nprint(a_sample_class.first) # Instance attribute as property of class.\\nprint(a_sample_class_attr) # Class attribute as property of class.',\n",
       "  'class a_sample_class:\\n    class_attr = 5\\n    def __init__(self, one, two):\\n        self.first = one\\n        self.second = two\\n\\nobj = a_sample_class(17, 42)\\nprint(obj.print) # Instance attribute as property of object.\\nprint(obj.class_attr) # Class attribute as property of object.\\nprint(a_sample_class.first) # Instance attribute as property of class.\\nprint(a_sample_class.class_attr) # Class attribute as property of class.',\n",
       "  'class a_sample_class:\\n    class_attr = 5\\n    def __init__(self, one, two):\\n        self.first = one\\n        self.second = two\\n\\nobj = a_sample_class(17, 42)\\nprint(obj.first) # Instance attribute as property of object.\\nprint(obj.class_attr) # Class attribute as property of object.\\nprint(a_sample_class.first) # Instance attribute as property of class.\\nprint(a_sample_class.class_attr) # Class attribute as property of class.',\n",
       "  'class a_sample_class:\\n    class_attr = 5\\n    def __init__(self, one, two):\\n        self.first = one\\n        self.second = two\\n\\nobj = a_sample_class(17,42)\\nprint(obj.first) # Instance attribute as property of object.\\nprint(obj.class_attr) # Class attribute as property of object.\\nprint(a_sample_class.first) # Instance attribute as property of class.\\nprint(a_sample_class.class_attr) # Class attribute as property of class.',\n",
       "  'class a_sample_class:\\n    class_attr = 5\\n    def __init__(self, one, two):\\n        self.first = one\\n        self.second = two\\n\\nobj = a_sample_class(17,42)\\nprint(obj.first) # Instance attribute as property of object. Prints value.\\nprint(obj.class_attr) # Class attribute as property of object. Prints value.\\nprint(a_sample_class.first) # Instance attribute as property of class. Doesn\\'t\\n# print the value because class has no instance (\"first\" is only a property\\n# of self.first).\\nprint(a_sample_class.class_attr) # Class attribute as property of class.',\n",
       "  'class a_sample_class:\\n    class_attr = 5\\n    def __init__(self, one, two):\\n        self.first = one\\n        self.second = two\\n\\nobj = a_sample_class(17,42)\\nprint(obj.first) # Instance attribute as property of object. Prints value.\\nprint(obj.class_attr) # Class attribute as property of object. Prints value.\\nprint(a_sample_class.first) # Instance attribute as property of class. Error\\n# because class has no instance (\"first\" is only a property of self.first).\\nprint(a_sample_class.class_attr) # Class attribute as property of class.',\n",
       "  'class a_sample_class:\\n    class_attr = 5\\n    def __init__(self, one, two):\\n        self.first = one\\n        self.second = two\\n\\nobj = a_sample_class(17,42)\\nprint(obj.first) # Instance attribute as property of object. Prints value.\\nprint(obj.class_attr) # Class attribute as property of object. Prints value.\\nprint(a_sample_class.first) # Instance attribute as property of class. Error\\n# because class has no instance (\"first\" is only a property of self.first).\\nprint(a_sample_class.class_attr) # Class attribute as property of class.',\n",
       "  'help(obj)',\n",
       "  'dir()',\n",
       "  'globals()',\n",
       "  '# Returns the current module namespace.\\nglobals()',\n",
       "  '# Basically returns all the names inside a function, if none are named, then\\n# those available to you.\\ndir()',\n",
       "  '# Returns the current module namespace (the collection of currently defined\\n# symbolic names and the objects each of them references).\\nglobals()',\n",
       "  '# Returns info on given thing.\\nhelp(obj)',\n",
       "  '# Returns the current module namespace (the collection of currently\\n# defined symbolic names and the objects each of them references).\\nglobals()'],\n",
       " '_oh': {13: ['In',\n",
       "   'Out',\n",
       "   '_',\n",
       "   '__',\n",
       "   '___',\n",
       "   '__builtin__',\n",
       "   '__builtins__',\n",
       "   '__doc__',\n",
       "   '__loader__',\n",
       "   '__name__',\n",
       "   '__package__',\n",
       "   '__session__',\n",
       "   '__spec__',\n",
       "   '_dh',\n",
       "   '_i',\n",
       "   '_i1',\n",
       "   '_i10',\n",
       "   '_i11',\n",
       "   '_i12',\n",
       "   '_i13',\n",
       "   '_i2',\n",
       "   '_i3',\n",
       "   '_i4',\n",
       "   '_i5',\n",
       "   '_i6',\n",
       "   '_i7',\n",
       "   '_i8',\n",
       "   '_i9',\n",
       "   '_ih',\n",
       "   '_ii',\n",
       "   '_iii',\n",
       "   '_oh',\n",
       "   'a_sample_class',\n",
       "   'exit',\n",
       "   'get_ipython',\n",
       "   'obj',\n",
       "   'object',\n",
       "   'open',\n",
       "   'quit'],\n",
       "  14: {...},\n",
       "  15: {...},\n",
       "  16: ['In',\n",
       "   'Out',\n",
       "   '_',\n",
       "   '_13',\n",
       "   '_14',\n",
       "   '_15',\n",
       "   '__',\n",
       "   '___',\n",
       "   '__builtin__',\n",
       "   '__builtins__',\n",
       "   '__doc__',\n",
       "   '__loader__',\n",
       "   '__name__',\n",
       "   '__package__',\n",
       "   '__session__',\n",
       "   '__spec__',\n",
       "   '_dh',\n",
       "   '_i',\n",
       "   '_i1',\n",
       "   '_i10',\n",
       "   '_i11',\n",
       "   '_i12',\n",
       "   '_i13',\n",
       "   '_i14',\n",
       "   '_i15',\n",
       "   '_i16',\n",
       "   '_i2',\n",
       "   '_i3',\n",
       "   '_i4',\n",
       "   '_i5',\n",
       "   '_i6',\n",
       "   '_i7',\n",
       "   '_i8',\n",
       "   '_i9',\n",
       "   '_ih',\n",
       "   '_ii',\n",
       "   '_iii',\n",
       "   '_oh',\n",
       "   'a_sample_class',\n",
       "   'exit',\n",
       "   'get_ipython',\n",
       "   'obj',\n",
       "   'object',\n",
       "   'open',\n",
       "   'quit'],\n",
       "  17: {...}},\n",
       " '_dh': [PosixPath('/Users/connorlove/Desktop/CSCI_1070_Course/Connor_CSCI_1070')],\n",
       " 'In': ['',\n",
       "  'class a_sample_class:\\n    def __init__(self, one, two): # A parameterized constructor.\\n        self.first = one\\n    def print_vars(self): # Prints the instance.\\n        print(self.first)\\n\\nobject = a_sample_class(2, 8)\\n\\nobject.print_vars()',\n",
       "  'class a_sample_class:\\n    def __init__(self, one, two): # A parameterized constructor.\\n        self.first = one\\n    def print_vars(self): # Prints the instance.\\n        print(self.first)\\n\\nobject = a_sample_class(2, 8)\\n\\nobject.print_vars() # We only told it print whatever\\'s in \"one\".',\n",
       "  'class a_sample_class:\\n    class_attr = 5\\n    def __init__(self, one, two):\\n        self.first = one\\n        self.second = two\\n\\nobject = a_sample_class(17, 42)\\nprint(obj.print) # Instance attribute as property of object.\\nprint(obj.class_attr)) # Class attribute as property of object.\\nprint(a_sample_class.first) # Instance attribute as property of class.\\nprint(a_sample_class_attr) # Class attribute as property of class.',\n",
       "  'class a_sample_class:\\n    class_attr = 5\\n    def __init__(self, one, two):\\n        self.first = one\\n        self.second = two\\n\\nobject = a_sample_class(17, 42)\\nprint(obj.print) # Instance attribute as property of object.\\nprint(obj.class_attr) # Class attribute as property of object.\\nprint(a_sample_class.first) # Instance attribute as property of class.\\nprint(a_sample_class_attr) # Class attribute as property of class.',\n",
       "  'class a_sample_class:\\n    class_attr = 5\\n    def __init__(self, one, two):\\n        self.first = one\\n        self.second = two\\n\\nobj = a_sample_class(17, 42)\\nprint(obj.print) # Instance attribute as property of object.\\nprint(obj.class_attr) # Class attribute as property of object.\\nprint(a_sample_class.first) # Instance attribute as property of class.\\nprint(a_sample_class_attr) # Class attribute as property of class.',\n",
       "  'class a_sample_class:\\n    class_attr = 5\\n    def __init__(self, one, two):\\n        self.first = one\\n        self.second = two\\n\\nobj = a_sample_class(17, 42)\\nprint(obj.print) # Instance attribute as property of object.\\nprint(obj.class_attr) # Class attribute as property of object.\\nprint(a_sample_class.first) # Instance attribute as property of class.\\nprint(a_sample_class.class_attr) # Class attribute as property of class.',\n",
       "  'class a_sample_class:\\n    class_attr = 5\\n    def __init__(self, one, two):\\n        self.first = one\\n        self.second = two\\n\\nobj = a_sample_class(17, 42)\\nprint(obj.first) # Instance attribute as property of object.\\nprint(obj.class_attr) # Class attribute as property of object.\\nprint(a_sample_class.first) # Instance attribute as property of class.\\nprint(a_sample_class.class_attr) # Class attribute as property of class.',\n",
       "  'class a_sample_class:\\n    class_attr = 5\\n    def __init__(self, one, two):\\n        self.first = one\\n        self.second = two\\n\\nobj = a_sample_class(17,42)\\nprint(obj.first) # Instance attribute as property of object.\\nprint(obj.class_attr) # Class attribute as property of object.\\nprint(a_sample_class.first) # Instance attribute as property of class.\\nprint(a_sample_class.class_attr) # Class attribute as property of class.',\n",
       "  'class a_sample_class:\\n    class_attr = 5\\n    def __init__(self, one, two):\\n        self.first = one\\n        self.second = two\\n\\nobj = a_sample_class(17,42)\\nprint(obj.first) # Instance attribute as property of object. Prints value.\\nprint(obj.class_attr) # Class attribute as property of object. Prints value.\\nprint(a_sample_class.first) # Instance attribute as property of class. Doesn\\'t\\n# print the value because class has no instance (\"first\" is only a property\\n# of self.first).\\nprint(a_sample_class.class_attr) # Class attribute as property of class.',\n",
       "  'class a_sample_class:\\n    class_attr = 5\\n    def __init__(self, one, two):\\n        self.first = one\\n        self.second = two\\n\\nobj = a_sample_class(17,42)\\nprint(obj.first) # Instance attribute as property of object. Prints value.\\nprint(obj.class_attr) # Class attribute as property of object. Prints value.\\nprint(a_sample_class.first) # Instance attribute as property of class. Error\\n# because class has no instance (\"first\" is only a property of self.first).\\nprint(a_sample_class.class_attr) # Class attribute as property of class.',\n",
       "  'class a_sample_class:\\n    class_attr = 5\\n    def __init__(self, one, two):\\n        self.first = one\\n        self.second = two\\n\\nobj = a_sample_class(17,42)\\nprint(obj.first) # Instance attribute as property of object. Prints value.\\nprint(obj.class_attr) # Class attribute as property of object. Prints value.\\nprint(a_sample_class.first) # Instance attribute as property of class. Error\\n# because class has no instance (\"first\" is only a property of self.first).\\nprint(a_sample_class.class_attr) # Class attribute as property of class.',\n",
       "  'help(obj)',\n",
       "  'dir()',\n",
       "  'globals()',\n",
       "  '# Returns the current module namespace.\\nglobals()',\n",
       "  '# Basically returns all the names inside a function, if none are named, then\\n# those available to you.\\ndir()',\n",
       "  '# Returns the current module namespace (the collection of currently defined\\n# symbolic names and the objects each of them references).\\nglobals()',\n",
       "  '# Returns info on given thing.\\nhelp(obj)',\n",
       "  '# Returns the current module namespace (the collection of currently\\n# defined symbolic names and the objects each of them references).\\nglobals()'],\n",
       " 'Out': {13: ['In',\n",
       "   'Out',\n",
       "   '_',\n",
       "   '__',\n",
       "   '___',\n",
       "   '__builtin__',\n",
       "   '__builtins__',\n",
       "   '__doc__',\n",
       "   '__loader__',\n",
       "   '__name__',\n",
       "   '__package__',\n",
       "   '__session__',\n",
       "   '__spec__',\n",
       "   '_dh',\n",
       "   '_i',\n",
       "   '_i1',\n",
       "   '_i10',\n",
       "   '_i11',\n",
       "   '_i12',\n",
       "   '_i13',\n",
       "   '_i2',\n",
       "   '_i3',\n",
       "   '_i4',\n",
       "   '_i5',\n",
       "   '_i6',\n",
       "   '_i7',\n",
       "   '_i8',\n",
       "   '_i9',\n",
       "   '_ih',\n",
       "   '_ii',\n",
       "   '_iii',\n",
       "   '_oh',\n",
       "   'a_sample_class',\n",
       "   'exit',\n",
       "   'get_ipython',\n",
       "   'obj',\n",
       "   'object',\n",
       "   'open',\n",
       "   'quit'],\n",
       "  14: {...},\n",
       "  15: {...},\n",
       "  16: ['In',\n",
       "   'Out',\n",
       "   '_',\n",
       "   '_13',\n",
       "   '_14',\n",
       "   '_15',\n",
       "   '__',\n",
       "   '___',\n",
       "   '__builtin__',\n",
       "   '__builtins__',\n",
       "   '__doc__',\n",
       "   '__loader__',\n",
       "   '__name__',\n",
       "   '__package__',\n",
       "   '__session__',\n",
       "   '__spec__',\n",
       "   '_dh',\n",
       "   '_i',\n",
       "   '_i1',\n",
       "   '_i10',\n",
       "   '_i11',\n",
       "   '_i12',\n",
       "   '_i13',\n",
       "   '_i14',\n",
       "   '_i15',\n",
       "   '_i16',\n",
       "   '_i2',\n",
       "   '_i3',\n",
       "   '_i4',\n",
       "   '_i5',\n",
       "   '_i6',\n",
       "   '_i7',\n",
       "   '_i8',\n",
       "   '_i9',\n",
       "   '_ih',\n",
       "   '_ii',\n",
       "   '_iii',\n",
       "   '_oh',\n",
       "   'a_sample_class',\n",
       "   'exit',\n",
       "   'get_ipython',\n",
       "   'obj',\n",
       "   'object',\n",
       "   'open',\n",
       "   'quit'],\n",
       "  17: {...}},\n",
       " 'get_ipython': <bound method InteractiveShell.get_ipython of <ipykernel.zmqshell.ZMQInteractiveShell object at 0x108088860>>,\n",
       " 'exit': <IPython.core.autocall.ZMQExitAutocall at 0x108089190>,\n",
       " 'quit': <IPython.core.autocall.ZMQExitAutocall at 0x108089190>,\n",
       " 'open': <function _io.open(file, mode='r', buffering=-1, encoding=None, errors=None, newline=None, closefd=True, opener=None)>,\n",
       " '_': {...},\n",
       " '__': ['In',\n",
       "  'Out',\n",
       "  '_',\n",
       "  '_13',\n",
       "  '_14',\n",
       "  '_15',\n",
       "  '__',\n",
       "  '___',\n",
       "  '__builtin__',\n",
       "  '__builtins__',\n",
       "  '__doc__',\n",
       "  '__loader__',\n",
       "  '__name__',\n",
       "  '__package__',\n",
       "  '__session__',\n",
       "  '__spec__',\n",
       "  '_dh',\n",
       "  '_i',\n",
       "  '_i1',\n",
       "  '_i10',\n",
       "  '_i11',\n",
       "  '_i12',\n",
       "  '_i13',\n",
       "  '_i14',\n",
       "  '_i15',\n",
       "  '_i16',\n",
       "  '_i2',\n",
       "  '_i3',\n",
       "  '_i4',\n",
       "  '_i5',\n",
       "  '_i6',\n",
       "  '_i7',\n",
       "  '_i8',\n",
       "  '_i9',\n",
       "  '_ih',\n",
       "  '_ii',\n",
       "  '_iii',\n",
       "  '_oh',\n",
       "  'a_sample_class',\n",
       "  'exit',\n",
       "  'get_ipython',\n",
       "  'obj',\n",
       "  'object',\n",
       "  'open',\n",
       "  'quit'],\n",
       " '___': {...},\n",
       " '__session__': '/Users/connorlove/Desktop/CSCI_1070_Course/Connor_CSCI_1070/Class_Notes.ipynb',\n",
       " '_i': '# Returns info on given thing.\\nhelp(obj)',\n",
       " '_ii': '# Returns the current module namespace (the collection of currently defined\\n# symbolic names and the objects each of them references).\\nglobals()',\n",
       " '_iii': '# Basically returns all the names inside a function, if none are named, then\\n# those available to you.\\ndir()',\n",
       " '_i1': 'class a_sample_class:\\n    def __init__(self, one, two): # A parameterized constructor.\\n        self.first = one\\n    def print_vars(self): # Prints the instance.\\n        print(self.first)\\n\\nobject = a_sample_class(2, 8)\\n\\nobject.print_vars()',\n",
       " 'a_sample_class': __main__.a_sample_class,\n",
       " 'object': <__main__.a_sample_class at 0x1080b8320>,\n",
       " '_i2': 'class a_sample_class:\\n    def __init__(self, one, two): # A parameterized constructor.\\n        self.first = one\\n    def print_vars(self): # Prints the instance.\\n        print(self.first)\\n\\nobject = a_sample_class(2, 8)\\n\\nobject.print_vars() # We only told it print whatever\\'s in \"one\".',\n",
       " '_i3': 'class a_sample_class:\\n    class_attr = 5\\n    def __init__(self, one, two):\\n        self.first = one\\n        self.second = two\\n\\nobject = a_sample_class(17, 42)\\nprint(obj.print) # Instance attribute as property of object.\\nprint(obj.class_attr)) # Class attribute as property of object.\\nprint(a_sample_class.first) # Instance attribute as property of class.\\nprint(a_sample_class_attr) # Class attribute as property of class.',\n",
       " '_i4': 'class a_sample_class:\\n    class_attr = 5\\n    def __init__(self, one, two):\\n        self.first = one\\n        self.second = two\\n\\nobject = a_sample_class(17, 42)\\nprint(obj.print) # Instance attribute as property of object.\\nprint(obj.class_attr) # Class attribute as property of object.\\nprint(a_sample_class.first) # Instance attribute as property of class.\\nprint(a_sample_class_attr) # Class attribute as property of class.',\n",
       " '_i5': 'class a_sample_class:\\n    class_attr = 5\\n    def __init__(self, one, two):\\n        self.first = one\\n        self.second = two\\n\\nobj = a_sample_class(17, 42)\\nprint(obj.print) # Instance attribute as property of object.\\nprint(obj.class_attr) # Class attribute as property of object.\\nprint(a_sample_class.first) # Instance attribute as property of class.\\nprint(a_sample_class_attr) # Class attribute as property of class.',\n",
       " 'obj': <__main__.a_sample_class at 0x108274e60>,\n",
       " '_i6': 'class a_sample_class:\\n    class_attr = 5\\n    def __init__(self, one, two):\\n        self.first = one\\n        self.second = two\\n\\nobj = a_sample_class(17, 42)\\nprint(obj.print) # Instance attribute as property of object.\\nprint(obj.class_attr) # Class attribute as property of object.\\nprint(a_sample_class.first) # Instance attribute as property of class.\\nprint(a_sample_class.class_attr) # Class attribute as property of class.',\n",
       " '_i7': 'class a_sample_class:\\n    class_attr = 5\\n    def __init__(self, one, two):\\n        self.first = one\\n        self.second = two\\n\\nobj = a_sample_class(17, 42)\\nprint(obj.first) # Instance attribute as property of object.\\nprint(obj.class_attr) # Class attribute as property of object.\\nprint(a_sample_class.first) # Instance attribute as property of class.\\nprint(a_sample_class.class_attr) # Class attribute as property of class.',\n",
       " '_i8': 'class a_sample_class:\\n    class_attr = 5\\n    def __init__(self, one, two):\\n        self.first = one\\n        self.second = two\\n\\nobj = a_sample_class(17,42)\\nprint(obj.first) # Instance attribute as property of object.\\nprint(obj.class_attr) # Class attribute as property of object.\\nprint(a_sample_class.first) # Instance attribute as property of class.\\nprint(a_sample_class.class_attr) # Class attribute as property of class.',\n",
       " '_i9': 'class a_sample_class:\\n    class_attr = 5\\n    def __init__(self, one, two):\\n        self.first = one\\n        self.second = two\\n\\nobj = a_sample_class(17,42)\\nprint(obj.first) # Instance attribute as property of object. Prints value.\\nprint(obj.class_attr) # Class attribute as property of object. Prints value.\\nprint(a_sample_class.first) # Instance attribute as property of class. Doesn\\'t\\n# print the value because class has no instance (\"first\" is only a property\\n# of self.first).\\nprint(a_sample_class.class_attr) # Class attribute as property of class.',\n",
       " '_i10': 'class a_sample_class:\\n    class_attr = 5\\n    def __init__(self, one, two):\\n        self.first = one\\n        self.second = two\\n\\nobj = a_sample_class(17,42)\\nprint(obj.first) # Instance attribute as property of object. Prints value.\\nprint(obj.class_attr) # Class attribute as property of object. Prints value.\\nprint(a_sample_class.first) # Instance attribute as property of class. Error\\n# because class has no instance (\"first\" is only a property of self.first).\\nprint(a_sample_class.class_attr) # Class attribute as property of class.',\n",
       " '_i11': 'class a_sample_class:\\n    class_attr = 5\\n    def __init__(self, one, two):\\n        self.first = one\\n        self.second = two\\n\\nobj = a_sample_class(17,42)\\nprint(obj.first) # Instance attribute as property of object. Prints value.\\nprint(obj.class_attr) # Class attribute as property of object. Prints value.\\nprint(a_sample_class.first) # Instance attribute as property of class. Error\\n# because class has no instance (\"first\" is only a property of self.first).\\nprint(a_sample_class.class_attr) # Class attribute as property of class.',\n",
       " '_i12': 'help(obj)',\n",
       " '_i13': 'dir()',\n",
       " '_13': ['In',\n",
       "  'Out',\n",
       "  '_',\n",
       "  '__',\n",
       "  '___',\n",
       "  '__builtin__',\n",
       "  '__builtins__',\n",
       "  '__doc__',\n",
       "  '__loader__',\n",
       "  '__name__',\n",
       "  '__package__',\n",
       "  '__session__',\n",
       "  '__spec__',\n",
       "  '_dh',\n",
       "  '_i',\n",
       "  '_i1',\n",
       "  '_i10',\n",
       "  '_i11',\n",
       "  '_i12',\n",
       "  '_i13',\n",
       "  '_i2',\n",
       "  '_i3',\n",
       "  '_i4',\n",
       "  '_i5',\n",
       "  '_i6',\n",
       "  '_i7',\n",
       "  '_i8',\n",
       "  '_i9',\n",
       "  '_ih',\n",
       "  '_ii',\n",
       "  '_iii',\n",
       "  '_oh',\n",
       "  'a_sample_class',\n",
       "  'exit',\n",
       "  'get_ipython',\n",
       "  'obj',\n",
       "  'object',\n",
       "  'open',\n",
       "  'quit'],\n",
       " '_i14': 'globals()',\n",
       " '_14': {...},\n",
       " '_i15': '# Returns the current module namespace.\\nglobals()',\n",
       " '_15': {...},\n",
       " '_i16': '# Basically returns all the names inside a function, if none are named, then\\n# those available to you.\\ndir()',\n",
       " '_16': ['In',\n",
       "  'Out',\n",
       "  '_',\n",
       "  '_13',\n",
       "  '_14',\n",
       "  '_15',\n",
       "  '__',\n",
       "  '___',\n",
       "  '__builtin__',\n",
       "  '__builtins__',\n",
       "  '__doc__',\n",
       "  '__loader__',\n",
       "  '__name__',\n",
       "  '__package__',\n",
       "  '__session__',\n",
       "  '__spec__',\n",
       "  '_dh',\n",
       "  '_i',\n",
       "  '_i1',\n",
       "  '_i10',\n",
       "  '_i11',\n",
       "  '_i12',\n",
       "  '_i13',\n",
       "  '_i14',\n",
       "  '_i15',\n",
       "  '_i16',\n",
       "  '_i2',\n",
       "  '_i3',\n",
       "  '_i4',\n",
       "  '_i5',\n",
       "  '_i6',\n",
       "  '_i7',\n",
       "  '_i8',\n",
       "  '_i9',\n",
       "  '_ih',\n",
       "  '_ii',\n",
       "  '_iii',\n",
       "  '_oh',\n",
       "  'a_sample_class',\n",
       "  'exit',\n",
       "  'get_ipython',\n",
       "  'obj',\n",
       "  'object',\n",
       "  'open',\n",
       "  'quit'],\n",
       " '_i17': '# Returns the current module namespace (the collection of currently defined\\n# symbolic names and the objects each of them references).\\nglobals()',\n",
       " '_17': {...},\n",
       " '_i18': '# Returns info on given thing.\\nhelp(obj)',\n",
       " '_i19': '# Returns the current module namespace (the collection of currently\\n# defined symbolic names and the objects each of them references).\\nglobals()'}"
      ]
     },
     "execution_count": 19,
     "metadata": {},
     "output_type": "execute_result"
    }
   ],
   "source": [
    "# Returns the current module namespace (the collection of currently\n",
    "# defined symbolic names and the objects each of them references).\n",
    "globals()"
   ]
  },
  {
   "cell_type": "markdown",
   "id": "26296898-8deb-4922-ae86-590bfc918769",
   "metadata": {},
   "source": [
    "# Instance, Class, and Static Methods:"
   ]
  },
  {
   "cell_type": "code",
   "execution_count": 27,
   "id": "39ae66c6-96c8-485c-b289-9044fad40e04",
   "metadata": {},
   "outputs": [],
   "source": [
    "class candy:\n",
    "    def __init__(self,                   # Variables with a single underscore\n",
    "                 _brand,                 # are reserved for internal purposes. \n",
    "                 _is_caramel=False,      # These are defaults, which are used\n",
    "                 _has_nuts=False,        # to print an instance unless you\n",
    "                 _calories=200,          # specify otherwise.\n",
    "                 _type='chocolate'):\n",
    "        self.type = _type\n",
    "        self.brand = _brand              # Order doesn't matter, also you\n",
    "        self.is_caramel = _is_caramel    # don't need to include all attr.\n",
    "        self.calories = _calories\n",
    "\n",
    "# Remember, instance methods can access and modify both\n",
    "# class AND instance states.\n",
    "def display(self):\n",
    "    print(f'My favorite candy is {self.brand} {self.type}')\n",
    "\n",
    "# Remember, class methods used to modify the state of a class (ALL instances),\n",
    "# eg; would be used for a pizza-topping adder on an app (don't wanna have to \n",
    "# type out every topping).\n",
    "@classmethod\n",
    "def snickers(cls):\n",
    "    return cls('Snickers', _is_caramel = True, _has_nuts = True)\n",
    "\n",
    "# Remember, static methods are used to compare or validate data. If you want\n",
    "# to check a value without needing an instance of it (save storage space).\n",
    "@staticmethod\n",
    "def calories(size, n):\n",
    "    if size == 'Large':\n",
    "        calories = 500\n",
    "    elif size == 'Regular':\n",
    "        calories = 350\n",
    "    elif size == 'FunSized':\n",
    "        calories = 100\n",
    "    else:\n",
    "        calories = 0\n",
    "    calories = calories*n"
   ]
  },
  {
   "cell_type": "code",
   "execution_count": null,
   "id": "8ce1e998-efa8-45a4-928c-3c21486f7881",
   "metadata": {},
   "outputs": [],
   "source": [
    "favorite_candy = candy(_brand = 'HundredGrand')\n",
    "favorite_candy.display()"
   ]
  },
  {
   "cell_type": "code",
   "execution_count": null,
   "id": "4079956b-0ce8-4bbc-a4ca-95967d498d93",
   "metadata": {},
   "outputs": [],
   "source": [
    "candy.calories('funsized', 40)\n",
    "\n",
    "# These should return proper stuff but I fucked up! So I'm not pushing it :)"
   ]
  },
  {
   "cell_type": "markdown",
   "id": "382cc9d0-b25c-4a11-b051-9b9148fbec39",
   "metadata": {},
   "source": [
    "# Decorators"
   ]
  },
  {
   "cell_type": "code",
   "execution_count": null,
   "id": "c8c823b6-c8ee-41af-8270-2b11ff83d028",
   "metadata": {},
   "outputs": [],
   "source": [
    "# Extend the behavior of a code without explicitly changing the function.\n",
    "# You can create a lot of them if you expect to use special functions\n",
    "# but don't want to mod the original.\n",
    "def the_decorator(func):\n",
    "    print(\"decorator is running\")\n",
    "    func()\n",
    "    print(\"still running\")"
   ]
  },
  {
   "cell_type": "markdown",
   "id": "897785ae-3e29-4f63-87aa-b74145227929",
   "metadata": {},
   "source": [
    "Encapsulation = Implementation details are hidden——\"encapsulated\"——in objs.\n",
    "\n",
    "Inheritance = \"Child\" classes can inherit from parent classes/modules.\n",
    "\n",
    "Polymorphism = Objs and names exist in many forms, same attribute/method\n",
    "can exist in multiple classes and mean different things.\n",
    "\n",
    "Abstraction = Handling a concept rather than implementation details."
   ]
  }
 ],
 "metadata": {
  "kernelspec": {
   "display_name": "Python 3 (ipykernel)",
   "language": "python",
   "name": "python3"
  },
  "language_info": {
   "codemirror_mode": {
    "name": "ipython",
    "version": 3
   },
   "file_extension": ".py",
   "mimetype": "text/x-python",
   "name": "python",
   "nbconvert_exporter": "python",
   "pygments_lexer": "ipython3",
   "version": "3.12.1"
  }
 },
 "nbformat": 4,
 "nbformat_minor": 5
}
