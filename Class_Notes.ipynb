{
 "cells": [
  {
   "cell_type": "markdown",
   "id": "a3fd6bb1-1261-4620-9d7e-672c9ae14ca7",
   "metadata": {},
   "source": [
    "# If, Else if, Else Loops"
   ]
  },
  {
   "cell_type": "code",
   "execution_count": 8,
   "id": "f33c9ba8-8cc6-4041-a607-c40658fb0bde",
   "metadata": {},
   "outputs": [
    {
     "name": "stdout",
     "output_type": "stream",
     "text": [
      "b is greater\n"
     ]
    }
   ],
   "source": [
    "# Loops are flow control, they change how data moves thru the application.\n",
    "\n",
    "# Three types are <if>, <elif>, <else>\n",
    "# if a = b, return \"they are equal\"\n",
    "# if a > b, return \"a is greater\"\n",
    "# if a < b, return \"b is greater\"\n",
    "a = 4\n",
    "b = 7\n",
    "\n",
    "if a == b:\n",
    "    print(\"they are equal\")\n",
    "elif a > b:\n",
    "    print(\"a is greater\")\n",
    "elif a < b:\n",
    "    print(\"b is greater\")\n",
    "\n",
    "# <else> is a catch-all at the end (not seen here)"
   ]
  },
  {
   "cell_type": "markdown",
   "id": "7002d69b-265c-49a9-8a17-1ce905e0fae2",
   "metadata": {},
   "source": [
    "# While loops"
   ]
  },
  {
   "cell_type": "code",
   "execution_count": 12,
   "id": "eefbb6dc-e3b7-49b7-80fc-b51389fd482e",
   "metadata": {},
   "outputs": [
    {
     "name": "stdout",
     "output_type": "stream",
     "text": [
      "7\n",
      "6\n"
     ]
    }
   ],
   "source": [
    "# continously test expression until stopping condition is met\n",
    "x = 7\n",
    "while x > 5:\n",
    "    print(x) # this will run until your computer crashes, because x is always greater\n",
    "             # so decrement x until it can stop\n",
    "    x-=1     # (x = x - 1)"
   ]
  },
  {
   "cell_type": "code",
   "execution_count": 11,
   "id": "1988b27a-73f8-4b15-b735-cc492c716876",
   "metadata": {},
   "outputs": [
    {
     "name": "stdout",
     "output_type": "stream",
     "text": [
      "3\n",
      "4\n",
      "5\n",
      "6\n",
      "7\n",
      "8\n",
      "9\n"
     ]
    }
   ],
   "source": [
    "# Create a scenario where x starts at 3 and is incremeneted by 1,\n",
    "# print x while x is less than 10.\n",
    "x = 3\n",
    "while x < 10:\n",
    "    print(x)\n",
    "    x+=1"
   ]
  },
  {
   "cell_type": "markdown",
   "id": "4cf1e658-688c-47e1-a3c4-c0b96d83eb78",
   "metadata": {},
   "source": [
    "# For loops"
   ]
  },
  {
   "cell_type": "code",
   "execution_count": 14,
   "id": "26cb71cf-c8f8-4e23-ad52-3243aee33f38",
   "metadata": {},
   "outputs": [
    {
     "name": "stdout",
     "output_type": "stream",
     "text": [
      "['Dexter', 'John', 'Smitty']\n",
      "['Dexter', 'John', 'Smitty']\n",
      "['Dexter', 'John', 'Smitty']\n"
     ]
    }
   ],
   "source": [
    "cats = [\"Dexter\", \"John\", \"Smitty\"]\n",
    "for cat in cats:\n",
    "    print(cats)"
   ]
  },
  {
   "cell_type": "markdown",
   "id": "7912c66b-4c48-49b8-9d32-9af0f5b0d81c",
   "metadata": {},
   "source": [
    "# Range"
   ]
  },
  {
   "cell_type": "code",
   "execution_count": 21,
   "id": "fcf8ba28-7dea-4100-885c-2d5f45047f4a",
   "metadata": {},
   "outputs": [
    {
     "name": "stdout",
     "output_type": "stream",
     "text": [
      "2\n",
      "4\n",
      "6\n",
      "8\n"
     ]
    }
   ],
   "source": [
    "# range(start,stop[,step]), the [ ] indicates step is an optional part of range\n",
    "for r in range(2,10,2):\n",
    "    print(r)"
   ]
  },
  {
   "cell_type": "markdown",
   "id": "9d762f23-5b08-4665-bf04-3472588de84c",
   "metadata": {},
   "source": [
    "# Functions"
   ]
  },
  {
   "cell_type": "code",
   "execution_count": 22,
   "id": "23efd4d4-031a-4652-8cf3-6b38a6fe3f1a",
   "metadata": {},
   "outputs": [
    {
     "name": "stdout",
     "output_type": "stream",
     "text": [
      "b is greater\n"
     ]
    }
   ],
   "source": [
    "# Lets us encapsulate chunks of code we want to use again.\n",
    "def comparing(a,b):\n",
    "    if a == b:\n",
    "        print(\"they are equal\")\n",
    "    elif a > b:\n",
    "        print(\"a is greater\")\n",
    "    elif a < b:\n",
    "        print(\"b is greater\")\n",
    "comparing(2,5)"
   ]
  },
  {
   "cell_type": "markdown",
   "id": "8dceebec-c7f3-4e34-9ebc-d933b685b319",
   "metadata": {},
   "source": [
    "# Classes"
   ]
  },
  {
   "cell_type": "code",
   "execution_count": 29,
   "id": "c65effad-3bcf-4558-a518-9628d9a13431",
   "metadata": {},
   "outputs": [],
   "source": [
    "# Class is like a blueprint, used to determine rules for all users.\n",
    "    # ex; Person \n",
    "\n",
    "# 1. Class methods\n",
    "    # Can modify class state (group)\n",
    "    # Can't mod object state (individual)\n",
    "    # Used for factory functions\n",
    "    # (change rules for group)\n",
    "\n",
    "# 2. Static methods\n",
    "    # Can't access class OR object state \n",
    "    # Used for utility functions\n",
    "    # (basic checks, disconnected from user (ex; over 18?))\n",
    "\n",
    "# 3. Instance methods\n",
    "    # Can modify class AND object state\n",
    "    # (change both group / individual)"
   ]
  }
 ],
 "metadata": {
  "kernelspec": {
   "display_name": "Python 3 (ipykernel)",
   "language": "python",
   "name": "python3"
  },
  "language_info": {
   "codemirror_mode": {
    "name": "ipython",
    "version": 3
   },
   "file_extension": ".py",
   "mimetype": "text/x-python",
   "name": "python",
   "nbconvert_exporter": "python",
   "pygments_lexer": "ipython3",
   "version": "3.12.1"
  }
 },
 "nbformat": 4,
 "nbformat_minor": 5
}
