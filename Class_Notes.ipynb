{
 "cells": [
  {
   "cell_type": "markdown",
   "id": "a3fd6bb1-1261-4620-9d7e-672c9ae14ca7",
   "metadata": {},
   "source": [
    "# \"If\", \"Elif\", \"Else\" Loops:"
   ]
  },
  {
   "cell_type": "code",
   "execution_count": 8,
   "id": "f33c9ba8-8cc6-4041-a607-c40658fb0bde",
   "metadata": {},
   "outputs": [
    {
     "name": "stdout",
     "output_type": "stream",
     "text": [
      "b is greater\n"
     ]
    }
   ],
   "source": [
    "# Loops are flow control, they change how data moves thru the application.\n",
    "\n",
    "# Three types are <if>, <elif>, <else>\n",
    "# if a = b, return \"they are equal\"\n",
    "# if a > b, return \"a is greater\"\n",
    "# if a < b, return \"b is greater\"\n",
    "a = 4\n",
    "b = 7\n",
    "\n",
    "if a == b:\n",
    "    print(\"they are equal\")\n",
    "elif a > b:\n",
    "    print(\"a is greater\")\n",
    "elif a < b:\n",
    "    print(\"b is greater\")\n",
    "\n",
    "# <else> is a catch-all at the end (not seen here)"
   ]
  },
  {
   "cell_type": "markdown",
   "id": "7002d69b-265c-49a9-8a17-1ce905e0fae2",
   "metadata": {},
   "source": [
    "# \"While\" Loops:"
   ]
  },
  {
   "cell_type": "code",
   "execution_count": 12,
   "id": "eefbb6dc-e3b7-49b7-80fc-b51389fd482e",
   "metadata": {},
   "outputs": [
    {
     "name": "stdout",
     "output_type": "stream",
     "text": [
      "7\n",
      "6\n"
     ]
    }
   ],
   "source": [
    "# continously test expression until stopping condition is met\n",
    "x = 7\n",
    "while x > 5:\n",
    "    print(x) # this will run until your computer crashes, because x is always greater\n",
    "             # so decrement x until it can stop\n",
    "    x-=1     # (x = x - 1)"
   ]
  },
  {
   "cell_type": "code",
   "execution_count": 11,
   "id": "1988b27a-73f8-4b15-b735-cc492c716876",
   "metadata": {},
   "outputs": [
    {
     "name": "stdout",
     "output_type": "stream",
     "text": [
      "3\n",
      "4\n",
      "5\n",
      "6\n",
      "7\n",
      "8\n",
      "9\n"
     ]
    }
   ],
   "source": [
    "# Create a scenario where x starts at 3 and is incremeneted by 1,\n",
    "# print x while x is less than 10.\n",
    "x = 3\n",
    "while x < 10:\n",
    "    print(x)\n",
    "    x+=1"
   ]
  },
  {
   "cell_type": "markdown",
   "id": "4cf1e658-688c-47e1-a3c4-c0b96d83eb78",
   "metadata": {},
   "source": [
    "# \"For\" Loops:"
   ]
  },
  {
   "cell_type": "code",
   "execution_count": 14,
   "id": "26cb71cf-c8f8-4e23-ad52-3243aee33f38",
   "metadata": {},
   "outputs": [
    {
     "name": "stdout",
     "output_type": "stream",
     "text": [
      "['Dexter', 'John', 'Smitty']\n",
      "['Dexter', 'John', 'Smitty']\n",
      "['Dexter', 'John', 'Smitty']\n"
     ]
    }
   ],
   "source": [
    "cats = [\"Dexter\", \"John\", \"Smitty\"]\n",
    "for cat in cats:\n",
    "    print(cats)"
   ]
  },
  {
   "cell_type": "markdown",
   "id": "7912c66b-4c48-49b8-9d32-9af0f5b0d81c",
   "metadata": {},
   "source": [
    "# Range:"
   ]
  },
  {
   "cell_type": "code",
   "execution_count": 21,
   "id": "fcf8ba28-7dea-4100-885c-2d5f45047f4a",
   "metadata": {},
   "outputs": [
    {
     "name": "stdout",
     "output_type": "stream",
     "text": [
      "2\n",
      "4\n",
      "6\n",
      "8\n"
     ]
    }
   ],
   "source": [
    "# range(start,stop[,step]), the [ ] indicates step is an optional part of range\n",
    "for r in range(2,10,2):\n",
    "    print(r)"
   ]
  },
  {
   "cell_type": "markdown",
   "id": "9d762f23-5b08-4665-bf04-3472588de84c",
   "metadata": {},
   "source": [
    "# Functions:"
   ]
  },
  {
   "cell_type": "code",
   "execution_count": 1,
   "id": "23efd4d4-031a-4652-8cf3-6b38a6fe3f1a",
   "metadata": {},
   "outputs": [
    {
     "name": "stdout",
     "output_type": "stream",
     "text": [
      "b is greater\n"
     ]
    }
   ],
   "source": [
    "# Lets us encapsulate chunks of code we want to use again.\n",
    "def comparing(a,b):\n",
    "    if a == b:\n",
    "        print(\"they are equal\")\n",
    "    elif a > b:\n",
    "        print(\"a is greater\")\n",
    "    elif a < b:\n",
    "        print(\"b is greater\")\n",
    "comparing(2,5)"
   ]
  },
  {
   "cell_type": "markdown",
   "id": "8dceebec-c7f3-4e34-9ebc-d933b685b319",
   "metadata": {},
   "source": [
    "# Classes:"
   ]
  },
  {
   "cell_type": "code",
   "execution_count": 2,
   "id": "c65effad-3bcf-4558-a518-9628d9a13431",
   "metadata": {},
   "outputs": [],
   "source": [
    "# Class is like a blueprint, used to determine rules for all users.\n",
    "    # ex; Person \n",
    "\n",
    "# 1. Class methods\n",
    "    # Can modify class state (group)\n",
    "    # Can't mod object state (individual)\n",
    "    # Used for factory functions\n",
    "    # (change rules for group)\n",
    "\n",
    "# 2. Static methods\n",
    "    # Can't access class OR object state \n",
    "    # Used for utility functions\n",
    "    # (basic checks, disconnected from user (ex; over 18?))\n",
    "\n",
    "# 3. Instance methods\n",
    "    # Can modify class AND object state\n",
    "    # (change both group / individual)"
   ]
  },
  {
   "cell_type": "markdown",
   "id": "49114032-d0d4-4610-8a4b-2bf2404d75dc",
   "metadata": {},
   "source": [
    "# Scope:"
   ]
  },
  {
   "cell_type": "code",
   "execution_count": null,
   "id": "b062d27c-4898-468e-86fa-1ab023809cd6",
   "metadata": {},
   "outputs": [],
   "source": [
    "# \"LEGB\"\n",
    "\n",
    "# (L)ocal = Only available to other code in its scope (ex; functions, only have\n",
    "# access which has been put into it).\n",
    "\n",
    "# (E)nclosing = Nesting functions only. Code from outer nests available to inner.\n",
    "\n",
    "# (G)lobal = Available to all your code, modules, classes, etc.\n",
    "\n",
    "# (B)uilt-in = All code created by Python when you run a script.\n",
    "\n",
    "# You should care because of \"name collision\", which occurs when you use the same\n",
    "# variable twice, causing problems."
   ]
  },
  {
   "cell_type": "markdown",
   "id": "ecde14b2-349b-4b97-a7aa-86336e311507",
   "metadata": {},
   "source": [
    "# Constructors:"
   ]
  },
  {
   "cell_type": "code",
   "execution_count": null,
   "id": "650eaebb-d490-4fe1-9e7e-08346fd3e068",
   "metadata": {},
   "outputs": [],
   "source": [
    "# As seen in the textbook, these use <__init__> and SELF (a default variable\n",
    "# that contains the memory address in the current program you're working.\n",
    "\n",
    "class a_sample_class:\n",
    "    def __init__(self):   # A default constructor.\n",
    "        self.var = 0      # This is just a shell...\n",
    "    def print_vars(self): # ...until you imbue it with self.\n",
    "        print(self.var)   # Prints the instance.\n",
    "\n",
    "object = a_sample_class() # Define an instance of the class.\n",
    "\n",
    "object.print_vars() # This is how you reference "
   ]
  },
  {
   "cell_type": "code",
   "execution_count": 2,
   "id": "17908716-42a7-4f56-9461-a648bb891534",
   "metadata": {},
   "outputs": [
    {
     "name": "stdout",
     "output_type": "stream",
     "text": [
      "2\n"
     ]
    }
   ],
   "source": [
    "class a_sample_class:\n",
    "    def __init__(self, one, two): # A parameterized constructor.\n",
    "        self.first = one\n",
    "    def print_vars(self): # Prints the instance.\n",
    "        print(self.first)\n",
    "\n",
    "object = a_sample_class(2, 8)\n",
    "\n",
    "object.print_vars() # We only told it print whatever's in \"one\"."
   ]
  },
  {
   "cell_type": "code",
   "execution_count": 11,
   "id": "ff0ceecc-4be4-42cd-969b-b13754f59fe5",
   "metadata": {},
   "outputs": [
    {
     "name": "stdout",
     "output_type": "stream",
     "text": [
      "17\n",
      "5\n"
     ]
    },
    {
     "ename": "AttributeError",
     "evalue": "type object 'a_sample_class' has no attribute 'first'",
     "output_type": "error",
     "traceback": [
      "\u001b[0;31m---------------------------------------------------------------------------\u001b[0m",
      "\u001b[0;31mAttributeError\u001b[0m                            Traceback (most recent call last)",
      "Cell \u001b[0;32mIn[11], line 10\u001b[0m\n\u001b[1;32m      8\u001b[0m \u001b[38;5;28mprint\u001b[39m(obj\u001b[38;5;241m.\u001b[39mfirst) \u001b[38;5;66;03m# Instance attribute as property of object. Prints value.\u001b[39;00m\n\u001b[1;32m      9\u001b[0m \u001b[38;5;28mprint\u001b[39m(obj\u001b[38;5;241m.\u001b[39mclass_attr) \u001b[38;5;66;03m# Class attribute as property of object. Prints value.\u001b[39;00m\n\u001b[0;32m---> 10\u001b[0m \u001b[38;5;28mprint\u001b[39m(\u001b[43ma_sample_class\u001b[49m\u001b[38;5;241;43m.\u001b[39;49m\u001b[43mfirst\u001b[49m) \u001b[38;5;66;03m# Instance attribute as property of class. Error\u001b[39;00m\n\u001b[1;32m     11\u001b[0m \u001b[38;5;66;03m# because class has no instance (\"first\" is only a property of self.first).\u001b[39;00m\n\u001b[1;32m     12\u001b[0m \u001b[38;5;28mprint\u001b[39m(a_sample_class\u001b[38;5;241m.\u001b[39mclass_attr) \u001b[38;5;66;03m# Class attribute as property of class.\u001b[39;00m\n",
      "\u001b[0;31mAttributeError\u001b[0m: type object 'a_sample_class' has no attribute 'first'"
     ]
    }
   ],
   "source": [
    "class a_sample_class:\n",
    "    class_attr = 5\n",
    "    def __init__(self, one, two):\n",
    "        self.first = one\n",
    "        self.second = two\n",
    "\n",
    "obj = a_sample_class(17,42)\n",
    "print(obj.first) # Instance attribute as property of object. Prints value.\n",
    "print(obj.class_attr) # Class attribute as property of object. Prints value.\n",
    "print(a_sample_class.first) # Instance attribute as property of class. Error\n",
    "# because class has no instance (\"first\" is only a property of self.first).\n",
    "print(a_sample_class.class_attr) # Class attribute as property of class."
   ]
  },
  {
   "cell_type": "markdown",
   "id": "ee8eba15-2e79-4bbc-b4e7-32a651229e2f",
   "metadata": {},
   "source": [
    "# Instance and Class Attributes:"
   ]
  },
  {
   "cell_type": "markdown",
   "id": "7c3ede93-8f03-4125-ac88-d8d72913a205",
   "metadata": {},
   "source": [
    "Instance attrbute = variable that belongs to a specific instance. Defined inside \n",
    "the constructor <__init__>. Can access from the scope of an object (local).\n",
    "\n",
    "Class attribute = type of variable that belongs to the class itself. Defined \n",
    "outside the constructor. Both property of class AND of the object. You can \n",
    "mutate a class attr --> instance attr."
   ]
  },
  {
   "cell_type": "code",
   "execution_count": 4,
   "id": "cc1e011f-e9d8-4ad7-9ec9-9c1e5563901d",
   "metadata": {},
   "outputs": [],
   "source": [
    "# Returns info on given thing. help(obj)"
   ]
  },
  {
   "cell_type": "code",
   "execution_count": 2,
   "id": "44d781a3-4ebb-460c-9713-19433fd8d02c",
   "metadata": {},
   "outputs": [],
   "source": [
    "# Basically returns all the names inside a function, if none are named, then\n",
    "# those available to you. dir()"
   ]
  },
  {
   "cell_type": "code",
   "execution_count": 3,
   "id": "2b253ebc-9a2b-4074-84fa-13139b129073",
   "metadata": {},
   "outputs": [],
   "source": [
    "# Returns the current module namespace (the collection of currently\n",
    "# defined symbolic names and the objects each of them references)."
   ]
  },
  {
   "cell_type": "markdown",
   "id": "26296898-8deb-4922-ae86-590bfc918769",
   "metadata": {},
   "source": [
    "# Instance, Class, and Static Methods:"
   ]
  },
  {
   "cell_type": "code",
   "execution_count": 27,
   "id": "39ae66c6-96c8-485c-b289-9044fad40e04",
   "metadata": {},
   "outputs": [],
   "source": [
    "class candy:\n",
    "    def __init__(self,                   # Variables with a single underscore\n",
    "                 _brand,                 # are reserved for internal purposes. \n",
    "                 _is_caramel=False,      # These are defaults, which are used\n",
    "                 _has_nuts=False,        # to print an instance unless you\n",
    "                 _calories=200,          # specify otherwise.\n",
    "                 _type='chocolate'):\n",
    "        self.type = _type\n",
    "        self.brand = _brand              # Order doesn't matter, also you\n",
    "        self.is_caramel = _is_caramel    # don't need to include all attr.\n",
    "        self.calories = _calories\n",
    "\n",
    "# Remember, instance methods can access and modify both\n",
    "# class AND instance states.\n",
    "def display(self):\n",
    "    print(f'My favorite candy is {self.brand} {self.type}')\n",
    "\n",
    "# Remember, class methods used to modify the state of a class (ALL instances),\n",
    "# eg; would be used for a pizza-topping adder on an app (don't wanna have to \n",
    "# type out every topping).\n",
    "@classmethod\n",
    "def snickers(cls):\n",
    "    return cls('Snickers', _is_caramel = True, _has_nuts = True)\n",
    "\n",
    "# Remember, static methods are used to compare or validate data. If you want\n",
    "# to check a value without needing an instance of it (save storage space).\n",
    "@staticmethod\n",
    "def calories(size, n):\n",
    "    if size == 'Large':\n",
    "        calories = 500\n",
    "    elif size == 'Regular':\n",
    "        calories = 350\n",
    "    elif size == 'FunSized':\n",
    "        calories = 100\n",
    "    else:\n",
    "        calories = 0\n",
    "    calories = calories*n"
   ]
  },
  {
   "cell_type": "code",
   "execution_count": null,
   "id": "8ce1e998-efa8-45a4-928c-3c21486f7881",
   "metadata": {},
   "outputs": [],
   "source": [
    "favorite_candy = candy(_brand = 'HundredGrand')\n",
    "favorite_candy.display()"
   ]
  },
  {
   "cell_type": "code",
   "execution_count": null,
   "id": "4079956b-0ce8-4bbc-a4ca-95967d498d93",
   "metadata": {},
   "outputs": [],
   "source": [
    "candy.calories('funsized', 40)\n",
    "\n",
    "# These should return proper stuff but I fucked up! So I'm not pushing it :)"
   ]
  },
  {
   "cell_type": "markdown",
   "id": "382cc9d0-b25c-4a11-b051-9b9148fbec39",
   "metadata": {},
   "source": [
    "# Decorators"
   ]
  },
  {
   "cell_type": "code",
   "execution_count": null,
   "id": "c8c823b6-c8ee-41af-8270-2b11ff83d028",
   "metadata": {},
   "outputs": [],
   "source": [
    "# Extend the behavior of a code without explicitly changing the function.\n",
    "# You can create a lot of them if you expect to use special functions\n",
    "# but don't want to mod the original.\n",
    "def the_decorator(func):\n",
    "    print(\"decorator is running\")\n",
    "    func()\n",
    "    print(\"still running\")"
   ]
  },
  {
   "cell_type": "markdown",
   "id": "897785ae-3e29-4f63-87aa-b74145227929",
   "metadata": {},
   "source": [
    "Encapsulation = Implementation details are hidden——\"encapsulated\"——in objs.\n",
    "\n",
    "Inheritance = \"Child\" classes can inherit from parent classes/modules.\n",
    "\n",
    "Polymorphism = Objs and names exist in many forms, same attribute/method\n",
    "can exist in multiple classes and mean different things.\n",
    "\n",
    "Abstraction = Handling a concept rather than implementation details."
   ]
  },
  {
   "cell_type": "markdown",
   "id": "db90e038-cf69-4667-a98a-bf48d9767317",
   "metadata": {},
   "source": [
    "# NumPy Overview"
   ]
  },
  {
   "cell_type": "markdown",
   "id": "c4c652bf-f133-449d-80d8-072cd7e096f3",
   "metadata": {},
   "source": [
    "A module that interacts with arrays, which are more high-funcitoning lists."
   ]
  },
  {
   "cell_type": "code",
   "execution_count": null,
   "id": "07ed51f5-9342-4594-8834-b9ec4773cd5c",
   "metadata": {},
   "outputs": [],
   "source": [
    "# Vectors        [2 8 -7][2] \n",
    "# (think 2 big           [3]\n",
    "# brackets on outside    [9]            \n",
    "\n",
    "# Matrices [6 4 24\n",
    "            1 9 66]\n",
    "\n",
    "# Images (converted from numbers, every pixel is converted to its RGB values, in form of matrix)\n",
    "\n",
    "# Tensors (think cubes, but they're force diagrams)\n",
    "\n",
    "# ConvNets (think the layers for a flipnote, but for programs / their nests)"
   ]
  },
  {
   "cell_type": "code",
   "execution_count": null,
   "id": "c90d566b-50af-4060-bd51-2b92bcb86af8",
   "metadata": {},
   "outputs": [],
   "source": [
    "import numpy as np\n",
    "a = np.array([[1, 2, 3], [4, 5, 6]])\n",
    "print(a.ndim) # Shows how many dimensions in array (including 0 (scalar))\n",
    "print(a.shape) # Shows how many coloumns and rows in array\n",
    "\n",
    "# Arrays are typed \n",
    "# Arrays are dense objects\n",
    "# Faster than python lists because less memory\n",
    "# You can ONLY combine arrays of the same shape!"
   ]
  },
  {
   "cell_type": "markdown",
   "id": "c56f881c-1cae-47ed-be6a-80b740a97a19",
   "metadata": {},
   "source": [
    "Array Exercises:"
   ]
  },
  {
   "cell_type": "code",
   "execution_count": null,
   "id": "29a7a3a9-6c0b-4a35-9d30-23812f374bf5",
   "metadata": {},
   "outputs": [],
   "source": [
    "# 1:\n",
    "b = "
   ]
  },
  {
   "cell_type": "code",
   "execution_count": null,
   "id": "c22d6e33-5691-4990-936a-5df41211296d",
   "metadata": {},
   "outputs": [],
   "source": [
    "#2:\n",
    "a = np.array([1, 2, 3, 4, 5, 6])\n",
    "a = a.reshape(3, 2)\n",
    "a = a.reshape(2, -1) # Rearranges ... somehow idk\n",
    "a = a.ravel # Unravels the data\n",
    "print(a)"
   ]
  },
  {
   "cell_type": "markdown",
   "id": "3b71341c-e6f7-48a6-b262-b8da1c4dbae0",
   "metadata": {},
   "source": [
    "Transposition:"
   ]
  },
  {
   "cell_type": "code",
   "execution_count": null,
   "id": "a6211895-78b2-4626-a759-3fe15a5cb951",
   "metadata": {},
   "outputs": [],
   "source": [
    "a = np.arange(10).reshape(5, 2) \n",
    "a = a.transpose((1,0)) # np.transpose rearranges axes"
   ]
  },
  {
   "cell_type": "code",
   "execution_count": null,
   "id": "a8f75a35-cc79-4e32-b269-a9a59883517f",
   "metadata": {},
   "outputs": [],
   "source": [
    "a = a.T # Everything in the first column now in the first row\n",
    "a"
   ]
  },
  {
   "cell_type": "markdown",
   "id": "0e870b0d-3982-4a3c-8db2-33bd9f5356c2",
   "metadata": {},
   "source": [
    "Math, Universal Functions:"
   ]
  },
  {
   "cell_type": "code",
   "execution_count": null,
   "id": "ac49d667-e265-4607-a379-f8e48cefd3c0",
   "metadata": {},
   "outputs": [],
   "source": [
    "# Very prevalent\n",
    "# Also called ufuncs\n",
    "# Element-wise (distributes data over container)\n",
    "# Examples:\n",
    "# - np.exp\n",
    "# - np.sqrt\n",
    "# - np.sin\n",
    "# - np.cos\n",
    "# - np.isnan\n",
    "\n",
    "np.sqrt(a)"
   ]
  },
  {
   "cell_type": "markdown",
   "id": "0741f9b1-a90d-4ea1-9443-180c559993e4",
   "metadata": {},
   "source": [
    "Indexing:"
   ]
  },
  {
   "cell_type": "code",
   "execution_count": null,
   "id": "917bc0b1-39b4-4a80-80e1-49c9bd86d374",
   "metadata": {},
   "outputs": [],
   "source": [
    "# a[0, 0]    Top-left element\n",
    "# a[0, -1]   First row, last column\n",
    "# a[0, :]    First row (many entires)\n",
    "# a[:, 0]    First column (many entires)"
   ]
  },
  {
   "cell_type": "markdown",
   "id": "7c11b401-56e7-4604-b695-e66735232a71",
   "metadata": {},
   "source": [
    "Pandas:"
   ]
  },
  {
   "cell_type": "code",
   "execution_count": null,
   "id": "fc779355-bb09-4fa4-986d-e8e1d36dbb91",
   "metadata": {},
   "outputs": [],
   "source": [
    "# Python module (library) used for data analysis and exploration\n",
    "# Two main useful data structures:\n",
    "#  - Series\n",
    "#  - DataFrames\n",
    "\n",
    "# CAN import data files and turn them into DataFrames\n",
    "#  - CSV (comma-separated values)\n",
    "\n",
    "# Handles, at most, medium-sized data \n",
    "\n",
    "# If you get stuck, look at documentation!"
   ]
  },
  {
   "cell_type": "markdown",
   "id": "9366e2be",
   "metadata": {},
   "source": [
    "# 2/7 Notes:"
   ]
  },
  {
   "cell_type": "markdown",
   "id": "fe0c977c",
   "metadata": {},
   "source": [
    "Pseudocode: What does the following do/return?"
   ]
  },
  {
   "cell_type": "code",
   "execution_count": null,
   "id": "9a527723",
   "metadata": {},
   "outputs": [],
   "source": [
    "Integer a, b, c \n",
    "b = 4, c = 5\n",
    "for(each a from 2 to 4):\n",
    "print(c)\n",
    "b = b - 1\n",
    "c = c + b\n",
    "end for"
   ]
  },
  {
   "cell_type": "markdown",
   "id": "a8d10ff4",
   "metadata": {},
   "source": [
    "Matplotlib Plotting:\n",
    "\n",
    "Edward Tufte's \"Graphical Integrity Principles\"\n",
    "\n",
    "1.) Representations of numbers should match their TRUE proportions (eg; 1 + 1 = 2)\n",
    "\n",
    "2.) Labeling should be clear / complete\n",
    "\n",
    "3.) Designs should show only DATA variations, NOT DESIGN... you want graphs to be same size\n",
    "\n",
    "4.) Standardized units are best-used for money (remember dollars, not dollars^2... variance)\n",
    "\n",
    "5.) Number of dimensions visualized should be EQUAL to number dimensions in data\n",
    "\n",
    "6.) Don't start with \"some goal\", don't fabricate!"
   ]
  },
  {
   "cell_type": "markdown",
   "id": "31c2ec14",
   "metadata": {},
   "source": [
    "# 2/12 (other notes in jeopardy folder):"
   ]
  },
  {
   "cell_type": "markdown",
   "id": "37a4e54c",
   "metadata": {},
   "source": [
    "Scales of Measurement:\n",
    "\n",
    "Nominal = Categories without natural order (blood type, zip code, race)\n",
    "\n",
    "Ordinal = Data is ordered and rank indicates something, but no one difference besides that\n",
    "\n",
    "Interval = Order and difference between two values is meaningful (Celsius and Farenheit), ex; credit scores, pH\n",
    "\n",
    "Ratio = Same as interval, but there's also 0 (concentration, Kelvin, weight)"
   ]
  },
  {
   "cell_type": "markdown",
   "id": "78918253",
   "metadata": {},
   "source": [
    "Central Tendency:\n",
    "\n",
    "\n",
    "Positive skew = Mode --> Median --> Mean\n",
    "\n",
    "Symmetrical = Mean / Median / Mode (on top of one another)\n",
    "\n",
    "Negative skew = Mean --> Median --> Mode\n",
    "\n",
    "- Replace null values with the mean when data is normally distributed    /    with median when data is skewed"
   ]
  },
  {
   "cell_type": "markdown",
   "id": "ce4bbaf8",
   "metadata": {},
   "source": [
    "# 2/14:"
   ]
  },
  {
   "cell_type": "markdown",
   "id": "19b7f12b",
   "metadata": {},
   "source": [
    "Random variable, x, where the possible outcomes are a function of random phenomena\n",
    "- Probability for any event is between 0 --> 1, inclusive\n",
    "- Adding all probabilites together = 1\n",
    "\n",
    "We use randseed = (sumn) to make sure results are repeatable (or not) across different machines\n"
   ]
  },
  {
   "cell_type": "markdown",
   "id": "cecd7a6c",
   "metadata": {},
   "source": [
    "Discrete = Black and white, whole numbers (you flipped a coin, landed on head discrete times)\n",
    "\n",
    "Continuous = Every single value between two bounds (ex; heights can get very microinches and whatnot)"
   ]
  },
  {
   "cell_type": "markdown",
   "id": "d1d69c29",
   "metadata": {},
   "source": [
    "Uniform Dist. = All outcomes have same probability (when graphed, looks like a big square in which all values are possible)\n",
    "- Could use mean OR median when using nulls"
   ]
  },
  {
   "cell_type": "markdown",
   "id": "3f6df1f1",
   "metadata": {},
   "source": [
    "Binomial Dist. = Symmetrical, but could be discrete (think coin flip chances, only whole numbers)"
   ]
  },
  {
   "cell_type": "markdown",
   "id": "2e20e319",
   "metadata": {},
   "source": [
    "Normal Dist. = Symmetrical, for continuous data (temp, weight, speed, things with gradations / infintely small parts)"
   ]
  },
  {
   "cell_type": "markdown",
   "id": "3a8afe6f",
   "metadata": {},
   "source": [
    "Expected Value:"
   ]
  },
  {
   "cell_type": "markdown",
   "id": "6daa73d9",
   "metadata": {},
   "source": [
    "- Law of large numbers = As sample size increases, sample mean gets closer to pop. mean\n",
    "- Uniform dist = For rand variable, expected value = (a+b)/2 where a is maximum / b is minimum\n",
    "- Binomial dist = Mean IS expected value = n trials * p probability\n",
    "- Standard Norm = Mean IS expected value (^)"
   ]
  },
  {
   "cell_type": "markdown",
   "id": "7adb2153",
   "metadata": {},
   "source": [
    "Machine Learning:"
   ]
  },
  {
   "cell_type": "markdown",
   "id": "109d939c",
   "metadata": {},
   "source": [
    "- Supervised = Provided a set of correct answers (underlying categories include Classification, Regression)\n",
    "- Unsupervised = No correct answers (underlying incl clustering, dimensionality reduction)"
   ]
  },
  {
   "cell_type": "markdown",
   "id": "58631aad",
   "metadata": {},
   "source": [
    "Preprocessing:"
   ]
  },
  {
   "cell_type": "markdown",
   "id": "8a930895",
   "metadata": {},
   "source": [
    "1. Clean up null values\n",
    "2. Data cleaning (dashes, odd characters, etc.)\n",
    "- Handle missing data\n",
    "- Remove extreme outliers (investigate it if u have resources to)\n",
    "3. One-Hot encoding*\n",
    "4. Convert categorical values to numerical (sometimes akin to 3)\n",
    "5. Standardization / Normalization\n",
    "6. Deal with multicollinearity "
   ]
  },
  {
   "cell_type": "markdown",
   "id": "f47d4f14",
   "metadata": {},
   "source": [
    "Feature Enginering = Selecting variables that are best predictors for what they were trying to predict\n",
    "- Computation are times with too many features, and lead to overfitting"
   ]
  },
  {
   "cell_type": "markdown",
   "id": "9adb2492",
   "metadata": {},
   "source": [
    "Cross Validation = Testing performance of a machine learning model\n",
    "- Train model using subset of data\n",
    "- Test model performance using different subset (with OR without replacement)"
   ]
  },
  {
   "cell_type": "markdown",
   "id": "2eab42c9",
   "metadata": {},
   "source": [
    "(See exmaples of preprocessing in Loans.ipynb)"
   ]
  },
  {
   "cell_type": "markdown",
   "id": "e2340fc9",
   "metadata": {},
   "source": [
    "# (See warmups for 2/19)"
   ]
  },
  {
   "cell_type": "markdown",
   "id": "e6f6cb1f",
   "metadata": {},
   "source": [
    "# 2/21:"
   ]
  },
  {
   "cell_type": "markdown",
   "id": "bf4c58c3",
   "metadata": {},
   "source": [
    "Multiple Linear Regression:"
   ]
  },
  {
   "cell_type": "markdown",
   "id": "f4291102",
   "metadata": {},
   "source": [
    "- Many variables (different x's and powers of x's)\n",
    "- Look at correlations between different columns (R^2's) BEFORE and AFTER feature is added (sklearn.feature_selection can help)\n",
    "- Each feature --> column --> new power of x\n",
    "- Use mean squared error / R^2 to validate model fit"
   ]
  },
  {
   "cell_type": "markdown",
   "id": "c474e416",
   "metadata": {},
   "source": [
    "Mean Squared Error = Again, that's adding together all diffs. from mean, squaring, and dividing by all # of values"
   ]
  },
  {
   "cell_type": "markdown",
   "id": "5e26c420",
   "metadata": {},
   "source": [
    "Once again:\n",
    "- R is correlation\n",
    "- R^2 is squared... correlation\n",
    "- R^2 between 0-1, how model best fits"
   ]
  },
  {
   "cell_type": "markdown",
   "id": "5bc88d64",
   "metadata": {},
   "source": [
    "# 2/26:"
   ]
  },
  {
   "cell_type": "markdown",
   "id": "0712773a",
   "metadata": {},
   "source": [
    "Use \"LOGISTIC\" regression to predict yes/no question, with more negative results being closer to 0 and more positive being closer to 1."
   ]
  },
  {
   "cell_type": "markdown",
   "id": "d8595266",
   "metadata": {},
   "source": [
    "With \"complete separation\", you can just use \"if\", \"then\" statements (its conditional, like flipping levers), to find if something is or isn't something."
   ]
  },
  {
   "cell_type": "markdown",
   "id": "342a1b5e",
   "metadata": {},
   "source": [
    "Accuracy = (True Positives + True Negatives) / (All guesses)\n",
    "\n",
    "Precision = (TP) / (TP+FP)\n",
    "\n",
    "Recall = 9TP / TP + FN (were a thing, and you guessed thing correctly)\n",
    "\n",
    "F1Score = (2 * precision * recall) / (precision + recall)"
   ]
  },
  {
   "cell_type": "markdown",
   "id": "76cbcbec",
   "metadata": {},
   "source": [
    "Overfitting = Model that fits data TOO closely \n",
    "\n",
    "Underfitting = Problem that occurs when model is OVERgeneralized"
   ]
  },
  {
   "cell_type": "markdown",
   "id": "21704523",
   "metadata": {},
   "source": []
  },
  {
   "cell_type": "markdown",
   "id": "c40f57ff",
   "metadata": {},
   "source": [
    "# 2/28:"
   ]
  },
  {
   "cell_type": "markdown",
   "id": "49516aa9",
   "metadata": {},
   "source": [
    "# DbMs = Data Base Management Systems\n",
    "- Database = Collection of records that can be added, modiffied, managed and processed into useful information\n",
    "- Schema = How all tables of data relate to each other (the framework)"
   ]
  },
  {
   "cell_type": "markdown",
   "id": "82db141e",
   "metadata": {},
   "source": [
    "DBMS:\n",
    "- Collection of interrelated data\n",
    "- Set of programs to access data\n",
    "- DBMS contains information about particular enterprise\n",
    "- DBMS provides enviornment that is both convinient and effecient to use\n",
    "\n",
    "Database Applications:\n",
    "- Banking = All transactions\n",
    "- Airlines = Reservations, schedules\n",
    "- Universities = Registration, grades\n",
    "- Sales = Customers, products, purchases\n",
    "- Manufacturing = Production, inventory, orders, supply chain\n",
    "- Human resources = Employee records, salaries, tax deductions\n",
    "\n",
    "Databases affect EVERYTHING"
   ]
  },
  {
   "cell_type": "markdown",
   "id": "5e7800f0",
   "metadata": {},
   "source": [
    "# DBMS:\n",
    "1. Send AND recieve data from applications\n",
    "2. Send AND receieve data from other DBMS\n",
    "3. Send AND recieve data from other Users"
   ]
  },
  {
   "cell_type": "markdown",
   "id": "0363971b",
   "metadata": {},
   "source": [
    "# Database Models:"
   ]
  },
  {
   "cell_type": "markdown",
   "id": "43e1f7eb",
   "metadata": {},
   "source": [
    "1. Relational = Connor's App has another app within it, and that app has another two apps within it\n",
    "2. Non-relational:\n",
    "- Network = means all connected, jumbled\n",
    "- hierarchical = As it implies, an ordered jumble"
   ]
  },
  {
   "cell_type": "markdown",
   "id": "064906f0",
   "metadata": {},
   "source": [
    "# Types of Data:\n",
    "\n",
    "Highest Growth = Unstructued\n",
    "- Data has no inherinet structure and is stored as different types of values\n",
    "- ex; text docus, pdfs, images, videos\n",
    "\n",
    "High-med Growth = Quasi Structured\n",
    "- Textual data with erratic formats that can be formatted with effort / software tools\n",
    "- ex; clickstream data (massive text blob)\n",
    "\n",
    "Med-low Growth = Semi-Strutured\n",
    "- Text data files with apparent pattern, easier to analyze\n",
    "- ex; spreadsheets and xml files\n",
    "\n",
    "Low Growth = Structured\n",
    "- Data with defined model, format, structure\n",
    "- ex; DBSMs"
   ]
  },
  {
   "cell_type": "markdown",
   "id": "134dd05e",
   "metadata": {},
   "source": [
    "ACID = Properties of all database transactions, guarantee accuracy\n",
    "- Atomicity = Whole transaction either succeeds or fails when changes are made to database (all or nothing)\n",
    "- Consistency = All data follows rules, including constriants/cascades/triggers\n",
    "- Isolation = All transactions occur in isolation, no transaction can alter uncommitted transaction\n",
    "- Durability = Once a transaction is committed, it STAYS in system, even if system crashes, it'll live\n",
    "\n",
    "System can be \"ACID\"-compliant, or not (but should be)"
   ]
  },
  {
   "cell_type": "markdown",
   "id": "ff0e39df",
   "metadata": {},
   "source": [
    "# Review:"
   ]
  },
  {
   "cell_type": "markdown",
   "id": "f6839419",
   "metadata": {},
   "source": [
    "1. Data is information, organized into numbers or symbol\n",
    "2. Collection of that above information which can be added, modified, and processed\n",
    "3. Different types:\n",
    "- Unstructured\n",
    "- Quasi-structured\n",
    "- Semi-setructured\n",
    "- Structured"
   ]
  },
  {
   "cell_type": "markdown",
   "id": "d730db12",
   "metadata": {},
   "source": [
    "# Intro to SQL:"
   ]
  },
  {
   "cell_type": "markdown",
   "id": "a36c2b50",
   "metadata": {},
   "source": [
    "SQL = Structured Query Language\n",
    "- Can define AND manipulate "
   ]
  },
  {
   "cell_type": "markdown",
   "id": "db8ddf8b",
   "metadata": {},
   "source": [
    "SELECT column1, column2, ...\n",
    "FROM table_name;\n",
    "\n",
    "SELECT * FROM table_name;"
   ]
  },
  {
   "cell_type": "markdown",
   "id": "5dbfa15d",
   "metadata": {},
   "source": [
    "# Limit:"
   ]
  },
  {
   "cell_type": "markdown",
   "id": "705f18a9",
   "metadata": {},
   "source": [
    "SELECT column_name(s)\n",
    "\n",
    "FROM table_name\n",
    "\n",
    "WHERE condition\n",
    "\n",
    "LIMIT number;"
   ]
  },
  {
   "cell_type": "markdown",
   "id": "13aab850",
   "metadata": {},
   "source": [
    "Different dialects of SQL have different ways of limiting:\n",
    "- ROWNUM in Oracle\n",
    "- TOP in SQL Server"
   ]
  },
  {
   "cell_type": "markdown",
   "id": "b952e5c3",
   "metadata": {},
   "source": [
    "...you can also run:"
   ]
  },
  {
   "cell_type": "markdown",
   "id": "2bacf268",
   "metadata": {},
   "source": [
    "SELECT count(*)\n",
    "\n",
    "FROM table_name"
   ]
  },
  {
   "cell_type": "markdown",
   "id": "7c63df4e",
   "metadata": {},
   "source": [
    "To see how risky a select * is, but it's always safer to use LIMIT"
   ]
  },
  {
   "cell_type": "markdown",
   "id": "85b028e3",
   "metadata": {},
   "source": [
    "# Where Clause:"
   ]
  },
  {
   "cell_type": "markdown",
   "id": "97e09c0a",
   "metadata": {},
   "source": [
    "SELECT column1, column2, ...\n",
    "FROM table_name\n",
    "WHERE condition;\n",
    "\n",
    "(all normal =, <, >, >=, <=)\n",
    "- also \"BETWEEN, LIKE, WHERE\""
   ]
  },
  {
   "cell_type": "markdown",
   "id": "5ad8569b",
   "metadata": {},
   "source": [
    "# 3/4:\n",
    "Degrees of relationships\n",
    "1. \"O\" = Optional\n",
    "2. \"|\" = Mandatory\n",
    "\n",
    "Cardinality = Relationship of data in one entity to that of another\n",
    "1. \"O\" = Zero\n",
    "2. \"|\" = One\n",
    "3. \">\" = Many\n",
    "\n",
    "ex; \"A mandatorily connected to one B\" --|--|--"
   ]
  },
  {
   "cell_type": "markdown",
   "id": "13acc9da",
   "metadata": {},
   "source": [
    "# 3/18:"
   ]
  },
  {
   "cell_type": "code",
   "execution_count": null,
   "id": "2315a259",
   "metadata": {},
   "outputs": [],
   "source": [
    "CREATE TABLE dogs (\n",
    "\tsize VARCHAR(250),\n",
    "\tgender VARCHAR(250),\n",
    "\tbreed INT\n",
    ");\n",
    "\n",
    "INSERT INTO dogs (size, gender, breed) VALUES\n",
    "\t('BIG', 'FEMALE', 2);"
   ]
  },
  {
   "cell_type": "markdown",
   "id": "348f2576",
   "metadata": {},
   "source": [
    "Aggregates = fundamental \n",
    "- MUST have GroupBy clause\n",
    "- Includes count, max/min, average, sum\n",
    "\n",
    "SELECT SUM(column_name), 2column_name\n",
    "FROM table_name\n",
    "GROUP BY 2 column_name\n",
    "\n",
    "ex; \n",
    "\n"
   ]
  },
  {
   "cell_type": "markdown",
   "id": "32832972",
   "metadata": {},
   "source": [
    "Subqueries = Query nested in larger query\n",
    "- In \"SELECT\", \"FROM\", \"WHERE\" clauses\n",
    "- Innery query executes before parent query SO inner query result is used in parent query\n",
    "- DON'T really use in production systems bc ineffecient, however:\n",
    "    - Not always possible to use a join\n",
    "    - Subqueries used with update, insert and delete"
   ]
  },
  {
   "cell_type": "code",
   "execution_count": null,
   "id": "66f7acc2",
   "metadata": {},
   "outputs": [],
   "source": [
    "# Shows titles NOT in inventory table:\n",
    "SELECT title\n",
    "FROM film\n",
    "WHERE film_id NOT IN ( # WHERE clause\n",
    "    film_id\n",
    "    FROM inventory\n",
    ");\n",
    "\n",
    "# Shows rental_ids for Mary Smith:\n",
    "SELECT rental_id\n",
    "FROM rental\n",
    "WHERE customer_id = ( # WHERE clause\n",
    "    SELECT customer_id\n",
    "    FROM customer\n",
    "    WHERE first_name = 'Mary' AND last_name = 'Smith'\n",
    ");\n",
    "\n",
    "# idek:\n",
    "SELECT title,\n",
    "    (SELECT COUNT(*)\n",
    "     FROM rental\n",
    "     JOIN inventory ON rental.inventory_id = inventory.inventory_id\n",
    "     GROUP BY inventory.film_id\n",
    ") AS rental_counts ON film.film_id = rentalcounts.film_id # ?\n",
    "\n",
    "# ex; Write a subquery that finds the film_id, title, and replacement_cost for\n",
    "# each film where the replacement_cost if greater than the average:\n",
    "SELECT film_id, title, replacement_cost\n",
    "FROM film\n",
    "WHERE replacement_cost > (\n",
    "\tSELECT AVG(replacement_cost)\n",
    "\tFROM film\n",
    ");"
   ]
  },
  {
   "cell_type": "markdown",
   "id": "ac2b0781",
   "metadata": {},
   "source": [
    "Data Modeling:"
   ]
  },
  {
   "cell_type": "markdown",
   "id": "33c1a396",
   "metadata": {},
   "source": [
    "Audience_____________________________________________Purpose:\n",
    "\n",
    "Business Stakeholders --> Conceptual (Biz Concepts) --> Communication and definition of business terms and rules\n",
    "\n",
    "Data Architecture (Biz Analysis) --> Logical (Data Entities) --> Clarification and detail of business rules and data structures\n",
    "\n",
    "DBAs / Developers --> Physical (Physical Tables) --> Technical Implementation on physical database"
   ]
  },
  {
   "cell_type": "markdown",
   "id": "c8462996",
   "metadata": {},
   "source": [
    "## 3/20:"
   ]
  },
  {
   "cell_type": "markdown",
   "id": "c6017e1c",
   "metadata": {},
   "source": [
    "Answers the question: what if our data is imbalanced (eg, not a lot of \"yes\"'s in fraud detection case)?\n",
    "- Help build models when predicting MINORITY case (ex; medical diagnosis)"
   ]
  },
  {
   "cell_type": "markdown",
   "id": "cecb3f88",
   "metadata": {},
   "source": [
    "Resampling = Training model on new training set with DIFFERENT data (class dist) than before"
   ]
  },
  {
   "cell_type": "markdown",
   "id": "ad1c47bb",
   "metadata": {},
   "source": [
    "Oversampling = CREATE artificial examples of minority class you're trying to predict about\n",
    "- Random Oversampling = Randomly ^^^ --> add to training set (NOT TEST)\n",
    "- Sometimes, can't test stuff in lower enviornments\n",
    "\n",
    "Undersampling = Delete / merge examples of majority class\n",
    "- Random Undersampling = Randomly ^^ --> add to training set (NOT TEST)\n",
    "- If u can't create new data (think, an airplane at boeing)\n",
    "\n",
    "For both, data are selected from the original training dataset, added to the new training dataset, and then returned or “replaced” in the original dataset, allowing them to be selected again\n",
    "- DON'T use together, generally, unless it doesn't fw data\n",
    "- Naive approach means ONLY looks at numbers... minimally useful in real-world setting"
   ]
  },
  {
   "cell_type": "markdown",
   "id": "fb0fbc75",
   "metadata": {},
   "source": [
    "fit_resample does ^^, with the prefix <oversample.> and <undersample.>"
   ]
  },
  {
   "cell_type": "markdown",
   "id": "26ec1b9f",
   "metadata": {},
   "source": [
    "## Oversampling:"
   ]
  },
  {
   "cell_type": "code",
   "execution_count": 3,
   "id": "d38515a0",
   "metadata": {},
   "outputs": [
    {
     "data": {
      "text/html": [
       "<div>\n",
       "<style scoped>\n",
       "    .dataframe tbody tr th:only-of-type {\n",
       "        vertical-align: middle;\n",
       "    }\n",
       "\n",
       "    .dataframe tbody tr th {\n",
       "        vertical-align: top;\n",
       "    }\n",
       "\n",
       "    .dataframe thead th {\n",
       "        text-align: right;\n",
       "    }\n",
       "</style>\n",
       "<table border=\"1\" class=\"dataframe\">\n",
       "  <thead>\n",
       "    <tr style=\"text-align: right;\">\n",
       "      <th></th>\n",
       "      <th>Pregnancies</th>\n",
       "      <th>Glucose</th>\n",
       "      <th>BloodPressure</th>\n",
       "      <th>SkinThickness</th>\n",
       "      <th>Insulin</th>\n",
       "      <th>BMI</th>\n",
       "      <th>DiabetesPedigreeFunction</th>\n",
       "      <th>Age</th>\n",
       "      <th>Outcome</th>\n",
       "    </tr>\n",
       "  </thead>\n",
       "  <tbody>\n",
       "    <tr>\n",
       "      <th>0</th>\n",
       "      <td>6</td>\n",
       "      <td>148</td>\n",
       "      <td>72</td>\n",
       "      <td>35</td>\n",
       "      <td>0</td>\n",
       "      <td>33.6</td>\n",
       "      <td>0.627</td>\n",
       "      <td>50</td>\n",
       "      <td>1</td>\n",
       "    </tr>\n",
       "    <tr>\n",
       "      <th>1</th>\n",
       "      <td>1</td>\n",
       "      <td>85</td>\n",
       "      <td>66</td>\n",
       "      <td>29</td>\n",
       "      <td>0</td>\n",
       "      <td>26.6</td>\n",
       "      <td>0.351</td>\n",
       "      <td>31</td>\n",
       "      <td>0</td>\n",
       "    </tr>\n",
       "    <tr>\n",
       "      <th>2</th>\n",
       "      <td>8</td>\n",
       "      <td>183</td>\n",
       "      <td>64</td>\n",
       "      <td>0</td>\n",
       "      <td>0</td>\n",
       "      <td>23.3</td>\n",
       "      <td>0.672</td>\n",
       "      <td>32</td>\n",
       "      <td>1</td>\n",
       "    </tr>\n",
       "    <tr>\n",
       "      <th>3</th>\n",
       "      <td>1</td>\n",
       "      <td>89</td>\n",
       "      <td>66</td>\n",
       "      <td>23</td>\n",
       "      <td>94</td>\n",
       "      <td>28.1</td>\n",
       "      <td>0.167</td>\n",
       "      <td>21</td>\n",
       "      <td>0</td>\n",
       "    </tr>\n",
       "    <tr>\n",
       "      <th>4</th>\n",
       "      <td>0</td>\n",
       "      <td>137</td>\n",
       "      <td>40</td>\n",
       "      <td>35</td>\n",
       "      <td>168</td>\n",
       "      <td>43.1</td>\n",
       "      <td>2.288</td>\n",
       "      <td>33</td>\n",
       "      <td>1</td>\n",
       "    </tr>\n",
       "  </tbody>\n",
       "</table>\n",
       "</div>"
      ],
      "text/plain": [
       "   Pregnancies  Glucose  BloodPressure  SkinThickness  Insulin   BMI  \\\n",
       "0            6      148             72             35        0  33.6   \n",
       "1            1       85             66             29        0  26.6   \n",
       "2            8      183             64              0        0  23.3   \n",
       "3            1       89             66             23       94  28.1   \n",
       "4            0      137             40             35      168  43.1   \n",
       "\n",
       "   DiabetesPedigreeFunction  Age  Outcome  \n",
       "0                     0.627   50        1  \n",
       "1                     0.351   31        0  \n",
       "2                     0.672   32        1  \n",
       "3                     0.167   21        0  \n",
       "4                     2.288   33        1  "
      ]
     },
     "execution_count": 3,
     "metadata": {},
     "output_type": "execute_result"
    }
   ],
   "source": [
    "import matplotlib.pyplot as plt\n",
    "import numpy as np\n",
    "import pandas as pd\n",
    "\n",
    "diabetes_df = pd.read_csv('Misc./diabetes.csv')\n",
    "diabetes_df.head()"
   ]
  },
  {
   "cell_type": "code",
   "execution_count": 5,
   "id": "49ba54ef",
   "metadata": {},
   "outputs": [
    {
     "data": {
      "text/plain": [
       "Outcome\n",
       "0    500\n",
       "1    268\n",
       "Name: count, dtype: int64"
      ]
     },
     "execution_count": 5,
     "metadata": {},
     "output_type": "execute_result"
    }
   ],
   "source": [
    "# To see data balance, look at value counts for outcome:\n",
    "diabetes_df['Outcome'].value_counts()"
   ]
  },
  {
   "cell_type": "code",
   "execution_count": 11,
   "id": "c044b487",
   "metadata": {},
   "outputs": [],
   "source": [
    "# Really, this isn't a dataset where you'd use over/undersampling, but let's do it:\n",
    "\n",
    "# 1) All your basics:\n",
    "from sklearn.linear_model import LogisticRegression\n",
    "from sklearn.model_selection import train_test_split\n",
    "from sklearn.preprocessing import StandardScaler\n",
    "\n",
    "X = diabetes_df.drop('Outcome', axis = 1)\n",
    "y = diabetes_df['Outcome']\n",
    "\n",
    "X_train, X_test, y_train, y_test = train_test_split(X, y, test_size = 0.3, random_state = 32, stratify = y)\n",
    "# Remember, stratify attempts to grab data that's spread out."
   ]
  },
  {
   "cell_type": "code",
   "execution_count": 15,
   "id": "d6c2a9d6",
   "metadata": {},
   "outputs": [
    {
     "data": {
      "text/html": [
       "<div>\n",
       "<style scoped>\n",
       "    .dataframe tbody tr th:only-of-type {\n",
       "        vertical-align: middle;\n",
       "    }\n",
       "\n",
       "    .dataframe tbody tr th {\n",
       "        vertical-align: top;\n",
       "    }\n",
       "\n",
       "    .dataframe thead th {\n",
       "        text-align: right;\n",
       "    }\n",
       "</style>\n",
       "<table border=\"1\" class=\"dataframe\">\n",
       "  <thead>\n",
       "    <tr style=\"text-align: right;\">\n",
       "      <th></th>\n",
       "      <th>Pregnancies</th>\n",
       "      <th>Glucose</th>\n",
       "      <th>BloodPressure</th>\n",
       "      <th>SkinThickness</th>\n",
       "      <th>Insulin</th>\n",
       "      <th>BMI</th>\n",
       "      <th>DiabetesPedigreeFunction</th>\n",
       "      <th>Age</th>\n",
       "    </tr>\n",
       "  </thead>\n",
       "  <tbody>\n",
       "    <tr>\n",
       "      <th>0</th>\n",
       "      <td>4</td>\n",
       "      <td>146</td>\n",
       "      <td>85</td>\n",
       "      <td>27</td>\n",
       "      <td>100</td>\n",
       "      <td>28.9</td>\n",
       "      <td>0.189</td>\n",
       "      <td>27</td>\n",
       "    </tr>\n",
       "    <tr>\n",
       "      <th>1</th>\n",
       "      <td>5</td>\n",
       "      <td>96</td>\n",
       "      <td>74</td>\n",
       "      <td>18</td>\n",
       "      <td>67</td>\n",
       "      <td>33.6</td>\n",
       "      <td>0.997</td>\n",
       "      <td>43</td>\n",
       "    </tr>\n",
       "    <tr>\n",
       "      <th>2</th>\n",
       "      <td>6</td>\n",
       "      <td>107</td>\n",
       "      <td>88</td>\n",
       "      <td>0</td>\n",
       "      <td>0</td>\n",
       "      <td>36.8</td>\n",
       "      <td>0.727</td>\n",
       "      <td>31</td>\n",
       "    </tr>\n",
       "    <tr>\n",
       "      <th>3</th>\n",
       "      <td>1</td>\n",
       "      <td>112</td>\n",
       "      <td>72</td>\n",
       "      <td>30</td>\n",
       "      <td>176</td>\n",
       "      <td>34.4</td>\n",
       "      <td>0.528</td>\n",
       "      <td>25</td>\n",
       "    </tr>\n",
       "    <tr>\n",
       "      <th>4</th>\n",
       "      <td>9</td>\n",
       "      <td>102</td>\n",
       "      <td>76</td>\n",
       "      <td>37</td>\n",
       "      <td>0</td>\n",
       "      <td>32.9</td>\n",
       "      <td>0.665</td>\n",
       "      <td>46</td>\n",
       "    </tr>\n",
       "    <tr>\n",
       "      <th>...</th>\n",
       "      <td>...</td>\n",
       "      <td>...</td>\n",
       "      <td>...</td>\n",
       "      <td>...</td>\n",
       "      <td>...</td>\n",
       "      <td>...</td>\n",
       "      <td>...</td>\n",
       "      <td>...</td>\n",
       "    </tr>\n",
       "    <tr>\n",
       "      <th>695</th>\n",
       "      <td>6</td>\n",
       "      <td>134</td>\n",
       "      <td>70</td>\n",
       "      <td>23</td>\n",
       "      <td>130</td>\n",
       "      <td>35.4</td>\n",
       "      <td>0.542</td>\n",
       "      <td>29</td>\n",
       "    </tr>\n",
       "    <tr>\n",
       "      <th>696</th>\n",
       "      <td>9</td>\n",
       "      <td>164</td>\n",
       "      <td>84</td>\n",
       "      <td>21</td>\n",
       "      <td>0</td>\n",
       "      <td>30.8</td>\n",
       "      <td>0.831</td>\n",
       "      <td>32</td>\n",
       "    </tr>\n",
       "    <tr>\n",
       "      <th>697</th>\n",
       "      <td>3</td>\n",
       "      <td>128</td>\n",
       "      <td>72</td>\n",
       "      <td>25</td>\n",
       "      <td>190</td>\n",
       "      <td>32.4</td>\n",
       "      <td>0.549</td>\n",
       "      <td>27</td>\n",
       "    </tr>\n",
       "    <tr>\n",
       "      <th>698</th>\n",
       "      <td>4</td>\n",
       "      <td>146</td>\n",
       "      <td>92</td>\n",
       "      <td>0</td>\n",
       "      <td>0</td>\n",
       "      <td>31.2</td>\n",
       "      <td>0.539</td>\n",
       "      <td>61</td>\n",
       "    </tr>\n",
       "    <tr>\n",
       "      <th>699</th>\n",
       "      <td>15</td>\n",
       "      <td>136</td>\n",
       "      <td>70</td>\n",
       "      <td>32</td>\n",
       "      <td>110</td>\n",
       "      <td>37.1</td>\n",
       "      <td>0.153</td>\n",
       "      <td>43</td>\n",
       "    </tr>\n",
       "  </tbody>\n",
       "</table>\n",
       "<p>700 rows × 8 columns</p>\n",
       "</div>"
      ],
      "text/plain": [
       "     Pregnancies  Glucose  BloodPressure  SkinThickness  Insulin   BMI  \\\n",
       "0              4      146             85             27      100  28.9   \n",
       "1              5       96             74             18       67  33.6   \n",
       "2              6      107             88              0        0  36.8   \n",
       "3              1      112             72             30      176  34.4   \n",
       "4              9      102             76             37        0  32.9   \n",
       "..           ...      ...            ...            ...      ...   ...   \n",
       "695            6      134             70             23      130  35.4   \n",
       "696            9      164             84             21        0  30.8   \n",
       "697            3      128             72             25      190  32.4   \n",
       "698            4      146             92              0        0  31.2   \n",
       "699           15      136             70             32      110  37.1   \n",
       "\n",
       "     DiabetesPedigreeFunction  Age  \n",
       "0                       0.189   27  \n",
       "1                       0.997   43  \n",
       "2                       0.727   31  \n",
       "3                       0.528   25  \n",
       "4                       0.665   46  \n",
       "..                        ...  ...  \n",
       "695                     0.542   29  \n",
       "696                     0.831   32  \n",
       "697                     0.549   27  \n",
       "698                     0.539   61  \n",
       "699                     0.153   43  \n",
       "\n",
       "[700 rows x 8 columns]"
      ]
     },
     "execution_count": 15,
     "metadata": {},
     "output_type": "execute_result"
    }
   ],
   "source": [
    "# 2) NOW, over/undersample:\n",
    "\n",
    "# a] Resample training data with RandomOverSampler (naive approach, strictly looking at numbers)\n",
    "from imblearn.over_sampling import RandomOverSampler\n",
    "\n",
    "ros = RandomOverSampler(random_state = 32)\n",
    "X_resampled, y_resampled = ros.fit_resample(X_train, y_train) # Again, fit_resample's that function\n",
    "X_resampled # Smaller because we only trained on 0.3 (30%) of dataset."
   ]
  },
  {
   "cell_type": "code",
   "execution_count": 18,
   "id": "32dc282e",
   "metadata": {},
   "outputs": [
    {
     "name": "stderr",
     "output_type": "stream",
     "text": [
      "/Users/connorlove/Library/Python/3.9/lib/python/site-packages/sklearn/linear_model/_logistic.py:469: ConvergenceWarning: lbfgs failed to converge (status=1):\n",
      "STOP: TOTAL NO. of ITERATIONS REACHED LIMIT.\n",
      "\n",
      "Increase the number of iterations (max_iter) or scale the data as shown in:\n",
      "    https://scikit-learn.org/stable/modules/preprocessing.html\n",
      "Please also refer to the documentation for alternative solver options:\n",
      "    https://scikit-learn.org/stable/modules/linear_model.html#logistic-regression\n",
      "  n_iter_i = _check_optimize_result(\n"
     ]
    },
    {
     "data": {
      "text/html": [
       "<style>#sk-container-id-3 {\n",
       "  /* Definition of color scheme common for light and dark mode */\n",
       "  --sklearn-color-text: black;\n",
       "  --sklearn-color-line: gray;\n",
       "  /* Definition of color scheme for unfitted estimators */\n",
       "  --sklearn-color-unfitted-level-0: #fff5e6;\n",
       "  --sklearn-color-unfitted-level-1: #f6e4d2;\n",
       "  --sklearn-color-unfitted-level-2: #ffe0b3;\n",
       "  --sklearn-color-unfitted-level-3: chocolate;\n",
       "  /* Definition of color scheme for fitted estimators */\n",
       "  --sklearn-color-fitted-level-0: #f0f8ff;\n",
       "  --sklearn-color-fitted-level-1: #d4ebff;\n",
       "  --sklearn-color-fitted-level-2: #b3dbfd;\n",
       "  --sklearn-color-fitted-level-3: cornflowerblue;\n",
       "\n",
       "  /* Specific color for light theme */\n",
       "  --sklearn-color-text-on-default-background: var(--sg-text-color, var(--theme-code-foreground, var(--jp-content-font-color1, black)));\n",
       "  --sklearn-color-background: var(--sg-background-color, var(--theme-background, var(--jp-layout-color0, white)));\n",
       "  --sklearn-color-border-box: var(--sg-text-color, var(--theme-code-foreground, var(--jp-content-font-color1, black)));\n",
       "  --sklearn-color-icon: #696969;\n",
       "\n",
       "  @media (prefers-color-scheme: dark) {\n",
       "    /* Redefinition of color scheme for dark theme */\n",
       "    --sklearn-color-text-on-default-background: var(--sg-text-color, var(--theme-code-foreground, var(--jp-content-font-color1, white)));\n",
       "    --sklearn-color-background: var(--sg-background-color, var(--theme-background, var(--jp-layout-color0, #111)));\n",
       "    --sklearn-color-border-box: var(--sg-text-color, var(--theme-code-foreground, var(--jp-content-font-color1, white)));\n",
       "    --sklearn-color-icon: #878787;\n",
       "  }\n",
       "}\n",
       "\n",
       "#sk-container-id-3 {\n",
       "  color: var(--sklearn-color-text);\n",
       "}\n",
       "\n",
       "#sk-container-id-3 pre {\n",
       "  padding: 0;\n",
       "}\n",
       "\n",
       "#sk-container-id-3 input.sk-hidden--visually {\n",
       "  border: 0;\n",
       "  clip: rect(1px 1px 1px 1px);\n",
       "  clip: rect(1px, 1px, 1px, 1px);\n",
       "  height: 1px;\n",
       "  margin: -1px;\n",
       "  overflow: hidden;\n",
       "  padding: 0;\n",
       "  position: absolute;\n",
       "  width: 1px;\n",
       "}\n",
       "\n",
       "#sk-container-id-3 div.sk-dashed-wrapped {\n",
       "  border: 1px dashed var(--sklearn-color-line);\n",
       "  margin: 0 0.4em 0.5em 0.4em;\n",
       "  box-sizing: border-box;\n",
       "  padding-bottom: 0.4em;\n",
       "  background-color: var(--sklearn-color-background);\n",
       "}\n",
       "\n",
       "#sk-container-id-3 div.sk-container {\n",
       "  /* jupyter's `normalize.less` sets `[hidden] { display: none; }`\n",
       "     but bootstrap.min.css set `[hidden] { display: none !important; }`\n",
       "     so we also need the `!important` here to be able to override the\n",
       "     default hidden behavior on the sphinx rendered scikit-learn.org.\n",
       "     See: https://github.com/scikit-learn/scikit-learn/issues/21755 */\n",
       "  display: inline-block !important;\n",
       "  position: relative;\n",
       "}\n",
       "\n",
       "#sk-container-id-3 div.sk-text-repr-fallback {\n",
       "  display: none;\n",
       "}\n",
       "\n",
       "div.sk-parallel-item,\n",
       "div.sk-serial,\n",
       "div.sk-item {\n",
       "  /* draw centered vertical line to link estimators */\n",
       "  background-image: linear-gradient(var(--sklearn-color-text-on-default-background), var(--sklearn-color-text-on-default-background));\n",
       "  background-size: 2px 100%;\n",
       "  background-repeat: no-repeat;\n",
       "  background-position: center center;\n",
       "}\n",
       "\n",
       "/* Parallel-specific style estimator block */\n",
       "\n",
       "#sk-container-id-3 div.sk-parallel-item::after {\n",
       "  content: \"\";\n",
       "  width: 100%;\n",
       "  border-bottom: 2px solid var(--sklearn-color-text-on-default-background);\n",
       "  flex-grow: 1;\n",
       "}\n",
       "\n",
       "#sk-container-id-3 div.sk-parallel {\n",
       "  display: flex;\n",
       "  align-items: stretch;\n",
       "  justify-content: center;\n",
       "  background-color: var(--sklearn-color-background);\n",
       "  position: relative;\n",
       "}\n",
       "\n",
       "#sk-container-id-3 div.sk-parallel-item {\n",
       "  display: flex;\n",
       "  flex-direction: column;\n",
       "}\n",
       "\n",
       "#sk-container-id-3 div.sk-parallel-item:first-child::after {\n",
       "  align-self: flex-end;\n",
       "  width: 50%;\n",
       "}\n",
       "\n",
       "#sk-container-id-3 div.sk-parallel-item:last-child::after {\n",
       "  align-self: flex-start;\n",
       "  width: 50%;\n",
       "}\n",
       "\n",
       "#sk-container-id-3 div.sk-parallel-item:only-child::after {\n",
       "  width: 0;\n",
       "}\n",
       "\n",
       "/* Serial-specific style estimator block */\n",
       "\n",
       "#sk-container-id-3 div.sk-serial {\n",
       "  display: flex;\n",
       "  flex-direction: column;\n",
       "  align-items: center;\n",
       "  background-color: var(--sklearn-color-background);\n",
       "  padding-right: 1em;\n",
       "  padding-left: 1em;\n",
       "}\n",
       "\n",
       "\n",
       "/* Toggleable style: style used for estimator/Pipeline/ColumnTransformer box that is\n",
       "clickable and can be expanded/collapsed.\n",
       "- Pipeline and ColumnTransformer use this feature and define the default style\n",
       "- Estimators will overwrite some part of the style using the `sk-estimator` class\n",
       "*/\n",
       "\n",
       "/* Pipeline and ColumnTransformer style (default) */\n",
       "\n",
       "#sk-container-id-3 div.sk-toggleable {\n",
       "  /* Default theme specific background. It is overwritten whether we have a\n",
       "  specific estimator or a Pipeline/ColumnTransformer */\n",
       "  background-color: var(--sklearn-color-background);\n",
       "}\n",
       "\n",
       "/* Toggleable label */\n",
       "#sk-container-id-3 label.sk-toggleable__label {\n",
       "  cursor: pointer;\n",
       "  display: block;\n",
       "  width: 100%;\n",
       "  margin-bottom: 0;\n",
       "  padding: 0.5em;\n",
       "  box-sizing: border-box;\n",
       "  text-align: center;\n",
       "}\n",
       "\n",
       "#sk-container-id-3 label.sk-toggleable__label-arrow:before {\n",
       "  /* Arrow on the left of the label */\n",
       "  content: \"▸\";\n",
       "  float: left;\n",
       "  margin-right: 0.25em;\n",
       "  color: var(--sklearn-color-icon);\n",
       "}\n",
       "\n",
       "#sk-container-id-3 label.sk-toggleable__label-arrow:hover:before {\n",
       "  color: var(--sklearn-color-text);\n",
       "}\n",
       "\n",
       "/* Toggleable content - dropdown */\n",
       "\n",
       "#sk-container-id-3 div.sk-toggleable__content {\n",
       "  max-height: 0;\n",
       "  max-width: 0;\n",
       "  overflow: hidden;\n",
       "  text-align: left;\n",
       "  /* unfitted */\n",
       "  background-color: var(--sklearn-color-unfitted-level-0);\n",
       "}\n",
       "\n",
       "#sk-container-id-3 div.sk-toggleable__content.fitted {\n",
       "  /* fitted */\n",
       "  background-color: var(--sklearn-color-fitted-level-0);\n",
       "}\n",
       "\n",
       "#sk-container-id-3 div.sk-toggleable__content pre {\n",
       "  margin: 0.2em;\n",
       "  border-radius: 0.25em;\n",
       "  color: var(--sklearn-color-text);\n",
       "  /* unfitted */\n",
       "  background-color: var(--sklearn-color-unfitted-level-0);\n",
       "}\n",
       "\n",
       "#sk-container-id-3 div.sk-toggleable__content.fitted pre {\n",
       "  /* unfitted */\n",
       "  background-color: var(--sklearn-color-fitted-level-0);\n",
       "}\n",
       "\n",
       "#sk-container-id-3 input.sk-toggleable__control:checked~div.sk-toggleable__content {\n",
       "  /* Expand drop-down */\n",
       "  max-height: 200px;\n",
       "  max-width: 100%;\n",
       "  overflow: auto;\n",
       "}\n",
       "\n",
       "#sk-container-id-3 input.sk-toggleable__control:checked~label.sk-toggleable__label-arrow:before {\n",
       "  content: \"▾\";\n",
       "}\n",
       "\n",
       "/* Pipeline/ColumnTransformer-specific style */\n",
       "\n",
       "#sk-container-id-3 div.sk-label input.sk-toggleable__control:checked~label.sk-toggleable__label {\n",
       "  color: var(--sklearn-color-text);\n",
       "  background-color: var(--sklearn-color-unfitted-level-2);\n",
       "}\n",
       "\n",
       "#sk-container-id-3 div.sk-label.fitted input.sk-toggleable__control:checked~label.sk-toggleable__label {\n",
       "  background-color: var(--sklearn-color-fitted-level-2);\n",
       "}\n",
       "\n",
       "/* Estimator-specific style */\n",
       "\n",
       "/* Colorize estimator box */\n",
       "#sk-container-id-3 div.sk-estimator input.sk-toggleable__control:checked~label.sk-toggleable__label {\n",
       "  /* unfitted */\n",
       "  background-color: var(--sklearn-color-unfitted-level-2);\n",
       "}\n",
       "\n",
       "#sk-container-id-3 div.sk-estimator.fitted input.sk-toggleable__control:checked~label.sk-toggleable__label {\n",
       "  /* fitted */\n",
       "  background-color: var(--sklearn-color-fitted-level-2);\n",
       "}\n",
       "\n",
       "#sk-container-id-3 div.sk-label label.sk-toggleable__label,\n",
       "#sk-container-id-3 div.sk-label label {\n",
       "  /* The background is the default theme color */\n",
       "  color: var(--sklearn-color-text-on-default-background);\n",
       "}\n",
       "\n",
       "/* On hover, darken the color of the background */\n",
       "#sk-container-id-3 div.sk-label:hover label.sk-toggleable__label {\n",
       "  color: var(--sklearn-color-text);\n",
       "  background-color: var(--sklearn-color-unfitted-level-2);\n",
       "}\n",
       "\n",
       "/* Label box, darken color on hover, fitted */\n",
       "#sk-container-id-3 div.sk-label.fitted:hover label.sk-toggleable__label.fitted {\n",
       "  color: var(--sklearn-color-text);\n",
       "  background-color: var(--sklearn-color-fitted-level-2);\n",
       "}\n",
       "\n",
       "/* Estimator label */\n",
       "\n",
       "#sk-container-id-3 div.sk-label label {\n",
       "  font-family: monospace;\n",
       "  font-weight: bold;\n",
       "  display: inline-block;\n",
       "  line-height: 1.2em;\n",
       "}\n",
       "\n",
       "#sk-container-id-3 div.sk-label-container {\n",
       "  text-align: center;\n",
       "}\n",
       "\n",
       "/* Estimator-specific */\n",
       "#sk-container-id-3 div.sk-estimator {\n",
       "  font-family: monospace;\n",
       "  border: 1px dotted var(--sklearn-color-border-box);\n",
       "  border-radius: 0.25em;\n",
       "  box-sizing: border-box;\n",
       "  margin-bottom: 0.5em;\n",
       "  /* unfitted */\n",
       "  background-color: var(--sklearn-color-unfitted-level-0);\n",
       "}\n",
       "\n",
       "#sk-container-id-3 div.sk-estimator.fitted {\n",
       "  /* fitted */\n",
       "  background-color: var(--sklearn-color-fitted-level-0);\n",
       "}\n",
       "\n",
       "/* on hover */\n",
       "#sk-container-id-3 div.sk-estimator:hover {\n",
       "  /* unfitted */\n",
       "  background-color: var(--sklearn-color-unfitted-level-2);\n",
       "}\n",
       "\n",
       "#sk-container-id-3 div.sk-estimator.fitted:hover {\n",
       "  /* fitted */\n",
       "  background-color: var(--sklearn-color-fitted-level-2);\n",
       "}\n",
       "\n",
       "/* Specification for estimator info (e.g. \"i\" and \"?\") */\n",
       "\n",
       "/* Common style for \"i\" and \"?\" */\n",
       "\n",
       ".sk-estimator-doc-link,\n",
       "a:link.sk-estimator-doc-link,\n",
       "a:visited.sk-estimator-doc-link {\n",
       "  float: right;\n",
       "  font-size: smaller;\n",
       "  line-height: 1em;\n",
       "  font-family: monospace;\n",
       "  background-color: var(--sklearn-color-background);\n",
       "  border-radius: 1em;\n",
       "  height: 1em;\n",
       "  width: 1em;\n",
       "  text-decoration: none !important;\n",
       "  margin-left: 1ex;\n",
       "  /* unfitted */\n",
       "  border: var(--sklearn-color-unfitted-level-1) 1pt solid;\n",
       "  color: var(--sklearn-color-unfitted-level-1);\n",
       "}\n",
       "\n",
       ".sk-estimator-doc-link.fitted,\n",
       "a:link.sk-estimator-doc-link.fitted,\n",
       "a:visited.sk-estimator-doc-link.fitted {\n",
       "  /* fitted */\n",
       "  border: var(--sklearn-color-fitted-level-1) 1pt solid;\n",
       "  color: var(--sklearn-color-fitted-level-1);\n",
       "}\n",
       "\n",
       "/* On hover */\n",
       "div.sk-estimator:hover .sk-estimator-doc-link:hover,\n",
       ".sk-estimator-doc-link:hover,\n",
       "div.sk-label-container:hover .sk-estimator-doc-link:hover,\n",
       ".sk-estimator-doc-link:hover {\n",
       "  /* unfitted */\n",
       "  background-color: var(--sklearn-color-unfitted-level-3);\n",
       "  color: var(--sklearn-color-background);\n",
       "  text-decoration: none;\n",
       "}\n",
       "\n",
       "div.sk-estimator.fitted:hover .sk-estimator-doc-link.fitted:hover,\n",
       ".sk-estimator-doc-link.fitted:hover,\n",
       "div.sk-label-container:hover .sk-estimator-doc-link.fitted:hover,\n",
       ".sk-estimator-doc-link.fitted:hover {\n",
       "  /* fitted */\n",
       "  background-color: var(--sklearn-color-fitted-level-3);\n",
       "  color: var(--sklearn-color-background);\n",
       "  text-decoration: none;\n",
       "}\n",
       "\n",
       "/* Span, style for the box shown on hovering the info icon */\n",
       ".sk-estimator-doc-link span {\n",
       "  display: none;\n",
       "  z-index: 9999;\n",
       "  position: relative;\n",
       "  font-weight: normal;\n",
       "  right: .2ex;\n",
       "  padding: .5ex;\n",
       "  margin: .5ex;\n",
       "  width: min-content;\n",
       "  min-width: 20ex;\n",
       "  max-width: 50ex;\n",
       "  color: var(--sklearn-color-text);\n",
       "  box-shadow: 2pt 2pt 4pt #999;\n",
       "  /* unfitted */\n",
       "  background: var(--sklearn-color-unfitted-level-0);\n",
       "  border: .5pt solid var(--sklearn-color-unfitted-level-3);\n",
       "}\n",
       "\n",
       ".sk-estimator-doc-link.fitted span {\n",
       "  /* fitted */\n",
       "  background: var(--sklearn-color-fitted-level-0);\n",
       "  border: var(--sklearn-color-fitted-level-3);\n",
       "}\n",
       "\n",
       ".sk-estimator-doc-link:hover span {\n",
       "  display: block;\n",
       "}\n",
       "\n",
       "/* \"?\"-specific style due to the `<a>` HTML tag */\n",
       "\n",
       "#sk-container-id-3 a.estimator_doc_link {\n",
       "  float: right;\n",
       "  font-size: 1rem;\n",
       "  line-height: 1em;\n",
       "  font-family: monospace;\n",
       "  background-color: var(--sklearn-color-background);\n",
       "  border-radius: 1rem;\n",
       "  height: 1rem;\n",
       "  width: 1rem;\n",
       "  text-decoration: none;\n",
       "  /* unfitted */\n",
       "  color: var(--sklearn-color-unfitted-level-1);\n",
       "  border: var(--sklearn-color-unfitted-level-1) 1pt solid;\n",
       "}\n",
       "\n",
       "#sk-container-id-3 a.estimator_doc_link.fitted {\n",
       "  /* fitted */\n",
       "  border: var(--sklearn-color-fitted-level-1) 1pt solid;\n",
       "  color: var(--sklearn-color-fitted-level-1);\n",
       "}\n",
       "\n",
       "/* On hover */\n",
       "#sk-container-id-3 a.estimator_doc_link:hover {\n",
       "  /* unfitted */\n",
       "  background-color: var(--sklearn-color-unfitted-level-3);\n",
       "  color: var(--sklearn-color-background);\n",
       "  text-decoration: none;\n",
       "}\n",
       "\n",
       "#sk-container-id-3 a.estimator_doc_link.fitted:hover {\n",
       "  /* fitted */\n",
       "  background-color: var(--sklearn-color-fitted-level-3);\n",
       "}\n",
       "</style><div id=\"sk-container-id-3\" class=\"sk-top-container\"><div class=\"sk-text-repr-fallback\"><pre>LogisticRegression(random_state=32)</pre><b>In a Jupyter environment, please rerun this cell to show the HTML representation or trust the notebook. <br />On GitHub, the HTML representation is unable to render, please try loading this page with nbviewer.org.</b></div><div class=\"sk-container\" hidden><div class=\"sk-item\"><div class=\"sk-estimator fitted sk-toggleable\"><input class=\"sk-toggleable__control sk-hidden--visually\" id=\"sk-estimator-id-3\" type=\"checkbox\" checked><label for=\"sk-estimator-id-3\" class=\"sk-toggleable__label fitted sk-toggleable__label-arrow fitted\">&nbsp;&nbsp;LogisticRegression<a class=\"sk-estimator-doc-link fitted\" rel=\"noreferrer\" target=\"_blank\" href=\"https://scikit-learn.org/1.4/modules/generated/sklearn.linear_model.LogisticRegression.html\">?<span>Documentation for LogisticRegression</span></a><span class=\"sk-estimator-doc-link fitted\">i<span>Fitted</span></span></label><div class=\"sk-toggleable__content fitted\"><pre>LogisticRegression(random_state=32)</pre></div> </div></div></div></div>"
      ],
      "text/plain": [
       "LogisticRegression(random_state=32)"
      ]
     },
     "execution_count": 18,
     "metadata": {},
     "output_type": "execute_result"
    }
   ],
   "source": [
    "# 3) Train using resampled data!\n",
    "model = LogisticRegression(random_state = 32)\n",
    "model.fit(X_resampled, y_resampled)"
   ]
  },
  {
   "cell_type": "code",
   "execution_count": 21,
   "id": "918bbc31",
   "metadata": {},
   "outputs": [
    {
     "data": {
      "text/plain": [
       "<sklearn.metrics._plot.confusion_matrix.ConfusionMatrixDisplay at 0x2826f3130>"
      ]
     },
     "execution_count": 21,
     "metadata": {},
     "output_type": "execute_result"
    },
    {
     "data": {
      "image/png": "[encoded data removed]",
      "text/plain": [
       "<Figure size 640x480 with 2 Axes>"
      ]
     },
     "metadata": {},
     "output_type": "display_data"
    }
   ],
   "source": [
    "# 4) Check out accuracy (remember, recall is your friend here... TP/TP+FN)\n",
    "\n",
    "y_pred = model.predict(X_test)\n",
    "\n",
    "from sklearn.metrics import ConfusionMatrixDisplay\n",
    "ConfusionMatrixDisplay.from_estimator(model, X_test, y_test)"
   ]
  },
  {
   "cell_type": "code",
   "execution_count": 23,
   "id": "daa7e759",
   "metadata": {},
   "outputs": [
    {
     "data": {
      "text/plain": [
       "0.7037037037037037"
      ]
     },
     "execution_count": 23,
     "metadata": {},
     "output_type": "execute_result"
    }
   ],
   "source": [
    "(57) / (57 + 24)"
   ]
  },
  {
   "cell_type": "markdown",
   "id": "47c80057",
   "metadata": {},
   "source": [
    "## Undersampling:"
   ]
  },
  {
   "cell_type": "markdown",
   "id": "6f7dfebf",
   "metadata": {},
   "source": [
    "Finds clusters in your data, \"tells\" KNN to predict only for certain clusters."
   ]
  },
  {
   "cell_type": "code",
   "execution_count": 30,
   "id": "c8697dba",
   "metadata": {},
   "outputs": [
    {
     "name": "stderr",
     "output_type": "stream",
     "text": [
      "/Users/connorlove/Library/Python/3.9/lib/python/site-packages/sklearn/linear_model/_logistic.py:469: ConvergenceWarning: lbfgs failed to converge (status=1):\n",
      "STOP: TOTAL NO. of ITERATIONS REACHED LIMIT.\n",
      "\n",
      "Increase the number of iterations (max_iter) or scale the data as shown in:\n",
      "    https://scikit-learn.org/stable/modules/preprocessing.html\n",
      "Please also refer to the documentation for alternative solver options:\n",
      "    https://scikit-learn.org/stable/modules/linear_model.html#logistic-regression\n",
      "  n_iter_i = _check_optimize_result(\n"
     ]
    },
    {
     "data": {
      "text/plain": [
       "<sklearn.metrics._plot.confusion_matrix.ConfusionMatrixDisplay at 0x282589910>"
      ]
     },
     "execution_count": 30,
     "metadata": {},
     "output_type": "execute_result"
    },
    {
     "data": {
      "image/png": "[encoded data removed]",
      "text/plain": [
       "<Figure size 640x480 with 2 Axes>"
      ]
     },
     "metadata": {},
     "output_type": "display_data"
    }
   ],
   "source": [
    "from imblearn.under_sampling import ClusterCentroids\n",
    "\n",
    "rus = ClusterCentroids(random_state = 32)\n",
    "X_resampled, y_resampled = rus.fit_resample(X_train, y_train)\n",
    "\n",
    "model = LogisticRegression(random_state = 32)\n",
    "model.fit(X_resampled, y_resampled)\n",
    "\n",
    "y_pred = model.predict(X_test)\n",
    "\n",
    "ConfusionMatrixDisplay.from_estimator(model, X_test, y_test)"
   ]
  },
  {
   "cell_type": "code",
   "execution_count": 32,
   "id": "a23fe050",
   "metadata": {},
   "outputs": [
    {
     "data": {
      "text/plain": [
       "0.6790123456790124"
      ]
     },
     "execution_count": 32,
     "metadata": {},
     "output_type": "execute_result"
    }
   ],
   "source": [
    "(55)/(55+26)"
   ]
  },
  {
   "cell_type": "markdown",
   "id": "0d5d2455",
   "metadata": {},
   "source": [
    "Oversampling wins!"
   ]
  },
  {
   "cell_type": "markdown",
   "id": "eefb575c",
   "metadata": {},
   "source": [
    "# 3/25:"
   ]
  },
  {
   "cell_type": "markdown",
   "id": "f6e42dad",
   "metadata": {},
   "source": [
    "# Support Vector Machines:\n",
    "\n",
    "Goal is finding a hyperplane (literal line) to separate data points into different groups\n",
    "\n",
    "Hyperplane = \"Decision boundary allowing us to seaparate data classified differently\"\n",
    "- 2 dimensions = line, 3 dimensions is a plane\n",
    "- Splits vectors\n",
    "- Tryna find biggest MARGIN (distance) from line --> points"
   ]
  },
  {
   "cell_type": "markdown",
   "id": "ac0e4575",
   "metadata": {},
   "source": [
    "## Decision Trees:\n",
    "\n",
    "Root Node = Top\n",
    "\n",
    "Internal Node = Question / decision point\n",
    "\n",
    "Leaf Node = Result\n",
    "\n",
    "Decision Tree = Supervised learning, split up data into multiple parts, with rules to guide predictions\n",
    "- Inductive = specific --> general (TREES ARE BUILT THIS WAY, ALTHOUGH THEY READ TOP-DOWN)\n",
    "- Deductive = general --> specific"
   ]
  },
  {
   "cell_type": "markdown",
   "id": "f64f8ed0",
   "metadata": {},
   "source": [
    "Gini Index:\n",
    "\n",
    "- The Gini Index is a tool that aims to decrease the level of entropy (level of uncertainty with a variable's outcomes)/ impurity:\n",
    "- Every node has a Gini Index, which shows how good that node is at splitting the data / eliminating uncertainty\n",
    "\n",
    "Information Gain::\n",
    "- Information value of a message depends on how \"surprising\" content of a message is (measured in bits)\n",
    "- LOW probability event has high information"
   ]
  },
  {
   "cell_type": "code",
   "execution_count": 2,
   "id": "943060c2",
   "metadata": {},
   "outputs": [
    {
     "data": {
      "text/html": [
       "<div>\n",
       "<style scoped>\n",
       "    .dataframe tbody tr th:only-of-type {\n",
       "        vertical-align: middle;\n",
       "    }\n",
       "\n",
       "    .dataframe tbody tr th {\n",
       "        vertical-align: top;\n",
       "    }\n",
       "\n",
       "    .dataframe thead th {\n",
       "        text-align: right;\n",
       "    }\n",
       "</style>\n",
       "<table border=\"1\" class=\"dataframe\">\n",
       "  <thead>\n",
       "    <tr style=\"text-align: right;\">\n",
       "      <th></th>\n",
       "      <th>Pregnancies</th>\n",
       "      <th>Glucose</th>\n",
       "      <th>BloodPressure</th>\n",
       "      <th>SkinThickness</th>\n",
       "      <th>Insulin</th>\n",
       "      <th>BMI</th>\n",
       "      <th>DiabetesPedigreeFunction</th>\n",
       "      <th>Age</th>\n",
       "      <th>Outcome</th>\n",
       "    </tr>\n",
       "  </thead>\n",
       "  <tbody>\n",
       "    <tr>\n",
       "      <th>0</th>\n",
       "      <td>6</td>\n",
       "      <td>148</td>\n",
       "      <td>72</td>\n",
       "      <td>35</td>\n",
       "      <td>0</td>\n",
       "      <td>33.6</td>\n",
       "      <td>0.627</td>\n",
       "      <td>50</td>\n",
       "      <td>1</td>\n",
       "    </tr>\n",
       "    <tr>\n",
       "      <th>1</th>\n",
       "      <td>1</td>\n",
       "      <td>85</td>\n",
       "      <td>66</td>\n",
       "      <td>29</td>\n",
       "      <td>0</td>\n",
       "      <td>26.6</td>\n",
       "      <td>0.351</td>\n",
       "      <td>31</td>\n",
       "      <td>0</td>\n",
       "    </tr>\n",
       "    <tr>\n",
       "      <th>2</th>\n",
       "      <td>8</td>\n",
       "      <td>183</td>\n",
       "      <td>64</td>\n",
       "      <td>0</td>\n",
       "      <td>0</td>\n",
       "      <td>23.3</td>\n",
       "      <td>0.672</td>\n",
       "      <td>32</td>\n",
       "      <td>1</td>\n",
       "    </tr>\n",
       "    <tr>\n",
       "      <th>3</th>\n",
       "      <td>1</td>\n",
       "      <td>89</td>\n",
       "      <td>66</td>\n",
       "      <td>23</td>\n",
       "      <td>94</td>\n",
       "      <td>28.1</td>\n",
       "      <td>0.167</td>\n",
       "      <td>21</td>\n",
       "      <td>0</td>\n",
       "    </tr>\n",
       "    <tr>\n",
       "      <th>4</th>\n",
       "      <td>0</td>\n",
       "      <td>137</td>\n",
       "      <td>40</td>\n",
       "      <td>35</td>\n",
       "      <td>168</td>\n",
       "      <td>43.1</td>\n",
       "      <td>2.288</td>\n",
       "      <td>33</td>\n",
       "      <td>1</td>\n",
       "    </tr>\n",
       "  </tbody>\n",
       "</table>\n",
       "</div>"
      ],
      "text/plain": [
       "   Pregnancies  Glucose  BloodPressure  SkinThickness  Insulin   BMI  \\\n",
       "0            6      148             72             35        0  33.6   \n",
       "1            1       85             66             29        0  26.6   \n",
       "2            8      183             64              0        0  23.3   \n",
       "3            1       89             66             23       94  28.1   \n",
       "4            0      137             40             35      168  43.1   \n",
       "\n",
       "   DiabetesPedigreeFunction  Age  Outcome  \n",
       "0                     0.627   50        1  \n",
       "1                     0.351   31        0  \n",
       "2                     0.672   32        1  \n",
       "3                     0.167   21        0  \n",
       "4                     2.288   33        1  "
      ]
     },
     "execution_count": 2,
     "metadata": {},
     "output_type": "execute_result"
    }
   ],
   "source": [
    "import pandas as pd\n",
    "from sklearn import tree\n",
    "from sklearn.metrics import ConfusionMatrixDisplay, classification_report\n",
    "\n",
    "diabetes_df = pd.read_csv('Misc./diabetes.csv')\n",
    "diabetes_df.head()"
   ]
  },
  {
   "cell_type": "code",
   "execution_count": 4,
   "id": "f876c6e7",
   "metadata": {},
   "outputs": [],
   "source": [
    "from sklearn.model_selection import train_test_split\n",
    "\n",
    "X = diabetes_df.drop('Outcome', axis = 1)\n",
    "y = diabetes_df['Outcome']\n",
    "\n",
    "X_train, X_test, y_train, y_test = train_test_split (X, y, test_size = 0.3, random_state = 32)"
   ]
  },
  {
   "cell_type": "markdown",
   "id": "11cabca8",
   "metadata": {},
   "source": [
    "Decision Tree Classifier\n",
    "- Deep and complex trees tend to overfit, SO generalize and create reasonably simple trees"
   ]
  },
  {
   "cell_type": "code",
   "execution_count": 28,
   "id": "45c12dff",
   "metadata": {},
   "outputs": [],
   "source": [
    "model = tree.DecisionTreeClassifier(max_depth = 7, random_state = 32) # Number of nodes = 7\n",
    "\n",
    "model = model.fit(X_train, y_train)\n",
    "y_pred = model.predict(X_test)"
   ]
  },
  {
   "cell_type": "code",
   "execution_count": 29,
   "id": "b86b0fc7",
   "metadata": {},
   "outputs": [
    {
     "name": "stdout",
     "output_type": "stream",
     "text": [
      "              precision    recall  f1-score   support\n",
      "\n",
      "           0       0.78      0.76      0.77       147\n",
      "           1       0.60      0.62      0.61        84\n",
      "\n",
      "    accuracy                           0.71       231\n",
      "   macro avg       0.69      0.69      0.69       231\n",
      "weighted avg       0.71      0.71      0.71       231\n",
      "\n"
     ]
    }
   ],
   "source": [
    "print(classification_report (y_test, y_pred))"
   ]
  },
  {
   "cell_type": "code",
   "execution_count": 30,
   "id": "4a7c3e4a",
   "metadata": {},
   "outputs": [
    {
     "data": {
      "text/plain": [
       "<sklearn.metrics._plot.confusion_matrix.ConfusionMatrixDisplay at 0x17459c9d0>"
      ]
     },
     "execution_count": 30,
     "metadata": {},
     "output_type": "execute_result"
    },
    {
     "data": {
      "image/png": "[encoded data removed]",
      "text/plain": [
       "<Figure size 640x480 with 2 Axes>"
      ]
     },
     "metadata": {},
     "output_type": "display_data"
    }
   ],
   "source": [
    "ConfusionMatrixDisplay.from_predictions(y_test, y_pred)"
   ]
  },
  {
   "cell_type": "code",
   "execution_count": 24,
   "id": "fc1443bb",
   "metadata": {},
   "outputs": [
    {
     "data": {
      "image/png": "[encoded data removed]",
      "text/plain": [
       "<Figure size 640x480 with 1 Axes>"
      ]
     },
     "metadata": {},
     "output_type": "display_data"
    },
    {
     "data": {
      "text/plain": [
       "<Figure size 640x480 with 0 Axes>"
      ]
     },
     "metadata": {},
     "output_type": "display_data"
    }
   ],
   "source": [
    "import matplotlib.pyplot as plt\n",
    "tree.plot_tree(model, feature_names = list(X.columns),\n",
    "               filled = True, fontsize = 6, rounded = True)\n",
    "\n",
    "plt.show()\n",
    "plt.savefig(\"tree.svg\") # SVG are best files to use for graphics\n",
    "\n",
    "# \"Yes\"'s are always on the left, \"No\"'s always on the right."
   ]
  },
  {
   "cell_type": "markdown",
   "id": "185ffd38",
   "metadata": {},
   "source": [
    "## 3/27:"
   ]
  },
  {
   "cell_type": "markdown",
   "id": "363eff21",
   "metadata": {},
   "source": [
    "Ensemble Methods = Train many different models on same dataset, then combine into one, perfect model"
   ]
  },
  {
   "cell_type": "markdown",
   "id": "98a05cda",
   "metadata": {},
   "source": [
    "Variance = How much classifier changes if you train on different set of data\n",
    "\n",
    "Bias = Inherent errror from classifier (minimize it!)\n",
    "- Low variance = similar types of data = high bias = tailored towards that data type\n",
    "- High variance = different types of data = low bias = not tailored towards any data type\n",
    "\n",
    "(Look at bias <--> variance target practice pic!)"
   ]
  },
  {
   "cell_type": "markdown",
   "id": "75d59d18",
   "metadata": {},
   "source": [
    "Bootstrapping = Random sample with replacement\n",
    "\n",
    "1. Bagging = Creating additional training data, bootstrap, and average models\n",
    "\n",
    "2. Boosting = Converting rules of thumb into rules for prediciton\n",
    "- A.) Produces bunch of DECENTly formed tables\n",
    "- B.) Models with good predictions are weighted higher in final model"
   ]
  },
  {
   "cell_type": "markdown",
   "id": "4a1efee8",
   "metadata": {},
   "source": [
    "## 4/3:"
   ]
  },
  {
   "cell_type": "markdown",
   "id": "3f207642",
   "metadata": {},
   "source": [
    "(Area Under) Receiver Operating Characteristic (Curve) ... AU / ROC / C ... AUC / ROC\n",
    "- Takes into account more nuance of the data\n",
    "- True Positive Rate (y-axis) vs False Positive Rate (x-axis)\n",
    "- Measures all the area under the curve, with range from 0 --> 1\n",
    "- 0 represents ALL WRONG predictions, 1 all correct"
   ]
  },
  {
   "cell_type": "markdown",
   "id": "134b17af",
   "metadata": {},
   "source": [
    "(SEE 3_27_diabetes_and_cv FOR APPLICATION!!)"
   ]
  },
  {
   "cell_type": "markdown",
   "id": "bee139a3",
   "metadata": {},
   "source": [
    "# 4/8"
   ]
  },
  {
   "cell_type": "markdown",
   "id": "50d111e1",
   "metadata": {},
   "source": [
    "Goal of Unsupervised Data = Find patterns in unlabeled data\n",
    "\n",
    "- Clustering (KNN, hierachical, grid/density-based)\n",
    "- Dimensionality reduction = Taking out needless elements of data to predict\n",
    "1. Linear\n",
    "    - Pincripal componenet analysis... look at all components, which should we use?\n",
    "    - SVD = When you have sparse data, helps\n",
    "2. Non-linear\n",
    "    - Isomap embedding\n",
    "\n",
    "- Use to fill in nulls in data (if one column has lotta nulls, fill them in)\n",
    "    - ex; If you have years in school, years in school may be correlated with all other columns, "
   ]
  },
  {
   "cell_type": "markdown",
   "id": "49aee41d",
   "metadata": {},
   "source": [
    "Clustering = Clumping together data that look similar\n",
    "- \"K-means\" first randomly assigns mean value to data, then, all values are assigned to closest mean... then, means are recalculated based on closest, for new mean, and so on, until all data are assigned to proper clump (think, readjusting the boundaries)\n",
    "\n",
    "- Hierarchical = Tree-based structure clumps data based on proximity in repeatedly small groups"
   ]
  },
  {
   "cell_type": "markdown",
   "id": "1c1cb978",
   "metadata": {},
   "source": [
    "so... how do you find the ideal number of clusters?"
   ]
  },
  {
   "cell_type": "markdown",
   "id": "d84609c0",
   "metadata": {},
   "source": [
    "K-Means = \"Partitioning\"\n",
    "- Measure of inertia (minimize it!)\n",
    "- Elbow method = Within-cluster sum of squares (most common)\n",
    "- Gap method = Tries to minimize intra-cluster range, distance b/t boundaries (less common)\n",
    "- Average Silhouette Method = How well ea/ value fits in ea/ cluster (advanced, best)\n",
    "    - Those values which are close to boundaries would have high silhouette score, bc don't fit well into cluster\n",
    "\n",
    "Hierarchical = \"Maximum Distance\" in Dendrogram\n",
    "- Maximum distance (y-axis) between clusters... I have no idea how to read those"
   ]
  },
  {
   "cell_type": "markdown",
   "id": "17c5fb8b",
   "metadata": {},
   "source": [
    "Dimensionality Reduction = Reduce # features / columns"
   ]
  },
  {
   "cell_type": "code",
   "execution_count": 7,
   "id": "18700b50",
   "metadata": {},
   "outputs": [
    {
     "data": {
      "text/html": [
       "<div>\n",
       "<style scoped>\n",
       "    .dataframe tbody tr th:only-of-type {\n",
       "        vertical-align: middle;\n",
       "    }\n",
       "\n",
       "    .dataframe tbody tr th {\n",
       "        vertical-align: top;\n",
       "    }\n",
       "\n",
       "    .dataframe thead th {\n",
       "        text-align: right;\n",
       "    }\n",
       "</style>\n",
       "<table border=\"1\" class=\"dataframe\">\n",
       "  <thead>\n",
       "    <tr style=\"text-align: right;\">\n",
       "      <th></th>\n",
       "      <th>State</th>\n",
       "      <th>Murder</th>\n",
       "      <th>Assault</th>\n",
       "      <th>UrbanPop</th>\n",
       "      <th>Rape</th>\n",
       "    </tr>\n",
       "  </thead>\n",
       "  <tbody>\n",
       "    <tr>\n",
       "      <th>0</th>\n",
       "      <td>Alabama</td>\n",
       "      <td>13.2</td>\n",
       "      <td>236</td>\n",
       "      <td>58</td>\n",
       "      <td>21.2</td>\n",
       "    </tr>\n",
       "    <tr>\n",
       "      <th>1</th>\n",
       "      <td>Alaska</td>\n",
       "      <td>10.0</td>\n",
       "      <td>263</td>\n",
       "      <td>48</td>\n",
       "      <td>44.5</td>\n",
       "    </tr>\n",
       "    <tr>\n",
       "      <th>2</th>\n",
       "      <td>Arizona</td>\n",
       "      <td>8.1</td>\n",
       "      <td>294</td>\n",
       "      <td>80</td>\n",
       "      <td>31.0</td>\n",
       "    </tr>\n",
       "    <tr>\n",
       "      <th>3</th>\n",
       "      <td>Arkansas</td>\n",
       "      <td>8.8</td>\n",
       "      <td>190</td>\n",
       "      <td>50</td>\n",
       "      <td>19.5</td>\n",
       "    </tr>\n",
       "    <tr>\n",
       "      <th>4</th>\n",
       "      <td>California</td>\n",
       "      <td>9.0</td>\n",
       "      <td>276</td>\n",
       "      <td>91</td>\n",
       "      <td>40.6</td>\n",
       "    </tr>\n",
       "  </tbody>\n",
       "</table>\n",
       "</div>"
      ],
      "text/plain": [
       "        State  Murder  Assault  UrbanPop  Rape\n",
       "0     Alabama    13.2      236        58  21.2\n",
       "1      Alaska    10.0      263        48  44.5\n",
       "2     Arizona     8.1      294        80  31.0\n",
       "3    Arkansas     8.8      190        50  19.5\n",
       "4  California     9.0      276        91  40.6"
      ]
     },
     "execution_count": 7,
     "metadata": {},
     "output_type": "execute_result"
    }
   ],
   "source": [
    "import numpy as np\n",
    "import pandas as pd\n",
    "from sklearn import metrics\n",
    "from scipy.spatial.distance import cdist\n",
    "import matplotlib.pyplot as plt\n",
    "\n",
    "crime_df = pd.read_csv('Misc./USArrests.csv')\n",
    "crime_df.head()"
   ]
  },
  {
   "cell_type": "code",
   "execution_count": 24,
   "id": "941cacc9",
   "metadata": {},
   "outputs": [
    {
     "ename": "TypeError",
     "evalue": "cannot convert the series to <class 'float'>",
     "output_type": "error",
     "traceback": [
      "\u001b[0;31m---------------------------------------------------------------------------\u001b[0m",
      "\u001b[0;31mTypeError\u001b[0m                                 Traceback (most recent call last)",
      "File \u001b[0;32m~/Library/Python/3.9/lib/python/site-packages/IPython/core/formatters.py:340\u001b[0m, in \u001b[0;36mBaseFormatter.__call__\u001b[0;34m(self, obj)\u001b[0m\n\u001b[1;32m    338\u001b[0m     \u001b[38;5;28;01mpass\u001b[39;00m\n\u001b[1;32m    339\u001b[0m \u001b[38;5;28;01melse\u001b[39;00m:\n\u001b[0;32m--> 340\u001b[0m     \u001b[38;5;28;01mreturn\u001b[39;00m \u001b[43mprinter\u001b[49m\u001b[43m(\u001b[49m\u001b[43mobj\u001b[49m\u001b[43m)\u001b[49m\n\u001b[1;32m    341\u001b[0m \u001b[38;5;66;03m# Finally look for special method names\u001b[39;00m\n\u001b[1;32m    342\u001b[0m method \u001b[38;5;241m=\u001b[39m get_real_method(obj, \u001b[38;5;28mself\u001b[39m\u001b[38;5;241m.\u001b[39mprint_method)\n",
      "File \u001b[0;32m~/Library/Python/3.9/lib/python/site-packages/IPython/core/pylabtools.py:152\u001b[0m, in \u001b[0;36mprint_figure\u001b[0;34m(fig, fmt, bbox_inches, base64, **kwargs)\u001b[0m\n\u001b[1;32m    149\u001b[0m     \u001b[38;5;28;01mfrom\u001b[39;00m \u001b[38;5;21;01mmatplotlib\u001b[39;00m\u001b[38;5;21;01m.\u001b[39;00m\u001b[38;5;21;01mbackend_bases\u001b[39;00m \u001b[38;5;28;01mimport\u001b[39;00m FigureCanvasBase\n\u001b[1;32m    150\u001b[0m     FigureCanvasBase(fig)\n\u001b[0;32m--> 152\u001b[0m \u001b[43mfig\u001b[49m\u001b[38;5;241;43m.\u001b[39;49m\u001b[43mcanvas\u001b[49m\u001b[38;5;241;43m.\u001b[39;49m\u001b[43mprint_figure\u001b[49m\u001b[43m(\u001b[49m\u001b[43mbytes_io\u001b[49m\u001b[43m,\u001b[49m\u001b[43m \u001b[49m\u001b[38;5;241;43m*\u001b[39;49m\u001b[38;5;241;43m*\u001b[39;49m\u001b[43mkw\u001b[49m\u001b[43m)\u001b[49m\n\u001b[1;32m    153\u001b[0m data \u001b[38;5;241m=\u001b[39m bytes_io\u001b[38;5;241m.\u001b[39mgetvalue()\n\u001b[1;32m    154\u001b[0m \u001b[38;5;28;01mif\u001b[39;00m fmt \u001b[38;5;241m==\u001b[39m \u001b[38;5;124m'\u001b[39m\u001b[38;5;124msvg\u001b[39m\u001b[38;5;124m'\u001b[39m:\n",
      "File \u001b[0;32m~/Library/Python/3.9/lib/python/site-packages/matplotlib/backend_bases.py:2164\u001b[0m, in \u001b[0;36mFigureCanvasBase.print_figure\u001b[0;34m(self, filename, dpi, facecolor, edgecolor, orientation, format, bbox_inches, pad_inches, bbox_extra_artists, backend, **kwargs)\u001b[0m\n\u001b[1;32m   2161\u001b[0m     \u001b[38;5;66;03m# we do this instead of `self.figure.draw_without_rendering`\u001b[39;00m\n\u001b[1;32m   2162\u001b[0m     \u001b[38;5;66;03m# so that we can inject the orientation\u001b[39;00m\n\u001b[1;32m   2163\u001b[0m     \u001b[38;5;28;01mwith\u001b[39;00m \u001b[38;5;28mgetattr\u001b[39m(renderer, \u001b[38;5;124m\"\u001b[39m\u001b[38;5;124m_draw_disabled\u001b[39m\u001b[38;5;124m\"\u001b[39m, nullcontext)():\n\u001b[0;32m-> 2164\u001b[0m         \u001b[38;5;28;43mself\u001b[39;49m\u001b[38;5;241;43m.\u001b[39;49m\u001b[43mfigure\u001b[49m\u001b[38;5;241;43m.\u001b[39;49m\u001b[43mdraw\u001b[49m\u001b[43m(\u001b[49m\u001b[43mrenderer\u001b[49m\u001b[43m)\u001b[49m\n\u001b[1;32m   2165\u001b[0m \u001b[38;5;28;01mif\u001b[39;00m bbox_inches:\n\u001b[1;32m   2166\u001b[0m     \u001b[38;5;28;01mif\u001b[39;00m bbox_inches \u001b[38;5;241m==\u001b[39m \u001b[38;5;124m\"\u001b[39m\u001b[38;5;124mtight\u001b[39m\u001b[38;5;124m\"\u001b[39m:\n",
      "File \u001b[0;32m~/Library/Python/3.9/lib/python/site-packages/matplotlib/artist.py:95\u001b[0m, in \u001b[0;36m_finalize_rasterization.<locals>.draw_wrapper\u001b[0;34m(artist, renderer, *args, **kwargs)\u001b[0m\n\u001b[1;32m     93\u001b[0m \u001b[38;5;129m@wraps\u001b[39m(draw)\n\u001b[1;32m     94\u001b[0m \u001b[38;5;28;01mdef\u001b[39;00m \u001b[38;5;21mdraw_wrapper\u001b[39m(artist, renderer, \u001b[38;5;241m*\u001b[39margs, \u001b[38;5;241m*\u001b[39m\u001b[38;5;241m*\u001b[39mkwargs):\n\u001b[0;32m---> 95\u001b[0m     result \u001b[38;5;241m=\u001b[39m \u001b[43mdraw\u001b[49m\u001b[43m(\u001b[49m\u001b[43martist\u001b[49m\u001b[43m,\u001b[49m\u001b[43m \u001b[49m\u001b[43mrenderer\u001b[49m\u001b[43m,\u001b[49m\u001b[43m \u001b[49m\u001b[38;5;241;43m*\u001b[39;49m\u001b[43margs\u001b[49m\u001b[43m,\u001b[49m\u001b[43m \u001b[49m\u001b[38;5;241;43m*\u001b[39;49m\u001b[38;5;241;43m*\u001b[39;49m\u001b[43mkwargs\u001b[49m\u001b[43m)\u001b[49m\n\u001b[1;32m     96\u001b[0m     \u001b[38;5;28;01mif\u001b[39;00m renderer\u001b[38;5;241m.\u001b[39m_rasterizing:\n\u001b[1;32m     97\u001b[0m         renderer\u001b[38;5;241m.\u001b[39mstop_rasterizing()\n",
      "File \u001b[0;32m~/Library/Python/3.9/lib/python/site-packages/matplotlib/artist.py:72\u001b[0m, in \u001b[0;36mallow_rasterization.<locals>.draw_wrapper\u001b[0;34m(artist, renderer)\u001b[0m\n\u001b[1;32m     69\u001b[0m     \u001b[38;5;28;01mif\u001b[39;00m artist\u001b[38;5;241m.\u001b[39mget_agg_filter() \u001b[38;5;129;01mis\u001b[39;00m \u001b[38;5;129;01mnot\u001b[39;00m \u001b[38;5;28;01mNone\u001b[39;00m:\n\u001b[1;32m     70\u001b[0m         renderer\u001b[38;5;241m.\u001b[39mstart_filter()\n\u001b[0;32m---> 72\u001b[0m     \u001b[38;5;28;01mreturn\u001b[39;00m \u001b[43mdraw\u001b[49m\u001b[43m(\u001b[49m\u001b[43martist\u001b[49m\u001b[43m,\u001b[49m\u001b[43m \u001b[49m\u001b[43mrenderer\u001b[49m\u001b[43m)\u001b[49m\n\u001b[1;32m     73\u001b[0m \u001b[38;5;28;01mfinally\u001b[39;00m:\n\u001b[1;32m     74\u001b[0m     \u001b[38;5;28;01mif\u001b[39;00m artist\u001b[38;5;241m.\u001b[39mget_agg_filter() \u001b[38;5;129;01mis\u001b[39;00m \u001b[38;5;129;01mnot\u001b[39;00m \u001b[38;5;28;01mNone\u001b[39;00m:\n",
      "File \u001b[0;32m~/Library/Python/3.9/lib/python/site-packages/matplotlib/figure.py:3154\u001b[0m, in \u001b[0;36mFigure.draw\u001b[0;34m(self, renderer)\u001b[0m\n\u001b[1;32m   3151\u001b[0m         \u001b[38;5;66;03m# ValueError can occur when resizing a window.\u001b[39;00m\n\u001b[1;32m   3153\u001b[0m \u001b[38;5;28mself\u001b[39m\u001b[38;5;241m.\u001b[39mpatch\u001b[38;5;241m.\u001b[39mdraw(renderer)\n\u001b[0;32m-> 3154\u001b[0m \u001b[43mmimage\u001b[49m\u001b[38;5;241;43m.\u001b[39;49m\u001b[43m_draw_list_compositing_images\u001b[49m\u001b[43m(\u001b[49m\n\u001b[1;32m   3155\u001b[0m \u001b[43m    \u001b[49m\u001b[43mrenderer\u001b[49m\u001b[43m,\u001b[49m\u001b[43m \u001b[49m\u001b[38;5;28;43mself\u001b[39;49m\u001b[43m,\u001b[49m\u001b[43m \u001b[49m\u001b[43martists\u001b[49m\u001b[43m,\u001b[49m\u001b[43m \u001b[49m\u001b[38;5;28;43mself\u001b[39;49m\u001b[38;5;241;43m.\u001b[39;49m\u001b[43msuppressComposite\u001b[49m\u001b[43m)\u001b[49m\n\u001b[1;32m   3157\u001b[0m \u001b[38;5;28;01mfor\u001b[39;00m sfig \u001b[38;5;129;01min\u001b[39;00m \u001b[38;5;28mself\u001b[39m\u001b[38;5;241m.\u001b[39msubfigs:\n\u001b[1;32m   3158\u001b[0m     sfig\u001b[38;5;241m.\u001b[39mdraw(renderer)\n",
      "File \u001b[0;32m~/Library/Python/3.9/lib/python/site-packages/matplotlib/image.py:132\u001b[0m, in \u001b[0;36m_draw_list_compositing_images\u001b[0;34m(renderer, parent, artists, suppress_composite)\u001b[0m\n\u001b[1;32m    130\u001b[0m \u001b[38;5;28;01mif\u001b[39;00m not_composite \u001b[38;5;129;01mor\u001b[39;00m \u001b[38;5;129;01mnot\u001b[39;00m has_images:\n\u001b[1;32m    131\u001b[0m     \u001b[38;5;28;01mfor\u001b[39;00m a \u001b[38;5;129;01min\u001b[39;00m artists:\n\u001b[0;32m--> 132\u001b[0m         \u001b[43ma\u001b[49m\u001b[38;5;241;43m.\u001b[39;49m\u001b[43mdraw\u001b[49m\u001b[43m(\u001b[49m\u001b[43mrenderer\u001b[49m\u001b[43m)\u001b[49m\n\u001b[1;32m    133\u001b[0m \u001b[38;5;28;01melse\u001b[39;00m:\n\u001b[1;32m    134\u001b[0m     \u001b[38;5;66;03m# Composite any adjacent images together\u001b[39;00m\n\u001b[1;32m    135\u001b[0m     image_group \u001b[38;5;241m=\u001b[39m []\n",
      "File \u001b[0;32m~/Library/Python/3.9/lib/python/site-packages/matplotlib/artist.py:72\u001b[0m, in \u001b[0;36mallow_rasterization.<locals>.draw_wrapper\u001b[0;34m(artist, renderer)\u001b[0m\n\u001b[1;32m     69\u001b[0m     \u001b[38;5;28;01mif\u001b[39;00m artist\u001b[38;5;241m.\u001b[39mget_agg_filter() \u001b[38;5;129;01mis\u001b[39;00m \u001b[38;5;129;01mnot\u001b[39;00m \u001b[38;5;28;01mNone\u001b[39;00m:\n\u001b[1;32m     70\u001b[0m         renderer\u001b[38;5;241m.\u001b[39mstart_filter()\n\u001b[0;32m---> 72\u001b[0m     \u001b[38;5;28;01mreturn\u001b[39;00m \u001b[43mdraw\u001b[49m\u001b[43m(\u001b[49m\u001b[43martist\u001b[49m\u001b[43m,\u001b[49m\u001b[43m \u001b[49m\u001b[43mrenderer\u001b[49m\u001b[43m)\u001b[49m\n\u001b[1;32m     73\u001b[0m \u001b[38;5;28;01mfinally\u001b[39;00m:\n\u001b[1;32m     74\u001b[0m     \u001b[38;5;28;01mif\u001b[39;00m artist\u001b[38;5;241m.\u001b[39mget_agg_filter() \u001b[38;5;129;01mis\u001b[39;00m \u001b[38;5;129;01mnot\u001b[39;00m \u001b[38;5;28;01mNone\u001b[39;00m:\n",
      "File \u001b[0;32m~/Library/Python/3.9/lib/python/site-packages/matplotlib/axes/_base.py:3070\u001b[0m, in \u001b[0;36m_AxesBase.draw\u001b[0;34m(self, renderer)\u001b[0m\n\u001b[1;32m   3067\u001b[0m \u001b[38;5;28;01mif\u001b[39;00m artists_rasterized:\n\u001b[1;32m   3068\u001b[0m     _draw_rasterized(\u001b[38;5;28mself\u001b[39m\u001b[38;5;241m.\u001b[39mfigure, artists_rasterized, renderer)\n\u001b[0;32m-> 3070\u001b[0m \u001b[43mmimage\u001b[49m\u001b[38;5;241;43m.\u001b[39;49m\u001b[43m_draw_list_compositing_images\u001b[49m\u001b[43m(\u001b[49m\n\u001b[1;32m   3071\u001b[0m \u001b[43m    \u001b[49m\u001b[43mrenderer\u001b[49m\u001b[43m,\u001b[49m\u001b[43m \u001b[49m\u001b[38;5;28;43mself\u001b[39;49m\u001b[43m,\u001b[49m\u001b[43m \u001b[49m\u001b[43martists\u001b[49m\u001b[43m,\u001b[49m\u001b[43m \u001b[49m\u001b[38;5;28;43mself\u001b[39;49m\u001b[38;5;241;43m.\u001b[39;49m\u001b[43mfigure\u001b[49m\u001b[38;5;241;43m.\u001b[39;49m\u001b[43msuppressComposite\u001b[49m\u001b[43m)\u001b[49m\n\u001b[1;32m   3073\u001b[0m renderer\u001b[38;5;241m.\u001b[39mclose_group(\u001b[38;5;124m'\u001b[39m\u001b[38;5;124maxes\u001b[39m\u001b[38;5;124m'\u001b[39m)\n\u001b[1;32m   3074\u001b[0m \u001b[38;5;28mself\u001b[39m\u001b[38;5;241m.\u001b[39mstale \u001b[38;5;241m=\u001b[39m \u001b[38;5;28;01mFalse\u001b[39;00m\n",
      "File \u001b[0;32m~/Library/Python/3.9/lib/python/site-packages/matplotlib/image.py:132\u001b[0m, in \u001b[0;36m_draw_list_compositing_images\u001b[0;34m(renderer, parent, artists, suppress_composite)\u001b[0m\n\u001b[1;32m    130\u001b[0m \u001b[38;5;28;01mif\u001b[39;00m not_composite \u001b[38;5;129;01mor\u001b[39;00m \u001b[38;5;129;01mnot\u001b[39;00m has_images:\n\u001b[1;32m    131\u001b[0m     \u001b[38;5;28;01mfor\u001b[39;00m a \u001b[38;5;129;01min\u001b[39;00m artists:\n\u001b[0;32m--> 132\u001b[0m         \u001b[43ma\u001b[49m\u001b[38;5;241;43m.\u001b[39;49m\u001b[43mdraw\u001b[49m\u001b[43m(\u001b[49m\u001b[43mrenderer\u001b[49m\u001b[43m)\u001b[49m\n\u001b[1;32m    133\u001b[0m \u001b[38;5;28;01melse\u001b[39;00m:\n\u001b[1;32m    134\u001b[0m     \u001b[38;5;66;03m# Composite any adjacent images together\u001b[39;00m\n\u001b[1;32m    135\u001b[0m     image_group \u001b[38;5;241m=\u001b[39m []\n",
      "File \u001b[0;32m~/Library/Python/3.9/lib/python/site-packages/matplotlib/artist.py:72\u001b[0m, in \u001b[0;36mallow_rasterization.<locals>.draw_wrapper\u001b[0;34m(artist, renderer)\u001b[0m\n\u001b[1;32m     69\u001b[0m     \u001b[38;5;28;01mif\u001b[39;00m artist\u001b[38;5;241m.\u001b[39mget_agg_filter() \u001b[38;5;129;01mis\u001b[39;00m \u001b[38;5;129;01mnot\u001b[39;00m \u001b[38;5;28;01mNone\u001b[39;00m:\n\u001b[1;32m     70\u001b[0m         renderer\u001b[38;5;241m.\u001b[39mstart_filter()\n\u001b[0;32m---> 72\u001b[0m     \u001b[38;5;28;01mreturn\u001b[39;00m \u001b[43mdraw\u001b[49m\u001b[43m(\u001b[49m\u001b[43martist\u001b[49m\u001b[43m,\u001b[49m\u001b[43m \u001b[49m\u001b[43mrenderer\u001b[49m\u001b[43m)\u001b[49m\n\u001b[1;32m     73\u001b[0m \u001b[38;5;28;01mfinally\u001b[39;00m:\n\u001b[1;32m     74\u001b[0m     \u001b[38;5;28;01mif\u001b[39;00m artist\u001b[38;5;241m.\u001b[39mget_agg_filter() \u001b[38;5;129;01mis\u001b[39;00m \u001b[38;5;129;01mnot\u001b[39;00m \u001b[38;5;28;01mNone\u001b[39;00m:\n",
      "File \u001b[0;32m~/Library/Python/3.9/lib/python/site-packages/matplotlib/text.py:1979\u001b[0m, in \u001b[0;36mAnnotation.draw\u001b[0;34m(self, renderer)\u001b[0m\n\u001b[1;32m   1977\u001b[0m \u001b[38;5;28;01mif\u001b[39;00m renderer \u001b[38;5;129;01mis\u001b[39;00m \u001b[38;5;129;01mnot\u001b[39;00m \u001b[38;5;28;01mNone\u001b[39;00m:\n\u001b[1;32m   1978\u001b[0m     \u001b[38;5;28mself\u001b[39m\u001b[38;5;241m.\u001b[39m_renderer \u001b[38;5;241m=\u001b[39m renderer\n\u001b[0;32m-> 1979\u001b[0m \u001b[38;5;28;01mif\u001b[39;00m \u001b[38;5;129;01mnot\u001b[39;00m \u001b[38;5;28mself\u001b[39m\u001b[38;5;241m.\u001b[39mget_visible() \u001b[38;5;129;01mor\u001b[39;00m \u001b[38;5;129;01mnot\u001b[39;00m \u001b[38;5;28;43mself\u001b[39;49m\u001b[38;5;241;43m.\u001b[39;49m\u001b[43m_check_xy\u001b[49m\u001b[43m(\u001b[49m\u001b[43mrenderer\u001b[49m\u001b[43m)\u001b[49m:\n\u001b[1;32m   1980\u001b[0m     \u001b[38;5;28;01mreturn\u001b[39;00m\n\u001b[1;32m   1981\u001b[0m \u001b[38;5;66;03m# Update text positions before `Text.draw` would, so that the\u001b[39;00m\n\u001b[1;32m   1982\u001b[0m \u001b[38;5;66;03m# FancyArrowPatch is correctly positioned.\u001b[39;00m\n",
      "File \u001b[0;32m~/Library/Python/3.9/lib/python/site-packages/matplotlib/text.py:1574\u001b[0m, in \u001b[0;36m_AnnotationBase._check_xy\u001b[0;34m(self, renderer)\u001b[0m\n\u001b[1;32m   1571\u001b[0m b \u001b[38;5;241m=\u001b[39m \u001b[38;5;28mself\u001b[39m\u001b[38;5;241m.\u001b[39mget_annotation_clip()\n\u001b[1;32m   1572\u001b[0m \u001b[38;5;28;01mif\u001b[39;00m b \u001b[38;5;129;01mor\u001b[39;00m (b \u001b[38;5;129;01mis\u001b[39;00m \u001b[38;5;28;01mNone\u001b[39;00m \u001b[38;5;129;01mand\u001b[39;00m \u001b[38;5;28mself\u001b[39m\u001b[38;5;241m.\u001b[39mxycoords \u001b[38;5;241m==\u001b[39m \u001b[38;5;124m\"\u001b[39m\u001b[38;5;124mdata\u001b[39m\u001b[38;5;124m\"\u001b[39m):\n\u001b[1;32m   1573\u001b[0m     \u001b[38;5;66;03m# check if self.xy is inside the axes.\u001b[39;00m\n\u001b[0;32m-> 1574\u001b[0m     xy_pixel \u001b[38;5;241m=\u001b[39m \u001b[38;5;28;43mself\u001b[39;49m\u001b[38;5;241;43m.\u001b[39;49m\u001b[43m_get_position_xy\u001b[49m\u001b[43m(\u001b[49m\u001b[43mrenderer\u001b[49m\u001b[43m)\u001b[49m\n\u001b[1;32m   1575\u001b[0m     \u001b[38;5;28;01mreturn\u001b[39;00m \u001b[38;5;28mself\u001b[39m\u001b[38;5;241m.\u001b[39maxes\u001b[38;5;241m.\u001b[39mcontains_point(xy_pixel)\n\u001b[1;32m   1576\u001b[0m \u001b[38;5;28;01mreturn\u001b[39;00m \u001b[38;5;28;01mTrue\u001b[39;00m\n",
      "File \u001b[0;32m~/Library/Python/3.9/lib/python/site-packages/matplotlib/text.py:1565\u001b[0m, in \u001b[0;36m_AnnotationBase._get_position_xy\u001b[0;34m(self, renderer)\u001b[0m\n\u001b[1;32m   1563\u001b[0m \u001b[38;5;28;01mdef\u001b[39;00m \u001b[38;5;21m_get_position_xy\u001b[39m(\u001b[38;5;28mself\u001b[39m, renderer):\n\u001b[1;32m   1564\u001b[0m \u001b[38;5;250m    \u001b[39m\u001b[38;5;124;03m\"\"\"Return the pixel position of the annotated point.\"\"\"\u001b[39;00m\n\u001b[0;32m-> 1565\u001b[0m     \u001b[38;5;28;01mreturn\u001b[39;00m \u001b[38;5;28;43mself\u001b[39;49m\u001b[38;5;241;43m.\u001b[39;49m\u001b[43m_get_xy\u001b[49m\u001b[43m(\u001b[49m\u001b[43mrenderer\u001b[49m\u001b[43m,\u001b[49m\u001b[43m \u001b[49m\u001b[38;5;28;43mself\u001b[39;49m\u001b[38;5;241;43m.\u001b[39;49m\u001b[43mxy\u001b[49m\u001b[43m,\u001b[49m\u001b[43m \u001b[49m\u001b[38;5;28;43mself\u001b[39;49m\u001b[38;5;241;43m.\u001b[39;49m\u001b[43mxycoords\u001b[49m\u001b[43m)\u001b[49m\n",
      "File \u001b[0;32m~/Library/Python/3.9/lib/python/site-packages/matplotlib/text.py:1463\u001b[0m, in \u001b[0;36m_AnnotationBase._get_xy\u001b[0;34m(self, renderer, xy, coords)\u001b[0m\n\u001b[1;32m   1461\u001b[0m     x \u001b[38;5;241m=\u001b[39m \u001b[38;5;28mfloat\u001b[39m(\u001b[38;5;28mself\u001b[39m\u001b[38;5;241m.\u001b[39mconvert_xunits(x))\n\u001b[1;32m   1462\u001b[0m \u001b[38;5;28;01mif\u001b[39;00m ycoord \u001b[38;5;241m==\u001b[39m \u001b[38;5;124m'\u001b[39m\u001b[38;5;124mdata\u001b[39m\u001b[38;5;124m'\u001b[39m:\n\u001b[0;32m-> 1463\u001b[0m     y \u001b[38;5;241m=\u001b[39m \u001b[38;5;28;43mfloat\u001b[39;49m\u001b[43m(\u001b[49m\u001b[38;5;28;43mself\u001b[39;49m\u001b[38;5;241;43m.\u001b[39;49m\u001b[43mconvert_yunits\u001b[49m\u001b[43m(\u001b[49m\u001b[43my\u001b[49m\u001b[43m)\u001b[49m\u001b[43m)\u001b[49m\n\u001b[1;32m   1464\u001b[0m \u001b[38;5;28;01mreturn\u001b[39;00m \u001b[38;5;28mself\u001b[39m\u001b[38;5;241m.\u001b[39m_get_xy_transform(renderer, coords)\u001b[38;5;241m.\u001b[39mtransform((x, y))\n",
      "File \u001b[0;32m~/Library/Python/3.9/lib/python/site-packages/pandas/core/series.py:247\u001b[0m, in \u001b[0;36m_coerce_method.<locals>.wrapper\u001b[0;34m(self)\u001b[0m\n\u001b[1;32m    239\u001b[0m     warnings\u001b[38;5;241m.\u001b[39mwarn(\n\u001b[1;32m    240\u001b[0m         \u001b[38;5;124mf\u001b[39m\u001b[38;5;124m\"\u001b[39m\u001b[38;5;124mCalling \u001b[39m\u001b[38;5;132;01m{\u001b[39;00mconverter\u001b[38;5;241m.\u001b[39m\u001b[38;5;18m__name__\u001b[39m\u001b[38;5;132;01m}\u001b[39;00m\u001b[38;5;124m on a single element Series is \u001b[39m\u001b[38;5;124m\"\u001b[39m\n\u001b[1;32m    241\u001b[0m         \u001b[38;5;124m\"\u001b[39m\u001b[38;5;124mdeprecated and will raise a TypeError in the future. \u001b[39m\u001b[38;5;124m\"\u001b[39m\n\u001b[0;32m   (...)\u001b[0m\n\u001b[1;32m    244\u001b[0m         stacklevel\u001b[38;5;241m=\u001b[39mfind_stack_level(),\n\u001b[1;32m    245\u001b[0m     )\n\u001b[1;32m    246\u001b[0m     \u001b[38;5;28;01mreturn\u001b[39;00m converter(\u001b[38;5;28mself\u001b[39m\u001b[38;5;241m.\u001b[39miloc[\u001b[38;5;241m0\u001b[39m])\n\u001b[0;32m--> 247\u001b[0m \u001b[38;5;28;01mraise\u001b[39;00m \u001b[38;5;167;01mTypeError\u001b[39;00m(\u001b[38;5;124mf\u001b[39m\u001b[38;5;124m\"\u001b[39m\u001b[38;5;124mcannot convert the series to \u001b[39m\u001b[38;5;132;01m{\u001b[39;00mconverter\u001b[38;5;132;01m}\u001b[39;00m\u001b[38;5;124m\"\u001b[39m)\n",
      "\u001b[0;31mTypeError\u001b[0m: cannot convert the series to <class 'float'>"
     ]
    },
    {
     "data": {
      "text/plain": [
       "<Figure size 640x480 with 1 Axes>"
      ]
     },
     "metadata": {},
     "output_type": "display_data"
    }
   ],
   "source": [
    "# Clustering (trying to find pattern in data, with said patterns being tied to state name)\n",
    "\n",
    "from sklearn.cluster import KMeans\n",
    "X = crime_df.drop('State', axis = 1)\n",
    "y = crime_df['State']\n",
    "plt.scatter(X['Murder'], X['UrbanPop'])\n",
    "\n",
    "# Enumerating allows you to keep track of the index associated with each iteration!\n",
    "for i, txt in enumerate(y):\n",
    "    plt.annotate(txt, (X['Murder'][i], X['UrbanPop']))\n",
    "\n",
    "plt.xlabel('Murder')\n",
    "plt.ylabel('Urban Population')\n",
    "plt.show()"
   ]
  },
  {
   "cell_type": "code",
   "execution_count": 17,
   "id": "9f281c26",
   "metadata": {},
   "outputs": [
    {
     "ename": "NameError",
     "evalue": "name 'distance' is not defined",
     "output_type": "error",
     "traceback": [
      "\u001b[0;31m---------------------------------------------------------------------------\u001b[0m",
      "\u001b[0;31mNameError\u001b[0m                                 Traceback (most recent call last)",
      "Cell \u001b[0;32mIn[17], line 12\u001b[0m\n\u001b[1;32m      8\u001b[0m \u001b[38;5;66;03m# Distortion is the average of squared distance from cluster center\u001b[39;00m\n\u001b[1;32m      9\u001b[0m \u001b[38;5;66;03m# to the data points (in Euclidian space, 2+ dimensions).\u001b[39;00m\n\u001b[1;32m     10\u001b[0m distortion \u001b[38;5;241m=\u001b[39m cdist(X, model\u001b[38;5;241m.\u001b[39mcluster_centers_,\n\u001b[1;32m     11\u001b[0m                         \u001b[38;5;124m'\u001b[39m\u001b[38;5;124meuclidean\u001b[39m\u001b[38;5;124m'\u001b[39m)\n\u001b[0;32m---> 12\u001b[0m distortion \u001b[38;5;241m=\u001b[39m \u001b[38;5;28msum\u001b[39m(np\u001b[38;5;241m.\u001b[39mmin(\u001b[43mdistance\u001b[49m, axis \u001b[38;5;241m=\u001b[39m \u001b[38;5;241m1\u001b[39m)) \u001b[38;5;241m/\u001b[39m X\u001b[38;5;241m.\u001b[39mshape[\u001b[38;5;241m0\u001b[39m]\n\u001b[1;32m     13\u001b[0m distortions\u001b[38;5;241m.\u001b[39mappend(distortion)\n\u001b[1;32m     15\u001b[0m \u001b[38;5;66;03m# Inertia is calculated by measuring distance from\u001b[39;00m\n\u001b[1;32m     16\u001b[0m \u001b[38;5;66;03m# each data point and centroid and summing squared across cluster.\u001b[39;00m\n\u001b[1;32m     17\u001b[0m \u001b[38;5;66;03m# A good model is one with low inertia or distortion AND low\u001b[39;00m\n\u001b[1;32m     18\u001b[0m \u001b[38;5;66;03m# number of clusters.\u001b[39;00m\n",
      "\u001b[0;31mNameError\u001b[0m: name 'distance' is not defined"
     ]
    }
   ],
   "source": [
    "inertias = []\n",
    "distortions = []\n",
    "\n",
    "for k in range(1, 10):\n",
    "    # Build and fit model\n",
    "    model = KMeans(n_clusters = k).fit(X)\n",
    "\n",
    "    # Distortion is the average of squared distance from cluster center\n",
    "    # to the data points (in Euclidian space, 2+ dimensions).\n",
    "    distortion = cdist(X, model.cluster_centers_,\n",
    "                            'euclidean')\n",
    "    distortion = sum(np.min(distance, axis = 1)) / X.shape[0]\n",
    "    distortions.append(distortion)\n",
    "\n",
    "    # Inertia is calculated by measuring distance from\n",
    "    # each data point and centroid and summing squared across cluster.\n",
    "    # A good model is one with low inertia or distortion AND low\n",
    "    # number of clusters.\n",
    "\n",
    "    inertia = model.inertia_\n",
    "    inertias.append(inertia)"
   ]
  },
  {
   "cell_type": "code",
   "execution_count": 18,
   "id": "be9f3f51",
   "metadata": {},
   "outputs": [
    {
     "data": {
      "text/plain": [
       "Text(0.5, 1.0, 'Elbow Method')"
      ]
     },
     "execution_count": 18,
     "metadata": {},
     "output_type": "execute_result"
    },
    {
     "data": {
      "image/png": "[encoded data removed]",
      "text/plain": [
       "<Figure size 640x480 with 1 Axes>"
      ]
     },
     "metadata": {},
     "output_type": "display_data"
    }
   ],
   "source": [
    "plt.title('Elbow Method')"
   ]
  },
  {
   "cell_type": "code",
   "execution_count": null,
   "id": "fa25f49f",
   "metadata": {},
   "outputs": [],
   "source": [
    "plt.title('Elbow Method with Inertia')"
   ]
  },
  {
   "cell_type": "code",
   "execution_count": 19,
   "id": "29dd5a05",
   "metadata": {},
   "outputs": [
    {
     "data": {
      "image/png": "[encoded data removed]",
      "text/plain": [
       "<Figure size 1000x700 with 1 Axes>"
      ]
     },
     "metadata": {},
     "output_type": "display_data"
    }
   ],
   "source": [
    "# Hierachical\n",
    "\n",
    "from scipy.cluster.hierarchy import dendrogram, linkage\n",
    "linkage_value = linkage(X, 'ward')\n",
    "plt.figure(figsize = (10, 7))\n",
    "dendrogram = dendrogram(linkage_value, labels = list(y))"
   ]
  },
  {
   "cell_type": "code",
   "execution_count": 20,
   "id": "57339468",
   "metadata": {},
   "outputs": [
    {
     "data": {
      "text/plain": [
       "array([1, 1, 1, 2, 1, 2, 0, 1, 1, 2, 0, 0, 1, 0, 0, 0, 0, 1, 0, 1, 2, 1,\n",
       "       0, 1, 2, 0, 0, 1, 0, 2, 1, 1, 1, 0, 0, 2, 2, 0, 2, 1, 0, 2, 2, 0,\n",
       "       0, 2, 2, 0, 0, 2])"
      ]
     },
     "execution_count": 20,
     "metadata": {},
     "output_type": "execute_result"
    }
   ],
   "source": [
    "from sklearn.cluster import AgglomerativeClustering\n",
    "# Divides the population into several clusters such that the data points in\n",
    "# the same cluster are more similar to each other and data points in different\n",
    "# clusters are more dissimilar\n",
    "\n",
    "cluster = AgglomerativeClustering(n_clusters = 3, linkage = 'ward')\n",
    "cluster.fit_predict(X)"
   ]
  },
  {
   "cell_type": "code",
   "execution_count": 23,
   "id": "04acc4ca",
   "metadata": {},
   "outputs": [
    {
     "data": {
      "image/png": "[encoded data removed]",
      "text/plain": [
       "<Figure size 1000x1000 with 1 Axes>"
      ]
     },
     "metadata": {},
     "output_type": "display_data"
    }
   ],
   "source": [
    "plt.figure(figsize = (10, 10))\n",
    "plt.scatter(X['UrbanPop'], X['Murder'], c = cluster.labels_)\n",
    "for i, txt in enumerate(y):\n",
    "    plt.annotate(txt, (X['UrbanPop'][i], X['Murder'][i]))"
   ]
  },
  {
   "cell_type": "markdown",
   "id": "12d49a08",
   "metadata": {},
   "source": [
    "# 4/10:"
   ]
  },
  {
   "cell_type": "code",
   "execution_count": 4,
   "id": "258260a2",
   "metadata": {},
   "outputs": [
    {
     "data": {
      "text/html": [
       "<div>\n",
       "<style scoped>\n",
       "    .dataframe tbody tr th:only-of-type {\n",
       "        vertical-align: middle;\n",
       "    }\n",
       "\n",
       "    .dataframe tbody tr th {\n",
       "        vertical-align: top;\n",
       "    }\n",
       "\n",
       "    .dataframe thead th {\n",
       "        text-align: right;\n",
       "    }\n",
       "</style>\n",
       "<table border=\"1\" class=\"dataframe\">\n",
       "  <thead>\n",
       "    <tr style=\"text-align: right;\">\n",
       "      <th></th>\n",
       "      <th>Pregnancies</th>\n",
       "      <th>Glucose</th>\n",
       "      <th>BloodPressure</th>\n",
       "      <th>SkinThickness</th>\n",
       "      <th>Insulin</th>\n",
       "      <th>BMI</th>\n",
       "      <th>DiabetesPedigreeFunction</th>\n",
       "      <th>Age</th>\n",
       "      <th>Outcome</th>\n",
       "    </tr>\n",
       "  </thead>\n",
       "  <tbody>\n",
       "    <tr>\n",
       "      <th>0</th>\n",
       "      <td>6</td>\n",
       "      <td>148</td>\n",
       "      <td>72</td>\n",
       "      <td>35</td>\n",
       "      <td>0</td>\n",
       "      <td>33.6</td>\n",
       "      <td>0.627</td>\n",
       "      <td>50</td>\n",
       "      <td>1</td>\n",
       "    </tr>\n",
       "    <tr>\n",
       "      <th>1</th>\n",
       "      <td>1</td>\n",
       "      <td>85</td>\n",
       "      <td>66</td>\n",
       "      <td>29</td>\n",
       "      <td>0</td>\n",
       "      <td>26.6</td>\n",
       "      <td>0.351</td>\n",
       "      <td>31</td>\n",
       "      <td>0</td>\n",
       "    </tr>\n",
       "    <tr>\n",
       "      <th>2</th>\n",
       "      <td>8</td>\n",
       "      <td>183</td>\n",
       "      <td>64</td>\n",
       "      <td>0</td>\n",
       "      <td>0</td>\n",
       "      <td>23.3</td>\n",
       "      <td>0.672</td>\n",
       "      <td>32</td>\n",
       "      <td>1</td>\n",
       "    </tr>\n",
       "    <tr>\n",
       "      <th>3</th>\n",
       "      <td>1</td>\n",
       "      <td>89</td>\n",
       "      <td>66</td>\n",
       "      <td>23</td>\n",
       "      <td>94</td>\n",
       "      <td>28.1</td>\n",
       "      <td>0.167</td>\n",
       "      <td>21</td>\n",
       "      <td>0</td>\n",
       "    </tr>\n",
       "    <tr>\n",
       "      <th>4</th>\n",
       "      <td>0</td>\n",
       "      <td>137</td>\n",
       "      <td>40</td>\n",
       "      <td>35</td>\n",
       "      <td>168</td>\n",
       "      <td>43.1</td>\n",
       "      <td>2.288</td>\n",
       "      <td>33</td>\n",
       "      <td>1</td>\n",
       "    </tr>\n",
       "  </tbody>\n",
       "</table>\n",
       "</div>"
      ],
      "text/plain": [
       "   Pregnancies  Glucose  BloodPressure  SkinThickness  Insulin   BMI  \\\n",
       "0            6      148             72             35        0  33.6   \n",
       "1            1       85             66             29        0  26.6   \n",
       "2            8      183             64              0        0  23.3   \n",
       "3            1       89             66             23       94  28.1   \n",
       "4            0      137             40             35      168  43.1   \n",
       "\n",
       "   DiabetesPedigreeFunction  Age  Outcome  \n",
       "0                     0.627   50        1  \n",
       "1                     0.351   31        0  \n",
       "2                     0.672   32        1  \n",
       "3                     0.167   21        0  \n",
       "4                     2.288   33        1  "
      ]
     },
     "execution_count": 4,
     "metadata": {},
     "output_type": "execute_result"
    }
   ],
   "source": [
    "import pandas as pd\n",
    "from sklearn.linear_model import LogisticRegression\n",
    "from sklearn.preprocessing import StandardScaler\n",
    "from sklearn.model_selection import train_test_split\n",
    "\n",
    "diabetes_df = pd.read_csv('Misc./diabetes.csv')\n",
    "diabetes_df.head()"
   ]
  },
  {
   "cell_type": "code",
   "execution_count": 17,
   "id": "a27837be",
   "metadata": {},
   "outputs": [
    {
     "name": "stdout",
     "output_type": "stream",
     "text": [
      "0.7922077922077922\n"
     ]
    },
    {
     "name": "stderr",
     "output_type": "stream",
     "text": [
      "/Users/connorlove/Library/Python/3.9/lib/python/site-packages/sklearn/linear_model/_logistic.py:469: ConvergenceWarning: lbfgs failed to converge (status=1):\n",
      "STOP: TOTAL NO. of ITERATIONS REACHED LIMIT.\n",
      "\n",
      "Increase the number of iterations (max_iter) or scale the data as shown in:\n",
      "    https://scikit-learn.org/stable/modules/preprocessing.html\n",
      "Please also refer to the documentation for alternative solver options:\n",
      "    https://scikit-learn.org/stable/modules/linear_model.html#logistic-regression\n",
      "  n_iter_i = _check_optimize_result(\n"
     ]
    }
   ],
   "source": [
    "X = diabetes_df.drop('Outcome', axis = 1)\n",
    "y = diabetes_df['Outcome']\n",
    "\n",
    "# Train test split - Cross Validation:\n",
    "\n",
    "X_train, X_test, y_train, y_test = train_test_split(X, y, test_size = 0.3,\n",
    "                                                    random_state = 32,\n",
    "                                                    stratify = y) # Again, stratifying is grabbing data that's more spread-out.\n",
    "\n",
    "model = LogisticRegression(random_state = 32).fit(X_train, y_train)\n",
    "\n",
    "# Predicted outcome:\n",
    "y_predicted = model.predict(X_test)\n",
    "print(model.score(X_test, y_test))"
   ]
  },
  {
   "cell_type": "code",
   "execution_count": 18,
   "id": "33f56d5e",
   "metadata": {},
   "outputs": [
    {
     "data": {
      "text/plain": [
       "<sklearn.metrics._plot.confusion_matrix.ConfusionMatrixDisplay at 0x17ff09040>"
      ]
     },
     "execution_count": 18,
     "metadata": {},
     "output_type": "execute_result"
    },
    {
     "data": {
      "image/png": "[encoded data removed]",
      "text/plain": [
       "<Figure size 640x480 with 2 Axes>"
      ]
     },
     "metadata": {},
     "output_type": "display_data"
    }
   ],
   "source": [
    "from sklearn.metrics import ConfusionMatrixDisplay\n",
    "\n",
    "ConfusionMatrixDisplay.from_estimator(model, X_test, y_test)"
   ]
  },
  {
   "cell_type": "code",
   "execution_count": 25,
   "id": "252a159e",
   "metadata": {},
   "outputs": [
    {
     "name": "stderr",
     "output_type": "stream",
     "text": [
      "/Users/connorlove/Library/Python/3.9/lib/python/site-packages/sklearn/linear_model/_logistic.py:469: ConvergenceWarning: lbfgs failed to converge (status=1):\n",
      "STOP: TOTAL NO. of ITERATIONS REACHED LIMIT.\n",
      "\n",
      "Increase the number of iterations (max_iter) or scale the data as shown in:\n",
      "    https://scikit-learn.org/stable/modules/preprocessing.html\n",
      "Please also refer to the documentation for alternative solver options:\n",
      "    https://scikit-learn.org/stable/modules/linear_model.html#logistic-regression\n",
      "  n_iter_i = _check_optimize_result(\n"
     ]
    },
    {
     "ename": "TypeError",
     "evalue": "score() missing 1 required positional argument: 'y'",
     "output_type": "error",
     "traceback": [
      "\u001b[0;31m---------------------------------------------------------------------------\u001b[0m",
      "\u001b[0;31mTypeError\u001b[0m                                 Traceback (most recent call last)",
      "Cell \u001b[0;32mIn[25], line 11\u001b[0m\n\u001b[1;32m      8\u001b[0m X_test_svd \u001b[38;5;241m=\u001b[39m svd\u001b[38;5;241m.\u001b[39mfit_transform(X_test)\n\u001b[1;32m     10\u001b[0m model \u001b[38;5;241m=\u001b[39m LogisticRegression(random_state \u001b[38;5;241m=\u001b[39m \u001b[38;5;241m32\u001b[39m)\u001b[38;5;241m.\u001b[39mfit(X_train_svd, y_train)\n\u001b[0;32m---> 11\u001b[0m \u001b[43mmodel\u001b[49m\u001b[38;5;241;43m.\u001b[39;49m\u001b[43mscore\u001b[49m\u001b[43m(\u001b[49m\u001b[43mX_test_svd\u001b[49m\u001b[43m)\u001b[49m\n",
      "\u001b[0;31mTypeError\u001b[0m: score() missing 1 required positional argument: 'y'"
     ]
    }
   ],
   "source": [
    "from sklearn.decomposition import TruncatedSVD\n",
    "\n",
    "svd = TruncatedSVD(n_components = 7) # Singular value decomp = factorization technique\n",
    "                                     # for real of complete numbers in a matrix\n",
    "                                     # (untangles patterns in numbers using matrix decomp).\n",
    "\n",
    "X_train_svd = svd.fit_transform(X_train)\n",
    "X_test_svd = svd.fit_transform(X_test)\n",
    "\n",
    "model = LogisticRegression(random_state = 32).fit(X_train_svd, y_train)\n",
    "model.score(X_test_svd)"
   ]
  },
  {
   "cell_type": "code",
   "execution_count": 15,
   "id": "9273662f",
   "metadata": {},
   "outputs": [
    {
     "data": {
      "text/plain": [
       "<sklearn.metrics._plot.confusion_matrix.ConfusionMatrixDisplay at 0x17eb712b0>"
      ]
     },
     "execution_count": 15,
     "metadata": {},
     "output_type": "execute_result"
    },
    {
     "data": {
      "image/png": "[encoded data removed]",
      "text/plain": [
       "<Figure size 640x480 with 2 Axes>"
      ]
     },
     "metadata": {},
     "output_type": "display_data"
    }
   ],
   "source": [
    "from sklearn.metrics import ConfusionMatrixDisplay\n",
    "ConfusionMatrixDisplay.from_estimator(model, X_test_svd, y_test)"
   ]
  },
  {
   "cell_type": "markdown",
   "id": "5906a2bf",
   "metadata": {},
   "source": [
    "# Natural Language Processing:"
   ]
  },
  {
   "cell_type": "markdown",
   "id": "8bcb5f95",
   "metadata": {},
   "source": [
    "AKA Computational Linguistics\n",
    "- Takes programming concepts and applies to linguistics\n",
    "- Process of teaching computers our language\n",
    "- Information retrieval (what year did 'x' happen?), sentiment analysis (what is the mood of the request), information extraction, machine translation (google translate), question answering (see info retrieval and extraction)\n"
   ]
  },
  {
   "cell_type": "markdown",
   "id": "bdf3aaaa",
   "metadata": {},
   "source": [
    "Map Reduce (is the base code):\n",
    "- Taking large volumes of data na dprocessing it into aggregate results\n",
    "- Finds the number of value occurences in a text (glorified word counter)\n",
    "\n",
    "Steps in a comprehensive NLP System:\n",
    "1. Tokenization = Separating text into smaller tokens\n",
    "2. Morphological Analysis = Word formation\n",
    "3. Syntactic Analysis = Sentence structure\n",
    "4. Semantic Analysis = Meaning\n",
    "5. Pragmatic Analysis = Understanding\n",
    "- Natural language generation follows these pretty easily"
   ]
  },
  {
   "cell_type": "markdown",
   "id": "4d5cc47b",
   "metadata": {},
   "source": [
    "# (More) Natural Language Processing:"
   ]
  },
  {
   "cell_type": "markdown",
   "id": "99b34a29",
   "metadata": {},
   "source": [
    "Tokenization = Chopping up sequences of characters into chunks (tokens)\n",
    "- ex; \"Friends, Romans, Countrymen, lend me your ears;\" -> each of those words separated, no punctuation\n",
    "- Token = instance of sequence of characters\n",
    "- Type = all instances that are the same (ex; [Roman] would have the same type as [Roman])\n",
    "- Term = Normalized type, stored in system dictionary... (ex; sometimes [Roman] would be 1234, but usually closer to [Roman] than that)\n",
    "\n",
    "- Sometimes, tokenizatoin takes form of splitting on all non-alphanumeric characters... in which case aren't would be split into aren + t... yikes\n",
    "- Usually solve this by including heuristic rules for special cases\n",
    "\n",
    "\n",
    "Hyphenation = Tokenization for the \"-\" character... shoud use ^ heuristic rules to avoid natural problems"
   ]
  },
  {
   "cell_type": "code",
   "execution_count": 8,
   "id": "e1c4bb3a",
   "metadata": {},
   "outputs": [
    {
     "ename": "LookupError",
     "evalue": "\n**********************************************************************\n  Resource \u001b[93mpunkt\u001b[0m not found.\n  Please use the NLTK Downloader to obtain the resource:\n\n  \u001b[31m>>> import nltk\n  >>> nltk.download('punkt')\n  \u001b[0m\n  For more information see: https://www.nltk.org/data.html\n\n  Attempted to load \u001b[93mtokenizers/punkt/PY3/english.pickle\u001b[0m\n\n  Searched in:\n    - '/Users/connorlove/nltk_data'\n    - '/Library/Developer/CommandLineTools/Library/Frameworks/Python3.framework/Versions/3.9/nltk_data'\n    - '/Library/Developer/CommandLineTools/Library/Frameworks/Python3.framework/Versions/3.9/share/nltk_data'\n    - '/Library/Developer/CommandLineTools/Library/Frameworks/Python3.framework/Versions/3.9/lib/nltk_data'\n    - '/usr/share/nltk_data'\n    - '/usr/local/share/nltk_data'\n    - '/usr/lib/nltk_data'\n    - '/usr/local/lib/nltk_data'\n    - ''\n**********************************************************************\n",
     "output_type": "error",
     "traceback": [
      "\u001b[0;31m---------------------------------------------------------------------------\u001b[0m",
      "\u001b[0;31mLookupError\u001b[0m                               Traceback (most recent call last)",
      "Cell \u001b[0;32mIn[8], line 13\u001b[0m\n\u001b[1;32m      4\u001b[0m \u001b[38;5;66;03m# An unsupervised model trainable model, which means\u001b[39;00m\n\u001b[1;32m      5\u001b[0m \u001b[38;5;66;03m# it can be trained on unlabeled data.\u001b[39;00m\n\u001b[1;32m      7\u001b[0m text \u001b[38;5;241m=\u001b[39m \u001b[38;5;124m'''\u001b[39m\u001b[38;5;124mLorem ipsum dolor sit amet, consectetur adipiscing elit,\u001b[39m\n\u001b[1;32m      8\u001b[0m \u001b[38;5;124m        sed do eiusmod tempor incididunt ut labore et dolore magna aliqua.\u001b[39m\n\u001b[1;32m      9\u001b[0m \u001b[38;5;124m        Ut enim ad minim veniam, quis nostrud exercitation ullamco laboris nisi ut aliquip ex ea commodo consequat.\u001b[39m\n\u001b[1;32m     10\u001b[0m \u001b[38;5;124m        Duis aute irure dolor in reprehenderit in voluptate velit esse cillum dolore eu fugiat nulla pariatur.\u001b[39m\n\u001b[1;32m     11\u001b[0m \u001b[38;5;124m        Excepteur sint occaecat cupidatat non proident, sunt in culpa qui officia deserunt mollit anim id est laborum.\u001b[39m\u001b[38;5;124m'''\u001b[39m\n\u001b[0;32m---> 13\u001b[0m \u001b[38;5;28mprint\u001b[39m(\u001b[43mword_tokenize\u001b[49m\u001b[43m(\u001b[49m\u001b[43mtext\u001b[49m\u001b[43m)\u001b[49m)\n",
      "File \u001b[0;32m~/Library/Python/3.9/lib/python/site-packages/nltk/tokenize/__init__.py:129\u001b[0m, in \u001b[0;36mword_tokenize\u001b[0;34m(text, language, preserve_line)\u001b[0m\n\u001b[1;32m    114\u001b[0m \u001b[38;5;28;01mdef\u001b[39;00m \u001b[38;5;21mword_tokenize\u001b[39m(text, language\u001b[38;5;241m=\u001b[39m\u001b[38;5;124m\"\u001b[39m\u001b[38;5;124menglish\u001b[39m\u001b[38;5;124m\"\u001b[39m, preserve_line\u001b[38;5;241m=\u001b[39m\u001b[38;5;28;01mFalse\u001b[39;00m):\n\u001b[1;32m    115\u001b[0m \u001b[38;5;250m    \u001b[39m\u001b[38;5;124;03m\"\"\"\u001b[39;00m\n\u001b[1;32m    116\u001b[0m \u001b[38;5;124;03m    Return a tokenized copy of *text*,\u001b[39;00m\n\u001b[1;32m    117\u001b[0m \u001b[38;5;124;03m    using NLTK's recommended word tokenizer\u001b[39;00m\n\u001b[0;32m   (...)\u001b[0m\n\u001b[1;32m    127\u001b[0m \u001b[38;5;124;03m    :type preserve_line: bool\u001b[39;00m\n\u001b[1;32m    128\u001b[0m \u001b[38;5;124;03m    \"\"\"\u001b[39;00m\n\u001b[0;32m--> 129\u001b[0m     sentences \u001b[38;5;241m=\u001b[39m [text] \u001b[38;5;28;01mif\u001b[39;00m preserve_line \u001b[38;5;28;01melse\u001b[39;00m \u001b[43msent_tokenize\u001b[49m\u001b[43m(\u001b[49m\u001b[43mtext\u001b[49m\u001b[43m,\u001b[49m\u001b[43m \u001b[49m\u001b[43mlanguage\u001b[49m\u001b[43m)\u001b[49m\n\u001b[1;32m    130\u001b[0m     \u001b[38;5;28;01mreturn\u001b[39;00m [\n\u001b[1;32m    131\u001b[0m         token \u001b[38;5;28;01mfor\u001b[39;00m sent \u001b[38;5;129;01min\u001b[39;00m sentences \u001b[38;5;28;01mfor\u001b[39;00m token \u001b[38;5;129;01min\u001b[39;00m _treebank_word_tokenizer\u001b[38;5;241m.\u001b[39mtokenize(sent)\n\u001b[1;32m    132\u001b[0m     ]\n",
      "File \u001b[0;32m~/Library/Python/3.9/lib/python/site-packages/nltk/tokenize/__init__.py:106\u001b[0m, in \u001b[0;36msent_tokenize\u001b[0;34m(text, language)\u001b[0m\n\u001b[1;32m     96\u001b[0m \u001b[38;5;28;01mdef\u001b[39;00m \u001b[38;5;21msent_tokenize\u001b[39m(text, language\u001b[38;5;241m=\u001b[39m\u001b[38;5;124m\"\u001b[39m\u001b[38;5;124menglish\u001b[39m\u001b[38;5;124m\"\u001b[39m):\n\u001b[1;32m     97\u001b[0m \u001b[38;5;250m    \u001b[39m\u001b[38;5;124;03m\"\"\"\u001b[39;00m\n\u001b[1;32m     98\u001b[0m \u001b[38;5;124;03m    Return a sentence-tokenized copy of *text*,\u001b[39;00m\n\u001b[1;32m     99\u001b[0m \u001b[38;5;124;03m    using NLTK's recommended sentence tokenizer\u001b[39;00m\n\u001b[0;32m   (...)\u001b[0m\n\u001b[1;32m    104\u001b[0m \u001b[38;5;124;03m    :param language: the model name in the Punkt corpus\u001b[39;00m\n\u001b[1;32m    105\u001b[0m \u001b[38;5;124;03m    \"\"\"\u001b[39;00m\n\u001b[0;32m--> 106\u001b[0m     tokenizer \u001b[38;5;241m=\u001b[39m \u001b[43mload\u001b[49m\u001b[43m(\u001b[49m\u001b[38;5;124;43mf\u001b[39;49m\u001b[38;5;124;43m\"\u001b[39;49m\u001b[38;5;124;43mtokenizers/punkt/\u001b[39;49m\u001b[38;5;132;43;01m{\u001b[39;49;00m\u001b[43mlanguage\u001b[49m\u001b[38;5;132;43;01m}\u001b[39;49;00m\u001b[38;5;124;43m.pickle\u001b[39;49m\u001b[38;5;124;43m\"\u001b[39;49m\u001b[43m)\u001b[49m\n\u001b[1;32m    107\u001b[0m     \u001b[38;5;28;01mreturn\u001b[39;00m tokenizer\u001b[38;5;241m.\u001b[39mtokenize(text)\n",
      "File \u001b[0;32m~/Library/Python/3.9/lib/python/site-packages/nltk/data.py:750\u001b[0m, in \u001b[0;36mload\u001b[0;34m(resource_url, format, cache, verbose, logic_parser, fstruct_reader, encoding)\u001b[0m\n\u001b[1;32m    747\u001b[0m     \u001b[38;5;28mprint\u001b[39m(\u001b[38;5;124mf\u001b[39m\u001b[38;5;124m\"\u001b[39m\u001b[38;5;124m<<Loading \u001b[39m\u001b[38;5;132;01m{\u001b[39;00mresource_url\u001b[38;5;132;01m}\u001b[39;00m\u001b[38;5;124m>>\u001b[39m\u001b[38;5;124m\"\u001b[39m)\n\u001b[1;32m    749\u001b[0m \u001b[38;5;66;03m# Load the resource.\u001b[39;00m\n\u001b[0;32m--> 750\u001b[0m opened_resource \u001b[38;5;241m=\u001b[39m \u001b[43m_open\u001b[49m\u001b[43m(\u001b[49m\u001b[43mresource_url\u001b[49m\u001b[43m)\u001b[49m\n\u001b[1;32m    752\u001b[0m \u001b[38;5;28;01mif\u001b[39;00m \u001b[38;5;28mformat\u001b[39m \u001b[38;5;241m==\u001b[39m \u001b[38;5;124m\"\u001b[39m\u001b[38;5;124mraw\u001b[39m\u001b[38;5;124m\"\u001b[39m:\n\u001b[1;32m    753\u001b[0m     resource_val \u001b[38;5;241m=\u001b[39m opened_resource\u001b[38;5;241m.\u001b[39mread()\n",
      "File \u001b[0;32m~/Library/Python/3.9/lib/python/site-packages/nltk/data.py:876\u001b[0m, in \u001b[0;36m_open\u001b[0;34m(resource_url)\u001b[0m\n\u001b[1;32m    873\u001b[0m protocol, path_ \u001b[38;5;241m=\u001b[39m split_resource_url(resource_url)\n\u001b[1;32m    875\u001b[0m \u001b[38;5;28;01mif\u001b[39;00m protocol \u001b[38;5;129;01mis\u001b[39;00m \u001b[38;5;28;01mNone\u001b[39;00m \u001b[38;5;129;01mor\u001b[39;00m protocol\u001b[38;5;241m.\u001b[39mlower() \u001b[38;5;241m==\u001b[39m \u001b[38;5;124m\"\u001b[39m\u001b[38;5;124mnltk\u001b[39m\u001b[38;5;124m\"\u001b[39m:\n\u001b[0;32m--> 876\u001b[0m     \u001b[38;5;28;01mreturn\u001b[39;00m \u001b[43mfind\u001b[49m\u001b[43m(\u001b[49m\u001b[43mpath_\u001b[49m\u001b[43m,\u001b[49m\u001b[43m \u001b[49m\u001b[43mpath\u001b[49m\u001b[43m \u001b[49m\u001b[38;5;241;43m+\u001b[39;49m\u001b[43m \u001b[49m\u001b[43m[\u001b[49m\u001b[38;5;124;43m\"\u001b[39;49m\u001b[38;5;124;43m\"\u001b[39;49m\u001b[43m]\u001b[49m\u001b[43m)\u001b[49m\u001b[38;5;241m.\u001b[39mopen()\n\u001b[1;32m    877\u001b[0m \u001b[38;5;28;01melif\u001b[39;00m protocol\u001b[38;5;241m.\u001b[39mlower() \u001b[38;5;241m==\u001b[39m \u001b[38;5;124m\"\u001b[39m\u001b[38;5;124mfile\u001b[39m\u001b[38;5;124m\"\u001b[39m:\n\u001b[1;32m    878\u001b[0m     \u001b[38;5;66;03m# urllib might not use mode='rb', so handle this one ourselves:\u001b[39;00m\n\u001b[1;32m    879\u001b[0m     \u001b[38;5;28;01mreturn\u001b[39;00m find(path_, [\u001b[38;5;124m\"\u001b[39m\u001b[38;5;124m\"\u001b[39m])\u001b[38;5;241m.\u001b[39mopen()\n",
      "File \u001b[0;32m~/Library/Python/3.9/lib/python/site-packages/nltk/data.py:583\u001b[0m, in \u001b[0;36mfind\u001b[0;34m(resource_name, paths)\u001b[0m\n\u001b[1;32m    581\u001b[0m sep \u001b[38;5;241m=\u001b[39m \u001b[38;5;124m\"\u001b[39m\u001b[38;5;124m*\u001b[39m\u001b[38;5;124m\"\u001b[39m \u001b[38;5;241m*\u001b[39m \u001b[38;5;241m70\u001b[39m\n\u001b[1;32m    582\u001b[0m resource_not_found \u001b[38;5;241m=\u001b[39m \u001b[38;5;124mf\u001b[39m\u001b[38;5;124m\"\u001b[39m\u001b[38;5;130;01m\\n\u001b[39;00m\u001b[38;5;132;01m{\u001b[39;00msep\u001b[38;5;132;01m}\u001b[39;00m\u001b[38;5;130;01m\\n\u001b[39;00m\u001b[38;5;132;01m{\u001b[39;00mmsg\u001b[38;5;132;01m}\u001b[39;00m\u001b[38;5;130;01m\\n\u001b[39;00m\u001b[38;5;132;01m{\u001b[39;00msep\u001b[38;5;132;01m}\u001b[39;00m\u001b[38;5;130;01m\\n\u001b[39;00m\u001b[38;5;124m\"\u001b[39m\n\u001b[0;32m--> 583\u001b[0m \u001b[38;5;28;01mraise\u001b[39;00m \u001b[38;5;167;01mLookupError\u001b[39;00m(resource_not_found)\n",
      "\u001b[0;31mLookupError\u001b[0m: \n**********************************************************************\n  Resource \u001b[93mpunkt\u001b[0m not found.\n  Please use the NLTK Downloader to obtain the resource:\n\n  \u001b[31m>>> import nltk\n  >>> nltk.download('punkt')\n  \u001b[0m\n  For more information see: https://www.nltk.org/data.html\n\n  Attempted to load \u001b[93mtokenizers/punkt/PY3/english.pickle\u001b[0m\n\n  Searched in:\n    - '/Users/connorlove/nltk_data'\n    - '/Library/Developer/CommandLineTools/Library/Frameworks/Python3.framework/Versions/3.9/nltk_data'\n    - '/Library/Developer/CommandLineTools/Library/Frameworks/Python3.framework/Versions/3.9/share/nltk_data'\n    - '/Library/Developer/CommandLineTools/Library/Frameworks/Python3.framework/Versions/3.9/lib/nltk_data'\n    - '/usr/share/nltk_data'\n    - '/usr/local/share/nltk_data'\n    - '/usr/lib/nltk_data'\n    - '/usr/local/lib/nltk_data'\n    - ''\n**********************************************************************\n"
     ]
    }
   ],
   "source": [
    "import nltk\n",
    "from nltk.tokenize import word_tokenize\n",
    "\n",
    "# An unsupervised model trainable model, which means\n",
    "# it can be trained on unlabeled data.\n",
    "\n",
    "text = '''Lorem ipsum dolor sit amet, consectetur adipiscing elit,\n",
    "        sed do eiusmod tempor incididunt ut labore et dolore magna aliqua.\n",
    "        Ut enim ad minim veniam, quis nostrud exercitation ullamco laboris nisi ut aliquip ex ea commodo consequat.\n",
    "        Duis aute irure dolor in reprehenderit in voluptate velit esse cillum dolore eu fugiat nulla pariatur.\n",
    "        Excepteur sint occaecat cupidatat non proident, sunt in culpa qui officia deserunt mollit anim id est laborum.'''\n",
    "\n",
    "print(word_tokenize(text))"
   ]
  },
  {
   "cell_type": "markdown",
   "id": "a12a9d3d",
   "metadata": {},
   "source": [
    "## Gutenberg:"
   ]
  },
  {
   "cell_type": "code",
   "execution_count": 9,
   "id": "729f9ada",
   "metadata": {},
   "outputs": [
    {
     "name": "stderr",
     "output_type": "stream",
     "text": [
      "[nltk_data] Downloading package gutenberg to\n",
      "[nltk_data]     /Users/connorlove/nltk_data...\n",
      "[nltk_data]   Unzipping corpora/gutenberg.zip.\n"
     ]
    },
    {
     "data": {
      "text/plain": [
       "['austen-emma.txt',\n",
       " 'austen-persuasion.txt',\n",
       " 'austen-sense.txt',\n",
       " 'bible-kjv.txt',\n",
       " 'blake-poems.txt',\n",
       " 'bryant-stories.txt',\n",
       " 'burgess-busterbrown.txt',\n",
       " 'carroll-alice.txt',\n",
       " 'chesterton-ball.txt',\n",
       " 'chesterton-brown.txt',\n",
       " 'chesterton-thursday.txt',\n",
       " 'edgeworth-parents.txt',\n",
       " 'melville-moby_dick.txt',\n",
       " 'milton-paradise.txt',\n",
       " 'shakespeare-caesar.txt',\n",
       " 'shakespeare-hamlet.txt',\n",
       " 'shakespeare-macbeth.txt',\n",
       " 'whitman-leaves.txt']"
      ]
     },
     "execution_count": 9,
     "metadata": {},
     "output_type": "execute_result"
    }
   ],
   "source": [
    "nltk.download('gutenberg')\n",
    "nltk.corpus.gutenberg.fileids()"
   ]
  },
  {
   "cell_type": "code",
   "execution_count": 10,
   "id": "6eb6c8bf",
   "metadata": {},
   "outputs": [
    {
     "data": {
      "text/plain": [
       "['[', 'Alice', \"'\", 's', 'Adventures', 'in', ...]"
      ]
     },
     "execution_count": 10,
     "metadata": {},
     "output_type": "execute_result"
    }
   ],
   "source": [
    "aiw = nltk.corpus.gutenberg.words('carroll-alice.txt')\n",
    "aiw"
   ]
  },
  {
   "cell_type": "markdown",
   "id": "cd98b62d",
   "metadata": {},
   "source": [
    "## Stop Words:"
   ]
  },
  {
   "cell_type": "code",
   "execution_count": 13,
   "id": "ae3d053f",
   "metadata": {},
   "outputs": [
    {
     "data": {
      "text/plain": [
       "{'a',\n",
       " 'about',\n",
       " 'above',\n",
       " 'after',\n",
       " 'again',\n",
       " 'against',\n",
       " 'ain',\n",
       " 'all',\n",
       " 'am',\n",
       " 'an',\n",
       " 'and',\n",
       " 'any',\n",
       " 'are',\n",
       " 'aren',\n",
       " \"aren't\",\n",
       " 'as',\n",
       " 'at',\n",
       " 'be',\n",
       " 'because',\n",
       " 'been',\n",
       " 'before',\n",
       " 'being',\n",
       " 'below',\n",
       " 'between',\n",
       " 'both',\n",
       " 'but',\n",
       " 'by',\n",
       " 'can',\n",
       " 'couldn',\n",
       " \"couldn't\",\n",
       " 'd',\n",
       " 'did',\n",
       " 'didn',\n",
       " \"didn't\",\n",
       " 'do',\n",
       " 'does',\n",
       " 'doesn',\n",
       " \"doesn't\",\n",
       " 'doing',\n",
       " 'don',\n",
       " \"don't\",\n",
       " 'down',\n",
       " 'during',\n",
       " 'each',\n",
       " 'few',\n",
       " 'for',\n",
       " 'from',\n",
       " 'further',\n",
       " 'had',\n",
       " 'hadn',\n",
       " \"hadn't\",\n",
       " 'has',\n",
       " 'hasn',\n",
       " \"hasn't\",\n",
       " 'have',\n",
       " 'haven',\n",
       " \"haven't\",\n",
       " 'having',\n",
       " 'he',\n",
       " 'her',\n",
       " 'here',\n",
       " 'hers',\n",
       " 'herself',\n",
       " 'him',\n",
       " 'himself',\n",
       " 'his',\n",
       " 'how',\n",
       " 'i',\n",
       " 'if',\n",
       " 'in',\n",
       " 'into',\n",
       " 'is',\n",
       " 'isn',\n",
       " \"isn't\",\n",
       " 'it',\n",
       " \"it's\",\n",
       " 'its',\n",
       " 'itself',\n",
       " 'just',\n",
       " 'll',\n",
       " 'm',\n",
       " 'ma',\n",
       " 'me',\n",
       " 'mightn',\n",
       " \"mightn't\",\n",
       " 'more',\n",
       " 'most',\n",
       " 'mustn',\n",
       " \"mustn't\",\n",
       " 'my',\n",
       " 'myself',\n",
       " 'needn',\n",
       " \"needn't\",\n",
       " 'no',\n",
       " 'nor',\n",
       " 'not',\n",
       " 'now',\n",
       " 'o',\n",
       " 'of',\n",
       " 'off',\n",
       " 'on',\n",
       " 'once',\n",
       " 'only',\n",
       " 'or',\n",
       " 'other',\n",
       " 'our',\n",
       " 'ours',\n",
       " 'ourselves',\n",
       " 'out',\n",
       " 'over',\n",
       " 'own',\n",
       " 're',\n",
       " 's',\n",
       " 'same',\n",
       " 'shan',\n",
       " \"shan't\",\n",
       " 'she',\n",
       " \"she's\",\n",
       " 'should',\n",
       " \"should've\",\n",
       " 'shouldn',\n",
       " \"shouldn't\",\n",
       " 'so',\n",
       " 'some',\n",
       " 'such',\n",
       " 't',\n",
       " 'than',\n",
       " 'that',\n",
       " \"that'll\",\n",
       " 'the',\n",
       " 'their',\n",
       " 'theirs',\n",
       " 'them',\n",
       " 'themselves',\n",
       " 'then',\n",
       " 'there',\n",
       " 'these',\n",
       " 'they',\n",
       " 'this',\n",
       " 'those',\n",
       " 'through',\n",
       " 'to',\n",
       " 'too',\n",
       " 'under',\n",
       " 'until',\n",
       " 'up',\n",
       " 've',\n",
       " 'very',\n",
       " 'was',\n",
       " 'wasn',\n",
       " \"wasn't\",\n",
       " 'we',\n",
       " 'were',\n",
       " 'weren',\n",
       " \"weren't\",\n",
       " 'what',\n",
       " 'when',\n",
       " 'where',\n",
       " 'which',\n",
       " 'while',\n",
       " 'who',\n",
       " 'whom',\n",
       " 'why',\n",
       " 'will',\n",
       " 'with',\n",
       " 'won',\n",
       " \"won't\",\n",
       " 'wouldn',\n",
       " \"wouldn't\",\n",
       " 'y',\n",
       " 'you',\n",
       " \"you'd\",\n",
       " \"you'll\",\n",
       " \"you're\",\n",
       " \"you've\",\n",
       " 'your',\n",
       " 'yours',\n",
       " 'yourself',\n",
       " 'yourselves'}"
      ]
     },
     "execution_count": 13,
     "metadata": {},
     "output_type": "execute_result"
    }
   ],
   "source": [
    "# Stop words are common words that have low information value (common words without value, fillers)\n",
    "# Fairly subjective, depends on context\n",
    "\n",
    "sw = set(nltk.corpus.stopwords.words('english'))\n",
    "sw"
   ]
  }
 ],
 "metadata": {
  "kernelspec": {
   "display_name": "Python 3 (ipykernel)",
   "language": "python",
   "name": "python3"
  },
  "language_info": {
   "codemirror_mode": {
    "name": "ipython",
    "version": 3
   },
   "file_extension": ".py",
   "mimetype": "text/x-python",
   "name": "python",
   "nbconvert_exporter": "python",
   "pygments_lexer": "ipython3",
   "version": "3.9.6"
  }
 },
 "nbformat": 4,
 "nbformat_minor": 5
}
