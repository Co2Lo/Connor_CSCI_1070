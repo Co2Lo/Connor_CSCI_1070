{
 "cells": [
  {
   "cell_type": "markdown",
   "id": "a3fd6bb1-1261-4620-9d7e-672c9ae14ca7",
   "metadata": {},
   "source": [
    "# \"If\", \"Elif\", \"Else\" Loops:"
   ]
  },
  {
   "cell_type": "code",
   "execution_count": 8,
   "id": "f33c9ba8-8cc6-4041-a607-c40658fb0bde",
   "metadata": {},
   "outputs": [
    {
     "name": "stdout",
     "output_type": "stream",
     "text": [
      "b is greater\n"
     ]
    }
   ],
   "source": [
    "# Loops are flow control, they change how data moves thru the application.\n",
    "\n",
    "# Three types are <if>, <elif>, <else>\n",
    "# if a = b, return \"they are equal\"\n",
    "# if a > b, return \"a is greater\"\n",
    "# if a < b, return \"b is greater\"\n",
    "a = 4\n",
    "b = 7\n",
    "\n",
    "if a == b:\n",
    "    print(\"they are equal\")\n",
    "elif a > b:\n",
    "    print(\"a is greater\")\n",
    "elif a < b:\n",
    "    print(\"b is greater\")\n",
    "\n",
    "# <else> is a catch-all at the end (not seen here)"
   ]
  },
  {
   "cell_type": "markdown",
   "id": "7002d69b-265c-49a9-8a17-1ce905e0fae2",
   "metadata": {},
   "source": [
    "# \"While\" Loops:"
   ]
  },
  {
   "cell_type": "code",
   "execution_count": 12,
   "id": "eefbb6dc-e3b7-49b7-80fc-b51389fd482e",
   "metadata": {},
   "outputs": [
    {
     "name": "stdout",
     "output_type": "stream",
     "text": [
      "7\n",
      "6\n"
     ]
    }
   ],
   "source": [
    "# continously test expression until stopping condition is met\n",
    "x = 7\n",
    "while x > 5:\n",
    "    print(x) # this will run until your computer crashes, because x is always greater\n",
    "             # so decrement x until it can stop\n",
    "    x-=1     # (x = x - 1)"
   ]
  },
  {
   "cell_type": "code",
   "execution_count": 11,
   "id": "1988b27a-73f8-4b15-b735-cc492c716876",
   "metadata": {},
   "outputs": [
    {
     "name": "stdout",
     "output_type": "stream",
     "text": [
      "3\n",
      "4\n",
      "5\n",
      "6\n",
      "7\n",
      "8\n",
      "9\n"
     ]
    }
   ],
   "source": [
    "# Create a scenario where x starts at 3 and is incremeneted by 1,\n",
    "# print x while x is less than 10.\n",
    "x = 3\n",
    "while x < 10:\n",
    "    print(x)\n",
    "    x+=1"
   ]
  },
  {
   "cell_type": "markdown",
   "id": "4cf1e658-688c-47e1-a3c4-c0b96d83eb78",
   "metadata": {},
   "source": [
    "# \"For\" Loops:"
   ]
  },
  {
   "cell_type": "code",
   "execution_count": 14,
   "id": "26cb71cf-c8f8-4e23-ad52-3243aee33f38",
   "metadata": {},
   "outputs": [
    {
     "name": "stdout",
     "output_type": "stream",
     "text": [
      "['Dexter', 'John', 'Smitty']\n",
      "['Dexter', 'John', 'Smitty']\n",
      "['Dexter', 'John', 'Smitty']\n"
     ]
    }
   ],
   "source": [
    "cats = [\"Dexter\", \"John\", \"Smitty\"]\n",
    "for cat in cats:\n",
    "    print(cats)"
   ]
  },
  {
   "cell_type": "markdown",
   "id": "7912c66b-4c48-49b8-9d32-9af0f5b0d81c",
   "metadata": {},
   "source": [
    "# Range:"
   ]
  },
  {
   "cell_type": "code",
   "execution_count": 21,
   "id": "fcf8ba28-7dea-4100-885c-2d5f45047f4a",
   "metadata": {},
   "outputs": [
    {
     "name": "stdout",
     "output_type": "stream",
     "text": [
      "2\n",
      "4\n",
      "6\n",
      "8\n"
     ]
    }
   ],
   "source": [
    "# range(start,stop[,step]), the [ ] indicates step is an optional part of range\n",
    "for r in range(2,10,2):\n",
    "    print(r)"
   ]
  },
  {
   "cell_type": "markdown",
   "id": "9d762f23-5b08-4665-bf04-3472588de84c",
   "metadata": {},
   "source": [
    "# Functions:"
   ]
  },
  {
   "cell_type": "code",
   "execution_count": 1,
   "id": "23efd4d4-031a-4652-8cf3-6b38a6fe3f1a",
   "metadata": {},
   "outputs": [
    {
     "name": "stdout",
     "output_type": "stream",
     "text": [
      "b is greater\n"
     ]
    }
   ],
   "source": [
    "# Lets us encapsulate chunks of code we want to use again.\n",
    "def comparing(a,b):\n",
    "    if a == b:\n",
    "        print(\"they are equal\")\n",
    "    elif a > b:\n",
    "        print(\"a is greater\")\n",
    "    elif a < b:\n",
    "        print(\"b is greater\")\n",
    "comparing(2,5)"
   ]
  },
  {
   "cell_type": "markdown",
   "id": "8dceebec-c7f3-4e34-9ebc-d933b685b319",
   "metadata": {},
   "source": [
    "# Classes:"
   ]
  },
  {
   "cell_type": "code",
   "execution_count": 2,
   "id": "c65effad-3bcf-4558-a518-9628d9a13431",
   "metadata": {},
   "outputs": [],
   "source": [
    "# Class is like a blueprint, used to determine rules for all users.\n",
    "    # ex; Person \n",
    "\n",
    "# 1. Class methods\n",
    "    # Can modify class state (group)\n",
    "    # Can't mod object state (individual)\n",
    "    # Used for factory functions\n",
    "    # (change rules for group)\n",
    "\n",
    "# 2. Static methods\n",
    "    # Can't access class OR object state \n",
    "    # Used for utility functions\n",
    "    # (basic checks, disconnected from user (ex; over 18?))\n",
    "\n",
    "# 3. Instance methods\n",
    "    # Can modify class AND object state\n",
    "    # (change both group / individual)"
   ]
  },
  {
   "cell_type": "markdown",
   "id": "49114032-d0d4-4610-8a4b-2bf2404d75dc",
   "metadata": {},
   "source": [
    "# Scope:"
   ]
  },
  {
   "cell_type": "code",
   "execution_count": null,
   "id": "b062d27c-4898-468e-86fa-1ab023809cd6",
   "metadata": {},
   "outputs": [],
   "source": [
    "# \"LEGB\"\n",
    "\n",
    "# (L)ocal = Only available to other code in its scope (ex; functions, only have\n",
    "# access which has been put into it).\n",
    "\n",
    "# (E)nclosing = Nesting functions only. Code from outer nests available to inner.\n",
    "\n",
    "# (G)lobal = Available to all your code, modules, classes, etc.\n",
    "\n",
    "# (B)uilt-in = All code created by Python when you run a script.\n",
    "\n",
    "# You should care because of \"name collision\", which occurs when you use the same\n",
    "# variable twice, causing problems."
   ]
  },
  {
   "cell_type": "markdown",
   "id": "ecde14b2-349b-4b97-a7aa-86336e311507",
   "metadata": {},
   "source": [
    "# Constructors:"
   ]
  },
  {
   "cell_type": "code",
   "execution_count": null,
   "id": "650eaebb-d490-4fe1-9e7e-08346fd3e068",
   "metadata": {},
   "outputs": [],
   "source": [
    "# As seen in the textbook, these use <__init__> and SELF (a default variable\n",
    "# that contains the memory address in the current program you're working.\n",
    "\n",
    "class a_sample_class:\n",
    "    def __init__(self):   # A default constructor.\n",
    "        self.var = 0      # This is just a shell...\n",
    "    def print_vars(self): # ...until you imbue it with self.\n",
    "        print(self.var)   # Prints the instance.\n",
    "\n",
    "object = a_sample_class() # Define an instance of the class.\n",
    "\n",
    "object.print_vars() # This is how you reference "
   ]
  },
  {
   "cell_type": "code",
   "execution_count": 2,
   "id": "17908716-42a7-4f56-9461-a648bb891534",
   "metadata": {},
   "outputs": [
    {
     "name": "stdout",
     "output_type": "stream",
     "text": [
      "2\n"
     ]
    }
   ],
   "source": [
    "class a_sample_class:\n",
    "    def __init__(self, one, two): # A parameterized constructor.\n",
    "        self.first = one\n",
    "    def print_vars(self): # Prints the instance.\n",
    "        print(self.first)\n",
    "\n",
    "object = a_sample_class(2, 8)\n",
    "\n",
    "object.print_vars() # We only told it print whatever's in \"one\"."
   ]
  },
  {
   "cell_type": "code",
   "execution_count": 11,
   "id": "ff0ceecc-4be4-42cd-969b-b13754f59fe5",
   "metadata": {},
   "outputs": [
    {
     "name": "stdout",
     "output_type": "stream",
     "text": [
      "17\n",
      "5\n"
     ]
    },
    {
     "ename": "AttributeError",
     "evalue": "type object 'a_sample_class' has no attribute 'first'",
     "output_type": "error",
     "traceback": [
      "\u001b[0;31m---------------------------------------------------------------------------\u001b[0m",
      "\u001b[0;31mAttributeError\u001b[0m                            Traceback (most recent call last)",
      "Cell \u001b[0;32mIn[11], line 10\u001b[0m\n\u001b[1;32m      8\u001b[0m \u001b[38;5;28mprint\u001b[39m(obj\u001b[38;5;241m.\u001b[39mfirst) \u001b[38;5;66;03m# Instance attribute as property of object. Prints value.\u001b[39;00m\n\u001b[1;32m      9\u001b[0m \u001b[38;5;28mprint\u001b[39m(obj\u001b[38;5;241m.\u001b[39mclass_attr) \u001b[38;5;66;03m# Class attribute as property of object. Prints value.\u001b[39;00m\n\u001b[0;32m---> 10\u001b[0m \u001b[38;5;28mprint\u001b[39m(\u001b[43ma_sample_class\u001b[49m\u001b[38;5;241;43m.\u001b[39;49m\u001b[43mfirst\u001b[49m) \u001b[38;5;66;03m# Instance attribute as property of class. Error\u001b[39;00m\n\u001b[1;32m     11\u001b[0m \u001b[38;5;66;03m# because class has no instance (\"first\" is only a property of self.first).\u001b[39;00m\n\u001b[1;32m     12\u001b[0m \u001b[38;5;28mprint\u001b[39m(a_sample_class\u001b[38;5;241m.\u001b[39mclass_attr) \u001b[38;5;66;03m# Class attribute as property of class.\u001b[39;00m\n",
      "\u001b[0;31mAttributeError\u001b[0m: type object 'a_sample_class' has no attribute 'first'"
     ]
    }
   ],
   "source": [
    "class a_sample_class:\n",
    "    class_attr = 5\n",
    "    def __init__(self, one, two):\n",
    "        self.first = one\n",
    "        self.second = two\n",
    "\n",
    "obj = a_sample_class(17,42)\n",
    "print(obj.first) # Instance attribute as property of object. Prints value.\n",
    "print(obj.class_attr) # Class attribute as property of object. Prints value.\n",
    "print(a_sample_class.first) # Instance attribute as property of class. Error\n",
    "# because class has no instance (\"first\" is only a property of self.first).\n",
    "print(a_sample_class.class_attr) # Class attribute as property of class."
   ]
  },
  {
   "cell_type": "markdown",
   "id": "ee8eba15-2e79-4bbc-b4e7-32a651229e2f",
   "metadata": {},
   "source": [
    "# Instance and Class Attributes:"
   ]
  },
  {
   "cell_type": "markdown",
   "id": "7c3ede93-8f03-4125-ac88-d8d72913a205",
   "metadata": {},
   "source": [
    "Instance attrbute = variable that belongs to a specific instance. Defined inside \n",
    "the constructor <__init__>. Can access from the scope of an object (local).\n",
    "\n",
    "Class attribute = type of variable that belongs to the class itself. Defined \n",
    "outside the constructor. Both property of class AND of the object. You can \n",
    "mutate a class attr --> instance attr."
   ]
  },
  {
   "cell_type": "code",
   "execution_count": 4,
   "id": "cc1e011f-e9d8-4ad7-9ec9-9c1e5563901d",
   "metadata": {},
   "outputs": [],
   "source": [
    "# Returns info on given thing. help(obj)"
   ]
  },
  {
   "cell_type": "code",
   "execution_count": 2,
   "id": "44d781a3-4ebb-460c-9713-19433fd8d02c",
   "metadata": {},
   "outputs": [],
   "source": [
    "# Basically returns all the names inside a function, if none are named, then\n",
    "# those available to you. dir()"
   ]
  },
  {
   "cell_type": "code",
   "execution_count": 3,
   "id": "2b253ebc-9a2b-4074-84fa-13139b129073",
   "metadata": {},
   "outputs": [],
   "source": [
    "# Returns the current module namespace (the collection of currently\n",
    "# defined symbolic names and the objects each of them references)."
   ]
  },
  {
   "cell_type": "markdown",
   "id": "26296898-8deb-4922-ae86-590bfc918769",
   "metadata": {},
   "source": [
    "# Instance, Class, and Static Methods:"
   ]
  },
  {
   "cell_type": "code",
   "execution_count": 27,
   "id": "39ae66c6-96c8-485c-b289-9044fad40e04",
   "metadata": {},
   "outputs": [],
   "source": [
    "class candy:\n",
    "    def __init__(self,                   # Variables with a single underscore\n",
    "                 _brand,                 # are reserved for internal purposes. \n",
    "                 _is_caramel=False,      # These are defaults, which are used\n",
    "                 _has_nuts=False,        # to print an instance unless you\n",
    "                 _calories=200,          # specify otherwise.\n",
    "                 _type='chocolate'):\n",
    "        self.type = _type\n",
    "        self.brand = _brand              # Order doesn't matter, also you\n",
    "        self.is_caramel = _is_caramel    # don't need to include all attr.\n",
    "        self.calories = _calories\n",
    "\n",
    "# Remember, instance methods can access and modify both\n",
    "# class AND instance states.\n",
    "def display(self):\n",
    "    print(f'My favorite candy is {self.brand} {self.type}')\n",
    "\n",
    "# Remember, class methods used to modify the state of a class (ALL instances),\n",
    "# eg; would be used for a pizza-topping adder on an app (don't wanna have to \n",
    "# type out every topping).\n",
    "@classmethod\n",
    "def snickers(cls):\n",
    "    return cls('Snickers', _is_caramel = True, _has_nuts = True)\n",
    "\n",
    "# Remember, static methods are used to compare or validate data. If you want\n",
    "# to check a value without needing an instance of it (save storage space).\n",
    "@staticmethod\n",
    "def calories(size, n):\n",
    "    if size == 'Large':\n",
    "        calories = 500\n",
    "    elif size == 'Regular':\n",
    "        calories = 350\n",
    "    elif size == 'FunSized':\n",
    "        calories = 100\n",
    "    else:\n",
    "        calories = 0\n",
    "    calories = calories*n"
   ]
  },
  {
   "cell_type": "code",
   "execution_count": null,
   "id": "8ce1e998-efa8-45a4-928c-3c21486f7881",
   "metadata": {},
   "outputs": [],
   "source": [
    "favorite_candy = candy(_brand = 'HundredGrand')\n",
    "favorite_candy.display()"
   ]
  },
  {
   "cell_type": "code",
   "execution_count": null,
   "id": "4079956b-0ce8-4bbc-a4ca-95967d498d93",
   "metadata": {},
   "outputs": [],
   "source": [
    "candy.calories('funsized', 40)\n",
    "\n",
    "# These should return proper stuff but I fucked up! So I'm not pushing it :)"
   ]
  },
  {
   "cell_type": "markdown",
   "id": "382cc9d0-b25c-4a11-b051-9b9148fbec39",
   "metadata": {},
   "source": [
    "# Decorators"
   ]
  },
  {
   "cell_type": "code",
   "execution_count": null,
   "id": "c8c823b6-c8ee-41af-8270-2b11ff83d028",
   "metadata": {},
   "outputs": [],
   "source": [
    "# Extend the behavior of a code without explicitly changing the function.\n",
    "# You can create a lot of them if you expect to use special functions\n",
    "# but don't want to mod the original.\n",
    "def the_decorator(func):\n",
    "    print(\"decorator is running\")\n",
    "    func()\n",
    "    print(\"still running\")"
   ]
  },
  {
   "cell_type": "markdown",
   "id": "897785ae-3e29-4f63-87aa-b74145227929",
   "metadata": {},
   "source": [
    "Encapsulation = Implementation details are hidden——\"encapsulated\"——in objs.\n",
    "\n",
    "Inheritance = \"Child\" classes can inherit from parent classes/modules.\n",
    "\n",
    "Polymorphism = Objs and names exist in many forms, same attribute/method\n",
    "can exist in multiple classes and mean different things.\n",
    "\n",
    "Abstraction = Handling a concept rather than implementation details."
   ]
  },
  {
   "cell_type": "markdown",
   "id": "db90e038-cf69-4667-a98a-bf48d9767317",
   "metadata": {},
   "source": [
    "# NumPy Overview"
   ]
  },
  {
   "cell_type": "markdown",
   "id": "c4c652bf-f133-449d-80d8-072cd7e096f3",
   "metadata": {},
   "source": [
    "A module that interacts with arrays, which are more high-funcitoning lists."
   ]
  },
  {
   "cell_type": "code",
   "execution_count": null,
   "id": "07ed51f5-9342-4594-8834-b9ec4773cd5c",
   "metadata": {},
   "outputs": [],
   "source": [
    "# Vectors        [2 8 -7][2] \n",
    "# (think 2 big           [3]\n",
    "# brackets on outside    [9]            \n",
    "\n",
    "# Matrices [6 4 24\n",
    "            1 9 66]\n",
    "\n",
    "# Images (converted from numbers, every pixel is converted to its RGB values, in form of matrix)\n",
    "\n",
    "# Tensors (think cubes, but they're force diagrams)\n",
    "\n",
    "# ConvNets (think the layers for a flipnote, but for programs / their nests)"
   ]
  },
  {
   "cell_type": "code",
   "execution_count": null,
   "id": "c90d566b-50af-4060-bd51-2b92bcb86af8",
   "metadata": {},
   "outputs": [],
   "source": [
    "import numpy as np\n",
    "a = np.array([[1, 2, 3], [4, 5, 6]])\n",
    "print(a.ndim) # Shows how many dimensions in array (including 0 (scalar))\n",
    "print(a.shape) # Shows how many coloumns and rows in array\n",
    "\n",
    "# Arrays are typed \n",
    "# Arrays are dense objects\n",
    "# Faster than python lists because less memory\n",
    "# You can ONLY combine arrays of the same shape!"
   ]
  },
  {
   "cell_type": "markdown",
   "id": "c56f881c-1cae-47ed-be6a-80b740a97a19",
   "metadata": {},
   "source": [
    "Array Exercises:"
   ]
  },
  {
   "cell_type": "code",
   "execution_count": null,
   "id": "29a7a3a9-6c0b-4a35-9d30-23812f374bf5",
   "metadata": {},
   "outputs": [],
   "source": [
    "# 1:\n",
    "b = "
   ]
  },
  {
   "cell_type": "code",
   "execution_count": null,
   "id": "c22d6e33-5691-4990-936a-5df41211296d",
   "metadata": {},
   "outputs": [],
   "source": [
    "#2:\n",
    "a = np.array([1, 2, 3, 4, 5, 6])\n",
    "a = a.reshape(3, 2)\n",
    "a = a.reshape(2, -1) # Rearranges ... somehow idk\n",
    "a = a.ravel # Unravels the data\n",
    "print(a)"
   ]
  },
  {
   "cell_type": "markdown",
   "id": "3b71341c-e6f7-48a6-b262-b8da1c4dbae0",
   "metadata": {},
   "source": [
    "Transposition:"
   ]
  },
  {
   "cell_type": "code",
   "execution_count": null,
   "id": "a6211895-78b2-4626-a759-3fe15a5cb951",
   "metadata": {},
   "outputs": [],
   "source": [
    "a = np.arange(10).reshape(5, 2) \n",
    "a = a.transpose((1,0)) # np.transpose rearranges axes"
   ]
  },
  {
   "cell_type": "code",
   "execution_count": null,
   "id": "a8f75a35-cc79-4e32-b269-a9a59883517f",
   "metadata": {},
   "outputs": [],
   "source": [
    "a = a.T # Everything in the first column now in the first row\n",
    "a"
   ]
  },
  {
   "cell_type": "markdown",
   "id": "0e870b0d-3982-4a3c-8db2-33bd9f5356c2",
   "metadata": {},
   "source": [
    "Math, Universal Functions:"
   ]
  },
  {
   "cell_type": "code",
   "execution_count": null,
   "id": "ac49d667-e265-4607-a379-f8e48cefd3c0",
   "metadata": {},
   "outputs": [],
   "source": [
    "# Very prevalent\n",
    "# Also called ufuncs\n",
    "# Element-wise (distributes data over container)\n",
    "# Examples:\n",
    "# - np.exp\n",
    "# - np.sqrt\n",
    "# - np.sin\n",
    "# - np.cos\n",
    "# - np.isnan\n",
    "\n",
    "np.sqrt(a)"
   ]
  },
  {
   "cell_type": "markdown",
   "id": "0741f9b1-a90d-4ea1-9443-180c559993e4",
   "metadata": {},
   "source": [
    "Indexing:"
   ]
  },
  {
   "cell_type": "code",
   "execution_count": null,
   "id": "917bc0b1-39b4-4a80-80e1-49c9bd86d374",
   "metadata": {},
   "outputs": [],
   "source": [
    "# a[0, 0]    Top-left element\n",
    "# a[0, -1]   First row, last column\n",
    "# a[0, :]    First row (many entires)\n",
    "# a[:, 0]    First column (many entires)"
   ]
  },
  {
   "cell_type": "markdown",
   "id": "7c11b401-56e7-4604-b695-e66735232a71",
   "metadata": {},
   "source": [
    "Pandas:"
   ]
  },
  {
   "cell_type": "code",
   "execution_count": null,
   "id": "fc779355-bb09-4fa4-986d-e8e1d36dbb91",
   "metadata": {},
   "outputs": [],
   "source": [
    "# Python module (library) used for data analysis and exploration\n",
    "# Two main useful data structures:\n",
    "#  - Series\n",
    "#  - DataFrames\n",
    "\n",
    "# CAN import data files and turn them into DataFrames\n",
    "#  - CSV (comma-separated values)\n",
    "\n",
    "# Handles, at most, medium-sized data \n",
    "\n",
    "# If you get stuck, look at documentation!"
   ]
  },
  {
   "cell_type": "markdown",
   "id": "9366e2be",
   "metadata": {},
   "source": [
    "# 2/7 Notes:"
   ]
  },
  {
   "cell_type": "markdown",
   "id": "fe0c977c",
   "metadata": {},
   "source": [
    "Pseudocode: What does the following do/return?"
   ]
  },
  {
   "cell_type": "code",
   "execution_count": null,
   "id": "9a527723",
   "metadata": {},
   "outputs": [],
   "source": [
    "Integer a, b, c \n",
    "b = 4, c = 5\n",
    "for(each a from 2 to 4):\n",
    "print(c)\n",
    "b = b - 1\n",
    "c = c + b\n",
    "end for"
   ]
  },
  {
   "cell_type": "markdown",
   "id": "a8d10ff4",
   "metadata": {},
   "source": [
    "Matplotlib Plotting:\n",
    "\n",
    "Edward Tufte's \"Graphical Integrity Principles\"\n",
    "\n",
    "1.) Representations of numbers should match their TRUE proportions (eg; 1 + 1 = 2)\n",
    "\n",
    "2.) Labeling should be clear / complete\n",
    "\n",
    "3.) Designs should show only DATA variations, NOT DESIGN... you want graphs to be same size\n",
    "\n",
    "4.) Standardized units are best-used for money (remember dollars, not dollars^2... variance)\n",
    "\n",
    "5.) Number of dimensions visualized should be EQUAL to number dimensions in data\n",
    "\n",
    "6.) Don't start with \"some goal\", don't fabricate!"
   ]
  },
  {
   "cell_type": "markdown",
   "id": "31c2ec14",
   "metadata": {},
   "source": [
    "# 2/12:"
   ]
  },
  {
   "cell_type": "markdown",
   "id": "37a4e54c",
   "metadata": {},
   "source": [
    "Scales of Measurement:\n",
    "\n",
    "Nominal = Categories without natural order (blood type, zip code, race)\n",
    "\n",
    "Ordinal = Data is ordered and rank indicates something, but no one difference besides that\n",
    "\n",
    "Interval = Order and difference between two values is meaningful (Celsius and Farenheit), ex; credit scores, pH\n",
    "\n",
    "Ratio = Same as interval, but there's also 0 (concentration, Kelvin, weight)"
   ]
  },
  {
   "cell_type": "markdown",
   "id": "78918253",
   "metadata": {},
   "source": [
    "Central Tendency:\n",
    "\n",
    "\n",
    "Positive skew = Mode --> Median --> Mean\n",
    "\n",
    "Symmetrical = Mean / Median / Mode (on top of one another)\n",
    "\n",
    "Negative skew = Mean --> Median --> Mode\n",
    "\n",
    "- Replace null values with the mean when data is normally distributed    /    with median when data is skewed"
   ]
  },
  {
   "cell_type": "markdown",
   "id": "819681f7",
   "metadata": {},
   "source": []
  }
 ],
 "metadata": {
  "kernelspec": {
   "display_name": "Python 3 (ipykernel)",
   "language": "python",
   "name": "python3"
  },
  "language_info": {
   "codemirror_mode": {
    "name": "ipython",
    "version": 3
   },
   "file_extension": ".py",
   "mimetype": "text/x-python",
   "name": "python",
   "nbconvert_exporter": "python",
   "pygments_lexer": "ipython3",
   "version": "3.9.6"
  }
 },
 "nbformat": 4,
 "nbformat_minor": 5
}
