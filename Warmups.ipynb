{
 "cells": [
  {
   "cell_type": "markdown",
   "id": "52af24b0-52cc-49bf-bae6-7bbe22032800",
   "metadata": {},
   "source": [
    "# 1/24"
   ]
  },
  {
   "cell_type": "code",
   "execution_count": 9,
   "id": "31c828e1-3d0c-4550-b3c3-e9fc409309cd",
   "metadata": {},
   "outputs": [
    {
     "name": "stdin",
     "output_type": "stream",
     "text": [
      " 3\n"
     ]
    },
    {
     "name": "stdout",
     "output_type": "stream",
     "text": [
      "The variable x has a value of3\n"
     ]
    }
   ],
   "source": [
    "# cd = change directory, or enter the ___ directory from <cd ____>\n",
    "# ls = list all files in directory\n",
    "x = input()\n",
    "print('The variable x has a value of'  + x)"
   ]
  },
  {
   "cell_type": "markdown",
   "id": "19f1a4d1-1486-4707-ae95-a87b08010b2d",
   "metadata": {},
   "source": [
    "# 1/31"
   ]
  },
  {
   "cell_type": "code",
   "execution_count": 8,
   "id": "926baaf9-a492-4f17-b56b-d1a94d73b2b9",
   "metadata": {},
   "outputs": [
    {
     "name": "stdout",
     "output_type": "stream",
     "text": [
      "Defaulting to user installation because normal site-packages is not writeable\n",
      "Requirement already satisfied: pandas in /Users/connorlove/Library/Python/3.9/lib/python/site-packages (2.2.0)\n",
      "Requirement already satisfied: numpy<2,>=1.22.4 in /Users/connorlove/Library/Python/3.9/lib/python/site-packages (from pandas) (1.26.3)\n",
      "Requirement already satisfied: python-dateutil>=2.8.2 in /Users/connorlove/Library/Python/3.9/lib/python/site-packages (from pandas) (2.8.2)\n",
      "Requirement already satisfied: pytz>=2020.1 in /Users/connorlove/Library/Python/3.9/lib/python/site-packages (from pandas) (2023.4)\n",
      "Requirement already satisfied: tzdata>=2022.7 in /Users/connorlove/Library/Python/3.9/lib/python/site-packages (from pandas) (2023.4)\n",
      "Requirement already satisfied: six>=1.5 in /Library/Developer/CommandLineTools/Library/Frameworks/Python3.framework/Versions/3.9/lib/python3.9/site-packages (from python-dateutil>=2.8.2->pandas) (1.15.0)\n"
     ]
    }
   ],
   "source": [
    "! pip3 install pandas"
   ]
  },
  {
   "cell_type": "code",
   "execution_count": null,
   "id": "2023ec1e-050e-4d9b-8f5a-6f284de7271d",
   "metadata": {},
   "outputs": [],
   "source": []
  }
 ],
 "metadata": {
  "kernelspec": {
   "display_name": "Python 3 (ipykernel)",
   "language": "python",
   "name": "python3"
  },
  "language_info": {
   "codemirror_mode": {
    "name": "ipython",
    "version": 3
   },
   "file_extension": ".py",
   "mimetype": "text/x-python",
   "name": "python",
   "nbconvert_exporter": "python",
   "pygments_lexer": "ipython3",
   "version": "3.12.1"
  }
 },
 "nbformat": 4,
 "nbformat_minor": 5
}
