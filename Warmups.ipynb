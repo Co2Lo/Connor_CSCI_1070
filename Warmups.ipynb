{
 "cells": [
  {
   "cell_type": "markdown",
   "id": "52af24b0-52cc-49bf-bae6-7bbe22032800",
   "metadata": {},
   "source": [
    "# 1/24"
   ]
  },
  {
   "cell_type": "code",
   "execution_count": 9,
   "id": "31c828e1-3d0c-4550-b3c3-e9fc409309cd",
   "metadata": {},
   "outputs": [
    {
     "name": "stdout",
     "output_type": "stream",
     "text": [
      " 3\n"
     ]
    },
    {
     "name": "stdout",
     "output_type": "stream",
     "text": [
      "The variable x has a value of3\n"
     ]
    }
   ],
   "source": [
    "# cd = change directory, or enter the ___ directory from <cd ____>\n",
    "# ls = list all files in directory\n",
    "x = input()\n",
    "print('The variable x has a value of'  + x)"
   ]
  },
  {
   "cell_type": "markdown",
   "id": "19f1a4d1-1486-4707-ae95-a87b08010b2d",
   "metadata": {},
   "source": [
    "# 1/31"
   ]
  },
  {
   "cell_type": "code",
   "execution_count": 16,
   "id": "fd8cc711-38a4-4c17-a15d-a821c3875979",
   "metadata": {},
   "outputs": [
    {
     "name": "stdout",
     "output_type": "stream",
     "text": [
      "2\n",
      "(2, 3)\n"
     ]
    }
   ],
   "source": [
    "import numpy as np\n",
    "a = np.array([[1, 2, 3], [4, 5, 6]])\n",
    "print(a.ndim) # Shows how many dimensions in array (including 0 (scalar))\n",
    "print(a.shape) # Shows how many coloumns and rows in array\n",
    "\n",
    "# Arrays are typed \n",
    "# Arrays are dense objects\n",
    "# Faster than python lists because less memory\n",
    "# You can ONLY combine arrays of the same shape!"
   ]
  },
  {
   "cell_type": "markdown",
   "id": "8f87d485-3ff8-4ed0-83a6-a0ee8a023b85",
   "metadata": {},
   "source": [
    "Array Exercises:"
   ]
  },
  {
   "cell_type": "code",
   "execution_count": 26,
   "id": "0a20cf16-36d7-4524-b339-ed84b6e0bfae",
   "metadata": {},
   "outputs": [],
   "source": [
    "import numpy as np"
   ]
  },
  {
   "cell_type": "code",
   "execution_count": null,
   "id": "188de22d-31f0-4d0b-8bed-2cfea81050c2",
   "metadata": {},
   "outputs": [],
   "source": [
    "# 1:\n",
    "b = "
   ]
  },
  {
   "cell_type": "code",
   "execution_count": 17,
   "id": "dff8095e-b547-4688-b01f-b7e8c255a405",
   "metadata": {},
   "outputs": [
    {
     "name": "stdout",
     "output_type": "stream",
     "text": [
      "<built-in method ravel of numpy.ndarray object at 0x106efbb70>\n"
     ]
    }
   ],
   "source": [
    "#2:\n",
    "a = np.array([1, 2, 3, 4, 5, 6])\n",
    "a = a.reshape(3, 2)\n",
    "a = a.reshape(2, -1) # Rearranges ... somehow idk\n",
    "a = a.ravel # Unravels the data\n",
    "print(a)"
   ]
  },
  {
   "cell_type": "markdown",
   "id": "578e12df-e4e6-4c49-a697-05851f9d59c9",
   "metadata": {},
   "source": [
    "Transposition:"
   ]
  },
  {
   "cell_type": "code",
   "execution_count": 21,
   "id": "805c7465-6fe0-45ac-9228-651cdd1fc90e",
   "metadata": {},
   "outputs": [
    {
     "data": {
      "text/plain": [
       "array([[0, 1],\n",
       "       [2, 3],\n",
       "       [4, 5],\n",
       "       [6, 7],\n",
       "       [8, 9]])"
      ]
     },
     "execution_count": 21,
     "metadata": {},
     "output_type": "execute_result"
    }
   ],
   "source": [
    "a = np.arange(10).reshape(5, 2) \n",
    "a = a.transpose((1,0)) # np.transpose rearranges axes\n",
    "a"
   ]
  },
  {
   "cell_type": "code",
   "execution_count": 24,
   "id": "a04b59a9-001a-4fb3-ab55-677894d3db79",
   "metadata": {},
   "outputs": [
    {
     "data": {
      "text/plain": [
       "array([[0, 2, 4, 6, 8],\n",
       "       [1, 3, 5, 7, 9]])"
      ]
     },
     "execution_count": 24,
     "metadata": {},
     "output_type": "execute_result"
    }
   ],
   "source": [
    "a = a.T # Everything in the first column now in the first row\n",
    "a"
   ]
  },
  {
   "cell_type": "markdown",
   "id": "5d3b0a1f-d81a-410a-b832-d1d0feb940dc",
   "metadata": {},
   "source": [
    "Math, Universal Functions:"
   ]
  },
  {
   "cell_type": "code",
   "execution_count": 25,
   "id": "8b2afc24-07bc-46df-a1b1-df93d2efd21a",
   "metadata": {},
   "outputs": [
    {
     "data": {
      "text/plain": [
       "array([[0.        , 1.41421356, 2.        , 2.44948974, 2.82842712],\n",
       "       [1.        , 1.73205081, 2.23606798, 2.64575131, 3.        ]])"
      ]
     },
     "execution_count": 25,
     "metadata": {},
     "output_type": "execute_result"
    }
   ],
   "source": [
    "# Very prevalent\n",
    "# Also called ufuncs\n",
    "# Element-wise (distributes data over container)\n",
    "# Examples:\n",
    "# - np.exp\n",
    "# - np.sqrt\n",
    "# - np.sin\n",
    "# - np.cos\n",
    "# - np.isnan\n",
    "\n",
    "np.sqrt(a)"
   ]
  },
  {
   "cell_type": "markdown",
   "id": "cb09bb6c-6b59-496a-b791-e02c43951024",
   "metadata": {},
   "source": [
    "Indexing:"
   ]
  },
  {
   "cell_type": "code",
   "execution_count": 27,
   "id": "2d9b1c5c-4984-47e2-b017-56caa632b994",
   "metadata": {},
   "outputs": [],
   "source": [
    "# a[0, 0]    Top-left element\n",
    "# a[0, -1]   First row, last column\n",
    "# a[0, :]    First row (many entires)\n",
    "# a[:, 0]    First column (many entires)"
   ]
  },
  {
   "cell_type": "markdown",
   "id": "05d784a2-3217-4ddb-82fa-8b21bd5a3053",
   "metadata": {},
   "source": [
    "Pandas:"
   ]
  },
  {
   "cell_type": "code",
   "execution_count": 28,
   "id": "d23765a2-de7a-4baa-919a-36febaaa729b",
   "metadata": {},
   "outputs": [],
   "source": [
    "# Python module (library) used for data analysis and exploration\n",
    "# Two main useful data structures:\n",
    "#  - Series\n",
    "#  - DataFrames\n",
    "\n",
    "# CAN import data files and turn them into DataFrames\n",
    "#  - CSV (comma-separated values)\n",
    "\n",
    "# Handles, at most, medium-sized data \n",
    "\n",
    "# If you get stuck, look at documentation!"
   ]
  },
  {
   "cell_type": "code",
   "execution_count": 3,
   "id": "293fbab1-0f6b-4da1-be18-52b97ab0f176",
   "metadata": {},
   "outputs": [
    {
     "ename": "ModuleNotFoundError",
     "evalue": "No module named 'pandas'",
     "output_type": "error",
     "traceback": [
      "\u001b[0;31m---------------------------------------------------------------------------\u001b[0m",
      "\u001b[0;31mModuleNotFoundError\u001b[0m                       Traceback (most recent call last)",
      "Cell \u001b[0;32mIn[3], line 1\u001b[0m\n\u001b[0;32m----> 1\u001b[0m \u001b[38;5;28;01mimport\u001b[39;00m \u001b[38;5;21;01mpandas\u001b[39;00m \u001b[38;5;28;01mas\u001b[39;00m \u001b[38;5;21;01mpd\u001b[39;00m\n\u001b[1;32m      2\u001b[0m csv_df \u001b[38;5;241m=\u001b[39m pd\u001b[38;5;241m.\u001b[39mread_csv(\u001b[38;5;124m'\u001b[39m\u001b[38;5;124mcars.csv\u001b[39m\u001b[38;5;124m'\u001b[39m)\n\u001b[1;32m      3\u001b[0m csv_df\u001b[38;5;241m.\u001b[39mhead()\n",
      "\u001b[0;31mModuleNotFoundError\u001b[0m: No module named 'pandas'"
     ]
    }
   ],
   "source": [
    "import pandas as pd\n",
    "csv_df = pd.read_csv('cars.csv')\n",
    "csv_df.head()"
   ]
  }
 ],
 "metadata": {
  "kernelspec": {
   "display_name": "Python 3 (ipykernel)",
   "language": "python",
   "name": "python3"
  },
  "language_info": {
   "codemirror_mode": {
    "name": "ipython",
    "version": 3
   },
   "file_extension": ".py",
   "mimetype": "text/x-python",
   "name": "python",
   "nbconvert_exporter": "python",
   "pygments_lexer": "ipython3",
   "version": "3.9.6"
  }
 },
 "nbformat": 4,
 "nbformat_minor": 5
}
