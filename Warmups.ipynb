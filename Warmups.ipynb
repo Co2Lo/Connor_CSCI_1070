{
 "cells": [
  {
   "cell_type": "markdown",
   "id": "52af24b0-52cc-49bf-bae6-7bbe22032800",
   "metadata": {},
   "source": [
    "# 1/24"
   ]
  },
  {
   "cell_type": "code",
   "execution_count": 9,
   "id": "31c828e1-3d0c-4550-b3c3-e9fc409309cd",
   "metadata": {},
   "outputs": [
    {
     "name": "stdin",
     "output_type": "stream",
     "text": [
      " 3\n"
     ]
    },
    {
     "name": "stdout",
     "output_type": "stream",
     "text": [
      "The variable x has a value of3\n"
     ]
    }
   ],
   "source": [
    "# cd = change directory, or enter the ___ directory from <cd ____>\n",
    "# ls = list all files in directory\n",
    "x = input()\n",
    "print('The variable x has a value of'  + x)"
   ]
  }
 ],
 "metadata": {
  "kernelspec": {
   "display_name": "Python 3 (ipykernel)",
   "language": "python",
   "name": "python3"
  },
  "language_info": {
   "codemirror_mode": {
    "name": "ipython",
    "version": 3
   },
   "file_extension": ".py",
   "mimetype": "text/x-python",
   "name": "python",
   "nbconvert_exporter": "python",
   "pygments_lexer": "ipython3",
   "version": "3.12.1"
  }
 },
 "nbformat": 4,
 "nbformat_minor": 5
}
