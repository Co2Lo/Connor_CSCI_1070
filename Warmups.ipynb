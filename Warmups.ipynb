{
 "cells": [
  {
   "cell_type": "markdown",
   "id": "52af24b0-52cc-49bf-bae6-7bbe22032800",
   "metadata": {},
   "source": [
    "# 1/24"
   ]
  },
  {
   "cell_type": "code",
   "execution_count": 9,
   "id": "31c828e1-3d0c-4550-b3c3-e9fc409309cd",
   "metadata": {},
   "outputs": [
    {
     "name": "stdout",
     "output_type": "stream",
     "text": [
      " 3\n"
     ]
    },
    {
     "name": "stdout",
     "output_type": "stream",
     "text": [
      "The variable x has a value of3\n"
     ]
    }
   ],
   "source": [
    "# cd = change directory, or enter the ___ directory from <cd ____>\n",
    "# ls = list all files in directory\n",
    "x = input()\n",
    "print('The variable x has a value of'  + x)"
   ]
  },
  {
   "cell_type": "markdown",
   "id": "19f1a4d1-1486-4707-ae95-a87b08010b2d",
   "metadata": {},
   "source": [
    "# 1/31"
   ]
  },
  {
   "cell_type": "code",
   "execution_count": 16,
   "id": "fd8cc711-38a4-4c17-a15d-a821c3875979",
   "metadata": {},
   "outputs": [
    {
     "name": "stdout",
     "output_type": "stream",
     "text": [
      "2\n",
      "(2, 3)\n"
     ]
    }
   ],
   "source": [
    "import numpy as np\n",
    "a = np.array([[1, 2, 3], [4, 5, 6]])\n",
    "print(a.ndim) # Shows how many dimensions in array (including 0 (scalar))\n",
    "print(a.shape) # Shows how many coloumns and rows in array\n",
    "\n",
    "# Arrays are typed \n",
    "# Arrays are dense objects\n",
    "# Faster than python lists because less memory\n",
    "# You can ONLY combine arrays of the same shape!"
   ]
  },
  {
   "cell_type": "markdown",
   "id": "8f87d485-3ff8-4ed0-83a6-a0ee8a023b85",
   "metadata": {},
   "source": [
    "Array Exercises:"
   ]
  },
  {
   "cell_type": "code",
   "execution_count": 26,
   "id": "0a20cf16-36d7-4524-b339-ed84b6e0bfae",
   "metadata": {},
   "outputs": [],
   "source": [
    "import numpy as np"
   ]
  },
  {
   "cell_type": "code",
   "execution_count": null,
   "id": "188de22d-31f0-4d0b-8bed-2cfea81050c2",
   "metadata": {},
   "outputs": [],
   "source": [
    "# 1:\n",
    "b = "
   ]
  },
  {
   "cell_type": "code",
   "execution_count": 17,
   "id": "dff8095e-b547-4688-b01f-b7e8c255a405",
   "metadata": {},
   "outputs": [
    {
     "name": "stdout",
     "output_type": "stream",
     "text": [
      "<built-in method ravel of numpy.ndarray object at 0x106efbb70>\n"
     ]
    }
   ],
   "source": [
    "#2:\n",
    "a = np.array([1, 2, 3, 4, 5, 6])\n",
    "a = a.reshape(3, 2)\n",
    "a = a.reshape(2, -1) # Rearranges ... somehow idk\n",
    "a = a.ravel # Unravels the data\n",
    "print(a)"
   ]
  },
  {
   "cell_type": "markdown",
   "id": "578e12df-e4e6-4c49-a697-05851f9d59c9",
   "metadata": {},
   "source": [
    "Transposition:"
   ]
  },
  {
   "cell_type": "code",
   "execution_count": 21,
   "id": "805c7465-6fe0-45ac-9228-651cdd1fc90e",
   "metadata": {},
   "outputs": [
    {
     "data": {
      "text/plain": [
       "array([[0, 1],\n",
       "       [2, 3],\n",
       "       [4, 5],\n",
       "       [6, 7],\n",
       "       [8, 9]])"
      ]
     },
     "execution_count": 21,
     "metadata": {},
     "output_type": "execute_result"
    }
   ],
   "source": [
    "a = np.arange(10).reshape(5, 2) \n",
    "a = a.transpose((1,0)) # np.transpose rearranges axes\n",
    "a"
   ]
  },
  {
   "cell_type": "code",
   "execution_count": 24,
   "id": "a04b59a9-001a-4fb3-ab55-677894d3db79",
   "metadata": {},
   "outputs": [
    {
     "data": {
      "text/plain": [
       "array([[0, 2, 4, 6, 8],\n",
       "       [1, 3, 5, 7, 9]])"
      ]
     },
     "execution_count": 24,
     "metadata": {},
     "output_type": "execute_result"
    }
   ],
   "source": [
    "a = a.T # Everything in the first column now in the first row\n",
    "a"
   ]
  },
  {
   "cell_type": "markdown",
   "id": "5d3b0a1f-d81a-410a-b832-d1d0feb940dc",
   "metadata": {},
   "source": [
    "Math, Universal Functions:"
   ]
  },
  {
   "cell_type": "code",
   "execution_count": 25,
   "id": "8b2afc24-07bc-46df-a1b1-df93d2efd21a",
   "metadata": {},
   "outputs": [
    {
     "data": {
      "text/plain": [
       "array([[0.        , 1.41421356, 2.        , 2.44948974, 2.82842712],\n",
       "       [1.        , 1.73205081, 2.23606798, 2.64575131, 3.        ]])"
      ]
     },
     "execution_count": 25,
     "metadata": {},
     "output_type": "execute_result"
    }
   ],
   "source": [
    "# Very prevalent\n",
    "# Also called ufuncs\n",
    "# Element-wise (distributes data over container)\n",
    "# Examples:\n",
    "# - np.exp\n",
    "# - np.sqrt\n",
    "# - np.sin\n",
    "# - np.cos\n",
    "# - np.isnan\n",
    "\n",
    "np.sqrt(a)"
   ]
  },
  {
   "cell_type": "markdown",
   "id": "cb09bb6c-6b59-496a-b791-e02c43951024",
   "metadata": {},
   "source": [
    "Indexing:"
   ]
  },
  {
   "cell_type": "code",
   "execution_count": 27,
   "id": "2d9b1c5c-4984-47e2-b017-56caa632b994",
   "metadata": {},
   "outputs": [],
   "source": [
    "# a[0, 0]    Top-left element\n",
    "# a[0, -1]   First row, last column\n",
    "# a[0, :]    First row (many entires)\n",
    "# a[:, 0]    First column (many entires)"
   ]
  },
  {
   "cell_type": "markdown",
   "id": "05d784a2-3217-4ddb-82fa-8b21bd5a3053",
   "metadata": {},
   "source": [
    "Pandas:"
   ]
  },
  {
   "cell_type": "code",
   "execution_count": 28,
   "id": "d23765a2-de7a-4baa-919a-36febaaa729b",
   "metadata": {},
   "outputs": [],
   "source": [
    "# Python module (library) used for data analysis and exploration\n",
    "# Two main useful data structures:\n",
    "#  - Series\n",
    "#  - DataFrames\n",
    "\n",
    "# CAN import data files and turn them into DataFrames\n",
    "#  - CSV (comma-separated values)\n",
    "\n",
    "# Handles, at most, medium-sized data \n",
    "\n",
    "# If you get stuck, look at documentation!"
   ]
  },
  {
   "cell_type": "code",
   "execution_count": 3,
   "id": "293fbab1-0f6b-4da1-be18-52b97ab0f176",
   "metadata": {},
   "outputs": [
    {
     "ename": "ModuleNotFoundError",
     "evalue": "No module named 'pandas'",
     "output_type": "error",
     "traceback": [
      "\u001b[0;31m---------------------------------------------------------------------------\u001b[0m",
      "\u001b[0;31mModuleNotFoundError\u001b[0m                       Traceback (most recent call last)",
      "Cell \u001b[0;32mIn[3], line 1\u001b[0m\n\u001b[0;32m----> 1\u001b[0m \u001b[38;5;28;01mimport\u001b[39;00m \u001b[38;5;21;01mpandas\u001b[39;00m \u001b[38;5;28;01mas\u001b[39;00m \u001b[38;5;21;01mpd\u001b[39;00m\n\u001b[1;32m      2\u001b[0m csv_df \u001b[38;5;241m=\u001b[39m pd\u001b[38;5;241m.\u001b[39mread_csv(\u001b[38;5;124m'\u001b[39m\u001b[38;5;124mcars.csv\u001b[39m\u001b[38;5;124m'\u001b[39m)\n\u001b[1;32m      3\u001b[0m csv_df\u001b[38;5;241m.\u001b[39mhead()\n",
      "\u001b[0;31mModuleNotFoundError\u001b[0m: No module named 'pandas'"
     ]
    }
   ],
   "source": [
    "import pandas as pd\n",
    "csv_df = pd.read_csv('cars.csv')\n",
    "csv_df.head()"
   ]
  },
  {
   "cell_type": "markdown",
   "id": "f9877b47",
   "metadata": {},
   "source": [
    "# 2/12:"
   ]
  },
  {
   "cell_type": "code",
   "execution_count": null,
   "id": "d1d219e5",
   "metadata": {},
   "outputs": [],
   "source": [
    "import pandas as pd\n",
    "import numpy as np\n",
    "\n",
    "df = pd.read_csv('titanic_test_data.csv')\n",
    "POI = df.Embarked.to_numpy()\n",
    "Southhampton = (POI == 'S')\n",
    "data = {'ID' : PassengerId,\n",
    "        'Class' : Pclass,\n",
    "        'Name' : Name,\n",
    "        'Sex' : Sex,\n",
    "        'Age' : Age,\n",
    "        'Sibilings/Spouses' : SibSp,\n",
    "        'Parents/Children' : Parch,\n",
    "        'Ticket Number' : Ticket,\n",
    "        'Ticket Price' : Fare,\n",
    "        'Cabin' : Cabin}\n",
    "\n",
    "# This don't work because you haven't converted to arrays, yet."
   ]
  },
  {
   "cell_type": "code",
   "execution_count": 13,
   "id": "ddbbaa2f",
   "metadata": {},
   "outputs": [
    {
     "data": {
      "text/html": [
       "<div>\n",
       "<style scoped>\n",
       "    .dataframe tbody tr th:only-of-type {\n",
       "        vertical-align: middle;\n",
       "    }\n",
       "\n",
       "    .dataframe tbody tr th {\n",
       "        vertical-align: top;\n",
       "    }\n",
       "\n",
       "    .dataframe thead th {\n",
       "        text-align: right;\n",
       "    }\n",
       "</style>\n",
       "<table border=\"1\" class=\"dataframe\">\n",
       "  <thead>\n",
       "    <tr style=\"text-align: right;\">\n",
       "      <th></th>\n",
       "      <th>PassengerId</th>\n",
       "      <th>Pclass</th>\n",
       "      <th>Name</th>\n",
       "      <th>Sex</th>\n",
       "      <th>Age</th>\n",
       "      <th>SibSp</th>\n",
       "      <th>Parch</th>\n",
       "      <th>Ticket</th>\n",
       "      <th>Fare</th>\n",
       "      <th>Cabin</th>\n",
       "      <th>Embarked</th>\n",
       "    </tr>\n",
       "  </thead>\n",
       "  <tbody>\n",
       "    <tr>\n",
       "      <th>1</th>\n",
       "      <td>893</td>\n",
       "      <td>3</td>\n",
       "      <td>Wilkes, Mrs. James (Ellen Needs)</td>\n",
       "      <td>female</td>\n",
       "      <td>47.0</td>\n",
       "      <td>1</td>\n",
       "      <td>0</td>\n",
       "      <td>363272</td>\n",
       "      <td>7.0000</td>\n",
       "      <td>NaN</td>\n",
       "      <td>S</td>\n",
       "    </tr>\n",
       "    <tr>\n",
       "      <th>3</th>\n",
       "      <td>895</td>\n",
       "      <td>3</td>\n",
       "      <td>Wirz, Mr. Albert</td>\n",
       "      <td>male</td>\n",
       "      <td>27.0</td>\n",
       "      <td>0</td>\n",
       "      <td>0</td>\n",
       "      <td>315154</td>\n",
       "      <td>8.6625</td>\n",
       "      <td>NaN</td>\n",
       "      <td>S</td>\n",
       "    </tr>\n",
       "    <tr>\n",
       "      <th>4</th>\n",
       "      <td>896</td>\n",
       "      <td>3</td>\n",
       "      <td>Hirvonen, Mrs. Alexander (Helga E Lindqvist)</td>\n",
       "      <td>female</td>\n",
       "      <td>22.0</td>\n",
       "      <td>1</td>\n",
       "      <td>1</td>\n",
       "      <td>3101298</td>\n",
       "      <td>12.2875</td>\n",
       "      <td>NaN</td>\n",
       "      <td>S</td>\n",
       "    </tr>\n",
       "    <tr>\n",
       "      <th>5</th>\n",
       "      <td>897</td>\n",
       "      <td>3</td>\n",
       "      <td>Svensson, Mr. Johan Cervin</td>\n",
       "      <td>male</td>\n",
       "      <td>14.0</td>\n",
       "      <td>0</td>\n",
       "      <td>0</td>\n",
       "      <td>7538</td>\n",
       "      <td>9.2250</td>\n",
       "      <td>NaN</td>\n",
       "      <td>S</td>\n",
       "    </tr>\n",
       "    <tr>\n",
       "      <th>7</th>\n",
       "      <td>899</td>\n",
       "      <td>2</td>\n",
       "      <td>Caldwell, Mr. Albert Francis</td>\n",
       "      <td>male</td>\n",
       "      <td>26.0</td>\n",
       "      <td>1</td>\n",
       "      <td>1</td>\n",
       "      <td>248738</td>\n",
       "      <td>29.0000</td>\n",
       "      <td>NaN</td>\n",
       "      <td>S</td>\n",
       "    </tr>\n",
       "    <tr>\n",
       "      <th>...</th>\n",
       "      <td>...</td>\n",
       "      <td>...</td>\n",
       "      <td>...</td>\n",
       "      <td>...</td>\n",
       "      <td>...</td>\n",
       "      <td>...</td>\n",
       "      <td>...</td>\n",
       "      <td>...</td>\n",
       "      <td>...</td>\n",
       "      <td>...</td>\n",
       "      <td>...</td>\n",
       "    </tr>\n",
       "    <tr>\n",
       "      <th>409</th>\n",
       "      <td>1301</td>\n",
       "      <td>3</td>\n",
       "      <td>Peacock, Miss. Treasteall</td>\n",
       "      <td>female</td>\n",
       "      <td>3.0</td>\n",
       "      <td>1</td>\n",
       "      <td>1</td>\n",
       "      <td>SOTON/O.Q. 3101315</td>\n",
       "      <td>13.7750</td>\n",
       "      <td>NaN</td>\n",
       "      <td>S</td>\n",
       "    </tr>\n",
       "    <tr>\n",
       "      <th>412</th>\n",
       "      <td>1304</td>\n",
       "      <td>3</td>\n",
       "      <td>Henriksson, Miss. Jenny Lovisa</td>\n",
       "      <td>female</td>\n",
       "      <td>28.0</td>\n",
       "      <td>0</td>\n",
       "      <td>0</td>\n",
       "      <td>347086</td>\n",
       "      <td>7.7750</td>\n",
       "      <td>NaN</td>\n",
       "      <td>S</td>\n",
       "    </tr>\n",
       "    <tr>\n",
       "      <th>413</th>\n",
       "      <td>1305</td>\n",
       "      <td>3</td>\n",
       "      <td>Spector, Mr. Woolf</td>\n",
       "      <td>male</td>\n",
       "      <td>NaN</td>\n",
       "      <td>0</td>\n",
       "      <td>0</td>\n",
       "      <td>A.5. 3236</td>\n",
       "      <td>8.0500</td>\n",
       "      <td>NaN</td>\n",
       "      <td>S</td>\n",
       "    </tr>\n",
       "    <tr>\n",
       "      <th>415</th>\n",
       "      <td>1307</td>\n",
       "      <td>3</td>\n",
       "      <td>Saether, Mr. Simon Sivertsen</td>\n",
       "      <td>male</td>\n",
       "      <td>38.5</td>\n",
       "      <td>0</td>\n",
       "      <td>0</td>\n",
       "      <td>SOTON/O.Q. 3101262</td>\n",
       "      <td>7.2500</td>\n",
       "      <td>NaN</td>\n",
       "      <td>S</td>\n",
       "    </tr>\n",
       "    <tr>\n",
       "      <th>416</th>\n",
       "      <td>1308</td>\n",
       "      <td>3</td>\n",
       "      <td>Ware, Mr. Frederick</td>\n",
       "      <td>male</td>\n",
       "      <td>NaN</td>\n",
       "      <td>0</td>\n",
       "      <td>0</td>\n",
       "      <td>359309</td>\n",
       "      <td>8.0500</td>\n",
       "      <td>NaN</td>\n",
       "      <td>S</td>\n",
       "    </tr>\n",
       "  </tbody>\n",
       "</table>\n",
       "<p>270 rows × 11 columns</p>\n",
       "</div>"
      ],
      "text/plain": [
       "     PassengerId  Pclass                                          Name  \\\n",
       "1            893       3              Wilkes, Mrs. James (Ellen Needs)   \n",
       "3            895       3                              Wirz, Mr. Albert   \n",
       "4            896       3  Hirvonen, Mrs. Alexander (Helga E Lindqvist)   \n",
       "5            897       3                    Svensson, Mr. Johan Cervin   \n",
       "7            899       2                  Caldwell, Mr. Albert Francis   \n",
       "..           ...     ...                                           ...   \n",
       "409         1301       3                     Peacock, Miss. Treasteall   \n",
       "412         1304       3                Henriksson, Miss. Jenny Lovisa   \n",
       "413         1305       3                            Spector, Mr. Woolf   \n",
       "415         1307       3                  Saether, Mr. Simon Sivertsen   \n",
       "416         1308       3                           Ware, Mr. Frederick   \n",
       "\n",
       "        Sex   Age  SibSp  Parch              Ticket     Fare Cabin Embarked  \n",
       "1    female  47.0      1      0              363272   7.0000   NaN        S  \n",
       "3      male  27.0      0      0              315154   8.6625   NaN        S  \n",
       "4    female  22.0      1      1             3101298  12.2875   NaN        S  \n",
       "5      male  14.0      0      0                7538   9.2250   NaN        S  \n",
       "7      male  26.0      1      1              248738  29.0000   NaN        S  \n",
       "..      ...   ...    ...    ...                 ...      ...   ...      ...  \n",
       "409  female   3.0      1      1  SOTON/O.Q. 3101315  13.7750   NaN        S  \n",
       "412  female  28.0      0      0              347086   7.7750   NaN        S  \n",
       "413    male   NaN      0      0           A.5. 3236   8.0500   NaN        S  \n",
       "415    male  38.5      0      0  SOTON/O.Q. 3101262   7.2500   NaN        S  \n",
       "416    male   NaN      0      0              359309   8.0500   NaN        S  \n",
       "\n",
       "[270 rows x 11 columns]"
      ]
     },
     "execution_count": 13,
     "metadata": {},
     "output_type": "execute_result"
    }
   ],
   "source": [
    "import pandas as pd\n",
    "import numpy as np\n",
    "\n",
    "df = pd.read_csv('titanic_test_data.csv')\n",
    "\n",
    "df[df['Embarked'] == 'S'] # df[condition]... what you're applying condition to."
   ]
  },
  {
   "cell_type": "markdown",
   "id": "751e6ce5",
   "metadata": {},
   "source": [
    "# 2/19:"
   ]
  },
  {
   "cell_type": "markdown",
   "id": "09c20398",
   "metadata": {},
   "source": [
    "Supervised = Set of \"correct\" answers that the machine can check their predictions against\n",
    "Unsupervised = Not that\n",
    "\n",
    "What kind of problems can you solve with supervised?\n",
    "- Identify spam... makes prediction if spam or not, tell it if it's right\n",
    "- Reccomend products to customers, could have database of whether product is \"right\"... or if they buy it?\n",
    "- Customer segments... customers could already be put into segments, it just needs to get the right"
   ]
  },
  {
   "cell_type": "markdown",
   "id": "93460f2f",
   "metadata": {},
   "source": [
    "Discrete (Supervised) = Classification / Categorization\n",
    "\n",
    "Discrete (Unsupervised) = Clustering\n",
    "\n",
    "Continuous (Supervised) = Regression\n",
    "\n",
    "Continuous (Unsupervised) = Dimensionality Reduction"
   ]
  },
  {
   "cell_type": "markdown",
   "id": "90fdfbd6",
   "metadata": {},
   "source": [
    "Linear Regression: y = mx + b"
   ]
  },
  {
   "cell_type": "markdown",
   "id": "0ca38cfb",
   "metadata": {},
   "source": [
    "Univariate = ONE x to predict y\n",
    "\n",
    "Multivariate = MANY x to predict y"
   ]
  },
  {
   "cell_type": "markdown",
   "id": "91056811",
   "metadata": {},
   "source": [
    "Mean Squared Error = Distance from observed point to predicted (difference), squared, all added together"
   ]
  },
  {
   "cell_type": "markdown",
   "id": "ce7ca707",
   "metadata": {},
   "source": [
    "R = Correlation between two variables\n",
    "\n",
    "R^2 = Square of ^ (how close data is to regression line / model fits raw data)\n",
    "\n",
    "^^ between 0 and 1"
   ]
  },
  {
   "cell_type": "markdown",
   "id": "58db1562",
   "metadata": {},
   "source": [
    "Classification - KNN:"
   ]
  },
  {
   "cell_type": "markdown",
   "id": "18fad842",
   "metadata": {},
   "source": [
    "Each data represents a \"vote\" which will make mystery data point look more like itself\n",
    "\n",
    "\"K\" number is hyperparameter = how many points should be considered\n",
    "\n",
    "Accuracy = Number of correct predictions / total predictions"
   ]
  },
  {
   "cell_type": "markdown",
   "id": "6fd84be4",
   "metadata": {},
   "source": [
    "(Know what a boxplot looks like)"
   ]
  },
  {
   "cell_type": "markdown",
   "id": "27a9c5ca",
   "metadata": {},
   "source": [
    "# 2/21:"
   ]
  },
  {
   "cell_type": "markdown",
   "id": "bd237565",
   "metadata": {},
   "source": [
    "- Linear regression = predicitng value of y using models of x\n",
    "- K-nearest neighbor is simply the number of rows/datapoints you analyze to determine an unknown point"
   ]
  }
 ],
 "metadata": {
  "kernelspec": {
   "display_name": "Python 3 (ipykernel)",
   "language": "python",
   "name": "python3"
  },
  "language_info": {
   "codemirror_mode": {
    "name": "ipython",
    "version": 3
   },
   "file_extension": ".py",
   "mimetype": "text/x-python",
   "name": "python",
   "nbconvert_exporter": "python",
   "pygments_lexer": "ipython3",
   "version": "3.9.6"
  }
 },
 "nbformat": 4,
 "nbformat_minor": 5
}
