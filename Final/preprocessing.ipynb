{
 "cells": [
  {
   "cell_type": "markdown",
   "metadata": {},
   "source": [
    "# Reading Data:"
   ]
  },
  {
   "cell_type": "code",
   "execution_count": 1,
   "metadata": {},
   "outputs": [
    {
     "name": "stderr",
     "output_type": "stream",
     "text": [
      "/var/folders/jq/xzwg3k5d0nqb3574ynkvzc740000gn/T/ipykernel_40481/147202554.py:1: DeprecationWarning: \n",
      "Pyarrow will become a required dependency of pandas in the next major release of pandas (pandas 3.0),\n",
      "(to allow more performant data types, such as the Arrow string type, and better interoperability with other libraries)\n",
      "but was not found to be installed on your system.\n",
      "If this would cause problems for you,\n",
      "please provide us feedback at https://github.com/pandas-dev/pandas/issues/54466\n",
      "        \n",
      "  import pandas as pd\n"
     ]
    }
   ],
   "source": [
    "import pandas as pd\n",
    "\n",
    "def read_file(file_path: str) -> pd.DataFrame:\n",
    "    \"\"\"\n",
    "    Reads a CSV file through a given file path.\n",
    "    \"\"\"\n",
    "    return pd.read_csv(file_path)\n",
    "\n",
    "job_change_df = read_file('job_change.csv')"
   ]
  },
  {
   "cell_type": "markdown",
   "metadata": {},
   "source": [
    "# Handling Nulls:"
   ]
  },
  {
   "cell_type": "code",
   "execution_count": 2,
   "metadata": {},
   "outputs": [
    {
     "data": {
      "text/plain": [
       "enrollee_id                  0\n",
       "city                         0\n",
       "city_development_index       0\n",
       "gender                    4508\n",
       "relevent_experience          0\n",
       "enrolled_university        386\n",
       "education_level            460\n",
       "major_discipline          2813\n",
       "experience                  65\n",
       "company_size              5938\n",
       "company_type              6140\n",
       "last_new_job               423\n",
       "training_hours               0\n",
       "target                       0\n",
       "dtype: int64"
      ]
     },
     "execution_count": 2,
     "metadata": {},
     "output_type": "execute_result"
    }
   ],
   "source": [
    "def count_null_values(df: pd.DataFrame) -> pd.Series:\n",
    "    \"\"\"\n",
    "    Counts the number of nulls in each column of a given DataFrame.\n",
    "    \"\"\"\n",
    "    return df.isnull().sum()\n",
    "\n",
    "count_null_values(job_change_df)"
   ]
  },
  {
   "cell_type": "code",
   "execution_count": 3,
   "metadata": {},
   "outputs": [],
   "source": [
    "def count_unique_values(df: pd.DataFrame, column_name: str) -> dict:\n",
    "    \"\"\"\n",
    "    Counts the number of occurrences of each, unique value in a specified column of a given DataFrame.\n",
    "    \"\"\"\n",
    "    unique_counts = df[column_name].value_counts().to_dict()\n",
    "    return unique_counts"
   ]
  },
  {
   "cell_type": "code",
   "execution_count": 4,
   "metadata": {},
   "outputs": [],
   "source": [
    "import numpy as np\n",
    "\n",
    "def fill_null_values_with_ratio(df: pd.DataFrame, column: str) -> pd.DataFrame:\n",
    "    \"\"\"\n",
    "    Fills the null values in a specified column of a given DataFrame based on the proportions of non-nulls.\n",
    "    \"\"\"\n",
    "    proportions = df[column].value_counts(normalize = True)\n",
    "    df[column].fillna(pd.Series(np.random.choice(proportions.index,\n",
    "                                                 p = proportions.values,\n",
    "                                                 size = len(df))),\n",
    "                                                 inplace = True)\n",
    "    return df"
   ]
  },
  {
   "cell_type": "markdown",
   "metadata": {},
   "source": [
    "#### Gender null cleaning:"
   ]
  },
  {
   "cell_type": "code",
   "execution_count": 5,
   "metadata": {},
   "outputs": [
    {
     "name": "stdout",
     "output_type": "stream",
     "text": [
      "{'Male': 13221, 'Female': 1238, 'Other': 191}\n"
     ]
    }
   ],
   "source": [
    "gender_counts = count_unique_values(job_change_df, 'gender')\n",
    "print(gender_counts)"
   ]
  },
  {
   "cell_type": "code",
   "execution_count": 6,
   "metadata": {},
   "outputs": [
    {
     "name": "stdout",
     "output_type": "stream",
     "text": [
      "{'Male': 17258, 'Female': 1655, 'Other': 245}\n"
     ]
    },
    {
     "name": "stderr",
     "output_type": "stream",
     "text": [
      "/var/folders/jq/xzwg3k5d0nqb3574ynkvzc740000gn/T/ipykernel_40481/2726229545.py:8: FutureWarning: A value is trying to be set on a copy of a DataFrame or Series through chained assignment using an inplace method.\n",
      "The behavior will change in pandas 3.0. This inplace method will never work because the intermediate object on which we are setting values always behaves as a copy.\n",
      "\n",
      "For example, when doing 'df[col].method(value, inplace=True)', try using 'df.method({col: value}, inplace=True)' or df[col] = df[col].method(value) instead, to perform the operation inplace on the original object.\n",
      "\n",
      "\n",
      "  df[column].fillna(pd.Series(np.random.choice(proportions.index,\n"
     ]
    }
   ],
   "source": [
    "job_change_df_cleaned_gender = fill_null_values_with_ratio(job_change_df, 'gender')\n",
    "print(count_unique_values(job_change_df_cleaned_gender, 'gender'))"
   ]
  },
  {
   "cell_type": "markdown",
   "metadata": {},
   "source": [
    "#### University null cleaning:"
   ]
  },
  {
   "cell_type": "code",
   "execution_count": 7,
   "metadata": {},
   "outputs": [
    {
     "name": "stdout",
     "output_type": "stream",
     "text": [
      "{'no_enrollment': 13817, 'Full time course': 3757, 'Part time course': 1198}\n"
     ]
    }
   ],
   "source": [
    "uni_counts = count_unique_values(job_change_df_cleaned_gender, 'enrolled_university')\n",
    "print(uni_counts)"
   ]
  },
  {
   "cell_type": "code",
   "execution_count": 8,
   "metadata": {},
   "outputs": [
    {
     "name": "stdout",
     "output_type": "stream",
     "text": [
      "{'no_enrollment': 14099, 'Full time course': 3831, 'Part time course': 1228}\n"
     ]
    },
    {
     "name": "stderr",
     "output_type": "stream",
     "text": [
      "/var/folders/jq/xzwg3k5d0nqb3574ynkvzc740000gn/T/ipykernel_40481/2726229545.py:8: FutureWarning: A value is trying to be set on a copy of a DataFrame or Series through chained assignment using an inplace method.\n",
      "The behavior will change in pandas 3.0. This inplace method will never work because the intermediate object on which we are setting values always behaves as a copy.\n",
      "\n",
      "For example, when doing 'df[col].method(value, inplace=True)', try using 'df.method({col: value}, inplace=True)' or df[col] = df[col].method(value) instead, to perform the operation inplace on the original object.\n",
      "\n",
      "\n",
      "  df[column].fillna(pd.Series(np.random.choice(proportions.index,\n"
     ]
    }
   ],
   "source": [
    "job_change_df_cleaned_uni = fill_null_values_with_ratio(job_change_df_cleaned_gender, 'enrolled_university')\n",
    "\n",
    "uni_counts_cleaned = count_unique_values(job_change_df_cleaned_uni, 'enrolled_university')\n",
    "print(uni_counts_cleaned)"
   ]
  },
  {
   "cell_type": "markdown",
   "metadata": {},
   "source": [
    "#### Education level null cleaning:"
   ]
  },
  {
   "cell_type": "code",
   "execution_count": 9,
   "metadata": {},
   "outputs": [
    {
     "name": "stdout",
     "output_type": "stream",
     "text": [
      "{'Graduate': 11598, 'Masters': 4361, 'High School': 2017, 'Phd': 414, 'Primary School': 308}\n"
     ]
    }
   ],
   "source": [
    "ed_lvl_counts = count_unique_values(job_change_df_cleaned_uni, 'education_level')\n",
    "print(ed_lvl_counts)"
   ]
  },
  {
   "cell_type": "code",
   "execution_count": 10,
   "metadata": {},
   "outputs": [
    {
     "name": "stdout",
     "output_type": "stream",
     "text": [
      "{'Graduate': 11868, 'Masters': 4473, 'High School': 2067, 'Phd': 431, 'Primary School': 319}\n"
     ]
    },
    {
     "name": "stderr",
     "output_type": "stream",
     "text": [
      "/var/folders/jq/xzwg3k5d0nqb3574ynkvzc740000gn/T/ipykernel_40481/2726229545.py:8: FutureWarning: A value is trying to be set on a copy of a DataFrame or Series through chained assignment using an inplace method.\n",
      "The behavior will change in pandas 3.0. This inplace method will never work because the intermediate object on which we are setting values always behaves as a copy.\n",
      "\n",
      "For example, when doing 'df[col].method(value, inplace=True)', try using 'df.method({col: value}, inplace=True)' or df[col] = df[col].method(value) instead, to perform the operation inplace on the original object.\n",
      "\n",
      "\n",
      "  df[column].fillna(pd.Series(np.random.choice(proportions.index,\n"
     ]
    }
   ],
   "source": [
    "job_change_df_cleaned_ed_lvl = fill_null_values_with_ratio(job_change_df_cleaned_uni, 'education_level')\n",
    "\n",
    "ed_lvl_counts_cleaned = count_unique_values(job_change_df_cleaned_ed_lvl, 'education_level')\n",
    "print(ed_lvl_counts_cleaned)"
   ]
  },
  {
   "cell_type": "markdown",
   "metadata": {},
   "source": [
    "#### Major null cleaning:"
   ]
  },
  {
   "cell_type": "code",
   "execution_count": 11,
   "metadata": {},
   "outputs": [
    {
     "name": "stdout",
     "output_type": "stream",
     "text": [
      "{'STEM': 14492, 'Humanities': 669, 'Other': 381, 'Business Degree': 327, 'Arts': 253, 'No Major': 223}\n"
     ]
    }
   ],
   "source": [
    "major_counts = count_unique_values(job_change_df_cleaned_ed_lvl, 'major_discipline')\n",
    "print(major_counts)"
   ]
  },
  {
   "cell_type": "code",
   "execution_count": 12,
   "metadata": {},
   "outputs": [
    {
     "name": "stdout",
     "output_type": "stream",
     "text": [
      "{'STEM': 16998, 'Humanities': 774, 'Other': 449, 'Business Degree': 385, 'Arts': 295, 'No Major': 257}\n"
     ]
    },
    {
     "name": "stderr",
     "output_type": "stream",
     "text": [
      "/var/folders/jq/xzwg3k5d0nqb3574ynkvzc740000gn/T/ipykernel_40481/2726229545.py:8: FutureWarning: A value is trying to be set on a copy of a DataFrame or Series through chained assignment using an inplace method.\n",
      "The behavior will change in pandas 3.0. This inplace method will never work because the intermediate object on which we are setting values always behaves as a copy.\n",
      "\n",
      "For example, when doing 'df[col].method(value, inplace=True)', try using 'df.method({col: value}, inplace=True)' or df[col] = df[col].method(value) instead, to perform the operation inplace on the original object.\n",
      "\n",
      "\n",
      "  df[column].fillna(pd.Series(np.random.choice(proportions.index,\n"
     ]
    }
   ],
   "source": [
    "job_change_df_cleaned_major = fill_null_values_with_ratio(job_change_df_cleaned_ed_lvl, 'major_discipline')\n",
    "\n",
    "major_counts_cleaned = count_unique_values(job_change_df_cleaned_major, 'major_discipline')\n",
    "print(major_counts_cleaned)"
   ]
  },
  {
   "cell_type": "markdown",
   "metadata": {},
   "source": [
    "#### Experience null cleaning:"
   ]
  },
  {
   "cell_type": "code",
   "execution_count": 13,
   "metadata": {},
   "outputs": [
    {
     "name": "stdout",
     "output_type": "stream",
     "text": [
      "{'>20': 3286, '5': 1430, '4': 1403, '3': 1354, '6': 1216, '2': 1127, '7': 1028, '10': 985, '9': 980, '8': 802, '15': 686, '11': 664, '14': 586, '1': 549, '<1': 522, '16': 508, '12': 494, '13': 399, '17': 342, '19': 304, '18': 280, '20': 148}\n"
     ]
    }
   ],
   "source": [
    "exp_counts = count_unique_values(job_change_df_cleaned_major, 'experience')\n",
    "print(exp_counts)"
   ]
  },
  {
   "cell_type": "code",
   "execution_count": 14,
   "metadata": {},
   "outputs": [
    {
     "name": "stdout",
     "output_type": "stream",
     "text": [
      "{'>20': 3300, '5': 1434, '4': 1405, '3': 1363, '6': 1217, '2': 1133, '7': 1030, '10': 989, '9': 981, '8': 805, '15': 687, '11': 665, '14': 588, '1': 552, '<1': 522, '16': 511, '12': 496, '13': 401, '17': 345, '19': 304, '18': 282, '20': 148}\n"
     ]
    },
    {
     "name": "stderr",
     "output_type": "stream",
     "text": [
      "/var/folders/jq/xzwg3k5d0nqb3574ynkvzc740000gn/T/ipykernel_40481/2726229545.py:8: FutureWarning: A value is trying to be set on a copy of a DataFrame or Series through chained assignment using an inplace method.\n",
      "The behavior will change in pandas 3.0. This inplace method will never work because the intermediate object on which we are setting values always behaves as a copy.\n",
      "\n",
      "For example, when doing 'df[col].method(value, inplace=True)', try using 'df.method({col: value}, inplace=True)' or df[col] = df[col].method(value) instead, to perform the operation inplace on the original object.\n",
      "\n",
      "\n",
      "  df[column].fillna(pd.Series(np.random.choice(proportions.index,\n"
     ]
    }
   ],
   "source": [
    "job_change_df_cleaned_exp = fill_null_values_with_ratio(job_change_df_cleaned_major, 'experience')\n",
    "\n",
    "exp_counts_cleaned = count_unique_values(job_change_df_cleaned_exp, 'experience')\n",
    "print(exp_counts_cleaned)"
   ]
  },
  {
   "cell_type": "markdown",
   "metadata": {},
   "source": [
    "#### Company size null cleaning:"
   ]
  },
  {
   "cell_type": "code",
   "execution_count": 15,
   "metadata": {},
   "outputs": [
    {
     "name": "stdout",
     "output_type": "stream",
     "text": [
      "{'50-99': 3083, '100-500': 2571, '10000+': 2019, '10/49': 1471, '1000-4999': 1328, '<10': 1308, '500-999': 877, '5000-9999': 563}\n"
     ]
    }
   ],
   "source": [
    "compsize_counts = count_unique_values(job_change_df_cleaned_exp, 'company_size')\n",
    "print(compsize_counts)"
   ]
  },
  {
   "cell_type": "code",
   "execution_count": 16,
   "metadata": {},
   "outputs": [
    {
     "name": "stdout",
     "output_type": "stream",
     "text": [
      "{'50-99': 4450, '100-500': 3723, '10000+': 2921, '10/49': 2103, '1000-4999': 1951, '<10': 1939, '500-999': 1243, '5000-9999': 828}\n"
     ]
    },
    {
     "name": "stderr",
     "output_type": "stream",
     "text": [
      "/var/folders/jq/xzwg3k5d0nqb3574ynkvzc740000gn/T/ipykernel_40481/2726229545.py:8: FutureWarning: A value is trying to be set on a copy of a DataFrame or Series through chained assignment using an inplace method.\n",
      "The behavior will change in pandas 3.0. This inplace method will never work because the intermediate object on which we are setting values always behaves as a copy.\n",
      "\n",
      "For example, when doing 'df[col].method(value, inplace=True)', try using 'df.method({col: value}, inplace=True)' or df[col] = df[col].method(value) instead, to perform the operation inplace on the original object.\n",
      "\n",
      "\n",
      "  df[column].fillna(pd.Series(np.random.choice(proportions.index,\n"
     ]
    }
   ],
   "source": [
    "job_change_df_cleaned_compsize = fill_null_values_with_ratio(job_change_df_cleaned_exp, 'company_size')\n",
    "\n",
    "compsize_counts_cleaned = count_unique_values(job_change_df_cleaned_compsize, 'company_size')\n",
    "print(compsize_counts_cleaned)"
   ]
  },
  {
   "cell_type": "markdown",
   "metadata": {},
   "source": [
    "#### Company type null cleaning:"
   ]
  },
  {
   "cell_type": "code",
   "execution_count": 17,
   "metadata": {},
   "outputs": [
    {
     "name": "stdout",
     "output_type": "stream",
     "text": [
      "{'Pvt Ltd': 9817, 'Funded Startup': 1001, 'Public Sector': 955, 'Early Stage Startup': 603, 'NGO': 521, 'Other': 121}\n"
     ]
    }
   ],
   "source": [
    "comptype_counts = count_unique_values(job_change_df_cleaned_compsize, 'company_type')\n",
    "print(comptype_counts)"
   ]
  },
  {
   "cell_type": "code",
   "execution_count": 18,
   "metadata": {},
   "outputs": [
    {
     "name": "stdout",
     "output_type": "stream",
     "text": [
      "{'Pvt Ltd': 14485, 'Funded Startup': 1464, 'Public Sector': 1404, 'Early Stage Startup': 879, 'NGO': 752, 'Other': 174}\n"
     ]
    },
    {
     "name": "stderr",
     "output_type": "stream",
     "text": [
      "/var/folders/jq/xzwg3k5d0nqb3574ynkvzc740000gn/T/ipykernel_40481/2726229545.py:8: FutureWarning: A value is trying to be set on a copy of a DataFrame or Series through chained assignment using an inplace method.\n",
      "The behavior will change in pandas 3.0. This inplace method will never work because the intermediate object on which we are setting values always behaves as a copy.\n",
      "\n",
      "For example, when doing 'df[col].method(value, inplace=True)', try using 'df.method({col: value}, inplace=True)' or df[col] = df[col].method(value) instead, to perform the operation inplace on the original object.\n",
      "\n",
      "\n",
      "  df[column].fillna(pd.Series(np.random.choice(proportions.index,\n"
     ]
    }
   ],
   "source": [
    "job_change_df_cleaned_comptype = fill_null_values_with_ratio(job_change_df_cleaned_compsize, 'company_type')\n",
    "\n",
    "comptype_counts_cleaned = count_unique_values(job_change_df_cleaned_comptype, 'company_type')\n",
    "print(comptype_counts_cleaned)"
   ]
  },
  {
   "cell_type": "markdown",
   "metadata": {},
   "source": [
    "#### Last new job null cleaning:"
   ]
  },
  {
   "cell_type": "code",
   "execution_count": 19,
   "metadata": {},
   "outputs": [
    {
     "name": "stdout",
     "output_type": "stream",
     "text": [
      "{'1': 8040, '>4': 3290, '2': 2900, 'never': 2452, '4': 1029, '3': 1024}\n"
     ]
    }
   ],
   "source": [
    "last_job_counts = count_unique_values(job_change_df_cleaned_comptype, 'last_new_job')\n",
    "print(last_job_counts)"
   ]
  },
  {
   "cell_type": "code",
   "execution_count": 20,
   "metadata": {},
   "outputs": [
    {
     "name": "stdout",
     "output_type": "stream",
     "text": [
      "{'1': 8214, '>4': 3367, '2': 2955, 'never': 2511, '4': 1062, '3': 1049}\n"
     ]
    },
    {
     "name": "stderr",
     "output_type": "stream",
     "text": [
      "/var/folders/jq/xzwg3k5d0nqb3574ynkvzc740000gn/T/ipykernel_40481/2726229545.py:8: FutureWarning: A value is trying to be set on a copy of a DataFrame or Series through chained assignment using an inplace method.\n",
      "The behavior will change in pandas 3.0. This inplace method will never work because the intermediate object on which we are setting values always behaves as a copy.\n",
      "\n",
      "For example, when doing 'df[col].method(value, inplace=True)', try using 'df.method({col: value}, inplace=True)' or df[col] = df[col].method(value) instead, to perform the operation inplace on the original object.\n",
      "\n",
      "\n",
      "  df[column].fillna(pd.Series(np.random.choice(proportions.index,\n"
     ]
    }
   ],
   "source": [
    "job_change_df_cleaned_nulls = fill_null_values_with_ratio(job_change_df_cleaned_compsize, 'last_new_job')\n",
    "\n",
    "nulls_counts_cleaned = count_unique_values(job_change_df_cleaned_nulls, 'last_new_job')\n",
    "print(nulls_counts_cleaned)"
   ]
  },
  {
   "cell_type": "code",
   "execution_count": 21,
   "metadata": {},
   "outputs": [
    {
     "data": {
      "text/plain": [
       "enrollee_id               0\n",
       "city                      0\n",
       "city_development_index    0\n",
       "gender                    0\n",
       "relevent_experience       0\n",
       "enrolled_university       0\n",
       "education_level           0\n",
       "major_discipline          0\n",
       "experience                0\n",
       "company_size              0\n",
       "company_type              0\n",
       "last_new_job              0\n",
       "training_hours            0\n",
       "target                    0\n",
       "dtype: int64"
      ]
     },
     "execution_count": 21,
     "metadata": {},
     "output_type": "execute_result"
    }
   ],
   "source": [
    "count_null_values(job_change_df_cleaned_nulls)"
   ]
  },
  {
   "cell_type": "markdown",
   "metadata": {},
   "source": [
    "# Encoding:"
   ]
  },
  {
   "cell_type": "code",
   "execution_count": 22,
   "metadata": {},
   "outputs": [],
   "source": [
    "from sklearn.preprocessing import LabelEncoder\n",
    "\n",
    "def label_encode(df: pd.DataFrame, column_name: str) -> pd.DataFrame:\n",
    "    \"\"\"\n",
    "    Label encodes specified column of a given DataFrame.\n",
    "    \"\"\"\n",
    "    encoder = LabelEncoder()\n",
    "    encoded_column = encoder.fit_transform(df[column_name])\n",
    "    df[column_name] = encoded_column\n",
    "    return df"
   ]
  },
  {
   "cell_type": "code",
   "execution_count": 23,
   "metadata": {},
   "outputs": [],
   "source": [
    "def ordinal_map_encode(df: pd.DataFrame, column_name: str, ordinal_mapping: dict[str, int]) -> pd.DataFrame:\n",
    "    \"\"\"\n",
    "    Ordinally maps specified column of a given DataFrame based on the provided mapping.\n",
    "    \"\"\"\n",
    "    df[column_name] = df[column_name].map(ordinal_mapping)\n",
    "    return df"
   ]
  },
  {
   "cell_type": "markdown",
   "metadata": {},
   "source": [
    "\"enrolee_id\" (or the unique \"tag\" of each data row) will not be encoded, given it is, at best, a confounding, feature for my models, and at worst a perfect predictor of the outcome."
   ]
  },
  {
   "cell_type": "markdown",
   "metadata": {},
   "source": [
    "\"city\" will be label encoded, as it is categorical—neccesitating conversion to integer values—but not ordinal."
   ]
  },
  {
   "cell_type": "code",
   "execution_count": 24,
   "metadata": {},
   "outputs": [],
   "source": [
    "job_change_df_city_encoded = label_encode(job_change_df_cleaned_nulls, 'city')"
   ]
  },
  {
   "cell_type": "markdown",
   "metadata": {},
   "source": [
    "\"city_development_index\" is already integered AND normalized between 0 and 1, hooray!"
   ]
  },
  {
   "cell_type": "markdown",
   "metadata": {},
   "source": [
    "gender will be label encoded, as it is categorical—neccesitating conversion to integer values—but not ordinal."
   ]
  },
  {
   "cell_type": "code",
   "execution_count": 25,
   "metadata": {},
   "outputs": [],
   "source": [
    "job_change_df_gender_encoded = label_encode(job_change_df_city_encoded, 'gender')"
   ]
  },
  {
   "cell_type": "markdown",
   "metadata": {},
   "source": [
    "\"relevant_experience\" will be ordinally encoded, with \"No relevent experience\" mapped to 0 and \"Has relevent experience\" mapped to 1, given the latter has a higher status than the former."
   ]
  },
  {
   "cell_type": "code",
   "execution_count": 26,
   "metadata": {},
   "outputs": [],
   "source": [
    "relexp_mapping = {'No relevent experience': 0, 'Has relevent experience': 1}\n",
    "\n",
    "job_change_df_relexp_encoded = ordinal_map_encode(job_change_df_gender_encoded, 'relevent_experience', relexp_mapping)"
   ]
  },
  {
   "cell_type": "markdown",
   "metadata": {},
   "source": [
    "\"enrolled_university\" will be label encoded, because even if an order pops out between \"no enrollment\", \"part time course\", and \"full time course\" at face value, all these options are equally valid living situations; there is no universal status of one over any other."
   ]
  },
  {
   "cell_type": "code",
   "execution_count": 27,
   "metadata": {},
   "outputs": [],
   "source": [
    "job_change_df_uni_encoded = label_encode(job_change_df_relexp_encoded, 'enrolled_university')"
   ]
  },
  {
   "cell_type": "markdown",
   "metadata": {},
   "source": [
    "\"education_level\", on the other hand, will be ordinally mapped, given a \"PhD\" represents more time and bears more weight than graduation from \"primary school\", and the preceding grade levels."
   ]
  },
  {
   "cell_type": "code",
   "execution_count": 28,
   "metadata": {},
   "outputs": [],
   "source": [
    "degree_mapping = {'Primary School': 0, 'High School': 1, 'Graduate': 2, 'Masters': 3, 'Phd': 4}\n",
    "\n",
    "job_change_df_degree_encoded = ordinal_map_encode(job_change_df_uni_encoded, 'education_level', degree_mapping)"
   ]
  },
  {
   "cell_type": "markdown",
   "metadata": {},
   "source": [
    "\"major_discipline\" will be label encoded, as it is categorical—neccesitating conversion to integer values—but not ordinal."
   ]
  },
  {
   "cell_type": "code",
   "execution_count": 29,
   "metadata": {},
   "outputs": [],
   "source": [
    "job_change_df_major_encoded = label_encode(job_change_df_degree_encoded, 'major_discipline')"
   ]
  },
  {
   "cell_type": "markdown",
   "metadata": {},
   "source": [
    "\"experience\" (measured in years worked at the job) will be ordinally mapped, given the natural order of time places the more experienced above the less experienced, on a scale."
   ]
  },
  {
   "cell_type": "code",
   "execution_count": 30,
   "metadata": {},
   "outputs": [],
   "source": [
    "timeexp_mapping = {'<1': 0, '1': 1, '2': 2, '3': 3, '4': 4, '5': 5, '6': 6, '7': 7, '8': 8, '9': 9, '10': 10, '11': 1,\n",
    "                   '12': 12, '13': 13, '14': 14, '15': 15,'16': 16,'17': 17, '18': 18, '19': 19, '20': 20, '>20': 21}\n",
    "\n",
    "job_change_df_timeexp_encoded = ordinal_map_encode(job_change_df_major_encoded, 'experience', timeexp_mapping)"
   ]
  },
  {
   "cell_type": "markdown",
   "metadata": {},
   "source": [
    "\"company_size\" will be ordinally mapped for a very similar reason, because the natural order of population places a given, larger group above a smaller group, on a scale."
   ]
  },
  {
   "cell_type": "code",
   "execution_count": 31,
   "metadata": {},
   "outputs": [],
   "source": [
    "compsize_mapping = {'<10': 0, '10/49': 1, '50-99': 2, '100-500': 3, '500-999': 4, '1000-4999': 5, '5000-9999': 6, '10000+': 7}\n",
    "\n",
    "job_change_df_compsize_encoded = ordinal_map_encode(job_change_df_timeexp_encoded, 'company_size', compsize_mapping)"
   ]
  },
  {
   "cell_type": "markdown",
   "metadata": {},
   "source": [
    "\"company_type\" will be label encoded, as it is categorical—neccesitating conversion to integer values—but not ordinal."
   ]
  },
  {
   "cell_type": "code",
   "execution_count": 32,
   "metadata": {},
   "outputs": [],
   "source": [
    "job_change_df_comptype_encoded = label_encode(job_change_df_compsize_encoded, 'company_type')"
   ]
  },
  {
   "cell_type": "markdown",
   "metadata": {},
   "source": [
    "\"last_new_job\" (measured in years since leaving most previous job and entering the current role) will be ordinally mapped, under the same logic as \"experience\"."
   ]
  },
  {
   "cell_type": "code",
   "execution_count": 33,
   "metadata": {},
   "outputs": [
    {
     "data": {
      "text/html": [
       "<div>\n",
       "<style scoped>\n",
       "    .dataframe tbody tr th:only-of-type {\n",
       "        vertical-align: middle;\n",
       "    }\n",
       "\n",
       "    .dataframe tbody tr th {\n",
       "        vertical-align: top;\n",
       "    }\n",
       "\n",
       "    .dataframe thead th {\n",
       "        text-align: right;\n",
       "    }\n",
       "</style>\n",
       "<table border=\"1\" class=\"dataframe\">\n",
       "  <thead>\n",
       "    <tr style=\"text-align: right;\">\n",
       "      <th></th>\n",
       "      <th>enrollee_id</th>\n",
       "      <th>city</th>\n",
       "      <th>city_development_index</th>\n",
       "      <th>gender</th>\n",
       "      <th>relevent_experience</th>\n",
       "      <th>enrolled_university</th>\n",
       "      <th>education_level</th>\n",
       "      <th>major_discipline</th>\n",
       "      <th>experience</th>\n",
       "      <th>company_size</th>\n",
       "      <th>company_type</th>\n",
       "      <th>last_new_job</th>\n",
       "      <th>training_hours</th>\n",
       "      <th>target</th>\n",
       "    </tr>\n",
       "  </thead>\n",
       "  <tbody>\n",
       "    <tr>\n",
       "      <th>0</th>\n",
       "      <td>8949</td>\n",
       "      <td>5</td>\n",
       "      <td>0.920</td>\n",
       "      <td>1</td>\n",
       "      <td>1</td>\n",
       "      <td>2</td>\n",
       "      <td>2</td>\n",
       "      <td>5</td>\n",
       "      <td>21</td>\n",
       "      <td>3</td>\n",
       "      <td>5</td>\n",
       "      <td>1</td>\n",
       "      <td>36</td>\n",
       "      <td>1.0</td>\n",
       "    </tr>\n",
       "    <tr>\n",
       "      <th>1</th>\n",
       "      <td>29725</td>\n",
       "      <td>77</td>\n",
       "      <td>0.776</td>\n",
       "      <td>1</td>\n",
       "      <td>0</td>\n",
       "      <td>2</td>\n",
       "      <td>2</td>\n",
       "      <td>5</td>\n",
       "      <td>15</td>\n",
       "      <td>2</td>\n",
       "      <td>5</td>\n",
       "      <td>5</td>\n",
       "      <td>47</td>\n",
       "      <td>0.0</td>\n",
       "    </tr>\n",
       "    <tr>\n",
       "      <th>2</th>\n",
       "      <td>11561</td>\n",
       "      <td>64</td>\n",
       "      <td>0.624</td>\n",
       "      <td>1</td>\n",
       "      <td>0</td>\n",
       "      <td>0</td>\n",
       "      <td>2</td>\n",
       "      <td>5</td>\n",
       "      <td>5</td>\n",
       "      <td>7</td>\n",
       "      <td>5</td>\n",
       "      <td>0</td>\n",
       "      <td>83</td>\n",
       "      <td>0.0</td>\n",
       "    </tr>\n",
       "    <tr>\n",
       "      <th>3</th>\n",
       "      <td>33241</td>\n",
       "      <td>14</td>\n",
       "      <td>0.789</td>\n",
       "      <td>1</td>\n",
       "      <td>0</td>\n",
       "      <td>2</td>\n",
       "      <td>2</td>\n",
       "      <td>1</td>\n",
       "      <td>0</td>\n",
       "      <td>3</td>\n",
       "      <td>5</td>\n",
       "      <td>0</td>\n",
       "      <td>52</td>\n",
       "      <td>1.0</td>\n",
       "    </tr>\n",
       "    <tr>\n",
       "      <th>4</th>\n",
       "      <td>666</td>\n",
       "      <td>50</td>\n",
       "      <td>0.767</td>\n",
       "      <td>1</td>\n",
       "      <td>1</td>\n",
       "      <td>2</td>\n",
       "      <td>3</td>\n",
       "      <td>5</td>\n",
       "      <td>21</td>\n",
       "      <td>2</td>\n",
       "      <td>1</td>\n",
       "      <td>4</td>\n",
       "      <td>8</td>\n",
       "      <td>0.0</td>\n",
       "    </tr>\n",
       "    <tr>\n",
       "      <th>...</th>\n",
       "      <td>...</td>\n",
       "      <td>...</td>\n",
       "      <td>...</td>\n",
       "      <td>...</td>\n",
       "      <td>...</td>\n",
       "      <td>...</td>\n",
       "      <td>...</td>\n",
       "      <td>...</td>\n",
       "      <td>...</td>\n",
       "      <td>...</td>\n",
       "      <td>...</td>\n",
       "      <td>...</td>\n",
       "      <td>...</td>\n",
       "      <td>...</td>\n",
       "    </tr>\n",
       "    <tr>\n",
       "      <th>19153</th>\n",
       "      <td>7386</td>\n",
       "      <td>55</td>\n",
       "      <td>0.878</td>\n",
       "      <td>1</td>\n",
       "      <td>0</td>\n",
       "      <td>2</td>\n",
       "      <td>2</td>\n",
       "      <td>2</td>\n",
       "      <td>14</td>\n",
       "      <td>7</td>\n",
       "      <td>5</td>\n",
       "      <td>1</td>\n",
       "      <td>42</td>\n",
       "      <td>1.0</td>\n",
       "    </tr>\n",
       "    <tr>\n",
       "      <th>19154</th>\n",
       "      <td>31398</td>\n",
       "      <td>5</td>\n",
       "      <td>0.920</td>\n",
       "      <td>1</td>\n",
       "      <td>1</td>\n",
       "      <td>2</td>\n",
       "      <td>2</td>\n",
       "      <td>5</td>\n",
       "      <td>14</td>\n",
       "      <td>0</td>\n",
       "      <td>5</td>\n",
       "      <td>4</td>\n",
       "      <td>52</td>\n",
       "      <td>1.0</td>\n",
       "    </tr>\n",
       "    <tr>\n",
       "      <th>19155</th>\n",
       "      <td>24576</td>\n",
       "      <td>5</td>\n",
       "      <td>0.920</td>\n",
       "      <td>1</td>\n",
       "      <td>1</td>\n",
       "      <td>2</td>\n",
       "      <td>2</td>\n",
       "      <td>5</td>\n",
       "      <td>21</td>\n",
       "      <td>2</td>\n",
       "      <td>5</td>\n",
       "      <td>4</td>\n",
       "      <td>44</td>\n",
       "      <td>0.0</td>\n",
       "    </tr>\n",
       "    <tr>\n",
       "      <th>19156</th>\n",
       "      <td>5756</td>\n",
       "      <td>94</td>\n",
       "      <td>0.802</td>\n",
       "      <td>1</td>\n",
       "      <td>1</td>\n",
       "      <td>2</td>\n",
       "      <td>1</td>\n",
       "      <td>5</td>\n",
       "      <td>0</td>\n",
       "      <td>4</td>\n",
       "      <td>5</td>\n",
       "      <td>2</td>\n",
       "      <td>97</td>\n",
       "      <td>0.0</td>\n",
       "    </tr>\n",
       "    <tr>\n",
       "      <th>19157</th>\n",
       "      <td>23834</td>\n",
       "      <td>95</td>\n",
       "      <td>0.855</td>\n",
       "      <td>1</td>\n",
       "      <td>0</td>\n",
       "      <td>2</td>\n",
       "      <td>0</td>\n",
       "      <td>5</td>\n",
       "      <td>2</td>\n",
       "      <td>2</td>\n",
       "      <td>4</td>\n",
       "      <td>1</td>\n",
       "      <td>127</td>\n",
       "      <td>0.0</td>\n",
       "    </tr>\n",
       "  </tbody>\n",
       "</table>\n",
       "<p>19158 rows × 14 columns</p>\n",
       "</div>"
      ],
      "text/plain": [
       "       enrollee_id  city  city_development_index  gender  relevent_experience  \\\n",
       "0             8949     5                   0.920       1                    1   \n",
       "1            29725    77                   0.776       1                    0   \n",
       "2            11561    64                   0.624       1                    0   \n",
       "3            33241    14                   0.789       1                    0   \n",
       "4              666    50                   0.767       1                    1   \n",
       "...            ...   ...                     ...     ...                  ...   \n",
       "19153         7386    55                   0.878       1                    0   \n",
       "19154        31398     5                   0.920       1                    1   \n",
       "19155        24576     5                   0.920       1                    1   \n",
       "19156         5756    94                   0.802       1                    1   \n",
       "19157        23834    95                   0.855       1                    0   \n",
       "\n",
       "       enrolled_university  education_level  major_discipline  experience  \\\n",
       "0                        2                2                 5          21   \n",
       "1                        2                2                 5          15   \n",
       "2                        0                2                 5           5   \n",
       "3                        2                2                 1           0   \n",
       "4                        2                3                 5          21   \n",
       "...                    ...              ...               ...         ...   \n",
       "19153                    2                2                 2          14   \n",
       "19154                    2                2                 5          14   \n",
       "19155                    2                2                 5          21   \n",
       "19156                    2                1                 5           0   \n",
       "19157                    2                0                 5           2   \n",
       "\n",
       "       company_size  company_type  last_new_job  training_hours  target  \n",
       "0                 3             5             1              36     1.0  \n",
       "1                 2             5             5              47     0.0  \n",
       "2                 7             5             0              83     0.0  \n",
       "3                 3             5             0              52     1.0  \n",
       "4                 2             1             4               8     0.0  \n",
       "...             ...           ...           ...             ...     ...  \n",
       "19153             7             5             1              42     1.0  \n",
       "19154             0             5             4              52     1.0  \n",
       "19155             2             5             4              44     0.0  \n",
       "19156             4             5             2              97     0.0  \n",
       "19157             2             4             1             127     0.0  \n",
       "\n",
       "[19158 rows x 14 columns]"
      ]
     },
     "execution_count": 33,
     "metadata": {},
     "output_type": "execute_result"
    }
   ],
   "source": [
    "lastjob_mapping = {'never': 0, '1': 1, '2': 2, '3': 3, '4': 4, '>4': 5}\n",
    "\n",
    "job_change_df_encoded = ordinal_map_encode(job_change_df_comptype_encoded, 'last_new_job', lastjob_mapping)\n",
    "job_change_df_encoded"
   ]
  },
  {
   "cell_type": "markdown",
   "metadata": {},
   "source": [
    "# Standardization:"
   ]
  },
  {
   "cell_type": "markdown",
   "metadata": {},
   "source": [
    "Given we're predicting a binary outcome, the below ordinal columns will now need to be normalized:\n",
    "1. 'relevent_experience'\n",
    "2. 'education_level'\n",
    "3. 'experience'\n",
    "4. 'company_size'\n",
    "5. 'last_new_job'\n",
    "6. 'training_hours'"
   ]
  },
  {
   "cell_type": "code",
   "execution_count": 34,
   "metadata": {},
   "outputs": [
    {
     "data": {
      "text/html": [
       "<div>\n",
       "<style scoped>\n",
       "    .dataframe tbody tr th:only-of-type {\n",
       "        vertical-align: middle;\n",
       "    }\n",
       "\n",
       "    .dataframe tbody tr th {\n",
       "        vertical-align: top;\n",
       "    }\n",
       "\n",
       "    .dataframe thead th {\n",
       "        text-align: right;\n",
       "    }\n",
       "</style>\n",
       "<table border=\"1\" class=\"dataframe\">\n",
       "  <thead>\n",
       "    <tr style=\"text-align: right;\">\n",
       "      <th></th>\n",
       "      <th>enrollee_id</th>\n",
       "      <th>city</th>\n",
       "      <th>city_development_index</th>\n",
       "      <th>gender</th>\n",
       "      <th>relevent_experience</th>\n",
       "      <th>enrolled_university</th>\n",
       "      <th>education_level</th>\n",
       "      <th>major_discipline</th>\n",
       "      <th>experience</th>\n",
       "      <th>company_size</th>\n",
       "      <th>company_type</th>\n",
       "      <th>last_new_job</th>\n",
       "      <th>training_hours</th>\n",
       "      <th>target</th>\n",
       "    </tr>\n",
       "  </thead>\n",
       "  <tbody>\n",
       "    <tr>\n",
       "      <th>0</th>\n",
       "      <td>8949</td>\n",
       "      <td>5</td>\n",
       "      <td>0.920</td>\n",
       "      <td>1</td>\n",
       "      <td>0.623752</td>\n",
       "      <td>2</td>\n",
       "      <td>-0.198328</td>\n",
       "      <td>5</td>\n",
       "      <td>1.611741</td>\n",
       "      <td>-0.115083</td>\n",
       "      <td>5</td>\n",
       "      <td>-0.597600</td>\n",
       "      <td>-0.488985</td>\n",
       "      <td>1.0</td>\n",
       "    </tr>\n",
       "    <tr>\n",
       "      <th>1</th>\n",
       "      <td>29725</td>\n",
       "      <td>77</td>\n",
       "      <td>0.776</td>\n",
       "      <td>1</td>\n",
       "      <td>-1.603202</td>\n",
       "      <td>2</td>\n",
       "      <td>-0.198328</td>\n",
       "      <td>5</td>\n",
       "      <td>0.751757</td>\n",
       "      <td>-0.570610</td>\n",
       "      <td>5</td>\n",
       "      <td>1.788069</td>\n",
       "      <td>-0.305825</td>\n",
       "      <td>0.0</td>\n",
       "    </tr>\n",
       "    <tr>\n",
       "      <th>2</th>\n",
       "      <td>11561</td>\n",
       "      <td>64</td>\n",
       "      <td>0.624</td>\n",
       "      <td>1</td>\n",
       "      <td>-1.603202</td>\n",
       "      <td>0</td>\n",
       "      <td>-0.198328</td>\n",
       "      <td>5</td>\n",
       "      <td>-0.681550</td>\n",
       "      <td>1.707028</td>\n",
       "      <td>5</td>\n",
       "      <td>-1.194018</td>\n",
       "      <td>0.293607</td>\n",
       "      <td>0.0</td>\n",
       "    </tr>\n",
       "    <tr>\n",
       "      <th>3</th>\n",
       "      <td>33241</td>\n",
       "      <td>14</td>\n",
       "      <td>0.789</td>\n",
       "      <td>1</td>\n",
       "      <td>-1.603202</td>\n",
       "      <td>2</td>\n",
       "      <td>-0.198328</td>\n",
       "      <td>1</td>\n",
       "      <td>-1.398204</td>\n",
       "      <td>-0.115083</td>\n",
       "      <td>5</td>\n",
       "      <td>-1.194018</td>\n",
       "      <td>-0.222571</td>\n",
       "      <td>1.0</td>\n",
       "    </tr>\n",
       "    <tr>\n",
       "      <th>4</th>\n",
       "      <td>666</td>\n",
       "      <td>50</td>\n",
       "      <td>0.767</td>\n",
       "      <td>1</td>\n",
       "      <td>0.623752</td>\n",
       "      <td>2</td>\n",
       "      <td>1.246375</td>\n",
       "      <td>5</td>\n",
       "      <td>1.611741</td>\n",
       "      <td>-0.570610</td>\n",
       "      <td>1</td>\n",
       "      <td>1.191652</td>\n",
       "      <td>-0.955209</td>\n",
       "      <td>0.0</td>\n",
       "    </tr>\n",
       "    <tr>\n",
       "      <th>...</th>\n",
       "      <td>...</td>\n",
       "      <td>...</td>\n",
       "      <td>...</td>\n",
       "      <td>...</td>\n",
       "      <td>...</td>\n",
       "      <td>...</td>\n",
       "      <td>...</td>\n",
       "      <td>...</td>\n",
       "      <td>...</td>\n",
       "      <td>...</td>\n",
       "      <td>...</td>\n",
       "      <td>...</td>\n",
       "      <td>...</td>\n",
       "      <td>...</td>\n",
       "    </tr>\n",
       "    <tr>\n",
       "      <th>19153</th>\n",
       "      <td>7386</td>\n",
       "      <td>55</td>\n",
       "      <td>0.878</td>\n",
       "      <td>1</td>\n",
       "      <td>-1.603202</td>\n",
       "      <td>2</td>\n",
       "      <td>-0.198328</td>\n",
       "      <td>2</td>\n",
       "      <td>0.608426</td>\n",
       "      <td>1.707028</td>\n",
       "      <td>5</td>\n",
       "      <td>-0.597600</td>\n",
       "      <td>-0.389079</td>\n",
       "      <td>1.0</td>\n",
       "    </tr>\n",
       "    <tr>\n",
       "      <th>19154</th>\n",
       "      <td>31398</td>\n",
       "      <td>5</td>\n",
       "      <td>0.920</td>\n",
       "      <td>1</td>\n",
       "      <td>0.623752</td>\n",
       "      <td>2</td>\n",
       "      <td>-0.198328</td>\n",
       "      <td>5</td>\n",
       "      <td>0.608426</td>\n",
       "      <td>-1.481666</td>\n",
       "      <td>5</td>\n",
       "      <td>1.191652</td>\n",
       "      <td>-0.222571</td>\n",
       "      <td>1.0</td>\n",
       "    </tr>\n",
       "    <tr>\n",
       "      <th>19155</th>\n",
       "      <td>24576</td>\n",
       "      <td>5</td>\n",
       "      <td>0.920</td>\n",
       "      <td>1</td>\n",
       "      <td>0.623752</td>\n",
       "      <td>2</td>\n",
       "      <td>-0.198328</td>\n",
       "      <td>5</td>\n",
       "      <td>1.611741</td>\n",
       "      <td>-0.570610</td>\n",
       "      <td>5</td>\n",
       "      <td>1.191652</td>\n",
       "      <td>-0.355778</td>\n",
       "      <td>0.0</td>\n",
       "    </tr>\n",
       "    <tr>\n",
       "      <th>19156</th>\n",
       "      <td>5756</td>\n",
       "      <td>94</td>\n",
       "      <td>0.802</td>\n",
       "      <td>1</td>\n",
       "      <td>0.623752</td>\n",
       "      <td>2</td>\n",
       "      <td>-1.643031</td>\n",
       "      <td>5</td>\n",
       "      <td>-1.398204</td>\n",
       "      <td>0.340445</td>\n",
       "      <td>5</td>\n",
       "      <td>-0.001183</td>\n",
       "      <td>0.526719</td>\n",
       "      <td>0.0</td>\n",
       "    </tr>\n",
       "    <tr>\n",
       "      <th>19157</th>\n",
       "      <td>23834</td>\n",
       "      <td>95</td>\n",
       "      <td>0.855</td>\n",
       "      <td>1</td>\n",
       "      <td>-1.603202</td>\n",
       "      <td>2</td>\n",
       "      <td>-3.087733</td>\n",
       "      <td>5</td>\n",
       "      <td>-1.111543</td>\n",
       "      <td>-0.570610</td>\n",
       "      <td>4</td>\n",
       "      <td>-0.597600</td>\n",
       "      <td>1.026245</td>\n",
       "      <td>0.0</td>\n",
       "    </tr>\n",
       "  </tbody>\n",
       "</table>\n",
       "<p>19158 rows × 14 columns</p>\n",
       "</div>"
      ],
      "text/plain": [
       "       enrollee_id  city  city_development_index  gender  relevent_experience  \\\n",
       "0             8949     5                   0.920       1             0.623752   \n",
       "1            29725    77                   0.776       1            -1.603202   \n",
       "2            11561    64                   0.624       1            -1.603202   \n",
       "3            33241    14                   0.789       1            -1.603202   \n",
       "4              666    50                   0.767       1             0.623752   \n",
       "...            ...   ...                     ...     ...                  ...   \n",
       "19153         7386    55                   0.878       1            -1.603202   \n",
       "19154        31398     5                   0.920       1             0.623752   \n",
       "19155        24576     5                   0.920       1             0.623752   \n",
       "19156         5756    94                   0.802       1             0.623752   \n",
       "19157        23834    95                   0.855       1            -1.603202   \n",
       "\n",
       "       enrolled_university  education_level  major_discipline  experience  \\\n",
       "0                        2        -0.198328                 5    1.611741   \n",
       "1                        2        -0.198328                 5    0.751757   \n",
       "2                        0        -0.198328                 5   -0.681550   \n",
       "3                        2        -0.198328                 1   -1.398204   \n",
       "4                        2         1.246375                 5    1.611741   \n",
       "...                    ...              ...               ...         ...   \n",
       "19153                    2        -0.198328                 2    0.608426   \n",
       "19154                    2        -0.198328                 5    0.608426   \n",
       "19155                    2        -0.198328                 5    1.611741   \n",
       "19156                    2        -1.643031                 5   -1.398204   \n",
       "19157                    2        -3.087733                 5   -1.111543   \n",
       "\n",
       "       company_size  company_type  last_new_job  training_hours  target  \n",
       "0         -0.115083             5     -0.597600       -0.488985     1.0  \n",
       "1         -0.570610             5      1.788069       -0.305825     0.0  \n",
       "2          1.707028             5     -1.194018        0.293607     0.0  \n",
       "3         -0.115083             5     -1.194018       -0.222571     1.0  \n",
       "4         -0.570610             1      1.191652       -0.955209     0.0  \n",
       "...             ...           ...           ...             ...     ...  \n",
       "19153      1.707028             5     -0.597600       -0.389079     1.0  \n",
       "19154     -1.481666             5      1.191652       -0.222571     1.0  \n",
       "19155     -0.570610             5      1.191652       -0.355778     0.0  \n",
       "19156      0.340445             5     -0.001183        0.526719     0.0  \n",
       "19157     -0.570610             4     -0.597600        1.026245     0.0  \n",
       "\n",
       "[19158 rows x 14 columns]"
      ]
     },
     "execution_count": 34,
     "metadata": {},
     "output_type": "execute_result"
    }
   ],
   "source": [
    "from sklearn.preprocessing import StandardScaler\n",
    "\n",
    "def standardize_columns(df: pd.DataFrame, columns: list) -> pd.DataFrame:\n",
    "    \"\"\"\n",
    "    Standardizes specified columns of a given DataFrame with StandardScaler.\n",
    "    \"\"\"\n",
    "    scaler = StandardScaler()\n",
    "    df[columns] = scaler.fit_transform(df[columns])\n",
    "    return df\n",
    "\n",
    "standardization_cols = ['relevent_experience', 'education_level', 'experience', 'company_size', 'last_new_job', 'training_hours']\n",
    "job_change_df_standardized = standardize_columns(job_change_df_encoded, standardization_cols)\n",
    "job_change_df_standardized"
   ]
  },
  {
   "cell_type": "markdown",
   "metadata": {},
   "source": [
    "# Typographical Corrections:"
   ]
  },
  {
   "cell_type": "markdown",
   "metadata": {},
   "source": [
    "Finally, let's fix the columns' grammatical errors, and make their titles both simpler and more representative of their data:"
   ]
  },
  {
   "cell_type": "code",
   "execution_count": 35,
   "metadata": {},
   "outputs": [
    {
     "data": {
      "text/html": [
       "<div>\n",
       "<style scoped>\n",
       "    .dataframe tbody tr th:only-of-type {\n",
       "        vertical-align: middle;\n",
       "    }\n",
       "\n",
       "    .dataframe tbody tr th {\n",
       "        vertical-align: top;\n",
       "    }\n",
       "\n",
       "    .dataframe thead th {\n",
       "        text-align: right;\n",
       "    }\n",
       "</style>\n",
       "<table border=\"1\" class=\"dataframe\">\n",
       "  <thead>\n",
       "    <tr style=\"text-align: right;\">\n",
       "      <th></th>\n",
       "      <th>id</th>\n",
       "      <th>city</th>\n",
       "      <th>city_dev_index</th>\n",
       "      <th>gender</th>\n",
       "      <th>has_relevant_exp</th>\n",
       "      <th>in_school</th>\n",
       "      <th>degree_lvl</th>\n",
       "      <th>major_discipline</th>\n",
       "      <th>yrs_exp</th>\n",
       "      <th>company_size</th>\n",
       "      <th>company_type</th>\n",
       "      <th>yrs_since_last_job</th>\n",
       "      <th>training_hours</th>\n",
       "      <th>target</th>\n",
       "    </tr>\n",
       "  </thead>\n",
       "  <tbody>\n",
       "    <tr>\n",
       "      <th>0</th>\n",
       "      <td>8949</td>\n",
       "      <td>5</td>\n",
       "      <td>0.920</td>\n",
       "      <td>1</td>\n",
       "      <td>0.623752</td>\n",
       "      <td>2</td>\n",
       "      <td>-0.198328</td>\n",
       "      <td>5</td>\n",
       "      <td>1.611741</td>\n",
       "      <td>-0.115083</td>\n",
       "      <td>5</td>\n",
       "      <td>-0.597600</td>\n",
       "      <td>-0.488985</td>\n",
       "      <td>1.0</td>\n",
       "    </tr>\n",
       "    <tr>\n",
       "      <th>1</th>\n",
       "      <td>29725</td>\n",
       "      <td>77</td>\n",
       "      <td>0.776</td>\n",
       "      <td>1</td>\n",
       "      <td>-1.603202</td>\n",
       "      <td>2</td>\n",
       "      <td>-0.198328</td>\n",
       "      <td>5</td>\n",
       "      <td>0.751757</td>\n",
       "      <td>-0.570610</td>\n",
       "      <td>5</td>\n",
       "      <td>1.788069</td>\n",
       "      <td>-0.305825</td>\n",
       "      <td>0.0</td>\n",
       "    </tr>\n",
       "    <tr>\n",
       "      <th>2</th>\n",
       "      <td>11561</td>\n",
       "      <td>64</td>\n",
       "      <td>0.624</td>\n",
       "      <td>1</td>\n",
       "      <td>-1.603202</td>\n",
       "      <td>0</td>\n",
       "      <td>-0.198328</td>\n",
       "      <td>5</td>\n",
       "      <td>-0.681550</td>\n",
       "      <td>1.707028</td>\n",
       "      <td>5</td>\n",
       "      <td>-1.194018</td>\n",
       "      <td>0.293607</td>\n",
       "      <td>0.0</td>\n",
       "    </tr>\n",
       "    <tr>\n",
       "      <th>3</th>\n",
       "      <td>33241</td>\n",
       "      <td>14</td>\n",
       "      <td>0.789</td>\n",
       "      <td>1</td>\n",
       "      <td>-1.603202</td>\n",
       "      <td>2</td>\n",
       "      <td>-0.198328</td>\n",
       "      <td>1</td>\n",
       "      <td>-1.398204</td>\n",
       "      <td>-0.115083</td>\n",
       "      <td>5</td>\n",
       "      <td>-1.194018</td>\n",
       "      <td>-0.222571</td>\n",
       "      <td>1.0</td>\n",
       "    </tr>\n",
       "    <tr>\n",
       "      <th>4</th>\n",
       "      <td>666</td>\n",
       "      <td>50</td>\n",
       "      <td>0.767</td>\n",
       "      <td>1</td>\n",
       "      <td>0.623752</td>\n",
       "      <td>2</td>\n",
       "      <td>1.246375</td>\n",
       "      <td>5</td>\n",
       "      <td>1.611741</td>\n",
       "      <td>-0.570610</td>\n",
       "      <td>1</td>\n",
       "      <td>1.191652</td>\n",
       "      <td>-0.955209</td>\n",
       "      <td>0.0</td>\n",
       "    </tr>\n",
       "    <tr>\n",
       "      <th>...</th>\n",
       "      <td>...</td>\n",
       "      <td>...</td>\n",
       "      <td>...</td>\n",
       "      <td>...</td>\n",
       "      <td>...</td>\n",
       "      <td>...</td>\n",
       "      <td>...</td>\n",
       "      <td>...</td>\n",
       "      <td>...</td>\n",
       "      <td>...</td>\n",
       "      <td>...</td>\n",
       "      <td>...</td>\n",
       "      <td>...</td>\n",
       "      <td>...</td>\n",
       "    </tr>\n",
       "    <tr>\n",
       "      <th>19153</th>\n",
       "      <td>7386</td>\n",
       "      <td>55</td>\n",
       "      <td>0.878</td>\n",
       "      <td>1</td>\n",
       "      <td>-1.603202</td>\n",
       "      <td>2</td>\n",
       "      <td>-0.198328</td>\n",
       "      <td>2</td>\n",
       "      <td>0.608426</td>\n",
       "      <td>1.707028</td>\n",
       "      <td>5</td>\n",
       "      <td>-0.597600</td>\n",
       "      <td>-0.389079</td>\n",
       "      <td>1.0</td>\n",
       "    </tr>\n",
       "    <tr>\n",
       "      <th>19154</th>\n",
       "      <td>31398</td>\n",
       "      <td>5</td>\n",
       "      <td>0.920</td>\n",
       "      <td>1</td>\n",
       "      <td>0.623752</td>\n",
       "      <td>2</td>\n",
       "      <td>-0.198328</td>\n",
       "      <td>5</td>\n",
       "      <td>0.608426</td>\n",
       "      <td>-1.481666</td>\n",
       "      <td>5</td>\n",
       "      <td>1.191652</td>\n",
       "      <td>-0.222571</td>\n",
       "      <td>1.0</td>\n",
       "    </tr>\n",
       "    <tr>\n",
       "      <th>19155</th>\n",
       "      <td>24576</td>\n",
       "      <td>5</td>\n",
       "      <td>0.920</td>\n",
       "      <td>1</td>\n",
       "      <td>0.623752</td>\n",
       "      <td>2</td>\n",
       "      <td>-0.198328</td>\n",
       "      <td>5</td>\n",
       "      <td>1.611741</td>\n",
       "      <td>-0.570610</td>\n",
       "      <td>5</td>\n",
       "      <td>1.191652</td>\n",
       "      <td>-0.355778</td>\n",
       "      <td>0.0</td>\n",
       "    </tr>\n",
       "    <tr>\n",
       "      <th>19156</th>\n",
       "      <td>5756</td>\n",
       "      <td>94</td>\n",
       "      <td>0.802</td>\n",
       "      <td>1</td>\n",
       "      <td>0.623752</td>\n",
       "      <td>2</td>\n",
       "      <td>-1.643031</td>\n",
       "      <td>5</td>\n",
       "      <td>-1.398204</td>\n",
       "      <td>0.340445</td>\n",
       "      <td>5</td>\n",
       "      <td>-0.001183</td>\n",
       "      <td>0.526719</td>\n",
       "      <td>0.0</td>\n",
       "    </tr>\n",
       "    <tr>\n",
       "      <th>19157</th>\n",
       "      <td>23834</td>\n",
       "      <td>95</td>\n",
       "      <td>0.855</td>\n",
       "      <td>1</td>\n",
       "      <td>-1.603202</td>\n",
       "      <td>2</td>\n",
       "      <td>-3.087733</td>\n",
       "      <td>5</td>\n",
       "      <td>-1.111543</td>\n",
       "      <td>-0.570610</td>\n",
       "      <td>4</td>\n",
       "      <td>-0.597600</td>\n",
       "      <td>1.026245</td>\n",
       "      <td>0.0</td>\n",
       "    </tr>\n",
       "  </tbody>\n",
       "</table>\n",
       "<p>19158 rows × 14 columns</p>\n",
       "</div>"
      ],
      "text/plain": [
       "          id  city  city_dev_index  gender  has_relevant_exp  in_school  \\\n",
       "0       8949     5           0.920       1          0.623752          2   \n",
       "1      29725    77           0.776       1         -1.603202          2   \n",
       "2      11561    64           0.624       1         -1.603202          0   \n",
       "3      33241    14           0.789       1         -1.603202          2   \n",
       "4        666    50           0.767       1          0.623752          2   \n",
       "...      ...   ...             ...     ...               ...        ...   \n",
       "19153   7386    55           0.878       1         -1.603202          2   \n",
       "19154  31398     5           0.920       1          0.623752          2   \n",
       "19155  24576     5           0.920       1          0.623752          2   \n",
       "19156   5756    94           0.802       1          0.623752          2   \n",
       "19157  23834    95           0.855       1         -1.603202          2   \n",
       "\n",
       "       degree_lvl  major_discipline   yrs_exp  company_size  company_type  \\\n",
       "0       -0.198328                 5  1.611741     -0.115083             5   \n",
       "1       -0.198328                 5  0.751757     -0.570610             5   \n",
       "2       -0.198328                 5 -0.681550      1.707028             5   \n",
       "3       -0.198328                 1 -1.398204     -0.115083             5   \n",
       "4        1.246375                 5  1.611741     -0.570610             1   \n",
       "...           ...               ...       ...           ...           ...   \n",
       "19153   -0.198328                 2  0.608426      1.707028             5   \n",
       "19154   -0.198328                 5  0.608426     -1.481666             5   \n",
       "19155   -0.198328                 5  1.611741     -0.570610             5   \n",
       "19156   -1.643031                 5 -1.398204      0.340445             5   \n",
       "19157   -3.087733                 5 -1.111543     -0.570610             4   \n",
       "\n",
       "       yrs_since_last_job  training_hours  target  \n",
       "0               -0.597600       -0.488985     1.0  \n",
       "1                1.788069       -0.305825     0.0  \n",
       "2               -1.194018        0.293607     0.0  \n",
       "3               -1.194018       -0.222571     1.0  \n",
       "4                1.191652       -0.955209     0.0  \n",
       "...                   ...             ...     ...  \n",
       "19153           -0.597600       -0.389079     1.0  \n",
       "19154            1.191652       -0.222571     1.0  \n",
       "19155            1.191652       -0.355778     0.0  \n",
       "19156           -0.001183        0.526719     0.0  \n",
       "19157           -0.597600        1.026245     0.0  \n",
       "\n",
       "[19158 rows x 14 columns]"
      ]
     },
     "execution_count": 35,
     "metadata": {},
     "output_type": "execute_result"
    }
   ],
   "source": [
    "import pandas as pd\n",
    "\n",
    "def rename_column(df: pd.DataFrame, old_name: str, new_name: str):\n",
    "    \"\"\"\n",
    "    Rename a specified column in a DataFrame from an old name to a new name.\n",
    "    \"\"\"\n",
    "    df.rename(columns = {old_name: new_name}, inplace = True)\n",
    "    return df\n",
    "\n",
    "job_change_df_id_change = rename_column(job_change_df_standardized, 'enrollee_id', 'id')\n",
    "job_change_df_citydev_change = rename_column(job_change_df_id_change, 'city_development_index', 'city_dev_index')\n",
    "job_change_df_relexp_change = rename_column(job_change_df_citydev_change, 'relevent_experience', 'has_relevant_exp')\n",
    "job_change_school_change = rename_column(job_change_df_relexp_change, 'enrolled_university', 'in_school')\n",
    "job_change_df_degree_change = rename_column(job_change_school_change, 'education_level', 'degree_lvl')\n",
    "job_change_df_exp_change = rename_column(job_change_df_degree_change, 'experience', 'yrs_exp')\n",
    "job_change_df_cleaned = rename_column(job_change_df_exp_change, 'last_new_job', 'yrs_since_last_job')\n",
    "job_change_df_cleaned"
   ]
  },
  {
   "cell_type": "markdown",
   "metadata": {},
   "source": [
    "### Saving DataFrame to CSV:"
   ]
  },
  {
   "cell_type": "code",
   "execution_count": 36,
   "metadata": {},
   "outputs": [],
   "source": [
    "def df_to_csv(df: pd.DataFrame, file_path: str) -> None:\n",
    "    \"\"\"\n",
    "    Saves a DataFrame to a CSV file.\n",
    "    \"\"\"\n",
    "    df.to_csv(file_path, index = False)\n",
    "\n",
    "df_to_csv(job_change_df_cleaned, 'job_change_df_cleaned.csv')"
   ]
  }
 ],
 "metadata": {
  "kernelspec": {
   "display_name": "Python 3",
   "language": "python",
   "name": "python3"
  },
  "language_info": {
   "codemirror_mode": {
    "name": "ipython",
    "version": 3
   },
   "file_extension": ".py",
   "mimetype": "text/x-python",
   "name": "python",
   "nbconvert_exporter": "python",
   "pygments_lexer": "ipython3",
   "version": "3.9.6"
  }
 },
 "nbformat": 4,
 "nbformat_minor": 2
}
