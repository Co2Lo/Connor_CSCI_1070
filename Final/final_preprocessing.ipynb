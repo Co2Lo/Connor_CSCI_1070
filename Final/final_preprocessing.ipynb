{
 "cells": [
  {
   "cell_type": "markdown",
   "metadata": {},
   "source": [
    "enrollee_id : Unique ID for candidate.\n",
    "city: City code.\n",
    "city_ development _index : Developement index of the city (scaled).\n",
    "gender: Gender of candidate\n",
    "relevent_experience: Relevant experience of candidate\n",
    "enrolled_university: Type of University course enrolled if any\n",
    "education_level: Education level of candidate\n",
    "major_discipline :Education major discipline of candidate\n",
    "experience: Candidate total experience in years\n",
    "company_size: No of employees in current employer's company\n",
    "company_type : Type of current employer\n",
    "last_new_job: Difference in years between previous job and current job\n",
    "training_hours: training hours completed\n",
    "target: 0 – Not looking for job change, 1 – Looking for a job change"
   ]
  },
  {
   "cell_type": "markdown",
   "metadata": {},
   "source": [
    "# Reading Data:"
   ]
  },
  {
   "cell_type": "code",
   "execution_count": 92,
   "metadata": {},
   "outputs": [],
   "source": [
    "import pandas as pd\n",
    "\n",
    "def read_file(file_path: str) -> pd.DataFrame:\n",
    "    \"\"\"\n",
    "    Reads CSV file\n",
    "    \"\"\"\n",
    "    return pd.read_csv(file_path)\n",
    "\n",
    "job_change_df = read_file('job_change.csv')"
   ]
  },
  {
   "cell_type": "markdown",
   "metadata": {},
   "source": [
    "# Handling Nulls:"
   ]
  },
  {
   "cell_type": "code",
   "execution_count": 93,
   "metadata": {},
   "outputs": [
    {
     "data": {
      "text/plain": [
       "enrollee_id                  0\n",
       "city                         0\n",
       "city_development_index       0\n",
       "gender                    4508\n",
       "relevent_experience          0\n",
       "enrolled_university        386\n",
       "education_level            460\n",
       "major_discipline          2813\n",
       "experience                  65\n",
       "company_size              5938\n",
       "company_type              6140\n",
       "last_new_job               423\n",
       "training_hours               0\n",
       "target                       0\n",
       "dtype: int64"
      ]
     },
     "execution_count": 93,
     "metadata": {},
     "output_type": "execute_result"
    }
   ],
   "source": [
    "def count_null_values(data_frame):\n",
    "    \"\"\"\n",
    "    Counts number of nulls in each column of given DataFrame\n",
    "    \"\"\"\n",
    "    return data_frame.isnull().sum()\n",
    "\n",
    "count_null_values(job_change_df)"
   ]
  },
  {
   "cell_type": "code",
   "execution_count": 94,
   "metadata": {},
   "outputs": [],
   "source": [
    "def count_unique_values(dataframe: pd.DataFrame, column_name: str) -> dict:\n",
    "    \"\"\"\n",
    "    Counts number of occurrences of each, unique value in specified column of given DataFrame\n",
    "    \"\"\"\n",
    "    unique_counts = dataframe[column_name].value_counts().to_dict()\n",
    "    return unique_counts"
   ]
  },
  {
   "cell_type": "code",
   "execution_count": 95,
   "metadata": {},
   "outputs": [],
   "source": [
    "import numpy as np\n",
    "\n",
    "def fill_null_values_with_ratio(df: pd.DataFrame, column: str) -> pd.DataFrame:\n",
    "    \"\"\"\n",
    "    Fills null values in a given DataFrame column based on the proportions of non-nulls.\n",
    "    \"\"\"\n",
    "    proportions = df[column].value_counts(normalize = True)\n",
    "    df[column].fillna(pd.Series(np.random.choice(proportions.index,\n",
    "                                                 p = proportions.values,\n",
    "                                                 size = len(df))),\n",
    "                                                 inplace = True)\n",
    "    return df"
   ]
  },
  {
   "cell_type": "markdown",
   "metadata": {},
   "source": [
    "#### Gender null cleaning:"
   ]
  },
  {
   "cell_type": "code",
   "execution_count": 96,
   "metadata": {},
   "outputs": [
    {
     "name": "stdout",
     "output_type": "stream",
     "text": [
      "{'Male': 13221, 'Female': 1238, 'Other': 191}\n"
     ]
    }
   ],
   "source": [
    "gender_counts = count_unique_values(job_change_df, 'gender')\n",
    "print(gender_counts)"
   ]
  },
  {
   "cell_type": "code",
   "execution_count": 113,
   "metadata": {},
   "outputs": [
    {
     "name": "stdout",
     "output_type": "stream",
     "text": [
      "{'Male': 17277, 'Female': 1619, 'Other': 262}\n"
     ]
    }
   ],
   "source": [
    "job_change_df_cleaned_gender = fill_null_values_with_ratio(job_change_df, 'gender')\n",
    "print(count_unique_values(job_change_df_cleaned_gender, 'gender'))"
   ]
  },
  {
   "cell_type": "markdown",
   "metadata": {},
   "source": [
    "#### University null cleaning:"
   ]
  },
  {
   "cell_type": "code",
   "execution_count": 98,
   "metadata": {},
   "outputs": [
    {
     "name": "stdout",
     "output_type": "stream",
     "text": [
      "{'no_enrollment': 13817, 'Full time course': 3757, 'Part time course': 1198}\n"
     ]
    }
   ],
   "source": [
    "uni_counts = count_unique_values(job_change_df_cleaned_gender, 'enrolled_university')\n",
    "print(uni_counts)"
   ]
  },
  {
   "cell_type": "code",
   "execution_count": 114,
   "metadata": {},
   "outputs": [
    {
     "name": "stdout",
     "output_type": "stream",
     "text": [
      "{'no_enrollment': 14102, 'Full time course': 3835, 'Part time course': 1221}\n"
     ]
    }
   ],
   "source": [
    "job_change_df_cleaned_uni = fill_null_values_with_ratio(job_change_df_cleaned_gender, 'enrolled_university')\n",
    "\n",
    "uni_counts_cleaned = count_unique_values(job_change_df_cleaned_uni, 'enrolled_university')\n",
    "print(uni_counts_cleaned)"
   ]
  },
  {
   "cell_type": "markdown",
   "metadata": {},
   "source": [
    "#### Education level null cleaning:"
   ]
  },
  {
   "cell_type": "code",
   "execution_count": 100,
   "metadata": {},
   "outputs": [
    {
     "name": "stdout",
     "output_type": "stream",
     "text": [
      "{'Graduate': 11598, 'Masters': 4361, 'High School': 2017, 'Phd': 414, 'Primary School': 308}\n"
     ]
    }
   ],
   "source": [
    "ed_lvl_counts = count_unique_values(job_change_df_cleaned_uni, 'education_level')\n",
    "print(ed_lvl_counts)"
   ]
  },
  {
   "cell_type": "code",
   "execution_count": 115,
   "metadata": {},
   "outputs": [
    {
     "name": "stdout",
     "output_type": "stream",
     "text": [
      "{'Graduate': 11883, 'Masters': 4470, 'High School': 2060, 'Phd': 430, 'Primary School': 315}\n"
     ]
    }
   ],
   "source": [
    "job_change_df_cleaned_ed_lvl = fill_null_values_with_ratio(job_change_df_cleaned_uni, 'education_level')\n",
    "\n",
    "ed_lvl_counts_cleaned = count_unique_values(job_change_df_cleaned_ed_lvl, 'education_level')\n",
    "print(ed_lvl_counts_cleaned)"
   ]
  },
  {
   "cell_type": "markdown",
   "metadata": {},
   "source": [
    "#### Major null cleaning:"
   ]
  },
  {
   "cell_type": "code",
   "execution_count": 102,
   "metadata": {},
   "outputs": [
    {
     "name": "stdout",
     "output_type": "stream",
     "text": [
      "{'STEM': 14492, 'Humanities': 669, 'Other': 381, 'Business Degree': 327, 'Arts': 253, 'No Major': 223}\n"
     ]
    }
   ],
   "source": [
    "major_counts = count_unique_values(job_change_df_cleaned_ed_lvl, 'major_discipline')\n",
    "print(major_counts)"
   ]
  },
  {
   "cell_type": "code",
   "execution_count": 116,
   "metadata": {},
   "outputs": [
    {
     "name": "stdout",
     "output_type": "stream",
     "text": [
      "{'STEM': 17006, 'Humanities': 790, 'Other': 443, 'Business Degree': 372, 'Arts': 291, 'No Major': 256}\n"
     ]
    }
   ],
   "source": [
    "job_change_df_cleaned_major = fill_null_values_with_ratio(job_change_df_cleaned_ed_lvl, 'major_discipline')\n",
    "\n",
    "major_counts_cleaned = count_unique_values(job_change_df_cleaned_major, 'major_discipline')\n",
    "print(major_counts_cleaned)"
   ]
  },
  {
   "cell_type": "markdown",
   "metadata": {},
   "source": [
    "#### Experience null cleaning:"
   ]
  },
  {
   "cell_type": "code",
   "execution_count": 104,
   "metadata": {},
   "outputs": [
    {
     "name": "stdout",
     "output_type": "stream",
     "text": [
      "{'>20': 3286, '5': 1430, '4': 1403, '3': 1354, '6': 1216, '2': 1127, '7': 1028, '10': 985, '9': 980, '8': 802, '15': 686, '11': 664, '14': 586, '1': 549, '<1': 522, '16': 508, '12': 494, '13': 399, '17': 342, '19': 304, '18': 280, '20': 148}\n"
     ]
    }
   ],
   "source": [
    "exp_counts = count_unique_values(job_change_df_cleaned_major, 'experience')\n",
    "print(exp_counts)"
   ]
  },
  {
   "cell_type": "code",
   "execution_count": 117,
   "metadata": {},
   "outputs": [
    {
     "name": "stdout",
     "output_type": "stream",
     "text": [
      "{'>20': 3295, '5': 1436, '4': 1410, '3': 1358, '6': 1219, '2': 1133, '7': 1030, '10': 988, '9': 981, '8': 804, '15': 688, '11': 668, '14': 589, '1': 552, '<1': 523, '16': 509, '12': 496, '13': 402, '17': 345, '19': 304, '18': 280, '20': 148}\n"
     ]
    }
   ],
   "source": [
    "job_change_df_cleaned_exp = fill_null_values_with_ratio(job_change_df_cleaned_major, 'experience')\n",
    "\n",
    "exp_counts_cleaned = count_unique_values(job_change_df_cleaned_exp, 'experience')\n",
    "print(exp_counts_cleaned)"
   ]
  },
  {
   "cell_type": "markdown",
   "metadata": {},
   "source": [
    "#### Company size null cleaning:"
   ]
  },
  {
   "cell_type": "code",
   "execution_count": 106,
   "metadata": {},
   "outputs": [
    {
     "name": "stdout",
     "output_type": "stream",
     "text": [
      "{'50-99': 3083, '100-500': 2571, '10000+': 2019, '10/49': 1471, '1000-4999': 1328, '<10': 1308, '500-999': 877, '5000-9999': 563}\n"
     ]
    }
   ],
   "source": [
    "compsize_counts = count_unique_values(job_change_df_cleaned_exp, 'company_size')\n",
    "print(compsize_counts)"
   ]
  },
  {
   "cell_type": "code",
   "execution_count": 118,
   "metadata": {},
   "outputs": [
    {
     "name": "stdout",
     "output_type": "stream",
     "text": [
      "{'50-99': 4514, '100-500': 3681, '10000+': 2935, '10/49': 2130, '1000-4999': 1947, '<10': 1874, '500-999': 1252, '5000-9999': 825}\n"
     ]
    }
   ],
   "source": [
    "job_change_df_cleaned_compsize = fill_null_values_with_ratio(job_change_df_cleaned_exp, 'company_size')\n",
    "\n",
    "compsize_counts_cleaned = count_unique_values(job_change_df_cleaned_compsize, 'company_size')\n",
    "print(compsize_counts_cleaned)"
   ]
  },
  {
   "cell_type": "markdown",
   "metadata": {},
   "source": [
    "#### Company type null cleaning:"
   ]
  },
  {
   "cell_type": "code",
   "execution_count": 108,
   "metadata": {},
   "outputs": [
    {
     "name": "stdout",
     "output_type": "stream",
     "text": [
      "{'Pvt Ltd': 9817, 'Funded Startup': 1001, 'Public Sector': 955, 'Early Stage Startup': 603, 'NGO': 521, 'Other': 121}\n"
     ]
    }
   ],
   "source": [
    "comptype_counts = count_unique_values(job_change_df_cleaned_compsize, 'company_type')\n",
    "print(comptype_counts)"
   ]
  },
  {
   "cell_type": "code",
   "execution_count": 119,
   "metadata": {},
   "outputs": [
    {
     "name": "stdout",
     "output_type": "stream",
     "text": [
      "{'Pvt Ltd': 14444, 'Funded Startup': 1497, 'Public Sector': 1427, 'Early Stage Startup': 851, 'NGO': 765, 'Other': 174}\n"
     ]
    }
   ],
   "source": [
    "job_change_df_cleaned_comptype = fill_null_values_with_ratio(job_change_df_cleaned_compsize, 'company_type')\n",
    "\n",
    "comptype_counts_cleaned = count_unique_values(job_change_df_cleaned_comptype, 'company_type')\n",
    "print(comptype_counts_cleaned)"
   ]
  },
  {
   "cell_type": "markdown",
   "metadata": {},
   "source": [
    "#### Last new job null cleaning:"
   ]
  },
  {
   "cell_type": "code",
   "execution_count": 110,
   "metadata": {},
   "outputs": [
    {
     "name": "stdout",
     "output_type": "stream",
     "text": [
      "{'1': 8040, '>4': 3290, '2': 2900, 'never': 2452, '4': 1029, '3': 1024}\n"
     ]
    }
   ],
   "source": [
    "last_job_counts = count_unique_values(job_change_df_cleaned_comptype, 'last_new_job')\n",
    "print(last_job_counts)"
   ]
  },
  {
   "cell_type": "code",
   "execution_count": 120,
   "metadata": {},
   "outputs": [
    {
     "name": "stdout",
     "output_type": "stream",
     "text": [
      "{'1': 8204, '>4': 3368, '2': 2970, 'never': 2514, '3': 1053, '4': 1049}\n"
     ]
    }
   ],
   "source": [
    "job_change_df_cleaned_nulls = fill_null_values_with_ratio(job_change_df_cleaned_compsize, 'last_new_job')\n",
    "\n",
    "nulls_counts_cleaned = count_unique_values(job_change_df_cleaned_nulls, 'last_new_job')\n",
    "print(nulls_counts_cleaned)"
   ]
  },
  {
   "cell_type": "code",
   "execution_count": 121,
   "metadata": {},
   "outputs": [
    {
     "data": {
      "text/plain": [
       "enrollee_id               0\n",
       "city                      0\n",
       "city_development_index    0\n",
       "gender                    0\n",
       "relevent_experience       0\n",
       "enrolled_university       0\n",
       "education_level           0\n",
       "major_discipline          0\n",
       "experience                0\n",
       "company_size              0\n",
       "company_type              0\n",
       "last_new_job              0\n",
       "training_hours            0\n",
       "target                    0\n",
       "dtype: int64"
      ]
     },
     "execution_count": 121,
     "metadata": {},
     "output_type": "execute_result"
    }
   ],
   "source": [
    "count_null_values(job_change_df_cleaned_nulls)"
   ]
  },
  {
   "cell_type": "markdown",
   "metadata": {},
   "source": [
    "# Encoding:"
   ]
  },
  {
   "cell_type": "markdown",
   "metadata": {},
   "source": []
  }
 ],
 "metadata": {
  "kernelspec": {
   "display_name": "Python 3",
   "language": "python",
   "name": "python3"
  },
  "language_info": {
   "codemirror_mode": {
    "name": "ipython",
    "version": 3
   },
   "file_extension": ".py",
   "mimetype": "text/x-python",
   "name": "python",
   "nbconvert_exporter": "python",
   "pygments_lexer": "ipython3",
   "version": "3.9.6"
  }
 },
 "nbformat": 4,
 "nbformat_minor": 2
}
