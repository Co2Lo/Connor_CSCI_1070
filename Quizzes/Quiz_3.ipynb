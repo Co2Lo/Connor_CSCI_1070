{
 "cells": [
  {
   "cell_type": "code",
   "execution_count": 21,
   "metadata": {},
   "outputs": [
    {
     "data": {
      "text/html": [
       "<div>\n",
       "<style scoped>\n",
       "    .dataframe tbody tr th:only-of-type {\n",
       "        vertical-align: middle;\n",
       "    }\n",
       "\n",
       "    .dataframe tbody tr th {\n",
       "        vertical-align: top;\n",
       "    }\n",
       "\n",
       "    .dataframe thead th {\n",
       "        text-align: right;\n",
       "    }\n",
       "</style>\n",
       "<table border=\"1\" class=\"dataframe\">\n",
       "  <thead>\n",
       "    <tr style=\"text-align: right;\">\n",
       "      <th></th>\n",
       "      <th>neighbourhood_group</th>\n",
       "      <th>price</th>\n",
       "      <th>number_of_reviews</th>\n",
       "      <th>availability_365</th>\n",
       "    </tr>\n",
       "  </thead>\n",
       "  <tbody>\n",
       "    <tr>\n",
       "      <th>0</th>\n",
       "      <td>Belize</td>\n",
       "      <td>380.302414</td>\n",
       "      <td>27100</td>\n",
       "      <td>365</td>\n",
       "    </tr>\n",
       "    <tr>\n",
       "      <th>1</th>\n",
       "      <td>Cayo</td>\n",
       "      <td>205.847525</td>\n",
       "      <td>7356</td>\n",
       "      <td>365</td>\n",
       "    </tr>\n",
       "    <tr>\n",
       "      <th>2</th>\n",
       "      <td>Corozal</td>\n",
       "      <td>156.553846</td>\n",
       "      <td>492</td>\n",
       "      <td>365</td>\n",
       "    </tr>\n",
       "    <tr>\n",
       "      <th>3</th>\n",
       "      <td>Orange Walk</td>\n",
       "      <td>122.035714</td>\n",
       "      <td>415</td>\n",
       "      <td>365</td>\n",
       "    </tr>\n",
       "    <tr>\n",
       "      <th>4</th>\n",
       "      <td>Stann Creek</td>\n",
       "      <td>471.119584</td>\n",
       "      <td>4855</td>\n",
       "      <td>365</td>\n",
       "    </tr>\n",
       "    <tr>\n",
       "      <th>5</th>\n",
       "      <td>Toledo</td>\n",
       "      <td>222.978723</td>\n",
       "      <td>194</td>\n",
       "      <td>365</td>\n",
       "    </tr>\n",
       "  </tbody>\n",
       "</table>\n",
       "</div>"
      ],
      "text/plain": [
       "  neighbourhood_group       price  number_of_reviews  availability_365\n",
       "0              Belize  380.302414              27100               365\n",
       "1                Cayo  205.847525               7356               365\n",
       "2             Corozal  156.553846                492               365\n",
       "3         Orange Walk  122.035714                415               365\n",
       "4         Stann Creek  471.119584               4855               365\n",
       "5              Toledo  222.978723                194               365"
      ]
     },
     "execution_count": 21,
     "metadata": {},
     "output_type": "execute_result"
    }
   ],
   "source": [
    "import math\n",
    "import statistics\n",
    "import numpy as np\n",
    "import pandas as pd \n",
    "belize_df = pd.read_csv('belize_airbnb_listings.csv')\n",
    "grouped_belize = belize_df.groupby('neighbourhood_group').agg({\n",
    "    'price': 'mean',\n",
    "    'number_of_reviews': 'sum',\n",
    "    'availability_365': 'max'\n",
    "}).reset_index()\n",
    "\n",
    "pd.DataFrame(grouped_belize)"
   ]
  }
 ],
 "metadata": {
  "kernelspec": {
   "display_name": "Python 3",
   "language": "python",
   "name": "python3"
  },
  "language_info": {
   "codemirror_mode": {
    "name": "ipython",
    "version": 3
   },
   "file_extension": ".py",
   "mimetype": "text/x-python",
   "name": "python",
   "nbconvert_exporter": "python",
   "pygments_lexer": "ipython3",
   "version": "3.9.6"
  }
 },
 "nbformat": 4,
 "nbformat_minor": 2
}
