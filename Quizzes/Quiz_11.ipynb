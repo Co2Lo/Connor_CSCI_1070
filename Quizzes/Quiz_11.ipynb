{
 "cells": [
  {
   "cell_type": "markdown",
   "metadata": {},
   "source": [
    "# Quiz 11:"
   ]
  },
  {
   "cell_type": "markdown",
   "metadata": {},
   "source": [
    "1. Create a function that accepts a list of values. Filter out all values that are numeric and return the new list."
   ]
  },
  {
   "cell_type": "code",
   "execution_count": 12,
   "metadata": {},
   "outputs": [
    {
     "name": "stdout",
     "output_type": "stream",
     "text": [
      "['a', 'b']\n"
     ]
    }
   ],
   "source": [
    "from typing import Union\n",
    "\n",
    "def numeric_filter(input_list: list[Union[int, float, str]]) -> list[str]:\n",
    "    \"\"\"\n",
    "    Filters numeric values from a list, returning new list with only that list's non-numeric values.\n",
    "    \"\"\"\n",
    "    non_numeric_values = [] # Initialize list for non-numeric values.\n",
    "    for x in input_list:\n",
    "        # Checks if the data is an integer or float, if not, appending the value to the non_numeric_values list.\n",
    "        if not (type(x) == int or type(x) == float):\n",
    "            non_numeric_values.append(x)\n",
    "    return non_numeric_values # Returns the new list.\n",
    "\n",
    "input = [1,2,'a','b',7.6] \n",
    "output_list = numeric_filter(input)\n",
    "print(output_list) # Output should be [‘a’,’b’]"
   ]
  },
  {
   "cell_type": "markdown",
   "metadata": {},
   "source": [
    "2. Write a clean solution to fizzbuzz that we did in a previous class that uses default arguments, typing, a docstring, and useful comments."
   ]
  },
  {
   "cell_type": "code",
   "execution_count": 11,
   "metadata": {},
   "outputs": [
    {
     "name": "stdout",
     "output_type": "stream",
     "text": [
      "1\n",
      "2\n",
      "3 fizz\n",
      "4\n",
      "5 buzz\n",
      "6 fizz\n",
      "7\n",
      "8\n",
      "9 fizz\n",
      "10 buzz\n",
      "11\n",
      "12 fizz\n",
      "13\n",
      "14\n",
      "15 fizz\n"
     ]
    }
   ],
   "source": [
    "def fizzbuzzer(x: int) -> Union[str, int]:\n",
    "    \"\"\"\n",
    "    Takes as input an integer, and returns \"fizz\" for every number divisible by 3,\n",
    "    \"buzz\" for every number divisible by 5, and \"fizzbuzz\" for every number divisible\n",
    "    by both 3 and 5, in the range of 1 to that integer.\n",
    "    \"\"\"\n",
    "    for x in range(1, x + 1): # For each integer in the range from 1 to the input integer...\n",
    "        if x % 3 == 0: # if the number is divisible by 3 without a remainder...\n",
    "            print(x, 'fizz') # return that number and \"fizz\"\n",
    "        elif x % 5 == 0: # if the number is divisible by 5 without a remainder...\n",
    "            print(x, 'buzz') # return that number and \"buzz\"\n",
    "        elif x % 3 == 0 and x % 5 == 0: # if the number is divisible by 3 AND 5 without a remainder...\n",
    "            print(x, 'fizzbuzz') # return that number and \"fizzbuzz\"\n",
    "        else:\n",
    "            print(x) # otherwise, print the number.\n",
    "\n",
    "fizzbuzzer(15) # Output should be every number from 1 to 15, joined with their associated fizz, buzz, or fizzbuzz."
   ]
  }
 ],
 "metadata": {
  "kernelspec": {
   "display_name": "Python 3",
   "language": "python",
   "name": "python3"
  },
  "language_info": {
   "codemirror_mode": {
    "name": "ipython",
    "version": 3
   },
   "file_extension": ".py",
   "mimetype": "text/x-python",
   "name": "python",
   "nbconvert_exporter": "python",
   "pygments_lexer": "ipython3",
   "version": "3.9.6"
  }
 },
 "nbformat": 4,
 "nbformat_minor": 2
}
