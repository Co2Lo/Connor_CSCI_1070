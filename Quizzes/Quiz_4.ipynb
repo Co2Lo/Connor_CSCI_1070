{
 "cells": [
  {
   "cell_type": "markdown",
   "metadata": {},
   "source": [
    "# Quiz 4:"
   ]
  },
  {
   "cell_type": "markdown",
   "metadata": {},
   "source": [
    "1.) Write a lambda function to rearrange positive and negative numbers in a given list\n",
    "\n",
    "Sample output:\n",
    "original_list = [-1,2,-3,4,-5,6,-7,8,-9,10,-11,12]\n",
    "\n",
    "resulting_list = [2,4,6,8,10,12,-11,-9,-7,-5,-3,-1]"
   ]
  },
  {
   "cell_type": "code",
   "execution_count": 62,
   "metadata": {},
   "outputs": [
    {
     "data": {
      "text/plain": [
       "[2, 4, 6, 8, 10, 12, -11, -9, -7, -5, -3, -1]"
      ]
     },
     "execution_count": 62,
     "metadata": {},
     "output_type": "execute_result"
    }
   ],
   "source": [
    "original_list = [-1,2,-3,4,-5,6,-7,8,-9,10,-11,12]\n",
    "resulting_list = sorted(original_list, key = lambda x: (0 if x > 0 else 1, abs(x) if x > 0  else x))\n",
    "resulting_list"
   ]
  },
  {
   "cell_type": "markdown",
   "metadata": {},
   "source": [
    "2.) Clean the JEOPARDY_DATA.csv so that `round` uses one-hot encoding instead of categorical values AND the `value` column shows a decimal type when you do a type check. HINT: you may need to clean up the column names to make this easier."
   ]
  },
  {
   "cell_type": "code",
   "execution_count": 149,
   "metadata": {},
   "outputs": [],
   "source": [
    "import pandas as pd\n",
    "import numpy as np\n",
    "\n",
    "jeopardy_df = pd.read_csv(\"../Jeopardy/JEOPARDY_DATA.csv\")\n",
    "jeopardy_df.columns = jeopardy_df.columns.str.strip()\n",
    "jeopardy_df = pd.get_dummies(jeopardy_df, columns = ['Round'])"
   ]
  },
  {
   "cell_type": "code",
   "execution_count": 147,
   "metadata": {},
   "outputs": [
    {
     "name": "stdout",
     "output_type": "stream",
     "text": [
      "float64\n"
     ]
    }
   ],
   "source": [
    "jeopardy_df['Value'] = jeopardy_df['Value'].str.replace('[^\\d.]', '', regex = True).astype(float)\n",
    "\n",
    "print(jeopardy_df['Value'].dtypes)"
   ]
  },
  {
   "cell_type": "markdown",
   "metadata": {},
   "source": [
    "3.) Why do you think it might be inconvenient that python does not have a \"first-class\" money type and that you have to use a decimal type instead?"
   ]
  },
  {
   "cell_type": "markdown",
   "metadata": {},
   "source": [
    "Because money isn't typically represented as decimals, meaning the precision needed in, say, counting all the money in a jeopardy game may be lost due to rounding errors and the like, which wouldn't happen if money had its own type."
   ]
  }
 ],
 "metadata": {
  "kernelspec": {
   "display_name": "Python 3",
   "language": "python",
   "name": "python3"
  },
  "language_info": {
   "codemirror_mode": {
    "name": "ipython",
    "version": 3
   },
   "file_extension": ".py",
   "mimetype": "text/x-python",
   "name": "python",
   "nbconvert_exporter": "python",
   "pygments_lexer": "ipython3",
   "version": "3.9.6"
  }
 },
 "nbformat": 4,
 "nbformat_minor": 2
}
